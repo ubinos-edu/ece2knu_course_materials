{
 "cells": [
  {
   "cell_type": "markdown",
   "metadata": {},
   "source": [
    "# 01장 KiCad, Ngspice 활용"
   ]
  },
  {
   "cell_type": "markdown",
   "metadata": {},
   "source": [
    "* 이름: 홍길동\n",
    "* 학번: 2025123456\n",
    "* 조: 1"
   ]
  },
  {
   "cell_type": "markdown",
   "metadata": {},
   "source": [
    "## 공통 코드"
   ]
  },
  {
   "cell_type": "code",
   "execution_count": null,
   "metadata": {},
   "outputs": [],
   "source": [
    "import sys\n",
    "from pathlib import Path\n",
    "\n",
    "# common_dir = Path.cwd().parent / \"ece2knu_common\"\n",
    "common_dir = Path.cwd()\n",
    "sys.path.insert(0, str(common_dir))\n",
    "\n",
    "from common import *"
   ]
  },
  {
   "cell_type": "markdown",
   "metadata": {},
   "source": [
    "*******************************************************************************"
   ]
  },
  {
   "cell_type": "markdown",
   "metadata": {},
   "source": [
    "## 1.5 실험 내용"
   ]
  },
  {
   "cell_type": "markdown",
   "metadata": {},
   "source": [
    "### 실험01 KiCad, Ngspice 사용법 익히기 1"
   ]
  },
  {
   "cell_type": "markdown",
   "metadata": {},
   "source": [
    "### [2] 기본 사용법 1: 회로도 그리기"
   ]
  },
  {
   "cell_type": "code",
   "execution_count": null,
   "metadata": {},
   "outputs": [],
   "source": [
    "display_image(\"./kicad/ch01_03_02/ch01_03_02_circuit.png\", width=700)"
   ]
  },
  {
   "cell_type": "markdown",
   "metadata": {},
   "source": [
    "### [3] 기본 사용법 2: 시뮬레이션하기"
   ]
  },
  {
   "cell_type": "markdown",
   "metadata": {},
   "source": [
    "#### Analysis type: DC Operation Point"
   ]
  },
  {
   "cell_type": "markdown",
   "metadata": {},
   "source": [
    "##### 실험 방법"
   ]
  },
  {
   "cell_type": "code",
   "execution_count": null,
   "metadata": {},
   "outputs": [],
   "source": [
    "display_image(\"./kicad/ch01_03_02/ch01_03_03_03_sim_setting.png\", width=700)"
   ]
  },
  {
   "cell_type": "markdown",
   "metadata": {},
   "source": [
    "##### 결과"
   ]
  },
  {
   "cell_type": "code",
   "execution_count": null,
   "metadata": {},
   "outputs": [],
   "source": [
    "display_image(\"./data/ch01_03_03_03_result.png\", width=700)"
   ]
  },
  {
   "cell_type": "markdown",
   "metadata": {},
   "source": [
    "#### Analysis type: Transient"
   ]
  },
  {
   "cell_type": "code",
   "execution_count": null,
   "metadata": {},
   "outputs": [],
   "source": []
  },
  {
   "cell_type": "markdown",
   "metadata": {},
   "source": [
    "##### 실험 방법"
   ]
  },
  {
   "cell_type": "code",
   "execution_count": null,
   "metadata": {},
   "outputs": [],
   "source": [
    "display_image(\"./kicad/ch01_03_02/ch01_03_03_04_sim_setting.png\", width=700)"
   ]
  },
  {
   "cell_type": "markdown",
   "metadata": {},
   "source": [
    "##### 결과"
   ]
  },
  {
   "cell_type": "code",
   "execution_count": null,
   "metadata": {},
   "outputs": [],
   "source": [
    "display_image(\"./data/ch01_03_03_04_result.png\", width=700)"
   ]
  },
  {
   "cell_type": "markdown",
   "metadata": {},
   "source": [
    "#### Analysis type: Transient with initial conditions"
   ]
  },
  {
   "cell_type": "markdown",
   "metadata": {},
   "source": [
    "##### 실험 방법"
   ]
  },
  {
   "cell_type": "code",
   "execution_count": null,
   "metadata": {},
   "outputs": [],
   "source": [
    "display_image(\"./kicad/ch01_03_02/ch01_03_03_05_sim_setting.png\", width=700)"
   ]
  },
  {
   "cell_type": "markdown",
   "metadata": {},
   "source": [
    "##### 결과"
   ]
  },
  {
   "cell_type": "code",
   "execution_count": null,
   "metadata": {},
   "outputs": [],
   "source": [
    "display_image(\"./data/ch01_03_03_05_result.png\", width=700)"
   ]
  },
  {
   "cell_type": "markdown",
   "metadata": {},
   "source": [
    "### 실험02 KiCad, Ngspice 사용법 익히기 2"
   ]
  },
  {
   "cell_type": "code",
   "execution_count": null,
   "metadata": {},
   "outputs": [],
   "source": [
    "display_image(\"./kicad/ch01_05_02/ch01_05_02_circuit_1.png\", width=700)"
   ]
  },
  {
   "cell_type": "code",
   "execution_count": null,
   "metadata": {},
   "outputs": [],
   "source": [
    "display_image(\"./kicad/ch01_05_02/ch01_05_02_circuit_2.png\", width=700)"
   ]
  },
  {
   "cell_type": "markdown",
   "metadata": {},
   "source": [
    "#### Analysis type: Transient"
   ]
  },
  {
   "cell_type": "markdown",
   "metadata": {},
   "source": [
    "##### 실험 방법"
   ]
  },
  {
   "cell_type": "code",
   "execution_count": null,
   "metadata": {},
   "outputs": [],
   "source": [
    "display_image(\"./kicad/ch01_05_02/ch01_05_02_sim_setting.png\", width=700)"
   ]
  },
  {
   "cell_type": "markdown",
   "metadata": {},
   "source": [
    "##### 결과"
   ]
  },
  {
   "cell_type": "code",
   "execution_count": null,
   "metadata": {},
   "outputs": [],
   "source": [
    "display_image(\"./data/ch01_05_02_result.png\", width=700)"
   ]
  },
  {
   "cell_type": "code",
   "execution_count": null,
   "metadata": {},
   "outputs": [],
   "source": [
    "# 실험 결과 파일을 읽는다.\n",
    "data = get_simulation_result_kicad('./data/ch01_05_02_result.csv')\n",
    "\n",
    "# 실험 결과에서 시간, 입력 전압, 출력 전압을 가져온다.\n",
    "times = data['time']\n",
    "vins = data['V(/vin)']\n",
    "vouts = data['V(/vout)']\n",
    "\n",
    "# 필터를 적용해 잡음을 줄인다.\n",
    "# vins = savgol_filter(vins, 100, 2)\n",
    "# vouts = savgol_filter(vouts, 100, 2)\n",
    "\n",
    "# 시간을 x축, 전압들을 y축으로 하는 그래프를 그린다.\n",
    "plt.xlabel('TIME_s')\n",
    "plt.ylabel('V_V')\n",
    "plt.axhline(0, color='black')\n",
    "# plt.axvline(0, color='black')\n",
    "draw_plot(times, vins, 'V(IN)', 0)\n",
    "draw_plot(times, vouts, 'V(OUT)', 1)\n",
    "plt.show()\n",
    "\n",
    "vout_1st_peak_index = find_first_peak_index(times, vouts)\n",
    "vout_1st_peak_time_ms = times[vout_1st_peak_index]\n",
    "vout_1st_peak_v = vouts[vout_1st_peak_index]\n",
    "print(\"vout_1st_peak_time_ms: %.2f\" % vout_1st_peak_time_ms)\n",
    "print(\"vout_1st_peak_v: %.2f \"% vout_1st_peak_v)\n",
    "print(\"\")\n",
    "\n",
    "vin_1st_zero_index = find_first_zero_index(times, vins)\n",
    "vout_1st_zero_index = find_first_zero_index(times, vouts)\n",
    "vin_1st_zero_time_ms = times[vin_1st_zero_index]*1000\n",
    "vout_1st_zero_time_ms = times[vout_1st_zero_index]*1000\n",
    "print(\"vin_1st_zero_time_ms: %.2f\" % vin_1st_zero_time_ms)\n",
    "print(\"vout_1st_zero_time_ms: %.2f\" % vout_1st_zero_time_ms)\n",
    "diff_ms = vin_1st_zero_time_ms - vout_1st_zero_time_ms\n",
    "period_ms = 1\n",
    "vout_phase_degree = diff_ms * 360 / period_ms # diff_ms : period_ms = vout_phase_degree : 360\n",
    "print(\"diff_ms: %.2f\" % diff_ms)\n",
    "print(\"vout_phase_degree: %.2f\" % vout_phase_degree)\n"
   ]
  },
  {
   "cell_type": "markdown",
   "metadata": {},
   "source": [
    "### 실험03 회로 구성 및 실험"
   ]
  },
  {
   "cell_type": "markdown",
   "metadata": {},
   "source": [
    "##### 실험 방법"
   ]
  },
  {
   "cell_type": "markdown",
   "metadata": {},
   "source": [
    "실험 2의 회로를 브레드보드에 구성하고, 실험으로 검증한다. 입력은 파형발생기를 이용한다."
   ]
  },
  {
   "cell_type": "code",
   "execution_count": null,
   "metadata": {},
   "outputs": [],
   "source": [
    "display_image(\"./data/ch01_05_03_board.png\", width=700)"
   ]
  },
  {
   "cell_type": "markdown",
   "metadata": {},
   "source": [
    "##### 결과"
   ]
  },
  {
   "cell_type": "code",
   "execution_count": null,
   "metadata": {},
   "outputs": [],
   "source": [
    "display_image(\"./data/ch01_05_03_result.png\", width=700)"
   ]
  },
  {
   "cell_type": "code",
   "execution_count": null,
   "metadata": {},
   "outputs": [],
   "source": [
    "# 실험 결과 파일을 읽는다.\n",
    "data = get_oscilloscpoe_result_tektronix('./data/ch01_05_03_result.csv')\n",
    "\n",
    "# 실험 결과에서 시간, 입력 전압, 출력 전압을 가져온다.\n",
    "times = data['TIME']\n",
    "vins = data['Sample CH1']\n",
    "vouts = data['Sample CH2']\n",
    "\n",
    "# 필터를 적용해 잡음을 줄인다.\n",
    "vins = savgol_filter(vins, 100, 2)\n",
    "vouts = savgol_filter(vouts, 100, 2)\n",
    "\n",
    "# 시간을 x축, 전압들을 y축으로 하는 그래프를 그린다.\n",
    "plt.xlabel('TIME_s')\n",
    "plt.ylabel('V_V')\n",
    "plt.axhline(0, color='black')\n",
    "# plt.axvline(0, color='black')\n",
    "draw_plot(times, vins, 'V(IN)', 0)\n",
    "draw_plot(times, vouts, 'V(OUT)', 1)\n",
    "plt.show()\n",
    "\n",
    "vout_1st_peak_index = find_first_peak_index(times, vouts)\n",
    "vout_1st_peak_time_ms = times[vout_1st_peak_index]\n",
    "vout_1st_peak_v = vouts[vout_1st_peak_index]\n",
    "print(\"vout_1st_peak_time_ms: %.2f\" % vout_1st_peak_time_ms)\n",
    "print(\"vout_1st_peak_v: %.2f \"% vout_1st_peak_v)\n",
    "print(\"\")\n",
    "\n",
    "vin_1st_zero_index = find_first_zero_index(times, vins)\n",
    "vout_1st_zero_index = find_first_zero_index(times, vouts)\n",
    "vin_1st_zero_time_ms = times[vin_1st_zero_index]*1000\n",
    "vout_1st_zero_time_ms = times[vout_1st_zero_index]*1000\n",
    "print(\"vin_1st_zero_time_ms: %.2f\" % vin_1st_zero_time_ms)\n",
    "print(\"vout_1st_zero_time_ms: %.2f\" % vout_1st_zero_time_ms)\n",
    "diff_ms = vin_1st_zero_time_ms - vout_1st_zero_time_ms\n",
    "period_ms = 1\n",
    "vout_phase_degree = diff_ms * 360 / period_ms # diff_ms : period_ms = vout_phase_degree : 360\n",
    "print(\"diff_ms: %.2f\" % diff_ms)\n",
    "print(\"vout_phase_degree: %.2f\" % vout_phase_degree)\n"
   ]
  },
  {
   "cell_type": "markdown",
   "metadata": {},
   "source": [
    "| 구분        | 측정값   | 예시값    | 이론값 (예비문제1) | 시뮬레이션값 (실험2) |\n",
    "|------------|----------|----------|-----------------|-------------------|\n",
    "| 첨두값 (V)  | 4.17     |  4.2    | 4.23             | 4.23              |\n",
    "| 위상차 (도) | -31.24   | -32.04   | -32.17          | -32.04            |\n"
   ]
  }
 ],
 "metadata": {
  "kernelspec": {
   "display_name": "venv",
   "language": "python",
   "name": "python3"
  },
  "language_info": {
   "codemirror_mode": {
    "name": "ipython",
    "version": 3
   },
   "file_extension": ".py",
   "mimetype": "text/x-python",
   "name": "python",
   "nbconvert_exporter": "python",
   "pygments_lexer": "ipython3",
   "version": "3.11.9"
  },
  "orig_nbformat": 4
 },
 "nbformat": 4,
 "nbformat_minor": 2
}
