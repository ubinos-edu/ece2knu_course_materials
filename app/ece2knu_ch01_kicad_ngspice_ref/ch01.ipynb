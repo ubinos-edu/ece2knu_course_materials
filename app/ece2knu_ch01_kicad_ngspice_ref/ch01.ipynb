{
 "cells": [
  {
   "cell_type": "markdown",
   "metadata": {},
   "source": [
    "# 01장 KiCad, Ngspice 활용"
   ]
  },
  {
   "cell_type": "markdown",
   "metadata": {},
   "source": [
    "## 공통 코드"
   ]
  },
  {
   "cell_type": "code",
   "execution_count": null,
   "metadata": {},
   "outputs": [],
   "source": [
    "import sys\n",
    "from pathlib import Path\n",
    "\n",
    "# common_dir = Path.cwd().parent / \"ece2knu_common\"\n",
    "common_dir = Path.cwd()\n",
    "sys.path.insert(0, str(common_dir))\n",
    "\n",
    "from common import *"
   ]
  },
  {
   "cell_type": "markdown",
   "metadata": {},
   "source": [
    "*******************************************************************************"
   ]
  },
  {
   "cell_type": "markdown",
   "metadata": {},
   "source": [
    "## 1.3 실험 이론"
   ]
  },
  {
   "cell_type": "markdown",
   "metadata": {},
   "source": [
    "### [1] KiCad, Ngspice 개요"
   ]
  },
  {
   "cell_type": "markdown",
   "metadata": {},
   "source": [
    "* KiCad\n",
    "    + KiCad는 전자회로 설계를 위한 오픈소스 EDA(Electronic Design Automation) 소프트웨어입니다.\n",
    "    + 초기에는 개인 프로젝트로 시작되었으나, 2013년 CERN(유럽입자물리연구소)이 KiCad 개발에 참여하면서 소프트웨어의 품질과 기능이 크게 향상되었으며, 현재는 KiCad 프로젝트 팀이 독립적으로 개발을 주도하고 있습니다.\n",
    "    + KiCad는 완전 무료 오픈소스 소프트웨어로, 상용 EDA 도구와 달리 기능 제한이나 라이선스 비용이 없습니다.\n",
    "    + 회로도 작성(Eeschema), PCB 레이아웃(Pcbnew), 3D 뷰어, Gerber 파일 생성 등 PCB 설계에 필요한 모든 기능을 제공합니다.\n",
    "    + Windows, macOS, Linux 등 주요 운영체제를 모두 지원하며, 아래 공식 웹사이트에서 별도의 회원가입 없이 무료로 다운로드 받을 수 있습니다.\n",
    "        - https://www.kicad.org/download/\n",
    "\n",
    "* Ngspice\n",
    "    + NgSpice는 전자회로 시뮬레이션을 위한 오픈소스 SPICE 시뮬레이터로, Berkeley SPICE3f5를 기반으로 1993년부터 개발이 시작되었습니다.\n",
    "    + 현재는 Paolo Nenzi를 중심으로 한 국제 개발팀이 지속적으로 개발하고 있으며, 오픈소스 커뮤니티의 활발한 기여로 꾸준히 발전하고 있습니다.\n",
    "    + NgSpice는 GPL 라이선스 하의 완전 무료 소프트웨어로, 아날로그 회로, 디지털 회로, 혼합 신호 회로를 모두 시뮬레이션할 수 있으며, KiCad를 비롯한 여러 회로 설계 도구와 통합하여 사용할 수 있습니다.\n",
    "    + 명령줄 인터페이스와 함께 다양한 GUI 프론트엔드를 지원하며, 아래 공식 웹사이트에서 소스코드와 바이너리를 무료로 다운로드 받을 수 있습니다.\n",
    "        - https://ngspice.sourceforge.io/download.html\n",
    "    * **NgSpice는 독립적으로 사용될 수도 있지만, KiCad와 통합되어 KiCad의 회로도 편집기에서 직접 회로 시뮬레이션을 실행할 수 있도록 설계되었습니다.**\n",
    "\n",
    "* 참고 자료\n",
    "    + Electronic Circuit Experiment 2 Course\n",
    "        - https://youtube.com/playlist?list=PLrCPdTJCbmB9OFO3eiDMuHTRxclLcLALN&si=gpkIACFjQVe-AnWf\n",
    "    + Electronics with Emrys - Tutorial: Simulate your circuits in KICAD\n",
    "        - https://www.youtube.com/watch?v=0FTc93YtMeM\n",
    "    + KiCad 9: Design & assemble an ESP32 IoT 4-layer PCB loaded with goodies **A Complete Guide**\n",
    "        - https://www.youtube.com/watch?v=LO9AO0XTX3M\n",
    "    + 루드비크 전원회로 설계 연구소 - KiCAD 사용법 강좌\n",
    "        - https://youtube.com/playlist?list=PL9Wyt8iyy4F5V8DFBlFIdhMoJ72YQNdip&si=RZlNtUw9XeyUqOMs"
   ]
  },
  {
   "cell_type": "markdown",
   "metadata": {},
   "source": [
    "### [2] 기본 사용법 1: 회로도 그리기"
   ]
  },
  {
   "cell_type": "code",
   "execution_count": null,
   "metadata": {},
   "outputs": [],
   "source": [
    "display_image(\"./kicad/ch01_03_02/ch01_03_02_circuit.png\", width=700)"
   ]
  },
  {
   "cell_type": "markdown",
   "metadata": {},
   "source": [
    "### [3] 기본 사용법 2: 시뮬레이션하기"
   ]
  },
  {
   "cell_type": "markdown",
   "metadata": {},
   "source": [
    "#### Analysis type: DC Operation Point"
   ]
  },
  {
   "cell_type": "markdown",
   "metadata": {},
   "source": [
    "##### 실험 방법"
   ]
  },
  {
   "cell_type": "code",
   "execution_count": null,
   "metadata": {},
   "outputs": [],
   "source": [
    "display_image(\"./kicad/ch01_03_02/ch01_03_03_03_sim_setting.png\", width=700)"
   ]
  },
  {
   "cell_type": "markdown",
   "metadata": {},
   "source": [
    "##### 결과"
   ]
  },
  {
   "cell_type": "code",
   "execution_count": null,
   "metadata": {},
   "outputs": [],
   "source": [
    "display_image(\"./data/ch01_03_03_03_result.png\", width=700)"
   ]
  },
  {
   "cell_type": "markdown",
   "metadata": {},
   "source": [
    "#### Analysis type: Transient"
   ]
  },
  {
   "cell_type": "markdown",
   "metadata": {},
   "source": [
    "##### 실험 방법"
   ]
  },
  {
   "cell_type": "code",
   "execution_count": null,
   "metadata": {},
   "outputs": [],
   "source": [
    "display_image(\"./kicad/ch01_03_02/ch01_03_03_04_sim_setting.png\", width=700)"
   ]
  },
  {
   "cell_type": "markdown",
   "metadata": {},
   "source": [
    "##### 결과"
   ]
  },
  {
   "cell_type": "code",
   "execution_count": null,
   "metadata": {},
   "outputs": [],
   "source": [
    "display_image(\"./data/ch01_03_03_04_result.png\", width=700)"
   ]
  },
  {
   "cell_type": "markdown",
   "metadata": {},
   "source": [
    "#### Analysis type: Transient with initial conditions"
   ]
  },
  {
   "cell_type": "markdown",
   "metadata": {},
   "source": [
    "##### 실험 방법"
   ]
  },
  {
   "cell_type": "code",
   "execution_count": null,
   "metadata": {},
   "outputs": [],
   "source": [
    "display_image(\"./kicad/ch01_03_02/ch01_03_03_05_sim_setting.png\", width=700)"
   ]
  },
  {
   "cell_type": "markdown",
   "metadata": {},
   "source": [
    "##### 결과"
   ]
  },
  {
   "cell_type": "code",
   "execution_count": null,
   "metadata": {},
   "outputs": [],
   "source": [
    "display_image(\"./data/ch01_03_03_05_result.png\", width=700)"
   ]
  },
  {
   "cell_type": "markdown",
   "metadata": {},
   "source": [
    "### [4] 기본 사용법 3: 회로 변경하기 1"
   ]
  },
  {
   "cell_type": "code",
   "execution_count": null,
   "metadata": {},
   "outputs": [],
   "source": [
    "display_image(\"./kicad/ch01_03_04/ch01_03_04_circuit.png\", width=700)"
   ]
  },
  {
   "cell_type": "markdown",
   "metadata": {},
   "source": [
    "#### Analysis type: Transient"
   ]
  },
  {
   "cell_type": "markdown",
   "metadata": {},
   "source": [
    "##### 실험 방법"
   ]
  },
  {
   "cell_type": "code",
   "execution_count": null,
   "metadata": {},
   "outputs": [],
   "source": [
    "display_image(\"./kicad/ch01_03_04/ch01_03_04_sim_setting.png\", width=700)"
   ]
  },
  {
   "cell_type": "markdown",
   "metadata": {},
   "source": [
    "##### 결과"
   ]
  },
  {
   "cell_type": "code",
   "execution_count": null,
   "metadata": {},
   "outputs": [],
   "source": [
    "display_image(\"./data/ch01_03_04_result.png\", width=700)"
   ]
  },
  {
   "cell_type": "markdown",
   "metadata": {},
   "source": [
    "### [5] 기본 사용법 3: 회로 변경하기 2"
   ]
  },
  {
   "cell_type": "code",
   "execution_count": null,
   "metadata": {},
   "outputs": [],
   "source": [
    "display_image(\"./kicad/ch01_03_05/ch01_03_05_circuit.png\", width=700)"
   ]
  },
  {
   "cell_type": "markdown",
   "metadata": {},
   "source": [
    "#### Analysis type: Transient"
   ]
  },
  {
   "cell_type": "markdown",
   "metadata": {},
   "source": [
    "##### 실험 방법"
   ]
  },
  {
   "cell_type": "code",
   "execution_count": null,
   "metadata": {},
   "outputs": [],
   "source": [
    "display_image(\"./kicad/ch01_03_05/ch01_03_05_sim_setting.png\", width=700)"
   ]
  },
  {
   "cell_type": "markdown",
   "metadata": {},
   "source": [
    "##### 결과"
   ]
  },
  {
   "cell_type": "code",
   "execution_count": null,
   "metadata": {},
   "outputs": [],
   "source": [
    "display_image(\"./data/ch01_03_05_result.png\", width=700)"
   ]
  },
  {
   "cell_type": "code",
   "execution_count": null,
   "metadata": {},
   "outputs": [],
   "source": [
    "# 실험 결과 파일을 읽는다.\n",
    "data = get_simulation_result_kicad('./data/ch01_03_05_result.csv')\n",
    "\n",
    "# 실험 결과에서 시간, 입력 전압, 출력 전압을 가져온다.\n",
    "times = data['time']\n",
    "vins = data['V(/vin)']\n",
    "vouts = data['V(/vout)']\n",
    "\n",
    "# 필터를 적용해 잡음을 줄인다.\n",
    "# vins = savgol_filter(vins, 100, 2)\n",
    "# vouts = savgol_filter(vouts, 100, 2)\n",
    "\n",
    "# 시간을 x축, 전압들을 y축으로 하는 그래프를 그린다.\n",
    "plt.xlabel('TIME_s')\n",
    "plt.ylabel('V_V')\n",
    "plt.axhline(0, color='black')\n",
    "# plt.axvline(0, color='black')\n",
    "draw_plot(times, vins, 'V(IN)', 0)\n",
    "draw_plot(times, vouts, 'V(OUT)', 1)\n",
    "plt.show()\n",
    "\n",
    "vout_1st_peak_index = find_first_peak_index(times, vouts)\n",
    "vout_1st_peak_time_ms = times[vout_1st_peak_index]\n",
    "vout_1st_peak_v = vouts[vout_1st_peak_index]\n",
    "print(\"vout_1st_peak_time_ms: %.2f\" % vout_1st_peak_time_ms)\n",
    "print(\"vout_1st_peak_v: %.2f \"% vout_1st_peak_v)\n",
    "print(\"\")\n",
    "\n",
    "vin_1st_zero_index = find_first_zero_index(times, vins)\n",
    "vout_1st_zero_index = find_first_zero_index(times, vouts)\n",
    "vin_1st_zero_time_ms = times[vin_1st_zero_index]*1000\n",
    "vout_1st_zero_time_ms = times[vout_1st_zero_index]*1000\n",
    "print(\"vin_1st_zero_time_ms: %.2f\" % vin_1st_zero_time_ms)\n",
    "print(\"vout_1st_zero_time_ms: %.2f\" % vout_1st_zero_time_ms)\n",
    "diff_ms = vin_1st_zero_time_ms - vout_1st_zero_time_ms\n",
    "period_ms = 1\n",
    "vout_phase_degree = diff_ms * 360 / period_ms # diff_ms : period_ms = vout_phase_degree : 360\n",
    "print(\"diff_ms: %.2f\" % diff_ms)\n",
    "print(\"vout_phase_degree: %.2f\" % vout_phase_degree)\n"
   ]
  },
  {
   "cell_type": "markdown",
   "metadata": {},
   "source": [
    "##### 이론적 검증"
   ]
  },
  {
   "cell_type": "code",
   "execution_count": null,
   "metadata": {},
   "outputs": [],
   "source": [
    "display_image(\"./data/ch01_03_05_calc.png\", width=700)"
   ]
  }
 ],
 "metadata": {
  "kernelspec": {
   "display_name": "venv",
   "language": "python",
   "name": "python3"
  },
  "language_info": {
   "codemirror_mode": {
    "name": "ipython",
    "version": 3
   },
   "file_extension": ".py",
   "mimetype": "text/x-python",
   "name": "python",
   "nbconvert_exporter": "python",
   "pygments_lexer": "ipython3",
   "version": "3.12.3"
  },
  "orig_nbformat": 4
 },
 "nbformat": 4,
 "nbformat_minor": 2
}
