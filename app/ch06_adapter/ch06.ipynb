{
 "cells": [
  {
   "cell_type": "markdown",
   "metadata": {},
   "source": [
    "# 06장 어댑터"
   ]
  },
  {
   "cell_type": "markdown",
   "metadata": {},
   "source": [
    "* 이름: 홍길동\n",
    "* 학번: 2024123456\n",
    "* 조: 1"
   ]
  },
  {
   "cell_type": "markdown",
   "metadata": {},
   "source": [
    "## 공통 코드"
   ]
  },
  {
   "cell_type": "code",
   "execution_count": 1,
   "metadata": {},
   "outputs": [],
   "source": [
    "import matplotlib.pyplot as plt\n",
    "import numpy as np\n",
    "import pandas as pd\n",
    "import re\n",
    "import io\n",
    "import os\n",
    "from scipy.signal import savgol_filter # 사비츠키-골레이(Savitzky-Golay) 필터\n",
    "from scipy import interpolate\n",
    "from numpy import nan, inf\n",
    "\n",
    "from IPython.display import Image\n",
    "\n",
    "# %matplotlib tk\n",
    "# %matplotlib inline\n",
    "\n",
    "def tangent_line(f, x):\n",
    "    h = 1e-4\n",
    "    d = (f(x+h) - f(x-h)) / (2*h)\n",
    "    return lambda t: d*t - d*x + f(x)\n",
    "\n",
    "def tangent_line_end(f, x):\n",
    "    h = 1e-4\n",
    "    d = (f(x) - f(x-h)) / (h)\n",
    "    return lambda t: d*t - d*x + f(x)\n",
    "\n",
    "def tangent_line_and_gradient(f, x):\n",
    "    h = 1e-4\n",
    "    d = (f(x+h) - f(x-h)) / (2*h)\n",
    "    return (lambda t: d*t - d*x + f(x)), d\n",
    "\n",
    "def tangent_line_and_gradient_end(f, x):\n",
    "    h = 1e-4\n",
    "    d = (f(x) - f(x-h)) / (h)\n",
    "    return (lambda t: d*t - d*x + f(x)), d\n",
    "\n",
    "def derivative(f, x):\n",
    "    h = 1e-4\n",
    "    d = (f(x+h) - f(x-h)) / (2*h)\n",
    "    return d\n",
    "\n",
    "def get_simulation_result(file_name, start=0, end=-1):\n",
    "    if not os.path.exists(file_name):\n",
    "        print(\"{} doesn't exist.\".format(file_name))\n",
    "        return None\n",
    "\n",
    "    if end == -1:\n",
    "        end = None\n",
    "    else:\n",
    "        end += 1\n",
    "\n",
    "    with open(file_name, encoding='cp1252') as data_file:\n",
    "        lines = data_file.read()\n",
    "        occurrences = lines.count('Step Information:')\n",
    "        data_file.seek(0)\n",
    "\n",
    "        line = data_file.readline()\n",
    "        labels = re.split(', | ,|\\t', line)\n",
    "        labels = [s.strip().upper() for s in labels]\n",
    "\n",
    "        data = {}\n",
    "\n",
    "        if (occurrences == 0):\n",
    "            for label in labels:\n",
    "                data[label] = []\n",
    "\n",
    "            for line in data_file:\n",
    "                values = re.split(', | ,|\\t', line)\n",
    "                for i in range(len(values)):\n",
    "                    value = float(values[i]) * 1000\n",
    "                    data[labels[i]].append(value)\n",
    "\n",
    "        else:\n",
    "            labels_all =[]\n",
    "\n",
    "            lines = data_file.readline() # skip first line starting with 'Step Information:'\n",
    "\n",
    "            for idx in range(occurrences):\n",
    "                labels_new = []\n",
    "                for label in labels:\n",
    "                    labels_new.append('(%s)@%d' % (label, idx+1))\n",
    "                labels_all += labels_new\n",
    "\n",
    "                for label_new in labels_new:\n",
    "                    data[label_new] = []\n",
    "\n",
    "                for line in data_file:\n",
    "                    if (line.startswith('Step Information:')):\n",
    "                        break\n",
    "                    values = re.split(', | ,|\\t', line)\n",
    "                    for i in range(len(values)):\n",
    "                        value = float(values[i]) * 1000\n",
    "                        data[labels_new[i]].append(value)\n",
    "\n",
    "            labels = labels_all\n",
    "\n",
    "        for label in labels:\n",
    "            data[label] = np.array(data[label][start:end])\n",
    "\n",
    "    # print(\"labels = \", end='')\n",
    "    # print(list(data.keys()))\n",
    "    for label in list(data.keys()):\n",
    "        print(\"data['%s'] : sample number = %d\" % (label, len(data[label])))\n",
    "\n",
    "    return data\n",
    "\n",
    "def get_oscilloscpoe_result_tektronix(file_name, start=0, end=-1):\n",
    "    if not os.path.exists(file_name):\n",
    "        print(\"{} doesn't exist.\".format(file_name))\n",
    "        return None\n",
    "\n",
    "    if end == -1:\n",
    "        end = None\n",
    "    else:\n",
    "        end += 1\n",
    "\n",
    "    df = pd.read_csv(file_name, header=None, encoding='cp1252',low_memory=False)\n",
    "\n",
    "    label_ri = df.loc[df.iloc[:,0] == 'Source', 1].index\n",
    "    ci = 0\n",
    "    data = {}\n",
    "    data['TIME'] = df.iloc[start:end, 3].to_numpy().astype(float)\n",
    "    data['TIME'] -= data['TIME'][0]\n",
    "    for idx in range(df.shape[1]//6):\n",
    "        label = df.iloc[label_ri, ci+1].item()\n",
    "        data[label] = df.iloc[start:end,ci+4].to_numpy().astype(float)\n",
    "        ci += 6\n",
    "\n",
    "    # print(\"labels = \", end='')\n",
    "    # print(list(data.keys()))\n",
    "    for label in list(data.keys()):\n",
    "        print(\"data['%s'] : sample number = %d\" % (label, len(data[label])))\n",
    "\n",
    "    return data\n",
    "\n",
    "def print_array(label, values):\n",
    "    print('%s = [' % label, end='')\n",
    "    for idx, vd in enumerate(values):\n",
    "        print('{:11.3f}'.format(vd), end='')\n",
    "        if (idx+1 != len(values)):\n",
    "            print(', ', end='')\n",
    "    print(']')\n",
    "\n",
    "def print_value(label, value):\n",
    "    print('%s = ' % label, end='')\n",
    "    print('{:11.3f}'.format(value))\n",
    "\n",
    "def print_value_to_string(label, value):\n",
    "    output = io.StringIO()\n",
    "    print('%s = ' % label, end='', file=output)\n",
    "    print('{:11.3f}'.format(value), file=output)\n",
    "    captured = output.getvalue()\n",
    "    return captured\n",
    "\n",
    "def draw_plot(xs, ys, label, style_idx, color_idx=-1, marker_num=16, scatter=False, scatter_s=2):\n",
    "    linestyle  = ['-',          '-',            '-',            '-',            '-',\n",
    "                  '-',          '-',            '-',            '-',            '-',\n",
    "                  '-',          '-',            '-',            '-',            '-',\n",
    "                  '-',          '-',            '-',            '-',            '-',\n",
    "                  '-',          '-',            '-',            '-',            '-']\n",
    "    colors     = ['blue',       'green',        'red',          'orange',       'purple',\n",
    "                  'cyan',       'darkseagreen', 'brown',        'goldenrod',    'darkviolet',\n",
    "                  'steelblue',  'limegreen',    'tomato',       'tan',          'deeppink',\n",
    "                  'navy',       'lightgreen',   'indianred',    'khaki',        'rebeccapurple',\n",
    "                  'slategray',  'forestgreen',  'orangered',    'wheat',        'orchid']\n",
    "    markers    = ['o',          'v',            '<',            's',            'p',\n",
    "                  'h',          '*',            'X',            'x',            '^',\n",
    "                  '>',          'P',            'D',            'H',            'd',\n",
    "                  '|',          '-',            '4'             '5',            '6',\n",
    "                  '7',          '8',            '9 ',           '10',           '+']\n",
    "\n",
    "    if color_idx < 0:\n",
    "        color_idx = style_idx\n",
    "\n",
    "    if isinstance(xs, list):\n",
    "        xs = np.array(xs)\n",
    "    if isinstance(ys, list):\n",
    "        ys = np.array(ys)\n",
    "\n",
    "    if (marker_num == 0):\n",
    "        selected_markevery = None\n",
    "        selected_marker = None\n",
    "    elif not isinstance(xs, np.ndarray):\n",
    "        selected_markevery = None\n",
    "        selected_marker = markers[style_idx]\n",
    "    elif (marker_num > 0):\n",
    "        markeverys = []\n",
    "        if xs[0] > xs[-1]:\n",
    "            first_idx = -1\n",
    "        else:\n",
    "            first_idx = 0\n",
    "        x_step = (xs.max() - xs.min()) / marker_num\n",
    "        for idx in range(len(markers)):\n",
    "            x_start = xs.min() + ((x_step / (len(markers) + 1)) * idx)\n",
    "            marker_list = []\n",
    "            for j in range(marker_num):\n",
    "                tmp_array = np.where(xs > (x_start + (x_step * j)))\n",
    "                if (len(tmp_array[0]) > 0):\n",
    "                    marker_list.append(tmp_array[0][first_idx])\n",
    "            markeverys.append(marker_list)\n",
    "\n",
    "        selected_markevery = markeverys[style_idx]\n",
    "        selected_marker = markers[style_idx]\n",
    "    else:\n",
    "        selected_markevery = None\n",
    "        selected_marker = markers[style_idx]\n",
    "\n",
    "    if (scatter):\n",
    "        plt.scatter(xs, ys, color=colors[color_idx], marker=selected_marker, s=scatter_s, label=label)\n",
    "    else:\n",
    "        plt.plot(xs, ys, ls=linestyle[style_idx], color=colors[color_idx], marker=selected_marker, markevery=selected_markevery, label=label)\n",
    "    if (label != None):\n",
    "        plt.legend(bbox_to_anchor=(1.05, 1), loc='upper left', borderaxespad=0.)\n",
    "\n",
    "def set_plot_size(xrate, yrate):\n",
    "    if (len(set_plot_size.g_plt_figsize) == 0):\n",
    "        set_plot_size.g_plt_figsize = plt.rcParams[\"figure.figsize\"]\n",
    "    size = []\n",
    "    size.append(set_plot_size.g_plt_figsize[0] * xrate)\n",
    "    size.append(set_plot_size.g_plt_figsize[1] * yrate)\n",
    "    plt.figure(figsize=size)\n",
    "\n",
    "set_plot_size.g_plt_figsize = []\n",
    "\n",
    "\n",
    "def calculate_square_wave_frequency(times, vins):\n",
    "    # 전압 값의 중간값을 임계값으로 설정\n",
    "    threshold = (np.max(vins) + np.min(vins)) / 2\n",
    "\n",
    "    # 상승 에지 감지\n",
    "    rising_edges = np.where((vins[:-1] < threshold) & (vins[1:] >= threshold))[0]\n",
    "\n",
    "    if len(rising_edges) < 2:\n",
    "        return None  # 주기를 계산할 수 없음\n",
    "\n",
    "    # 주기 계산 (연속된 상승 에지 사이의 평균 시간)\n",
    "    periods = times[rising_edges[1:]] - times[rising_edges[:-1]]\n",
    "    average_period = np.mean(periods)\n",
    "\n",
    "    # 주파수 계산 (주기의 역수)\n",
    "    frequency = 1 / average_period\n",
    "\n",
    "    return frequency\n",
    "\n",
    "def display_image(file_path, width=None, height=None):\n",
    "    if os.path.exists(file_path):\n",
    "        display(Image(file_path, width=width, height=height))\n",
    "    else:\n",
    "        print(\"{} doesn't exist.\".format(file_path))\n",
    "\n",
    "def find_first_peak_index(xs, ys, margine=10):\n",
    "    xs_len = len(xs)\n",
    "    old_grad = None\n",
    "    pi = -1\n",
    "    m = margine\n",
    "    for i in range(xs_len - 1):\n",
    "        grad = (ys[i+1] - ys[i]) / (xs[i+1] - xs[i])\n",
    "        if grad > 0:\n",
    "            pi = i\n",
    "            m -= 1\n",
    "            if m == 0:\n",
    "                old_grad = grad\n",
    "                break\n",
    "        else:\n",
    "            m = margine\n",
    "    if old_grad != None:\n",
    "        m = margine\n",
    "        for i in range(pi, xs_len - 1):\n",
    "            grad = (ys[i+1] - ys[i]) / (xs[i+1] - xs[i])\n",
    "            if grad < 0:\n",
    "                pi = i\n",
    "                m -= 1\n",
    "                if m == 0:\n",
    "                    pi -= margine\n",
    "                    break\n",
    "            else:\n",
    "                m = margine\n",
    "    return pi\n"
   ]
  },
  {
   "cell_type": "markdown",
   "metadata": {},
   "source": [
    "*******************************************************************************\n",
    "## 실험01 반파정류 회로"
   ]
  },
  {
   "cell_type": "markdown",
   "metadata": {},
   "source": [
    "### 실험01-01 회로의 구성"
   ]
  },
  {
   "cell_type": "markdown",
   "metadata": {},
   "source": [
    "#### 실험 방법\n",
    "\n",
    "* 다이오드: 1N4004\n",
    "* RL: 1 kOhm"
   ]
  },
  {
   "cell_type": "code",
   "execution_count": null,
   "metadata": {},
   "outputs": [],
   "source": [
    "display_image(\"./images/ch06_ep01_01_circuit.png\", width=600)"
   ]
  },
  {
   "cell_type": "markdown",
   "metadata": {},
   "source": [
    "#### 실험 결과"
   ]
  },
  {
   "cell_type": "markdown",
   "metadata": {},
   "source": [
    "##### 제작한 회로"
   ]
  },
  {
   "cell_type": "code",
   "execution_count": null,
   "metadata": {},
   "outputs": [],
   "source": [
    "display_image(\"./data/ch06_ep01_01_result_circuit.jpg\", width=1000)"
   ]
  },
  {
   "cell_type": "markdown",
   "metadata": {},
   "source": [
    "### 실험01-02 파형발생기로 실험"
   ]
  },
  {
   "cell_type": "markdown",
   "metadata": {},
   "source": [
    "#### 실험 방법\n",
    "\n",
    "* Vi: 정현파, 주파수 60 Hz, 크기 8 Vpp"
   ]
  },
  {
   "cell_type": "markdown",
   "metadata": {},
   "source": [
    "#### 실험 결과"
   ]
  },
  {
   "cell_type": "markdown",
   "metadata": {},
   "source": [
    "##### 오실로스코프 화면"
   ]
  },
  {
   "cell_type": "code",
   "execution_count": null,
   "metadata": {},
   "outputs": [],
   "source": [
    "display_image(\"./data/ch06_ep01_02_result.png\", width=600)\n",
    "display_image(\"./data/ch06_ep01_02_result_xy.png\", width=600)"
   ]
  },
  {
   "cell_type": "markdown",
   "metadata": {},
   "source": [
    "#### 결과 분석"
   ]
  },
  {
   "cell_type": "code",
   "execution_count": null,
   "metadata": {},
   "outputs": [],
   "source": [
    "# 실험 결과 파일을 읽는다.\n",
    "data = get_oscilloscpoe_result_tektronix('./data/ch06_ep01_02_result.csv')\n",
    "\n",
    "if data != None:\n",
    "    # 실험 결과에서 시간, 입력 전압, 출력 전압을 가져온다.\n",
    "    times = data['TIME']\n",
    "    vins = data['Sample CH1']\n",
    "    vouts = data['Sample CH2']\n",
    "\n",
    "    # 필터를 적용해 잡음을 줄인다.\n",
    "    vins = savgol_filter(vins, 10, 2)\n",
    "    vouts = savgol_filter(vouts, 10, 2)\n",
    "\n",
    "    # 시간을 x축, 전압들을 y축으로 하는 그래프를 그린다.\n",
    "    plt.xlabel('TIME_s')\n",
    "    plt.ylabel('V_V')\n",
    "    plt.axhline(0, color='black')\n",
    "    plt.axvline(0, color='black')\n",
    "    plt.xlim((0, 0.05))\n",
    "    draw_plot(times, vins, 'V(IN)', 0)\n",
    "    draw_plot(times, vouts, 'V(OUT)', 1)\n",
    "    plt.show()\n",
    "\n",
    "    vi_pi = find_first_peak_index(times, vins)\n",
    "    vo_pi = find_first_peak_index(times, vouts)\n",
    "    V_diff_V = vins[vi_pi] - vouts[vo_pi]\n",
    "    print_value(\"V_diff_V\", V_diff_V)\n",
    "\n",
    "    # 입력 전압을 x축, 출력 전압을 y축으로 하는 그래프를 그린다.\n",
    "    plt.xlabel('V_IN_V')\n",
    "    plt.ylabel('V_OUT_V')\n",
    "    plt.axhline(0, color='black')\n",
    "    plt.axvline(0, color='black')\n",
    "    m = int(len(vins) / 10)\n",
    "    draw_plot(vins[m:-m], vouts[m:-m], \"XY\", 0)\n",
    "    plt.show()\n"
   ]
  },
  {
   "cell_type": "markdown",
   "metadata": {},
   "source": [
    "* 고찰:\n",
    "    + Vi가 ?? 보다 클 때만 ??가 Vo로 출력된다.\n",
    "    + 결과적으로 ??정류가 이루어진다."
   ]
  },
  {
   "cell_type": "markdown",
   "metadata": {},
   "source": [
    "### 실험01-03 트랜스포머로 실험"
   ]
  },
  {
   "cell_type": "markdown",
   "metadata": {},
   "source": [
    "#### 실험 방법\n",
    "\n",
    "* Vi: 트랜스포머 (AC 220 V -> 약 25 Vpp)"
   ]
  },
  {
   "cell_type": "code",
   "execution_count": null,
   "metadata": {},
   "outputs": [],
   "source": [
    "display_image(\"./images/ch06_ep01_03_circuit.png\", width=600)"
   ]
  },
  {
   "cell_type": "markdown",
   "metadata": {},
   "source": [
    "#### 실험 결과"
   ]
  },
  {
   "cell_type": "markdown",
   "metadata": {},
   "source": [
    "##### 제작한 회로"
   ]
  },
  {
   "cell_type": "code",
   "execution_count": null,
   "metadata": {},
   "outputs": [],
   "source": [
    "display_image(\"./data/ch06_ep01_03_result_circuit.jpg\", width=1000)"
   ]
  },
  {
   "cell_type": "markdown",
   "metadata": {},
   "source": [
    "##### 오실로스코프 화면"
   ]
  },
  {
   "cell_type": "code",
   "execution_count": null,
   "metadata": {},
   "outputs": [],
   "source": [
    "display_image(\"./data/ch06_ep01_03_result.png\", width=600)\n",
    "display_image(\"./data/ch06_ep01_03_result_xy.png\", width=600)"
   ]
  },
  {
   "cell_type": "markdown",
   "metadata": {},
   "source": [
    "#### 결과 분석"
   ]
  },
  {
   "cell_type": "code",
   "execution_count": null,
   "metadata": {},
   "outputs": [],
   "source": [
    "# 실험 결과 파일을 읽는다.\n",
    "data = get_oscilloscpoe_result_tektronix('./data/ch06_ep01_03_result.csv')\n",
    "\n",
    "if data != None:\n",
    "    # 실험 결과에서 시간, 입력 전압, 출력 전압을 가져온다.\n",
    "    times = data['TIME']\n",
    "    vins = data['Sample CH1']\n",
    "    vouts = data['Sample CH2']\n",
    "\n",
    "    # 필터를 적용해 잡음을 줄인다.\n",
    "    vins = savgol_filter(vins, 10, 2)\n",
    "    vouts = savgol_filter(vouts, 10, 2)\n",
    "\n",
    "    # 시간을 x축, 전압들을 y축으로 하는 그래프를 그린다.\n",
    "    plt.xlabel('TIME_s')\n",
    "    plt.ylabel('V_V')\n",
    "    plt.axhline(0, color='black')\n",
    "    plt.axvline(0, color='black')\n",
    "    plt.xlim((0, 0.05))\n",
    "    draw_plot(times, vins, 'V(IN)', 0)\n",
    "    draw_plot(times, vouts, 'V(OUT)', 1)\n",
    "    plt.show()\n",
    "\n",
    "    vi_pi = find_first_peak_index(times, vins)\n",
    "    vo_pi = find_first_peak_index(times, vouts)\n",
    "    V_diff_V = vins[vi_pi] - vouts[vo_pi]\n",
    "    print_value(\"V_diff_V\", V_diff_V)\n",
    "\n",
    "    # 입력 전압을 x축, 출력 전압을 y축으로 하는 그래프를 그린다.\n",
    "    plt.xlabel('V_IN_V')\n",
    "    plt.ylabel('V_OUT_V')\n",
    "    plt.axhline(0, color='black')\n",
    "    plt.axvline(0, color='black')\n",
    "    m = int(len(vins) / 10)\n",
    "    draw_plot(vins[m:-m], vouts[m:-m], \"XY\", 0)\n",
    "    plt.show()\n"
   ]
  },
  {
   "cell_type": "markdown",
   "metadata": {},
   "source": [
    "* 고찰:\n",
    "    + 실험01-02 유사하게 ??정류가 이루어진다."
   ]
  },
  {
   "cell_type": "markdown",
   "metadata": {},
   "source": [
    "*******************************************************************************\n",
    "## 실험02 전파정류 회로"
   ]
  },
  {
   "cell_type": "markdown",
   "metadata": {},
   "source": [
    "### 실험02-01 회로의 구성"
   ]
  },
  {
   "cell_type": "markdown",
   "metadata": {},
   "source": [
    "#### 실험 방법\n",
    "\n",
    "* 다이오드: 1N4004\n",
    "* RL: 1 kOhm"
   ]
  },
  {
   "cell_type": "code",
   "execution_count": null,
   "metadata": {},
   "outputs": [],
   "source": [
    "display_image(\"./images/ch06_ep02_01_circuit.png\", width=600)"
   ]
  },
  {
   "cell_type": "markdown",
   "metadata": {},
   "source": [
    "#### 실험 결과"
   ]
  },
  {
   "cell_type": "markdown",
   "metadata": {},
   "source": [
    "##### 제작한 회로"
   ]
  },
  {
   "cell_type": "code",
   "execution_count": null,
   "metadata": {},
   "outputs": [],
   "source": [
    "display_image(\"./data/ch06_ep02_01_result_circuit.jpg\", width=1000)"
   ]
  },
  {
   "cell_type": "markdown",
   "metadata": {},
   "source": [
    "### 실험02-02 파형발생기로 실험"
   ]
  },
  {
   "cell_type": "markdown",
   "metadata": {},
   "source": [
    "#### 실험 방법\n",
    "\n",
    "* Vi: 정현파, 주파수 60 Hz, 크기 12 Vpp\n",
    "* Vi와 Vo를 각각 측정한다. (동시에 측정하면 Vi-가 GND와 연결되어 정상동작하지 않음)"
   ]
  },
  {
   "cell_type": "markdown",
   "metadata": {},
   "source": [
    "#### 실험 결과"
   ]
  },
  {
   "cell_type": "markdown",
   "metadata": {},
   "source": [
    "##### 오실로스코프 화면"
   ]
  },
  {
   "cell_type": "code",
   "execution_count": null,
   "metadata": {},
   "outputs": [],
   "source": [
    "display_image(\"./data/ch06_ep02_02_result_vi.png\", width=600)\n",
    "display_image(\"./data/ch06_ep02_02_result_vo.png\", width=600)"
   ]
  },
  {
   "cell_type": "markdown",
   "metadata": {},
   "source": [
    "#### 결과 분석"
   ]
  },
  {
   "cell_type": "code",
   "execution_count": null,
   "metadata": {},
   "outputs": [],
   "source": [
    "# 실험 결과 파일을 읽는다.\n",
    "data_vi = get_oscilloscpoe_result_tektronix('./data/ch06_ep02_02_result_vi.csv')\n",
    "data_vo = get_oscilloscpoe_result_tektronix('./data/ch06_ep02_02_result_vo.csv')\n",
    "\n",
    "if data_vi != None and data_vo != None:\n",
    "    # 실험 결과에서 시간, 입력 전압, 출력 전압을 가져온다.\n",
    "    times_vi = data_vi['TIME']\n",
    "    vins = data_vi['Sample CH1']\n",
    "    times_vo = data_vo['TIME']\n",
    "    vouts = data_vo['Sample CH1']\n",
    "\n",
    "    # 필터를 적용해 잡음을 줄인다.\n",
    "    vins = savgol_filter(vins, 10, 2)\n",
    "    vouts = savgol_filter(vouts, 10, 2)\n",
    "\n",
    "    # 첫 번째 첨두값을 기준으로 시간축을 동기화한다.\n",
    "    vins_fn = interpolate.interp1d(times_vi, vins)\n",
    "    vouts_fn = interpolate.interp1d(times_vo, vouts)\n",
    "    start_time = max(times_vi[0], times_vo[0])\n",
    "    end_time = min(times_vi[-1], times_vo[-1])\n",
    "    times = np.arange(start_time, end_time, (end_time - start_time)/1000)\n",
    "    vins = vins_fn(times)\n",
    "    vouts = vouts_fn(times)\n",
    "    vins_tmp = savgol_filter(vins, 50, 2)\n",
    "    vouts_tmp = savgol_filter(vouts, 50, 2)\n",
    "    vi_pi = find_first_peak_index(times, vins_tmp)\n",
    "    vo_pi = find_first_peak_index(times, vouts_tmp)\n",
    "    index_diff = vi_pi - vo_pi\n",
    "    if index_diff > 0:\n",
    "        times = times[index_diff:]\n",
    "        vins = vins[index_diff:]\n",
    "        vouts = vouts[:-index_diff]\n",
    "    elif index_diff < 0:\n",
    "        times = times[:index_diff]\n",
    "        vins = vins[:index_diff:]\n",
    "        vouts = vouts[-index_diff:]\n",
    "\n",
    "    # 시간을 x축, 전압들을 y축으로 하는 그래프를 그린다.\n",
    "    plt.xlabel('TIME_s')\n",
    "    plt.ylabel('V_V')\n",
    "    plt.axhline(0, color='black')\n",
    "    plt.axvline(0, color='black')\n",
    "    plt.xlim((0, end_time))\n",
    "    draw_plot(times, vins, 'V(IN)', 0)\n",
    "    draw_plot(times, vouts, 'V(OUT)', 1)\n",
    "    plt.show()\n",
    "\n",
    "    vi_pi = find_first_peak_index(times, vins)\n",
    "    vo_pi = find_first_peak_index(times, vouts)\n",
    "    V_diff_V = vins[vi_pi] - vouts[vo_pi]\n",
    "    print_value(\"V_diff_V\", V_diff_V)\n",
    "\n",
    "    # 입력 전압을 x축, 출력 전압을 y축으로 하는 그래프를 그린다.\n",
    "    plt.xlabel('V_IN_V')\n",
    "    plt.ylabel('V_OUT_V')\n",
    "    plt.axhline(0, color='black')\n",
    "    plt.axvline(0, color='black')\n",
    "    m = int(len(vins) / 10)\n",
    "    draw_plot(vins[m:-m], vouts[m:-m], \"XY\", 0)\n",
    "    plt.show()\n"
   ]
  },
  {
   "cell_type": "markdown",
   "metadata": {},
   "source": [
    "* 고찰:\n",
    "    + Vi가 ?? 보다 클 때는 ??이 Vo로 출력된다.\n",
    "    + 결과적으로 ??정류가 이루어진다."
   ]
  },
  {
   "cell_type": "markdown",
   "metadata": {},
   "source": [
    "### 실험02-03 트랜스포머로 실험"
   ]
  },
  {
   "cell_type": "markdown",
   "metadata": {},
   "source": [
    "#### 실험 방법\n",
    "\n",
    "* Vi: 트랜스포머 (AC 220 V -> 약 25 Vpp)\n",
    "* Vi와 Vo를 각각 측정한다. (동시에 측정하면 Vi-가 GND와 연결되어 정상동작하지 않음)"
   ]
  },
  {
   "cell_type": "markdown",
   "metadata": {},
   "source": [
    "#### 실험 결과"
   ]
  },
  {
   "cell_type": "markdown",
   "metadata": {},
   "source": [
    "##### 제작한 회로"
   ]
  },
  {
   "cell_type": "code",
   "execution_count": null,
   "metadata": {},
   "outputs": [],
   "source": [
    "display_image(\"./data/ch06_ep02_03_result_circuit.jpg\", width=1000)"
   ]
  },
  {
   "cell_type": "markdown",
   "metadata": {},
   "source": [
    "##### 오실로스코프 화면"
   ]
  },
  {
   "cell_type": "code",
   "execution_count": null,
   "metadata": {},
   "outputs": [],
   "source": [
    "display_image(\"./data/ch06_ep02_03_result_vi.png\", width=600)\n",
    "display_image(\"./data/ch06_ep02_03_result_vo.png\", width=600)"
   ]
  },
  {
   "cell_type": "markdown",
   "metadata": {},
   "source": [
    "#### 결과 분석"
   ]
  },
  {
   "cell_type": "code",
   "execution_count": null,
   "metadata": {},
   "outputs": [],
   "source": [
    "# 실험 결과 파일을 읽는다.\n",
    "data_vi = get_oscilloscpoe_result_tektronix('./data/ch06_ep02_03_result_vi.csv')\n",
    "data_vo = get_oscilloscpoe_result_tektronix('./data/ch06_ep02_03_result_vo.csv')\n",
    "\n",
    "if data_vi != None and data_vo != None:\n",
    "    times_vi = data_vi['TIME']\n",
    "    vins = data_vi['Sample CH1']\n",
    "    times_vo = data_vo['TIME']\n",
    "    vouts = data_vo['Sample CH1']\n",
    "\n",
    "    # 필터를 적용해 잡음을 줄인다.\n",
    "    vins = savgol_filter(vins, 10, 2)\n",
    "    vouts = savgol_filter(vouts, 10, 2)\n",
    "\n",
    "    # 첫 번째 첨두값을 기준으로 시간축을 동기화한다.\n",
    "    vins_fn = interpolate.interp1d(times_vi, vins)\n",
    "    vouts_fn = interpolate.interp1d(times_vo, vouts)\n",
    "\n",
    "    start_time = max(times_vi[0], times_vo[0])\n",
    "    end_time = min(times_vi[-1], times_vo[-1])\n",
    "    times = np.arange(start_time, end_time, (end_time - start_time)/1000)\n",
    "    vins = vins_fn(times)\n",
    "    vouts = vouts_fn(times)\n",
    "    vins_tmp = savgol_filter(vins, 50, 2)\n",
    "    vouts_tmp = savgol_filter(vouts, 50, 2)\n",
    "    vi_pi = find_first_peak_index(times, vins_tmp)\n",
    "    vo_pi = find_first_peak_index(times, vouts_tmp)\n",
    "    index_diff = vi_pi - vo_pi\n",
    "    if index_diff > 0:\n",
    "        times = times[index_diff:]\n",
    "        vins = vins[index_diff:]\n",
    "        vouts = vouts[:-index_diff]\n",
    "    elif index_diff < 0:\n",
    "        times = times[:index_diff]\n",
    "        vins = vins[:index_diff:]\n",
    "        vouts = vouts[-index_diff:]\n",
    "\n",
    "    # 시간을 x축, 전압들을 y축으로 하는 그래프를 그린다.\n",
    "    plt.xlabel('TIME_s')\n",
    "    plt.ylabel('V_V')\n",
    "    plt.axhline(0, color='black')\n",
    "    plt.axvline(0, color='black')\n",
    "    plt.xlim((0, end_time))\n",
    "    draw_plot(times, vins, 'V(IN)', 0)\n",
    "    draw_plot(times, vouts, 'V(OUT)', 1)\n",
    "    plt.show()\n",
    "\n",
    "    vi_pi = find_first_peak_index(times, vins)\n",
    "    vo_pi = find_first_peak_index(times, vouts)\n",
    "    V_diff_V = vins[vi_pi] - vouts[vo_pi]\n",
    "    print_value(\"V_diff_V\", V_diff_V)\n",
    "\n",
    "    # 입력 전압을 x축, 출력 전압을 y축으로 하는 그래프를 그린다.\n",
    "    plt.xlabel('V_IN_V')\n",
    "    plt.ylabel('V_OUT_V')\n",
    "    plt.axhline(0, color='black')\n",
    "    plt.axvline(0, color='black')\n",
    "    m = int(len(vins) / 10)\n",
    "    draw_plot(vins[m:-m], vouts[m:-m], \"XY\", 0)\n",
    "    plt.show()\n"
   ]
  },
  {
   "cell_type": "markdown",
   "metadata": {},
   "source": [
    "* 고찰:\n",
    "    + 실험02-02 유사하게 ??정류가 이루어진다."
   ]
  },
  {
   "cell_type": "markdown",
   "metadata": {},
   "source": [
    "*******************************************************************************\n",
    "## 실험03 평활 회로"
   ]
  },
  {
   "cell_type": "markdown",
   "metadata": {},
   "source": [
    "### 실험03-01 회로의 구성"
   ]
  },
  {
   "cell_type": "markdown",
   "metadata": {},
   "source": [
    "#### 실험 방법\n",
    "\n",
    "* 다이오드: 1N4004\n",
    "* 커패시터: 10 uF\n",
    "* RL: 5.1 kOhm, 1 kOhm"
   ]
  },
  {
   "cell_type": "code",
   "execution_count": null,
   "metadata": {},
   "outputs": [],
   "source": [
    "display_image(\"./images/ch06_ep03_01_circuit.png\", width=600)"
   ]
  },
  {
   "cell_type": "markdown",
   "metadata": {},
   "source": [
    "#### 실험 결과"
   ]
  },
  {
   "cell_type": "markdown",
   "metadata": {},
   "source": [
    "##### 제작한 회로"
   ]
  },
  {
   "cell_type": "code",
   "execution_count": null,
   "metadata": {},
   "outputs": [],
   "source": [
    "display_image(\"./data/ch06_ep03_01_result_circuit.jpg\", width=1000)"
   ]
  },
  {
   "cell_type": "markdown",
   "metadata": {},
   "source": [
    "### 실험03-02 파형발생기로 실험"
   ]
  },
  {
   "cell_type": "markdown",
   "metadata": {},
   "source": [
    "#### 실험 방법\n",
    "\n",
    "* Vi: 정현파, 주파수 60 Hz, 크기 12 Vpp"
   ]
  },
  {
   "cell_type": "markdown",
   "metadata": {},
   "source": [
    "#### 실험 결과"
   ]
  },
  {
   "cell_type": "markdown",
   "metadata": {},
   "source": [
    "##### 오실로스코프 화면"
   ]
  },
  {
   "cell_type": "code",
   "execution_count": null,
   "metadata": {},
   "outputs": [],
   "source": [
    "display_image(\"./data/ch06_ep03_02_result_5_1.png\", width=600)\n",
    "display_image(\"./data/ch06_ep03_02_result_1_0.png\", width=600)"
   ]
  },
  {
   "cell_type": "markdown",
   "metadata": {},
   "source": [
    "#### 결과 분석"
   ]
  },
  {
   "cell_type": "code",
   "execution_count": null,
   "metadata": {},
   "outputs": [],
   "source": [
    "# 실험 결과 파일을 읽는다.\n",
    "data_5_1 = get_oscilloscpoe_result_tektronix('./data/ch06_ep03_02_result_5_1.csv')\n",
    "data_1_0 = get_oscilloscpoe_result_tektronix('./data/ch06_ep03_02_result_1_0.csv')\n",
    "\n",
    "if data_5_1 != None and data_1_0 != None:\n",
    "    # 실험 결과에서 시간, 입력 전압, 출력 전압을 가져온다.\n",
    "    times = data_5_1['TIME']\n",
    "    vins = data_5_1['Sample CH1']\n",
    "    vouts_5_1 = data_5_1['Sample CH2']\n",
    "    vouts_1_0 = data_1_0['Sample CH2']\n",
    "\n",
    "    # 필터를 적용해 잡음을 줄인다.\n",
    "    vins = savgol_filter(vins, 100, 2)\n",
    "    vouts_5_1 = savgol_filter(vouts_5_1, 10, 2)\n",
    "    vouts_1_0 = savgol_filter(vouts_1_0, 10, 2)\n",
    "\n",
    "    # 시간을 x축, 전압들을 y축으로 하는 그래프를 그린다.\n",
    "    plt.xlabel('TIME_s')\n",
    "    plt.ylabel('V_V')\n",
    "    plt.axhline(0, color='black')\n",
    "    plt.axvline(0, color='black')\n",
    "    draw_plot(times, vins, 'V(IN)', 0)\n",
    "    draw_plot(times, vouts_5_1, 'V(OUT, RL=5.1 kOhm)', 1)\n",
    "    draw_plot(times, vouts_1_0, 'V(OUT, RL=1.0 kOhm)', 2)\n",
    "    plt.show()\n"
   ]
  },
  {
   "cell_type": "markdown",
   "metadata": {},
   "source": [
    "* 고찰:\n",
    "    + Vo의 ??가 감소한다.\n",
    "    + 부하저항이 더 ??면 Vo의 ??가 더 ??한다."
   ]
  },
  {
   "cell_type": "markdown",
   "metadata": {},
   "source": [
    "### 실험03-03 트랜스포머로 실험"
   ]
  },
  {
   "cell_type": "markdown",
   "metadata": {},
   "source": [
    "#### 실험 방법\n",
    "\n",
    "* Vi: 트랜스포머 (AC 220 V -> 약 25 Vpp)"
   ]
  },
  {
   "cell_type": "markdown",
   "metadata": {},
   "source": [
    "#### 실험 결과"
   ]
  },
  {
   "cell_type": "markdown",
   "metadata": {},
   "source": [
    "##### 제작한 회로"
   ]
  },
  {
   "cell_type": "code",
   "execution_count": null,
   "metadata": {},
   "outputs": [],
   "source": [
    "display_image(\"./data/ch06_ep03_03_result_circuit.jpg\", width=1000)"
   ]
  },
  {
   "cell_type": "markdown",
   "metadata": {},
   "source": [
    "##### 오실로스코프 화면"
   ]
  },
  {
   "cell_type": "code",
   "execution_count": null,
   "metadata": {},
   "outputs": [],
   "source": [
    "display_image(\"./data/ch06_ep03_03_result_5_1.png\", width=600)\n",
    "display_image(\"./data/ch06_ep03_03_result_1_0.png\", width=600)"
   ]
  },
  {
   "cell_type": "markdown",
   "metadata": {},
   "source": [
    "#### 결과 분석"
   ]
  },
  {
   "cell_type": "code",
   "execution_count": null,
   "metadata": {},
   "outputs": [],
   "source": [
    "# 실험 결과 파일을 읽는다.\n",
    "data_5_1 = get_oscilloscpoe_result_tektronix('./data/ch06_ep03_03_result_5_1.csv')\n",
    "data_1_0 = get_oscilloscpoe_result_tektronix('./data/ch06_ep03_03_result_1_0.csv')\n",
    "\n",
    "if data_5_1 != None and data_1_0 != None:\n",
    "    # 실험 결과에서 시간, 입력 전압, 출력 전압을 가져온다.\n",
    "    times = data_5_1['TIME']\n",
    "    vins = data_5_1['Sample CH1']\n",
    "    vouts_5_1 = data_5_1['Sample CH2']\n",
    "    vouts_1_0 = data_1_0['Sample CH2']\n",
    "\n",
    "    # 필터를 적용해 잡음을 줄인다.\n",
    "    vins = savgol_filter(vins, 100, 2)\n",
    "    vouts_5_1 = savgol_filter(vouts_5_1, 100, 2)\n",
    "    vouts_1_0 = savgol_filter(vouts_1_0, 100, 2)\n",
    "\n",
    "    # 시간을 x축, 전압들을 y축으로 하는 그래프를 그린다.\n",
    "    plt.xlabel('TIME_s')\n",
    "    plt.ylabel('V_V')\n",
    "    plt.axhline(0, color='black')\n",
    "    plt.axvline(0, color='black')\n",
    "    draw_plot(times, vins, 'V(IN)', 0)\n",
    "    draw_plot(times, vouts_5_1, 'V(OUT, RL=5.1 kOhm)', 1)\n",
    "    draw_plot(times, vouts_1_0, 'V(OUT, RL=1.0 kOhm)', 2)\n",
    "    plt.show()\n"
   ]
  },
  {
   "cell_type": "markdown",
   "metadata": {},
   "source": [
    "* 고찰:\n",
    "    + 실험03-02 유사하게 Vo의 ??가 감소한다."
   ]
  },
  {
   "cell_type": "markdown",
   "metadata": {},
   "source": [
    "*******************************************************************************\n",
    "## 실험04 정전압 회로"
   ]
  },
  {
   "cell_type": "markdown",
   "metadata": {},
   "source": [
    "### 실험04-01 회로의 구성"
   ]
  },
  {
   "cell_type": "markdown",
   "metadata": {},
   "source": [
    "#### 실험 방법\n",
    "\n",
    "* 레귤레이터: LM7805\n",
    "* 다이오드: 1N4004\n",
    "* 커패시터: 100 uF, 10 uF\n",
    "* RL: 무한대(open), 1 kOhm, 3 kOhm"
   ]
  },
  {
   "cell_type": "code",
   "execution_count": null,
   "metadata": {},
   "outputs": [],
   "source": [
    "display_image(\"./images/ch06_ep04_01_circuit.png\", width=600)"
   ]
  },
  {
   "cell_type": "markdown",
   "metadata": {},
   "source": [
    "#### 실험 결과"
   ]
  },
  {
   "cell_type": "markdown",
   "metadata": {},
   "source": [
    "##### 제작한 회로"
   ]
  },
  {
   "cell_type": "code",
   "execution_count": null,
   "metadata": {},
   "outputs": [],
   "source": [
    "display_image(\"./data/ch06_ep04_01_result_circuit.jpg\", width=1000)"
   ]
  },
  {
   "cell_type": "markdown",
   "metadata": {},
   "source": [
    "### 실험04-02 파형발생기로 실험"
   ]
  },
  {
   "cell_type": "markdown",
   "metadata": {},
   "source": [
    "#### 실험 방법\n",
    "\n",
    "* Vi 소스: 정현파, 주파수 60 Hz, 크기 20 Vpp ~ 18 Vpp\n",
    "\n",
    "* 채널 1과 2의 Volts/div를 모두 1V로 설정한다.\n",
    "* 채널 1과 2의 0V 기준점을 모두 화면의 가장 밑으로 보낸다.\n",
    "* 트리거 채널을 1로, 레벨을 채널 1의 최고점과 최저점 중간으로 설정한다.\n"
   ]
  },
  {
   "cell_type": "markdown",
   "metadata": {},
   "source": [
    "#### 실험 결과"
   ]
  },
  {
   "cell_type": "markdown",
   "metadata": {},
   "source": [
    "##### 오실로스코프 화면"
   ]
  },
  {
   "cell_type": "code",
   "execution_count": null,
   "metadata": {},
   "outputs": [],
   "source": [
    "display_image(\"./data/ch06_ep04_02_result_infinte_20vpp.png\", width=600)\n",
    "display_image(\"./data/ch06_ep04_02_result_1kohm_20vpp.png\", width=600)\n",
    "display_image(\"./data/ch06_ep04_02_result_3kohm_20vpp.png\", width=600)\n",
    "display_image(\"./data/ch06_ep04_02_result_3kohm_18vpp.png\", width=600)"
   ]
  },
  {
   "cell_type": "markdown",
   "metadata": {},
   "source": [
    "#### 결과 분석"
   ]
  },
  {
   "cell_type": "code",
   "execution_count": null,
   "metadata": {},
   "outputs": [],
   "source": [
    "# 실험 결과 파일을 읽는다.\n",
    "data = get_oscilloscpoe_result_tektronix('./data/ch06_ep04_02_result_infinte_20vpp.csv')\n",
    "\n",
    "if data != None:\n",
    "    # 실험 결과에서 시간, 입력 전압, 출력 전압을 가져온다.\n",
    "    times = data['TIME']\n",
    "    vins = data['Sample CH1']\n",
    "    vouts = data['Sample CH2']\n",
    "\n",
    "    # 필터를 적용해 잡음을 줄인다.\n",
    "    vins = savgol_filter(vins, 100, 2)\n",
    "    vouts = savgol_filter(vouts, 100, 2)\n",
    "\n",
    "    # 시간을 x축, 전압들을 y축으로 하는 그래프를 그린다.\n",
    "    plt.xlabel('TIME_s')\n",
    "    plt.ylabel('V_V')\n",
    "    plt.axhline(0, color='black')\n",
    "    plt.axvline(0, color='black')\n",
    "    plt.ylim((-1, 12))\n",
    "    draw_plot(times, vins, 'V(IN)', 0)\n",
    "    draw_plot(times, vouts, 'V(OUT, RL=infinte, 20 Vpp)', 1)\n",
    "    plt.show()\n"
   ]
  },
  {
   "cell_type": "markdown",
   "metadata": {},
   "source": [
    "* 고찰:\n",
    "    + ??이 출력된다.\n",
    "    + 하지만, 실제 정류기 사용 환경에서는 ?? 때문에 의미가 ??."
   ]
  },
  {
   "cell_type": "code",
   "execution_count": null,
   "metadata": {},
   "outputs": [],
   "source": [
    "# 실험 결과 파일을 읽는다.\n",
    "data = get_oscilloscpoe_result_tektronix('./data/ch06_ep04_02_result_1kohm_20vpp.csv')\n",
    "\n",
    "if data != None:\n",
    "    # 실험 결과에서 시간, 입력 전압, 출력 전압을 가져온다.\n",
    "    times = data['TIME']\n",
    "    vins = data['Sample CH1']\n",
    "    vouts = data['Sample CH2']\n",
    "\n",
    "    # 필터를 적용해 잡음을 줄인다.\n",
    "    vins = savgol_filter(vins, 100, 2)\n",
    "    vouts = savgol_filter(vouts, 100, 2)\n",
    "\n",
    "    # 시간을 x축, 전압들을 y축으로 하는 그래프를 그린다.\n",
    "    plt.xlabel('TIME_s')\n",
    "    plt.ylabel('V_V')\n",
    "    plt.axhline(0, color='black')\n",
    "    plt.axvline(0, color='black')\n",
    "    plt.ylim((-1, 12))\n",
    "    draw_plot(times, vins, 'V(IN)', 0)\n",
    "    draw_plot(times, vouts, 'V(OUT, RL=1 kOhm)', 1)\n",
    "    plt.show()\n"
   ]
  },
  {
   "cell_type": "markdown",
   "metadata": {},
   "source": [
    "* 고찰:\n",
    "    + ??이 출력된다."
   ]
  },
  {
   "cell_type": "code",
   "execution_count": null,
   "metadata": {},
   "outputs": [],
   "source": [
    "# 실험 결과 파일을 읽는다.\n",
    "data = get_oscilloscpoe_result_tektronix('./data/ch06_ep04_02_result_3kohm_20vpp.csv')\n",
    "\n",
    "if data != None:\n",
    "    # 실험 결과에서 시간, 입력 전압, 출력 전압을 가져온다.\n",
    "    times = data['TIME']\n",
    "    vins = data['Sample CH1']\n",
    "    vouts = data['Sample CH2']\n",
    "\n",
    "    # 필터를 적용해 잡음을 줄인다.\n",
    "    vins = savgol_filter(vins, 100, 2)\n",
    "    vouts = savgol_filter(vouts, 100, 2)\n",
    "\n",
    "    # 시간을 x축, 전압들을 y축으로 하는 그래프를 그린다.\n",
    "    plt.xlabel('TIME_s')\n",
    "    plt.ylabel('V_V')\n",
    "    plt.axhline(0, color='black')\n",
    "    plt.axvline(0, color='black')\n",
    "    plt.ylim((-1, 12))\n",
    "    draw_plot(times, vins, 'V(IN)', 0)\n",
    "    draw_plot(times, vouts, 'V(OUT, RL=3 kOhm)', 1)\n",
    "    plt.show()\n"
   ]
  },
  {
   "cell_type": "markdown",
   "metadata": {},
   "source": [
    "* 고찰:\n",
    "    + ??이 출력된다.\n",
    "    + 하지만, 실제 정류기 사용 환경에서는 ?? 때문에 의미가 ??."
   ]
  },
  {
   "cell_type": "code",
   "execution_count": null,
   "metadata": {},
   "outputs": [],
   "source": [
    "# 실험 결과 파일을 읽는다.\n",
    "data = get_oscilloscpoe_result_tektronix('./data/ch06_ep04_02_result_3kohm_18vpp.csv')\n",
    "\n",
    "if data != None:\n",
    "    # 실험 결과에서 시간, 입력 전압, 출력 전압을 가져온다.\n",
    "    times = data['TIME']\n",
    "    vins = data['Sample CH1']\n",
    "    vouts = data['Sample CH2']\n",
    "\n",
    "    # 필터를 적용해 잡음을 줄인다.\n",
    "    vins = savgol_filter(vins, 100, 2)\n",
    "    vouts = savgol_filter(vouts, 100, 2)\n",
    "\n",
    "    # 시간을 x축, 전압들을 y축으로 하는 그래프를 그린다.\n",
    "    plt.xlabel('TIME_s')\n",
    "    plt.ylabel('V_V')\n",
    "    plt.axhline(0, color='black')\n",
    "    plt.axvline(0, color='black')\n",
    "    plt.ylim((-1, 12))\n",
    "    draw_plot(times, vins, 'V(IN)', 0)\n",
    "    draw_plot(times, vouts, 'V(OUT, RL=3 kOhm, 18 Vpp)', 1)\n",
    "    plt.show()\n"
   ]
  },
  {
   "cell_type": "markdown",
   "metadata": {},
   "source": [
    "* 고찰:\n",
    "    + Dropout voltage가 ?? 때문에 ??이 출력된다. "
   ]
  },
  {
   "cell_type": "markdown",
   "metadata": {},
   "source": [
    "### 실험04-03 트랜스포머로 실험"
   ]
  },
  {
   "cell_type": "markdown",
   "metadata": {},
   "source": [
    "#### 실험 방법\n",
    "\n",
    "* Vi 소스: 트랜스포머 (AC 220 V -> 약 25 Vpp)\n",
    "* RL: 1 kOhm\n",
    "\n",
    "* 채널 1과 2의 Volts/div를 모두 2V로 설정한다.\n",
    "* 채널 1과 2의 0V 기준점을 모두 화면의 가장 밑으로 보낸다.\n",
    "* 트리거 채널을 1로, 레벨을 채널 1의 최고점과 최저점 중간으로 설정한다."
   ]
  },
  {
   "cell_type": "markdown",
   "metadata": {},
   "source": [
    "#### 실험 결과"
   ]
  },
  {
   "cell_type": "markdown",
   "metadata": {},
   "source": [
    "##### 제작한 회로"
   ]
  },
  {
   "cell_type": "code",
   "execution_count": null,
   "metadata": {},
   "outputs": [],
   "source": [
    "display_image(\"./data/ch06_ep04_03_result_circuit.jpg\", width=1000)"
   ]
  },
  {
   "cell_type": "markdown",
   "metadata": {},
   "source": [
    "##### 오실로스코프 화면"
   ]
  },
  {
   "cell_type": "code",
   "execution_count": null,
   "metadata": {},
   "outputs": [],
   "source": [
    "display_image(\"./data/ch06_ep04_03_result.png\", width=600)"
   ]
  },
  {
   "cell_type": "markdown",
   "metadata": {},
   "source": [
    "#### 결과 분석"
   ]
  },
  {
   "cell_type": "code",
   "execution_count": null,
   "metadata": {},
   "outputs": [],
   "source": [
    "# 실험 결과 파일을 읽는다.\n",
    "data = get_oscilloscpoe_result_tektronix('./data/ch06_ep04_03_result.csv')\n",
    "\n",
    "if data != None:\n",
    "    # 실험 결과에서 시간, 입력 전압, 출력 전압을 가져온다.\n",
    "    times = data['TIME']\n",
    "    vins = data['Sample CH1']\n",
    "    vouts = data['Sample CH2']\n",
    "\n",
    "    # 필터를 적용해 잡음을 줄인다.\n",
    "    vins = savgol_filter(vins, 100, 2)\n",
    "    vouts = savgol_filter(vouts, 100, 2)\n",
    "\n",
    "    # 시간을 x축, 전압들을 y축으로 하는 그래프를 그린다.\n",
    "    plt.xlabel('TIME_s')\n",
    "    plt.ylabel('V_V')\n",
    "    plt.axhline(0, color='black')\n",
    "    plt.axvline(0, color='black')\n",
    "    plt.ylim((-1, 12))\n",
    "    draw_plot(times, vins, 'V(IN)', 0)\n",
    "    draw_plot(times, vouts, 'V(OUT, RL=1 kOhm)', 1)\n",
    "    plt.show()\n"
   ]
  },
  {
   "cell_type": "markdown",
   "metadata": {},
   "source": [
    "* 고찰:\n",
    "    + Dropout voltage가 ?? 때문에 ?? 불구하고 ??이 출력된다."
   ]
  }
 ],
 "metadata": {
  "kernelspec": {
   "display_name": "reinforcement-learning-an-introduction_env",
   "language": "python",
   "name": "python3"
  },
  "language_info": {
   "codemirror_mode": {
    "name": "ipython",
    "version": 3
   },
   "file_extension": ".py",
   "mimetype": "text/x-python",
   "name": "python",
   "nbconvert_exporter": "python",
   "pygments_lexer": "ipython3",
   "version": "3.10.12"
  },
  "orig_nbformat": 4
 },
 "nbformat": 4,
 "nbformat_minor": 2
}
