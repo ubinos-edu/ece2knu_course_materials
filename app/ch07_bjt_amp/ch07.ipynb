{
 "cells": [
  {
   "cell_type": "markdown",
   "metadata": {},
   "source": [
    "# 07장 BJT 증폭기"
   ]
  },
  {
   "cell_type": "markdown",
   "metadata": {},
   "source": [
    "* 이름: 홍길동\n",
    "* 학번: 2024123456\n",
    "* 조: 1"
   ]
  },
  {
   "cell_type": "markdown",
   "metadata": {},
   "source": [
    "## 공통 코드"
   ]
  },
  {
   "cell_type": "code",
   "execution_count": 1,
   "metadata": {},
   "outputs": [],
   "source": [
    "import matplotlib.pyplot as plt\n",
    "import numpy as np\n",
    "import pandas as pd\n",
    "import re\n",
    "import io\n",
    "import os\n",
    "from scipy.signal import savgol_filter # 사비츠키-골레이(Savitzky-Golay) 필터\n",
    "from scipy import interpolate\n",
    "from numpy import nan, inf\n",
    "\n",
    "from IPython.display import Image\n",
    "\n",
    "# %matplotlib tk\n",
    "# %matplotlib inline\n",
    "\n",
    "def tangent_line(f, x):\n",
    "    h = 1e-4\n",
    "    d = (f(x+h) - f(x-h)) / (2*h)\n",
    "    return lambda t: d*t - d*x + f(x)\n",
    "\n",
    "def tangent_line_end(f, x):\n",
    "    h = 1e-4\n",
    "    d = (f(x) - f(x-h)) / (h)\n",
    "    return lambda t: d*t - d*x + f(x)\n",
    "\n",
    "def tangent_line_and_gradient(f, x):\n",
    "    h = 1e-4\n",
    "    d = (f(x+h) - f(x-h)) / (2*h)\n",
    "    return (lambda t: d*t - d*x + f(x)), d\n",
    "\n",
    "def tangent_line_and_gradient_end(f, x):\n",
    "    h = 1e-4\n",
    "    d = (f(x) - f(x-h)) / (h)\n",
    "    return (lambda t: d*t - d*x + f(x)), d\n",
    "\n",
    "def derivative(f, x):\n",
    "    h = 1e-4\n",
    "    d = (f(x+h) - f(x-h)) / (2*h)\n",
    "    return d\n",
    "\n",
    "def get_simulation_result(file_name, start=0, end=-1):\n",
    "    if not os.path.exists(file_name):\n",
    "        print(\"{} doesn't exist.\".format(file_name))\n",
    "        return None\n",
    "\n",
    "    if end == -1:\n",
    "        end = None\n",
    "    else:\n",
    "        end += 1\n",
    "\n",
    "    with open(file_name, encoding='cp1252') as data_file:\n",
    "        lines = data_file.read()\n",
    "        occurrences = lines.count('Step Information:')\n",
    "        data_file.seek(0)\n",
    "\n",
    "        line = data_file.readline()\n",
    "        labels = re.split(', | ,|\\t', line)\n",
    "        labels = [s.strip().upper() for s in labels]\n",
    "\n",
    "        data = {}\n",
    "\n",
    "        if (occurrences == 0):\n",
    "            for label in labels:\n",
    "                data[label] = []\n",
    "\n",
    "            for line in data_file:\n",
    "                values = re.split(', | ,|\\t', line)\n",
    "                for i in range(len(values)):\n",
    "                    value = float(values[i]) * 1000\n",
    "                    data[labels[i]].append(value)\n",
    "\n",
    "        else:\n",
    "            labels_all =[]\n",
    "\n",
    "            lines = data_file.readline() # skip first line starting with 'Step Information:'\n",
    "\n",
    "            for idx in range(occurrences):\n",
    "                labels_new = []\n",
    "                for label in labels:\n",
    "                    labels_new.append('(%s)@%d' % (label, idx+1))\n",
    "                labels_all += labels_new\n",
    "\n",
    "                for label_new in labels_new:\n",
    "                    data[label_new] = []\n",
    "\n",
    "                for line in data_file:\n",
    "                    if (line.startswith('Step Information:')):\n",
    "                        break\n",
    "                    values = re.split(', | ,|\\t', line)\n",
    "                    for i in range(len(values)):\n",
    "                        value = float(values[i]) * 1000\n",
    "                        data[labels_new[i]].append(value)\n",
    "\n",
    "            labels = labels_all\n",
    "\n",
    "        for label in labels:\n",
    "            data[label] = np.array(data[label][start:end])\n",
    "\n",
    "    # print(\"labels = \", end='')\n",
    "    # print(list(data.keys()))\n",
    "    for label in list(data.keys()):\n",
    "        print(\"data['%s'] : sample number = %d\" % (label, len(data[label])))\n",
    "\n",
    "    return data\n",
    "\n",
    "def get_oscilloscpoe_result_tektronix(file_name, start=0, end=-1):\n",
    "    if not os.path.exists(file_name):\n",
    "        print(\"{} doesn't exist.\".format(file_name))\n",
    "        return None\n",
    "\n",
    "    if end == -1:\n",
    "        end = None\n",
    "    else:\n",
    "        end += 1\n",
    "\n",
    "    df = pd.read_csv(file_name, header=None, encoding='cp1252',low_memory=False)\n",
    "\n",
    "    label_ri = df.loc[df.iloc[:,0] == 'Source', 1].index\n",
    "    ci = 0\n",
    "    data = {}\n",
    "    data['TIME'] = df.iloc[start:end, 3].to_numpy().astype(float)\n",
    "    data['TIME'] -= data['TIME'][0]\n",
    "    for idx in range(df.shape[1]//6):\n",
    "        label = df.iloc[label_ri, ci+1].item()\n",
    "        data[label] = df.iloc[start:end,ci+4].to_numpy().astype(float)\n",
    "        ci += 6\n",
    "\n",
    "    # print(\"labels = \", end='')\n",
    "    # print(list(data.keys()))\n",
    "    for label in list(data.keys()):\n",
    "        print(\"data['%s'] : sample number = %d\" % (label, len(data[label])))\n",
    "\n",
    "    return data\n",
    "\n",
    "def print_array(label, values):\n",
    "    print('%s = [' % label, end='')\n",
    "    for idx, vd in enumerate(values):\n",
    "        print('{:11.3f}'.format(vd), end='')\n",
    "        if (idx+1 != len(values)):\n",
    "            print(', ', end='')\n",
    "    print(']')\n",
    "\n",
    "def print_value(label, value):\n",
    "    print('%s = ' % label, end='')\n",
    "    print('{:11.3f}'.format(value))\n",
    "\n",
    "def print_value_to_string(label, value):\n",
    "    output = io.StringIO()\n",
    "    print('%s = ' % label, end='', file=output)\n",
    "    print('{:11.3f}'.format(value), file=output)\n",
    "    captured = output.getvalue()\n",
    "    return captured\n",
    "\n",
    "def draw_plot(xs, ys, label, style_idx, color_idx=-1, marker_num=16, scatter=False, scatter_s=2):\n",
    "    linestyle  = ['-',          '-',            '-',            '-',            '-',\n",
    "                  '-',          '-',            '-',            '-',            '-',\n",
    "                  '-',          '-',            '-',            '-',            '-',\n",
    "                  '-',          '-',            '-',            '-',            '-',\n",
    "                  '-',          '-',            '-',            '-',            '-']\n",
    "    colors     = ['blue',       'green',        'red',          'orange',       'purple',\n",
    "                  'cyan',       'darkseagreen', 'brown',        'goldenrod',    'darkviolet',\n",
    "                  'steelblue',  'limegreen',    'tomato',       'tan',          'deeppink',\n",
    "                  'navy',       'lightgreen',   'indianred',    'khaki',        'rebeccapurple',\n",
    "                  'slategray',  'forestgreen',  'orangered',    'wheat',        'orchid']\n",
    "    markers    = ['o',          'v',            '<',            's',            'p',\n",
    "                  'h',          '*',            'X',            'x',            '^',\n",
    "                  '>',          'P',            'D',            'H',            'd',\n",
    "                  '|',          '-',            '4'             '5',            '6',\n",
    "                  '7',          '8',            '9 ',           '10',           '+']\n",
    "\n",
    "    if color_idx < 0:\n",
    "        color_idx = style_idx\n",
    "\n",
    "    if isinstance(xs, list):\n",
    "        xs = np.array(xs)\n",
    "    if isinstance(ys, list):\n",
    "        ys = np.array(ys)\n",
    "\n",
    "    if (marker_num == 0):\n",
    "        selected_markevery = None\n",
    "        selected_marker = None\n",
    "    elif not isinstance(xs, np.ndarray):\n",
    "        selected_markevery = None\n",
    "        selected_marker = markers[style_idx]\n",
    "    elif (marker_num > 0):\n",
    "        markeverys = []\n",
    "        if xs[0] > xs[-1]:\n",
    "            first_idx = -1\n",
    "        else:\n",
    "            first_idx = 0\n",
    "        x_step = (xs.max() - xs.min()) / marker_num\n",
    "        for idx in range(len(markers)):\n",
    "            x_start = xs.min() + ((x_step / (len(markers) + 1)) * idx)\n",
    "            marker_list = []\n",
    "            for j in range(marker_num):\n",
    "                tmp_array = np.where(xs > (x_start + (x_step * j)))\n",
    "                if (len(tmp_array[0]) > 0):\n",
    "                    marker_list.append(tmp_array[0][first_idx])\n",
    "            markeverys.append(marker_list)\n",
    "\n",
    "        selected_markevery = markeverys[style_idx]\n",
    "        selected_marker = markers[style_idx]\n",
    "    else:\n",
    "        selected_markevery = None\n",
    "        selected_marker = markers[style_idx]\n",
    "\n",
    "    if (scatter):\n",
    "        plt.scatter(xs, ys, color=colors[color_idx], marker=selected_marker, s=scatter_s, label=label)\n",
    "    else:\n",
    "        plt.plot(xs, ys, ls=linestyle[style_idx], color=colors[color_idx], marker=selected_marker, markevery=selected_markevery, label=label)\n",
    "    if (label != None):\n",
    "        plt.legend(bbox_to_anchor=(1.05, 1), loc='upper left', borderaxespad=0.)\n",
    "\n",
    "def set_plot_size(xrate, yrate):\n",
    "    if (len(set_plot_size.g_plt_figsize) == 0):\n",
    "        set_plot_size.g_plt_figsize = plt.rcParams[\"figure.figsize\"]\n",
    "    size = []\n",
    "    size.append(set_plot_size.g_plt_figsize[0] * xrate)\n",
    "    size.append(set_plot_size.g_plt_figsize[1] * yrate)\n",
    "    plt.figure(figsize=size)\n",
    "\n",
    "set_plot_size.g_plt_figsize = []\n",
    "\n",
    "\n",
    "def calculate_square_wave_frequency(times, vins):\n",
    "    # 전압 값의 중간값을 임계값으로 설정\n",
    "    threshold = (np.max(vins) + np.min(vins)) / 2\n",
    "\n",
    "    # 상승 에지 감지\n",
    "    rising_edges = np.where((vins[:-1] < threshold) & (vins[1:] >= threshold))[0]\n",
    "\n",
    "    if len(rising_edges) < 2:\n",
    "        return None  # 주기를 계산할 수 없음\n",
    "\n",
    "    # 주기 계산 (연속된 상승 에지 사이의 평균 시간)\n",
    "    periods = times[rising_edges[1:]] - times[rising_edges[:-1]]\n",
    "    average_period = np.mean(periods)\n",
    "\n",
    "    # 주파수 계산 (주기의 역수)\n",
    "    frequency = 1 / average_period\n",
    "\n",
    "    return frequency\n",
    "\n",
    "def display_image(file_path, width=None, height=None):\n",
    "    if os.path.exists(file_path):\n",
    "        display(Image(file_path, width=width, height=height))\n",
    "    else:\n",
    "        print(\"{} doesn't exist.\".format(file_path))\n",
    "\n",
    "def find_first_peak_index(xs, ys, margine=10):\n",
    "    xs_len = len(xs)\n",
    "    old_grad = None\n",
    "    pi = -1\n",
    "    m = margine\n",
    "    for i in range(xs_len - 1):\n",
    "        grad = (ys[i+1] - ys[i]) / (xs[i+1] - xs[i])\n",
    "        if grad > 0:\n",
    "            pi = i\n",
    "            m -= 1\n",
    "            if m == 0:\n",
    "                old_grad = grad\n",
    "                break\n",
    "        else:\n",
    "            m = margine\n",
    "    if old_grad != None:\n",
    "        m = margine\n",
    "        for i in range(pi, xs_len - 1):\n",
    "            grad = (ys[i+1] - ys[i]) / (xs[i+1] - xs[i])\n",
    "            if grad < 0:\n",
    "                pi = i\n",
    "                m -= 1\n",
    "                if m == 0:\n",
    "                    pi -= margine\n",
    "                    break\n",
    "            else:\n",
    "                m = margine\n",
    "    return pi\n"
   ]
  },
  {
   "cell_type": "markdown",
   "metadata": {},
   "source": [
    "*******************************************************************************\n",
    "## 실험01 $\\beta$값의 측정\n",
    "\n",
    "\n"
   ]
  },
  {
   "cell_type": "markdown",
   "metadata": {},
   "source": [
    "### 실험01-01 $\\beta$ 측정"
   ]
  },
  {
   "cell_type": "markdown",
   "metadata": {},
   "source": [
    "#### 실험 방법\n",
    "\n",
    "* 멀티미터 DM332의 $\\beta$ (hFE) 측정기능을 사용해 NPN형 트랜지스터인 2N2222의 $\\beta$ 값을 측정한다."
   ]
  },
  {
   "cell_type": "code",
   "execution_count": null,
   "metadata": {},
   "outputs": [],
   "source": [
    "display_image(\"./images/ch07_ep01_01_tr_01.png\", width=100)\n",
    "display_image(\"./images/ch07_ep01_01_dmm_01.png\", width=400)"
   ]
  },
  {
   "cell_type": "markdown",
   "metadata": {},
   "source": [
    "#### 실험 결과"
   ]
  },
  {
   "cell_type": "markdown",
   "metadata": {},
   "source": [
    "$\\beta$ 값: ?? 216"
   ]
  },
  {
   "cell_type": "markdown",
   "metadata": {},
   "source": [
    "*******************************************************************************\n",
    "## 실험02 비선형 전달특성을 가지는 증폭기"
   ]
  },
  {
   "cell_type": "markdown",
   "metadata": {},
   "source": [
    "### 실험02-01 회로의 구성"
   ]
  },
  {
   "cell_type": "markdown",
   "metadata": {},
   "source": [
    "#### 실험 방법\n",
    "\n",
    "* 트랜지스터: 2N2222"
   ]
  },
  {
   "cell_type": "code",
   "execution_count": null,
   "metadata": {},
   "outputs": [],
   "source": [
    "display_image(\"./images/ch07_ep01_02_circuit.png\", width=300)"
   ]
  },
  {
   "cell_type": "markdown",
   "metadata": {},
   "source": [
    "#### 실험 결과"
   ]
  },
  {
   "cell_type": "markdown",
   "metadata": {},
   "source": [
    "##### 제작한 회로"
   ]
  },
  {
   "cell_type": "code",
   "execution_count": null,
   "metadata": {},
   "outputs": [],
   "source": [
    "display_image(\"./data/ch07_ep01_02_result_circuit.jpg\", width=1000)"
   ]
  },
  {
   "cell_type": "markdown",
   "metadata": {},
   "source": [
    "### 실험02-02 파형발생기로 실험"
   ]
  },
  {
   "cell_type": "markdown",
   "metadata": {},
   "source": [
    "#### 실험 방법\n",
    "\n",
    "* Vi: \n",
    "    + 정현파, 주파수 1 kHz, 크기 2 Vpp\n",
    "    + 정현파, 주파수 50 Hz, 크기 7 Vpp"
   ]
  },
  {
   "cell_type": "markdown",
   "metadata": {},
   "source": [
    "#### 실험 결과"
   ]
  },
  {
   "cell_type": "markdown",
   "metadata": {},
   "source": [
    "##### 오실로스코프 화면"
   ]
  },
  {
   "cell_type": "code",
   "execution_count": null,
   "metadata": {},
   "outputs": [],
   "source": [
    "display_image(\"./data/ch07_ep02_02_result_1khz_2vpp.png\", width=600)\n",
    "display_image(\"./data/ch07_ep02_02_result_50hz_7vpp.png\", width=600)\n",
    "display_image(\"./data/ch07_ep02_02_result_50hz_7vpp_xy.png\", width=600)"
   ]
  },
  {
   "cell_type": "markdown",
   "metadata": {},
   "source": [
    "#### 결과 분석"
   ]
  },
  {
   "cell_type": "code",
   "execution_count": null,
   "metadata": {},
   "outputs": [],
   "source": [
    "# 실험 결과 파일을 읽는다.\n",
    "data = get_oscilloscpoe_result_tektronix('./data/ch07_ep02_02_result_1khz_2vpp.csv')\n",
    "\n",
    "# 실험 결과에서 시간, 입력 전압, 출력 전압을 가져온다.\n",
    "times = data['TIME']\n",
    "vins = data['Sample CH1']\n",
    "vouts = data['Sample CH2']\n",
    "\n",
    "# 필터를 적용해 잡음을 줄인다.\n",
    "vins = savgol_filter(vins, 100, 2)\n",
    "vouts = savgol_filter(vouts, 100, 2)\n",
    "\n",
    "vout_dc = np.mean(vouts)\n",
    "vouts = vouts - vout_dc\n",
    "\n",
    "# 시간을 x축, 전압들을 y축으로 하는 그래프를 그린다.\n",
    "plt.xlabel('TIME_s')\n",
    "plt.ylabel('V_V')\n",
    "plt.axhline(0, color='black')\n",
    "plt.axvline(0, color='black')\n",
    "draw_plot(times, vins, 'V(IN)', 0)\n",
    "draw_plot(times, vouts, 'V(OUT)', 1)\n",
    "plt.ylim(-2, 2)\n",
    "plt.show()\n"
   ]
  },
  {
   "cell_type": "code",
   "execution_count": null,
   "metadata": {},
   "outputs": [],
   "source": [
    "data = get_oscilloscpoe_result_tektronix('./data/ch07_ep02_02_result_50hz_7vpp.csv')\n",
    "\n",
    "# 실험 결과에서 시간, 입력 전압, 출력 전압을 가져온다.\n",
    "times = data['TIME']\n",
    "vins = data['Sample CH1']\n",
    "vouts = data['Sample CH2']\n",
    "\n",
    "# 필터를 적용해 잡음을 줄인다.\n",
    "vins = savgol_filter(vins, 100, 2)\n",
    "vouts = savgol_filter(vouts, 100, 2)\n",
    "\n",
    "vout_dc = np.mean(vouts)\n",
    "vouts = vouts - vout_dc\n",
    "\n",
    "# 시간을 x축, 전압들을 y축으로 하는 그래프를 그린다.\n",
    "plt.xlabel('TIME_s')\n",
    "plt.ylabel('V_V')\n",
    "plt.axhline(0, color='black')\n",
    "plt.axvline(0, color='black')\n",
    "draw_plot(times, vins, 'V(IN)', 0)\n",
    "draw_plot(times, vouts, 'V(OUT)', 1)\n",
    "plt.ylim(-11, 11)\n",
    "plt.show()\n",
    "\n",
    "# 입력 전압을 x축, 출력 전압을 y축으로 하는 그래프를 그린다.\n",
    "plt.xlabel('V_IN_V')\n",
    "plt.ylabel('V_OUT_V')\n",
    "plt.axhline(0, color='black')\n",
    "plt.axvline(0, color='black')\n",
    "draw_plot(vins[10:-10], vouts[10:-10], \"XY\", 0)\n",
    "plt.show()\n"
   ]
  },
  {
   "cell_type": "markdown",
   "metadata": {},
   "source": [
    "*******************************************************************************\n",
    "## 실험03 CE증폭기회로1의 동작점"
   ]
  },
  {
   "cell_type": "markdown",
   "metadata": {},
   "source": [
    "### 실험03-01 회로의 구성"
   ]
  },
  {
   "cell_type": "markdown",
   "metadata": {},
   "source": [
    "#### 실험 방법\n",
    "\n",
    "* 트랜지스터: 2N2222"
   ]
  },
  {
   "cell_type": "code",
   "execution_count": null,
   "metadata": {},
   "outputs": [],
   "source": [
    "display_image(\"./images/ch07_ep03_01_circuit.png\", width=300)"
   ]
  },
  {
   "cell_type": "markdown",
   "metadata": {},
   "source": [
    "#### 실험 결과"
   ]
  },
  {
   "cell_type": "markdown",
   "metadata": {},
   "source": [
    "##### 제작한 회로"
   ]
  },
  {
   "cell_type": "code",
   "execution_count": null,
   "metadata": {},
   "outputs": [],
   "source": [
    "display_image(\"./data/ch07_ep03_01_result_circuit.jpg\", width=1000)"
   ]
  },
  {
   "cell_type": "markdown",
   "metadata": {},
   "source": [
    "### 실험03-02 동작점 측정"
   ]
  },
  {
   "cell_type": "markdown",
   "metadata": {},
   "source": [
    "#### 실험 방법\n",
    "\n",
    "* V_I, V_O 를 연결하지 않은 상태에서 V_C, V_E를 측정한 후 그 값으로 V_CE와 I_C를 계산한다."
   ]
  },
  {
   "cell_type": "markdown",
   "metadata": {},
   "source": [
    "#### 실험 결과"
   ]
  },
  {
   "cell_type": "markdown",
   "metadata": {},
   "source": [
    "#### 결과 분석"
   ]
  },
  {
   "cell_type": "code",
   "execution_count": null,
   "metadata": {},
   "outputs": [],
   "source": [
    "# R1 100 kOhm\n",
    "# R2 22 kOhm\n",
    "\n",
    "V_CC_V = 15.0\n",
    "R_C_Ohm = 3000.0\n",
    "\n",
    "V_C_V = ??\n",
    "V_E_V = ??\n",
    "\n",
    "V_CE_V = V_C_V - V_E_V\n",
    "I_C_mA = (V_CC_V - V_C_V) / R_C_Ohm * 1000\n",
    "\n",
    "print_value('I_C_mA', I_C_mA)\n",
    "print_value('V_CE_V', V_CE_V)"
   ]
  },
  {
   "cell_type": "markdown",
   "metadata": {},
   "source": [
    "*******************************************************************************\n",
    "## 실험04 CE증폭기회로1의 동작점의 민감도 실험"
   ]
  },
  {
   "cell_type": "markdown",
   "metadata": {},
   "source": [
    "### 실험04-01 동작점 이동 관측"
   ]
  },
  {
   "cell_type": "markdown",
   "metadata": {},
   "source": [
    "#### 실험 방법\n",
    "\n",
    "* R1에 100 kOhm 대신 68 kOhm을 연결한 다음 동작점 측정\n",
    "* R2에 22 kOhm 대신 15 kOhm을 연결한 다음 동작점 측정"
   ]
  },
  {
   "cell_type": "markdown",
   "metadata": {},
   "source": [
    "#### 실험 결과"
   ]
  },
  {
   "cell_type": "markdown",
   "metadata": {},
   "source": [
    "#### 결과 분석"
   ]
  },
  {
   "cell_type": "code",
   "execution_count": null,
   "metadata": {},
   "outputs": [],
   "source": [
    "# R1 68 kOhm\n",
    "# R2 22 kOhm\n",
    "\n",
    "V_CC_V = 15.0\n",
    "R_C_Ohm = 3000.0\n",
    "\n",
    "V_C_V = ??\n",
    "V_E_V = ??\n",
    "\n",
    "V_CE_V = V_C_V - V_E_V\n",
    "I_C_mA = (V_CC_V - V_C_V) / R_C_Ohm * 1000\n",
    "\n",
    "print_value('I_C_mA', I_C_mA)\n",
    "print_value('V_CE_V', V_CE_V)"
   ]
  },
  {
   "cell_type": "code",
   "execution_count": null,
   "metadata": {},
   "outputs": [],
   "source": [
    "# R1 100 kOhm\n",
    "# R2 15 kOhm\n",
    "\n",
    "V_CC_V = 15.0\n",
    "R_C_Ohm = 3000.0\n",
    "\n",
    "V_C_V = ??\n",
    "V_E_V = ??\n",
    "\n",
    "V_CE_V = V_C_V - V_E_V\n",
    "I_C_mA = (V_CC_V - V_C_V) / R_C_Ohm * 1000\n",
    "\n",
    "print_value('I_C_mA', I_C_mA)\n",
    "print_value('V_CE_V', V_CE_V)"
   ]
  },
  {
   "cell_type": "markdown",
   "metadata": {},
   "source": [
    "*******************************************************************************\n",
    "## 실험05 CE증폭기회로1의 증폭실험"
   ]
  },
  {
   "cell_type": "markdown",
   "metadata": {},
   "source": [
    "### 실험05-01 입출력 측정"
   ]
  },
  {
   "cell_type": "markdown",
   "metadata": {},
   "source": [
    "#### 실험 방법\n",
    "\n",
    "* Vi: \n",
    "    + 정현파, 주파수 1 kHz, 크기 2 Vpp\n",
    "    + 출력을 측정하는 오실로스코프 CH2의 커플링을 AC모드로 변환"
   ]
  },
  {
   "cell_type": "markdown",
   "metadata": {},
   "source": [
    "#### 실험 결과"
   ]
  },
  {
   "cell_type": "markdown",
   "metadata": {},
   "source": [
    "##### 오실로스코프 화면"
   ]
  },
  {
   "cell_type": "code",
   "execution_count": null,
   "metadata": {},
   "outputs": [],
   "source": [
    "display_image(\"./data/ch07_ep05_02_result_1khz_2vpp.png\", width=600)"
   ]
  },
  {
   "cell_type": "markdown",
   "metadata": {},
   "source": [
    "#### 결과 분석"
   ]
  },
  {
   "cell_type": "code",
   "execution_count": null,
   "metadata": {},
   "outputs": [],
   "source": [
    "# 실험 결과 파일을 읽는다.\n",
    "data = get_oscilloscpoe_result_tektronix('./data/ch07_ep05_02_result_1khz_2vpp.csv')\n",
    "\n",
    "# 실험 결과에서 시간, 입력 전압, 출력 전압을 가져온다.\n",
    "times = data['TIME']\n",
    "vins = data['Sample CH1']\n",
    "vouts = data['Sample CH2']\n",
    "\n",
    "# 필터를 적용해 잡음을 줄인다.\n",
    "vins = savgol_filter(vins, 100, 2)\n",
    "vouts = savgol_filter(vouts, 100, 2)\n",
    "\n",
    "# vout과 동일한 주파수의 싸인파 곡선을 추가한다.\n",
    "frequency = 1000\n",
    "amplitude = (np.max(vouts) - np.min(vouts)) / 2\n",
    "sine_wave = -np.sin(2 * np.pi * frequency * times) * amplitude\n",
    "\n",
    "# 시간을 x축, 전압들을 y축으로 하는 그래프를 그린다.\n",
    "plt.xlabel('TIME_s')\n",
    "plt.ylabel('V_V')\n",
    "plt.axhline(0, color='black')\n",
    "plt.axvline(0, color='black')\n",
    "draw_plot(times, sine_wave, 'Sine Wave', 2)\n",
    "draw_plot(times, vins, 'V(IN)', 0)\n",
    "draw_plot(times, vouts, 'V(OUT)', 1)\n",
    "plt.xlim(0.000, 0.001)\n",
    "plt.show()\n",
    "\n",
    "# Calculate the difference between the sine wave and vout\n",
    "difference = np.abs(sine_wave - vouts)\n",
    "# Calculate the mean difference\n",
    "mean_difference_mV = np.mean(difference) * 1000\n",
    "print_value('mean_difference_mV', mean_difference_mV)\n",
    "\n",
    "print()\n",
    "V_I_pp_V = vins.max() - vins.min()\n",
    "V_O_pp_V = vouts.max() - vouts.min()\n",
    "A_V_measured = - V_O_pp_V / V_I_pp_V\n",
    "print_value(\"V_I_pp_V\", V_I_pp_V)\n",
    "print_value(\"V_O_pp_V\", V_O_pp_V)\n",
    "print_value(\"A_V_measured\", A_V_measured)\n",
    "\n",
    "print()\n",
    "R_E_Ohm = 1000\n",
    "R_C_Ohm = 3000\n",
    "A_V_theoretical = - R_C_Ohm / R_E_Ohm\n",
    "print_value(\"A_V_theoretical\", A_V_theoretical)"
   ]
  },
  {
   "cell_type": "markdown",
   "metadata": {},
   "source": [
    "### 실험04-02 왜곡 관측"
   ]
  },
  {
   "cell_type": "markdown",
   "metadata": {},
   "source": [
    "#### 실험 방법\n",
    "\n",
    "* Vi의 크기를 변경해 왜곡이 나타나지 않는 시작 전압을 관측한다.\n",
    "    + 값은 소수점 한자리 단위로 변경"
   ]
  },
  {
   "cell_type": "markdown",
   "metadata": {},
   "source": [
    "#### 실험 결과"
   ]
  },
  {
   "cell_type": "markdown",
   "metadata": {},
   "source": [
    "##### 오실로스코프 화면"
   ]
  },
  {
   "cell_type": "code",
   "execution_count": null,
   "metadata": {},
   "outputs": [],
   "source": [
    "display_image(\"./data/ch07_ep05_02_result_1khz_4vpp.png\", width=600)\n",
    "display_image(\"./data/ch07_ep05_02_result_1khz_3_9vpp.png\", width=600)\n",
    "display_image(\"./data/ch07_ep05_02_result_1khz_3_8vpp.png\", width=600)"
   ]
  },
  {
   "cell_type": "markdown",
   "metadata": {},
   "source": [
    "#### 결과 분석"
   ]
  },
  {
   "cell_type": "code",
   "execution_count": null,
   "metadata": {},
   "outputs": [],
   "source": [
    "# 실험 결과 파일을 읽는다.\n",
    "data = get_oscilloscpoe_result_tektronix('./data/ch07_ep05_02_result_1khz_4vpp.csv')\n",
    "\n",
    "# 실험 결과에서 시간, 입력 전압, 출력 전압을 가져온다.\n",
    "times = data['TIME']\n",
    "vins = data['Sample CH1']\n",
    "vouts = data['Sample CH2']\n",
    "\n",
    "# 필터를 적용해 잡음을 줄인다.\n",
    "vins = savgol_filter(vins, 100, 2)\n",
    "vouts = savgol_filter(vouts, 100, 2)\n",
    "\n",
    "# vout과 동일한 주파수의 싸인파 곡선을 추가한다.\n",
    "frequency = 1000\n",
    "amplitude = (np.max(vouts) - np.min(vouts)) / 2\n",
    "sine_wave = -np.sin(2 * np.pi * frequency * times) * amplitude\n",
    "\n",
    "# 시간을 x축, 전압들을 y축으로 하는 그래프를 그린다.\n",
    "plt.xlabel('TIME_s')\n",
    "plt.ylabel('V_V')\n",
    "plt.axhline(0, color='black')\n",
    "plt.axvline(0, color='black')\n",
    "draw_plot(times, sine_wave, 'Sine Wave', 2)\n",
    "draw_plot(times, vins, 'V(IN)', 0)\n",
    "draw_plot(times, vouts, 'V(OUT)', 1)\n",
    "plt.xlim(0.000, 0.001)\n",
    "plt.show()\n",
    "\n",
    "# Calculate the difference between the sine wave and vout\n",
    "difference = np.abs(sine_wave - vouts)\n",
    "# Calculate the mean difference\n",
    "mean_difference_mV = np.mean(difference) * 1000\n",
    "print_value('mean_difference_mV', mean_difference_mV)"
   ]
  },
  {
   "cell_type": "code",
   "execution_count": null,
   "metadata": {},
   "outputs": [],
   "source": [
    "# 실험 결과 파일을 읽는다.\n",
    "data = get_oscilloscpoe_result_tektronix('./data/ch07_ep05_02_result_1khz_3_9vpp.csv')\n",
    "\n",
    "# 실험 결과에서 시간, 입력 전압, 출력 전압을 가져온다.\n",
    "times = data['TIME']\n",
    "vins = data['Sample CH1']\n",
    "vouts = data['Sample CH2']\n",
    "\n",
    "# 필터를 적용해 잡음을 줄인다.\n",
    "vins = savgol_filter(vins, 100, 2)\n",
    "vouts = savgol_filter(vouts, 100, 2)\n",
    "\n",
    "# vout과 동일한 주파수의 싸인파 곡선을 추가한다.\n",
    "frequency = 1000\n",
    "amplitude = (np.max(vouts) - np.min(vouts)) / 2\n",
    "sine_wave = -np.sin(2 * np.pi * frequency * times) * amplitude\n",
    "\n",
    "# 시간을 x축, 전압들을 y축으로 하는 그래프를 그린다.\n",
    "plt.xlabel('TIME_s')\n",
    "plt.ylabel('V_V')\n",
    "plt.axhline(0, color='black')\n",
    "plt.axvline(0, color='black')\n",
    "draw_plot(times, sine_wave, 'Sine Wave', 2)\n",
    "draw_plot(times, vins, 'V(IN)', 0)\n",
    "draw_plot(times, vouts, 'V(OUT)', 1)\n",
    "plt.xlim(0.000, 0.001)\n",
    "plt.show()\n",
    "\n",
    "# Calculate the difference between the sine wave and vout\n",
    "difference = np.abs(sine_wave - vouts)\n",
    "# Calculate the mean difference\n",
    "mean_difference_mV = np.mean(difference) * 1000\n",
    "print_value('mean_difference_mV', mean_difference_mV)"
   ]
  },
  {
   "cell_type": "code",
   "execution_count": null,
   "metadata": {},
   "outputs": [],
   "source": [
    "# 실험 결과 파일을 읽는다.\n",
    "data = get_oscilloscpoe_result_tektronix('./data/ch07_ep05_02_result_1khz_3_8vpp.csv')\n",
    "\n",
    "# 실험 결과에서 시간, 입력 전압, 출력 전압을 가져온다.\n",
    "times = data['TIME']\n",
    "vins = data['Sample CH1']\n",
    "vouts = data['Sample CH2']\n",
    "\n",
    "# 필터를 적용해 잡음을 줄인다.\n",
    "vins = savgol_filter(vins, 100, 2)\n",
    "vouts = savgol_filter(vouts, 100, 2)\n",
    "\n",
    "# vout과 동일한 주파수의 싸인파 곡선을 추가한다.\n",
    "frequency = 1000\n",
    "amplitude = (np.max(vouts) - np.min(vouts)) / 2\n",
    "sine_wave = -np.sin(2 * np.pi * frequency * times) * amplitude\n",
    "\n",
    "# 시간을 x축, 전압들을 y축으로 하는 그래프를 그린다.\n",
    "plt.xlabel('TIME_s')\n",
    "plt.ylabel('V_V')\n",
    "plt.axhline(0, color='black')\n",
    "plt.axvline(0, color='black')\n",
    "draw_plot(times, sine_wave, 'Sine Wave', 2)\n",
    "draw_plot(times, vins, 'V(IN)', 0)\n",
    "draw_plot(times, vouts, 'V(OUT)', 1)\n",
    "plt.xlim(0.000, 0.001)\n",
    "plt.show()\n",
    "\n",
    "# Calculate the difference between the sine wave and vout\n",
    "difference = np.abs(sine_wave - vouts)\n",
    "# Calculate the mean difference\n",
    "mean_difference_mV = np.mean(difference) * 1000\n",
    "print_value('mean_difference_mV', mean_difference_mV)"
   ]
  },
  {
   "cell_type": "markdown",
   "metadata": {},
   "source": [
    "* 고찰:\n",
    "    + ?? V 부터 왜곡이 나타니자 않음\n",
    "    + 이상적 파형과의 차이 평균 (mean_difference_mV) 값이 대략 ?? mV 일때를 기준으로 판단했음"
   ]
  },
  {
   "cell_type": "markdown",
   "metadata": {},
   "source": [
    "*******************************************************************************\n",
    "## 실험06 CE증폭기회로1의 교류증폭의 민감도 실험"
   ]
  },
  {
   "cell_type": "markdown",
   "metadata": {},
   "source": [
    "### 실험06-01 동작점 이동에 따른 왜곡 관측 (R1 변경)"
   ]
  },
  {
   "cell_type": "markdown",
   "metadata": {},
   "source": [
    "#### 실험 방법\n",
    "\n",
    "* R1에 100 kOhm 대신 68 kOhm을 연결한다.\n",
    "* Vi의 크기를 변경해 왜곡이 나타나지 않는 시작 전압을 관측한다.\n",
    "    + 값은 소수점 한자리 단위로 변경"
   ]
  },
  {
   "cell_type": "markdown",
   "metadata": {},
   "source": [
    "#### 실험 결과"
   ]
  },
  {
   "cell_type": "markdown",
   "metadata": {},
   "source": [
    "##### 오실로스코프 화면"
   ]
  },
  {
   "cell_type": "code",
   "execution_count": null,
   "metadata": {},
   "outputs": [],
   "source": [
    "display_image(\"./data/ch07_ep05_02_result_r1_68kohm_1khz_3_9vpp.png\", width=600)\n",
    "display_image(\"./data/ch07_ep05_02_result_r1_68kohm_1khz_2_2vpp.png\", width=600)\n",
    "display_image(\"./data/ch07_ep05_02_result_r1_68kohm_1khz_2_1vpp.png\", width=600)"
   ]
  },
  {
   "cell_type": "markdown",
   "metadata": {},
   "source": [
    "#### 결과 분석"
   ]
  },
  {
   "cell_type": "code",
   "execution_count": null,
   "metadata": {},
   "outputs": [],
   "source": [
    "# 실험 결과 파일을 읽는다.\n",
    "data = get_oscilloscpoe_result_tektronix('./data/ch07_ep05_02_result_r1_68kohm_1khz_3_9vpp.csv')\n",
    "\n",
    "# 실험 결과에서 시간, 입력 전압, 출력 전압을 가져온다.\n",
    "times = data['TIME']\n",
    "vins = data['Sample CH1']\n",
    "vouts = data['Sample CH2']\n",
    "\n",
    "# 필터를 적용해 잡음을 줄인다.\n",
    "vins = savgol_filter(vins, 100, 2)\n",
    "vouts = savgol_filter(vouts, 100, 2)\n",
    "\n",
    "# vout과 동일한 주파수의 싸인파 곡선을 추가한다.\n",
    "frequency = 1000\n",
    "amplitude = (np.max(vouts) - np.min(vouts)) / 2\n",
    "sine_wave = -np.sin(2 * np.pi * frequency * times) * amplitude\n",
    "\n",
    "# 시간을 x축, 전압들을 y축으로 하는 그래프를 그린다.\n",
    "plt.xlabel('TIME_s')\n",
    "plt.ylabel('V_V')\n",
    "plt.axhline(0, color='black')\n",
    "plt.axvline(0, color='black')\n",
    "draw_plot(times, sine_wave, 'Sine Wave', 2)\n",
    "draw_plot(times, vins, 'V(IN)', 0)\n",
    "draw_plot(times, vouts, 'V(OUT)', 1)\n",
    "plt.xlim(0.000, 0.001)\n",
    "plt.show()\n",
    "\n",
    "# Calculate the difference between the sine wave and vout\n",
    "difference = np.abs(sine_wave - vouts)\n",
    "# Calculate the mean difference\n",
    "mean_difference_mV = np.mean(difference) * 1000\n",
    "print_value('mean_difference_mV', mean_difference_mV)"
   ]
  },
  {
   "cell_type": "code",
   "execution_count": null,
   "metadata": {},
   "outputs": [],
   "source": [
    "# 실험 결과 파일을 읽는다.\n",
    "data = get_oscilloscpoe_result_tektronix('./data/ch07_ep05_02_result_r1_68kohm_1khz_2_2vpp.csv')\n",
    "\n",
    "# 실험 결과에서 시간, 입력 전압, 출력 전압을 가져온다.\n",
    "times = data['TIME']\n",
    "vins = data['Sample CH1']\n",
    "vouts = data['Sample CH2']\n",
    "\n",
    "# 필터를 적용해 잡음을 줄인다.\n",
    "vins = savgol_filter(vins, 100, 2)\n",
    "vouts = savgol_filter(vouts, 100, 2)\n",
    "\n",
    "# vout과 동일한 주파수의 싸인파 곡선을 추가한다.\n",
    "frequency = 1000\n",
    "amplitude = (np.max(vouts) - np.min(vouts)) / 2\n",
    "sine_wave = -np.sin(2 * np.pi * frequency * times) * amplitude\n",
    "\n",
    "# 시간을 x축, 전압들을 y축으로 하는 그래프를 그린다.\n",
    "plt.xlabel('TIME_s')\n",
    "plt.ylabel('V_V')\n",
    "plt.axhline(0, color='black')\n",
    "plt.axvline(0, color='black')\n",
    "draw_plot(times, sine_wave, 'Sine Wave', 2)\n",
    "draw_plot(times, vins, 'V(IN)', 0)\n",
    "draw_plot(times, vouts, 'V(OUT)', 1)\n",
    "plt.xlim(0.000, 0.001)\n",
    "plt.show()\n",
    "\n",
    "# Calculate the difference between the sine wave and vout\n",
    "difference = np.abs(sine_wave - vouts)\n",
    "# Calculate the mean difference\n",
    "mean_difference_mV = np.mean(difference) * 1000\n",
    "print_value('mean_difference_mV', mean_difference_mV)"
   ]
  },
  {
   "cell_type": "code",
   "execution_count": null,
   "metadata": {},
   "outputs": [],
   "source": [
    "# 실험 결과 파일을 읽는다.\n",
    "data = get_oscilloscpoe_result_tektronix('./data/ch07_ep05_02_result_r1_68kohm_1khz_2_1vpp.csv')\n",
    "\n",
    "# 실험 결과에서 시간, 입력 전압, 출력 전압을 가져온다.\n",
    "times = data['TIME']\n",
    "vins = data['Sample CH1']\n",
    "vouts = data['Sample CH2']\n",
    "\n",
    "# 필터를 적용해 잡음을 줄인다.\n",
    "vins = savgol_filter(vins, 100, 2)\n",
    "vouts = savgol_filter(vouts, 100, 2)\n",
    "\n",
    "# vout과 동일한 주파수의 싸인파 곡선을 추가한다.\n",
    "frequency = 1000\n",
    "amplitude = (np.max(vouts) - np.min(vouts)) / 2\n",
    "sine_wave = -np.sin(2 * np.pi * frequency * times) * amplitude\n",
    "\n",
    "# 시간을 x축, 전압들을 y축으로 하는 그래프를 그린다.\n",
    "plt.xlabel('TIME_s')\n",
    "plt.ylabel('V_V')\n",
    "plt.axhline(0, color='black')\n",
    "plt.axvline(0, color='black')\n",
    "draw_plot(times, sine_wave, 'Sine Wave', 2)\n",
    "draw_plot(times, vins, 'V(IN)', 0)\n",
    "draw_plot(times, vouts, 'V(OUT)', 1)\n",
    "plt.xlim(0.000, 0.001)\n",
    "plt.show()\n",
    "\n",
    "# Calculate the difference between the sine wave and vout\n",
    "difference = np.abs(sine_wave - vouts)\n",
    "# Calculate the mean difference\n",
    "mean_difference_mV = np.mean(difference) * 1000\n",
    "print_value('mean_difference_mV', mean_difference_mV)"
   ]
  },
  {
   "cell_type": "markdown",
   "metadata": {},
   "source": [
    "* 고찰:\n",
    "    + ?? V 부터 왜곡이 나타니자 않음\n",
    "    + 이상적 파형과의 차이 평균 (mean_difference_mV) 값이 대략 ?? mV 일때를 기준으로 판단했음"
   ]
  },
  {
   "cell_type": "markdown",
   "metadata": {},
   "source": [
    "### 실험06-02 동작점 이동에 따른 왜곡 관측 (R2 변경)"
   ]
  },
  {
   "cell_type": "markdown",
   "metadata": {},
   "source": [
    "#### 실험 방법\n",
    "\n",
    "* R2에 22 kOhm 대신 15 kOhm을 연결한다.\n",
    "* Vi의 크기를 변경해 왜곡이 나타나지 않는 시작 전압을 관측한다.\n",
    "    + 값은 소수점 한자리 단위로 변경"
   ]
  },
  {
   "cell_type": "markdown",
   "metadata": {},
   "source": [
    "#### 실험 결과"
   ]
  },
  {
   "cell_type": "markdown",
   "metadata": {},
   "source": [
    "##### 오실로스코프 화면"
   ]
  },
  {
   "cell_type": "code",
   "execution_count": null,
   "metadata": {},
   "outputs": [],
   "source": [
    "display_image(\"./data/ch07_ep05_02_result_r2_15kohm_1khz_3_9vpp.png\", width=600)\n",
    "display_image(\"./data/ch07_ep05_02_result_r2_15kohm_1khz_2_7vpp.png\", width=600)\n",
    "display_image(\"./data/ch07_ep05_02_result_r2_15kohm_1khz_2_6vpp.png\", width=600)"
   ]
  },
  {
   "cell_type": "markdown",
   "metadata": {},
   "source": [
    "#### 결과 분석"
   ]
  },
  {
   "cell_type": "code",
   "execution_count": null,
   "metadata": {},
   "outputs": [],
   "source": [
    "# 실험 결과 파일을 읽는다.\n",
    "data = get_oscilloscpoe_result_tektronix('./data/ch07_ep05_02_result_r2_15kohm_1khz_3_9vpp.csv')\n",
    "\n",
    "# 실험 결과에서 시간, 입력 전압, 출력 전압을 가져온다.\n",
    "times = data['TIME']\n",
    "vins = data['Sample CH1']\n",
    "vouts = data['Sample CH2']\n",
    "\n",
    "# 필터를 적용해 잡음을 줄인다.\n",
    "vins = savgol_filter(vins, 100, 2)\n",
    "vouts = savgol_filter(vouts, 100, 2)\n",
    "\n",
    "# vout과 동일한 주파수의 싸인파 곡선을 추가한다.\n",
    "frequency = 1000\n",
    "amplitude = (np.max(vouts) - np.min(vouts)) / 2\n",
    "sine_wave = -np.sin(2 * np.pi * frequency * times) * amplitude\n",
    "\n",
    "# 시간을 x축, 전압들을 y축으로 하는 그래프를 그린다.\n",
    "plt.xlabel('TIME_s')\n",
    "plt.ylabel('V_V')\n",
    "plt.axhline(0, color='black')\n",
    "plt.axvline(0, color='black')\n",
    "draw_plot(times, sine_wave, 'Sine Wave', 2)\n",
    "draw_plot(times, vins, 'V(IN)', 0)\n",
    "draw_plot(times, vouts, 'V(OUT)', 1)\n",
    "plt.xlim(0.000, 0.001)\n",
    "plt.show()\n",
    "\n",
    "# Calculate the difference between the sine wave and vout\n",
    "difference = np.abs(sine_wave - vouts)\n",
    "# Calculate the mean difference\n",
    "mean_difference_mV = np.mean(difference) * 1000\n",
    "print_value('mean_difference_mV', mean_difference_mV)"
   ]
  },
  {
   "cell_type": "code",
   "execution_count": null,
   "metadata": {},
   "outputs": [],
   "source": [
    "# 실험 결과 파일을 읽는다.\n",
    "data = get_oscilloscpoe_result_tektronix('./data/ch07_ep05_02_result_r2_15kohm_1khz_2_7vpp.csv')\n",
    "\n",
    "# 실험 결과에서 시간, 입력 전압, 출력 전압을 가져온다.\n",
    "times = data['TIME']\n",
    "vins = data['Sample CH1']\n",
    "vouts = data['Sample CH2']\n",
    "\n",
    "# 필터를 적용해 잡음을 줄인다.\n",
    "vins = savgol_filter(vins, 100, 2)\n",
    "vouts = savgol_filter(vouts, 100, 2)\n",
    "\n",
    "# vout과 동일한 주파수의 싸인파 곡선을 추가한다.\n",
    "frequency = 1000\n",
    "amplitude = (np.max(vouts) - np.min(vouts)) / 2\n",
    "sine_wave = -np.sin(2 * np.pi * frequency * times) * amplitude\n",
    "\n",
    "# 시간을 x축, 전압들을 y축으로 하는 그래프를 그린다.\n",
    "plt.xlabel('TIME_s')\n",
    "plt.ylabel('V_V')\n",
    "plt.axhline(0, color='black')\n",
    "plt.axvline(0, color='black')\n",
    "draw_plot(times, sine_wave, 'Sine Wave', 2)\n",
    "draw_plot(times, vins, 'V(IN)', 0)\n",
    "draw_plot(times, vouts, 'V(OUT)', 1)\n",
    "plt.xlim(0.000, 0.001)\n",
    "plt.show()\n",
    "\n",
    "# Calculate the difference between the sine wave and vout\n",
    "difference = np.abs(sine_wave - vouts)\n",
    "# Calculate the mean difference\n",
    "mean_difference_mV = np.mean(difference) * 1000\n",
    "print_value('mean_difference_mV', mean_difference_mV)"
   ]
  },
  {
   "cell_type": "code",
   "execution_count": null,
   "metadata": {},
   "outputs": [],
   "source": [
    "# 실험 결과 파일을 읽는다.\n",
    "data = get_oscilloscpoe_result_tektronix('./data/ch07_ep05_02_result_r2_15kohm_1khz_2_6vpp.csv')\n",
    "\n",
    "# 실험 결과에서 시간, 입력 전압, 출력 전압을 가져온다.\n",
    "times = data['TIME']\n",
    "vins = data['Sample CH1']\n",
    "vouts = data['Sample CH2']\n",
    "\n",
    "# 필터를 적용해 잡음을 줄인다.\n",
    "vins = savgol_filter(vins, 100, 2)\n",
    "vouts = savgol_filter(vouts, 100, 2)\n",
    "\n",
    "# vout과 동일한 주파수의 싸인파 곡선을 추가한다.\n",
    "frequency = 1000\n",
    "amplitude = (np.max(vouts) - np.min(vouts)) / 2\n",
    "sine_wave = -np.sin(2 * np.pi * frequency * times) * amplitude\n",
    "\n",
    "# 시간을 x축, 전압들을 y축으로 하는 그래프를 그린다.\n",
    "plt.xlabel('TIME_s')\n",
    "plt.ylabel('V_V')\n",
    "plt.axhline(0, color='black')\n",
    "plt.axvline(0, color='black')\n",
    "draw_plot(times, sine_wave, 'Sine Wave', 2)\n",
    "draw_plot(times, vins, 'V(IN)', 0)\n",
    "draw_plot(times, vouts, 'V(OUT)', 1)\n",
    "plt.xlim(0.000, 0.001)\n",
    "plt.show()\n",
    "\n",
    "# Calculate the difference between the sine wave and vout\n",
    "difference = np.abs(sine_wave - vouts)\n",
    "# Calculate the mean difference\n",
    "mean_difference_mV = np.mean(difference) * 1000\n",
    "print_value('mean_difference_mV', mean_difference_mV)"
   ]
  },
  {
   "cell_type": "markdown",
   "metadata": {},
   "source": [
    "* 고찰:\n",
    "    + ?? V 부터 왜곡이 나타니자 않음\n",
    "    + 이상적 파형과의 차이 평균 (mean_difference_mV) 값이 대략 ?? mV 일때를 기준으로 판단했음"
   ]
  },
  {
   "cell_type": "markdown",
   "metadata": {},
   "source": [
    "*******************************************************************************\n",
    "## 실험07 부하효과의 심각성을 보자"
   ]
  },
  {
   "cell_type": "markdown",
   "metadata": {},
   "source": [
    "#### 실험 방법\n",
    "\n",
    "* 부하저항 RO가 무한대(부하 없음), 200 Ohm (부하 큼) 일때 출력을 관측한다."
   ]
  },
  {
   "cell_type": "markdown",
   "metadata": {},
   "source": [
    "#### 실험 결과"
   ]
  },
  {
   "cell_type": "markdown",
   "metadata": {},
   "source": [
    "##### 오실로스코프 화면"
   ]
  },
  {
   "cell_type": "code",
   "execution_count": null,
   "metadata": {},
   "outputs": [],
   "source": [
    "display_image(\"./data/ch07_ep05_02_result_ro_infinite_1khz_2vpp.png\", width=600)\n",
    "display_image(\"./data/ch07_ep05_02_result_ro_200ohm_1khz_2vpp.png\", width=600)"
   ]
  },
  {
   "cell_type": "markdown",
   "metadata": {},
   "source": [
    "#### 결과 분석"
   ]
  },
  {
   "cell_type": "code",
   "execution_count": null,
   "metadata": {},
   "outputs": [],
   "source": [
    "# 실험 결과 파일을 읽는다.\n",
    "data = get_oscilloscpoe_result_tektronix('./data/ch07_ep05_02_result_ro_infinite_1khz_2vpp.csv')\n",
    "\n",
    "# 실험 결과에서 시간, 입력 전압, 출력 전압을 가져온다.\n",
    "times = data['TIME']\n",
    "vins = data['Sample CH1']\n",
    "vouts = data['Sample CH2']\n",
    "\n",
    "# 필터를 적용해 잡음을 줄인다.\n",
    "vins = savgol_filter(vins, 100, 2)\n",
    "vouts = savgol_filter(vouts, 100, 2)\n",
    "\n",
    "# 시간을 x축, 전압들을 y축으로 하는 그래프를 그린다.\n",
    "plt.xlabel('TIME_s')\n",
    "plt.ylabel('V_V')\n",
    "plt.axhline(0, color='black')\n",
    "plt.axvline(0, color='black')\n",
    "draw_plot(times, vins, 'V(IN)', 0)\n",
    "draw_plot(times, vouts, 'V(OUT)', 1)\n",
    "plt.xlim(0.000, 0.001)\n",
    "plt.ylim(-4, 4)\n",
    "plt.show()\n",
    "\n",
    "V_O_pp_V = vouts.max() - vouts.min()\n",
    "print_value(\"V_O_pp_V\", V_O_pp_V)"
   ]
  },
  {
   "cell_type": "code",
   "execution_count": null,
   "metadata": {},
   "outputs": [],
   "source": [
    "# 실험 결과 파일을 읽는다.\n",
    "data = get_oscilloscpoe_result_tektronix('./data/ch07_ep05_02_result_ro_200ohm_1khz_2vpp.csv')\n",
    "\n",
    "# 실험 결과에서 시간, 입력 전압, 출력 전압을 가져온다.\n",
    "times = data['TIME']\n",
    "vins = data['Sample CH1']\n",
    "vouts = data['Sample CH2']\n",
    "\n",
    "# 필터를 적용해 잡음을 줄인다.\n",
    "vins = savgol_filter(vins, 100, 2)\n",
    "vouts = savgol_filter(vouts, 100, 2)\n",
    "\n",
    "# 시간을 x축, 전압들을 y축으로 하는 그래프를 그린다.\n",
    "plt.xlabel('TIME_s')\n",
    "plt.ylabel('V_V')\n",
    "plt.axhline(0, color='black')\n",
    "plt.axvline(0, color='black')\n",
    "draw_plot(times, vins, 'V(IN)', 0)\n",
    "draw_plot(times, vouts, 'V(OUT)', 1)\n",
    "plt.xlim(0.000, 0.001)\n",
    "plt.ylim(-4, 4)\n",
    "plt.show()\n",
    "\n",
    "V_O_pp_V = vouts.max() - vouts.min()\n",
    "print_value(\"V_O_pp_V\", V_O_pp_V)"
   ]
  },
  {
   "cell_type": "markdown",
   "metadata": {},
   "source": [
    "* 고찰:\n",
    "    + 부하 저항이 ??면 (부하가 ??면) 출력이 ??한다."
   ]
  },
  {
   "cell_type": "markdown",
   "metadata": {},
   "source": [
    "*******************************************************************************\n",
    "## 실험08 출력저항 $R_O$의 측정"
   ]
  },
  {
   "cell_type": "markdown",
   "metadata": {},
   "source": [
    "#### 실험 방법\n",
    "\n",
    "* 부하저항 RO에 5 kOhm 가변저항을 연결한다.\n",
    "* RO 값을 변화시켜 출력전압을 부하 저항이 무한대(부하 없음) 일때의 절반으로 감소시킨다.\n",
    "* 가변저항을 분리해 멀티미터로 저항값을 측정한다."
   ]
  },
  {
   "cell_type": "markdown",
   "metadata": {},
   "source": [
    "#### 실험 결과"
   ]
  },
  {
   "cell_type": "markdown",
   "metadata": {},
   "source": [
    "Ro = ?? kOhm"
   ]
  },
  {
   "cell_type": "markdown",
   "metadata": {},
   "source": [
    "* 고찰:\n",
    "    + 이론적인 Ro 값과 ??."
   ]
  }
 ],
 "metadata": {
  "kernelspec": {
   "display_name": "reinforcement-learning-an-introduction_env",
   "language": "python",
   "name": "python3"
  },
  "language_info": {
   "codemirror_mode": {
    "name": "ipython",
    "version": 3
   },
   "file_extension": ".py",
   "mimetype": "text/x-python",
   "name": "python",
   "nbconvert_exporter": "python",
   "pygments_lexer": "ipython3",
   "version": "3.10.12"
  },
  "orig_nbformat": 4
 },
 "nbformat": 4,
 "nbformat_minor": 2
}
