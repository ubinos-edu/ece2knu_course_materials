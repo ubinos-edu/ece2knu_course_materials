{
 "cells": [
  {
   "cell_type": "markdown",
   "metadata": {},
   "source": [
    "# 01장 KiCad, Ngspice 활용"
   ]
  },
  {
   "cell_type": "markdown",
   "metadata": {},
   "source": [
    "* 이름: 홍길동\n",
    "* 학번: 2025123456\n",
    "* 조: 1"
   ]
  },
  {
   "cell_type": "markdown",
   "metadata": {},
   "source": [
    "## 공통 코드"
   ]
  },
  {
   "cell_type": "code",
   "execution_count": null,
   "metadata": {},
   "outputs": [],
   "source": [
    "import sys\n",
    "from pathlib import Path\n",
    "\n",
    "# common_dir = Path.cwd().parent / \"ece2knu_common\"\n",
    "common_dir = Path.cwd()\n",
    "sys.path.insert(0, str(common_dir))\n",
    "\n",
    "from common import *"
   ]
  },
  {
   "cell_type": "markdown",
   "metadata": {},
   "source": [
    "*******************************************************************************"
   ]
  },
  {
   "cell_type": "markdown",
   "metadata": {},
   "source": [
    "## 1.4 예비 문제"
   ]
  },
  {
   "cell_type": "markdown",
   "metadata": {},
   "source": [
    "실험 2의 회로 (그림 1.47)에 대하여 이론적인 정상상태응답을 구하시오."
   ]
  },
  {
   "cell_type": "code",
   "execution_count": null,
   "metadata": {},
   "outputs": [],
   "source": [
    "display_image(\"./data/ch01_04_01_calc.png\", width=700)"
   ]
  },
  {
   "cell_type": "code",
   "execution_count": null,
   "metadata": {},
   "outputs": [],
   "source": [
    "v_amplitude = ??\n",
    "v_phase_degree = ??\n",
    "\n",
    "zr_p_zc_amplitude = math.sqrt(??**2 + ??**2)\n",
    "zr_p_zc_phase_degree = - math.degrees(math.atan(??/??))\n",
    "print(\"zr_p_zc_amplitude: %.2f\" % zr_p_zc_amplitude)\n",
    "print(\"zr_p_zc_phase_degree: %.2f\" % zr_p_zc_phase_degree)\n",
    "print(\"\")\n",
    "\n",
    "vc_amplitude = ?? / zr_p_zc_amplitude * v_amplitude\n",
    "vc_phase_degree = ?? - zr_p_zc_phase_degree + v_phase_degree\n",
    "vc_amplitude = round(vc_amplitude, 2)\n",
    "vc_phase_degree = round(vc_phase_degree, 2)\n",
    "print(\"vc_amplitude: %.2f\" % vc_amplitude)\n",
    "print(\"vc_phase_degree: %.2f\" % vc_phase_degree)"
   ]
  }
 ],
 "metadata": {
  "kernelspec": {
   "display_name": "ubinos_venv",
   "language": "python",
   "name": "python3"
  },
  "language_info": {
   "codemirror_mode": {
    "name": "ipython",
    "version": 3
   },
   "file_extension": ".py",
   "mimetype": "text/x-python",
   "name": "python",
   "nbconvert_exporter": "python",
   "pygments_lexer": "ipython3",
   "version": "3.11.9"
  },
  "orig_nbformat": 4
 },
 "nbformat": 4,
 "nbformat_minor": 2
}
