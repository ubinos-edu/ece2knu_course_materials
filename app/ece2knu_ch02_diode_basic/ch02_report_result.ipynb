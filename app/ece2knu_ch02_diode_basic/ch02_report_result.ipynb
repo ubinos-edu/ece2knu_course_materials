{
 "cells": [
  {
   "cell_type": "markdown",
   "metadata": {},
   "source": [
    "# 02장 다이오드 기본 회로"
   ]
  },
  {
   "cell_type": "markdown",
   "metadata": {},
   "source": [
    "* 이름: 홍길동\n",
    "* 학번: 2024123456\n",
    "* 조: 1"
   ]
  },
  {
   "cell_type": "markdown",
   "metadata": {},
   "source": [
    "## 공통 코드"
   ]
  },
  {
   "cell_type": "code",
   "execution_count": null,
   "metadata": {},
   "outputs": [],
   "source": [
    "import sys\n",
    "from pathlib import Path\n",
    "\n",
    "# common_dir = Path.cwd().parent / \"ece2knu_common\"\n",
    "common_dir = Path.cwd()\n",
    "sys.path.insert(0, str(common_dir))\n",
    "\n",
    "from common import *"
   ]
  },
  {
   "cell_type": "markdown",
   "metadata": {},
   "source": [
    "*******************************************************************************"
   ]
  },
  {
   "cell_type": "markdown",
   "metadata": {},
   "source": [
    "## 2.5 실험 내용"
   ]
  },
  {
   "cell_type": "markdown",
   "metadata": {},
   "source": [
    "### 실험01 다이오드의 특성조사"
   ]
  },
  {
   "cell_type": "markdown",
   "metadata": {},
   "source": [
    "#### 실험01-01 다이오드의 특성조사 : DMM을 이용한 전압의 측정"
   ]
  },
  {
   "cell_type": "markdown",
   "metadata": {},
   "source": [
    "##### 실험 방법"
   ]
  },
  {
   "cell_type": "markdown",
   "metadata": {},
   "source": [
    "* Si 다이오드 (1N4148)\n",
    "* Ge 다이오드 (1N270)\n",
    "* 전원용 다이오드 (1N4004)\n",
    "* 제너 다이오드 (1N5234)\n",
    "* LED (빨간색)\n",
    "* LED (녹색)\n",
    "* LED (흰색)"
   ]
  },
  {
   "cell_type": "code",
   "execution_count": null,
   "metadata": {},
   "outputs": [],
   "source": [
    "display_image(\"./images/ch02_05_ep01_01_circuit.png\", width=1000)"
   ]
  },
  {
   "cell_type": "markdown",
   "metadata": {},
   "source": [
    "##### 실험 결과값 관찰 - Fluke(17B+)"
   ]
  },
  {
   "cell_type": "markdown",
   "metadata": {},
   "source": [
    "| 다이오드종류(실험실)      | 커트인전압(대략) | 순방향(V) |        | 역방향(V) |        |\n",
    "|---------------------------|------------------|-----------|--------|-----------|--------|\n",
    "|                           |                  | 측정      | 예시값 | 측정      | 예시값 |\n",
    "| Si 다이오드(1N4148)       | 0.65V            | ??        | 0.56   | ??        | OL     |\n",
    "| Ge 다이오드(1N270)        | 0.2V             | ??        | 0.169  | ??        | OL     |\n",
    "| 전원용 다이오드(1N4004)   | 0.65V            | ??        | 0.535  | ??        | OL     |\n",
    "| 제너 다이오드(1N5234)     | 0.65V            | ??        | 0.719  | ??        | OL     |\n",
    "| LED(빨간색, 녹색)         | 1.8V             | ??        | 1.755  | ??        | OL     |\n",
    "| LED(흰색)                 | 2.7V             | ??        | OL     | ??        | OL     |"
   ]
  },
  {
   "cell_type": "markdown",
   "metadata": {},
   "source": [
    "##### 실험 결과 값 관찰 - GOLDSTAR(DMM-332)"
   ]
  },
  {
   "cell_type": "markdown",
   "metadata": {},
   "source": [
    "| 다이오드종류(실험실) | 커트인전압(대략) | 순방향(V) |         | 역방향(V) |        |\n",
    "|----------------------|------------------|-----------|---------|-----------|--------|\n",
    "|                      |                  | 측정      | 예시값  | 측정      | 예시값 |\n",
    "| Si 다이오드(1N4148)  | 0.65V            | ??        | 0.56    | ??        | 2.94   |\n",
    "| LED(흰색)            | 2.7V             | ??        | 2.573   | ??        | 2.94   |"
   ]
  },
  {
   "cell_type": "markdown",
   "metadata": {},
   "source": [
    "#### 실험01-02 다이오드의 특성조사 : DC측정법(부하선방법)"
   ]
  },
  {
   "cell_type": "markdown",
   "metadata": {},
   "source": [
    "##### 실험 방법"
   ]
  },
  {
   "cell_type": "markdown",
   "metadata": {},
   "source": [
    "* Vi: 직류 0.4 ~ 10 V"
   ]
  },
  {
   "cell_type": "code",
   "execution_count": null,
   "metadata": {},
   "outputs": [],
   "source": [
    "display_image(\"./images/ch02_05_ep01_02_circuit.png\", width=400)"
   ]
  },
  {
   "cell_type": "markdown",
   "metadata": {},
   "source": [
    "##### 실험 결과 회로 사진"
   ]
  },
  {
   "cell_type": "code",
   "execution_count": null,
   "metadata": {},
   "outputs": [],
   "source": [
    "display_image(\"./data/ch02_05_ep01_02_result_circuit.png\", width=1000)"
   ]
  },
  {
   "cell_type": "markdown",
   "metadata": {},
   "source": [
    "##### 실험 결과 값 관찰"
   ]
  },
  {
   "cell_type": "code",
   "execution_count": null,
   "metadata": {},
   "outputs": [],
   "source": [
    "V_I_target_V = [  0.400,  0.600,  0.800,  1.000,  2.000,  3.000,  4.000,  5.000,  6.000,  7.000,  8.000,  9.000, 10.000]\n",
    "\n",
    "V_I_V =        [     ??,     ??,     ??,     ??,      ??,    ??,     ??,     ??,     ??,     ??,     ??,     ??,     ??]\n",
    "V_D_V =        [     ??,     ??,     ??,     ??,      ??,    ??,     ??,     ??,     ??,     ??,     ??,     ??,     ??]"
   ]
  },
  {
   "cell_type": "markdown",
   "metadata": {},
   "source": [
    "##### 실험 결과 값 분석"
   ]
  },
  {
   "cell_type": "code",
   "execution_count": null,
   "metadata": {},
   "outputs": [],
   "source": [
    "# 저항 R1의 크기와, 이 저항에 걸리는 전압값을 사용해 다이오드, D1에 흐르는 전류값을 계산한다.\n",
    "R1_ohm = 1000\n",
    "\n",
    "V_D_V = np.array(V_D_V)\n",
    "V_I_V = np.array(V_I_V)\n",
    "\n",
    "I_D_A = ((V_I_V - V_D_V) / R1_ohm)\n",
    "I_D_mA = I_D_A * 1000\n",
    "print_array('I_D_mA', I_D_mA)\n",
    "\n",
    "# 다이오드의 I-V 특성 곡선을 그린다.\n",
    "plt.xlabel('V_D_V')\n",
    "plt.ylabel('I_D_mA')\n",
    "plt.axhline(0, color='black')\n",
    "plt.axvline(0, color='black')\n",
    "plt.xlim(-0.08,  0.8)\n",
    "plt.ylim(-1.0, 10.0)\n",
    "plt.plot(V_D_V, I_D_mA, 'b.-')\n",
    "plt.show()\n"
   ]
  },
  {
   "cell_type": "markdown",
   "metadata": {},
   "source": [
    "##### 실험 결과 고찰 - 정전압 등가모델"
   ]
  },
  {
   "cell_type": "code",
   "execution_count": null,
   "metadata": {},
   "outputs": [],
   "source": [
    "# 다이오드의 I-V 특성 곡선을 그린다.\n",
    "plt.xlabel('V_D_V')\n",
    "plt.ylabel('I_D_mA')\n",
    "plt.axhline(0, color='black')\n",
    "plt.axvline(0, color='black')\n",
    "plt.xlim(-0.08,  0.8)\n",
    "plt.ylim(-1.0, 10.0)\n",
    "plt.plot(V_D_V, I_D_mA, 'b.-')\n",
    "plt.axvline(0.7, color='green')\n",
    "plt.show()\n"
   ]
  },
  {
   "cell_type": "markdown",
   "metadata": {},
   "source": [
    "10mA정도의 전류를 사용하는 경우, 정전압 등가모델을 사용하려면 v_D 를 대략적으로 다음과 같이 두면 적당하다.\n",
    "\n",
    "|            | 측정    |\n",
    "|------------|---------|\n",
    "| v_D        | 0.7 V   |"
   ]
  },
  {
   "cell_type": "markdown",
   "metadata": {},
   "source": [
    "##### 실험 결과 고찰 - 부분선형 등가모델"
   ]
  },
  {
   "cell_type": "code",
   "execution_count": null,
   "metadata": {},
   "outputs": [],
   "source": [
    "# 다이오드 특성 곡선에서 부분선형 등가모델용 v_D0_V 와 r_D을 구한다.\n",
    "\n",
    "i1 = 7\n",
    "i2 = 12\n",
    "\n",
    "xs = V_D_V\n",
    "ys = I_D_mA\n",
    "\n",
    "m = (ys[i2] - ys[i1]) / (xs[i2] - xs[i1])\n",
    "b = ys[i2] - m * xs[i2]\n",
    "tf = lambda x: m * x + b\n",
    "gradient = m\n",
    "txs = np.arange(0.6, 0.8, 0.01)\n",
    "tys = tf(txs)\n",
    "\n",
    "v_D0_V = np.interp(0.0, tys, txs)\n",
    "r_D__V_div_mA = 1. / gradient\n",
    "r_D_ohm = r_D__V_div_mA * 1000.\n",
    "\n",
    "plt.xlabel('v_D0_V')\n",
    "plt.ylabel('I_D_mA')\n",
    "plt.axhline(0, color='black')\n",
    "plt.axvline(0, color='black')\n",
    "plt.xlim(-0.08,  0.8)\n",
    "plt.ylim(-1.0, 10.0)\n",
    "plt.plot(xs, ys, 'b.-')\n",
    "plt.plot(txs, tys, 'g-')\n",
    "plt.scatter(v_D0_V, 0)\n",
    "plt.scatter(xs[i1], ys[i1])\n",
    "plt.scatter(xs[i2], ys[i2])\n",
    "plt.text(v_D0_V - 0.2, 0 - 1.0, print_value_to_string('v_D0_V', v_D0_V))\n",
    "plt.show()\n",
    "\n",
    "print(\"Point A: {}, {}, {}\".format(V_I_target_V[i1], xs[i1], ys[i1]))\n",
    "print(\"Point B: {}, {}, {}\".format(V_I_target_V[i2], xs[i2], ys[i2]))\n",
    "print()\n",
    "print(\"r_D_ohm    = {:8.3f}\".format(r_D_ohm))\n",
    "print(\"v_D0_V = {:8.3f}\".format(v_D0_V))\n"
   ]
  },
  {
   "cell_type": "markdown",
   "metadata": {},
   "source": [
    "부분선형 등가모델을 사용하려면 v_D0_V 와 r_D 를 대략적으로 다음과 같이 두면 적당하다.\n",
    "\n",
    "|            | 측정      | 예시값     |\n",
    "|------------|-----------|------------|\n",
    "| r_D        | ??        | 8.268 Ohm  |\n",
    "| v_D0       | ??        | 0.65 V     |"
   ]
  },
  {
   "cell_type": "markdown",
   "metadata": {},
   "source": [
    "#### 실험01-03 다이오드의 특성조사 : AC측정법"
   ]
  },
  {
   "cell_type": "markdown",
   "metadata": {},
   "source": [
    "##### 참고 자료\n",
    "\n",
    "* https://www.youtube.com/watch?v=SE5peJN_qc8"
   ]
  },
  {
   "cell_type": "markdown",
   "metadata": {},
   "source": [
    "##### 실험 방법"
   ]
  },
  {
   "cell_type": "markdown",
   "metadata": {},
   "source": [
    "* Vi: 정현파, 20 VPP, 100Hz"
   ]
  },
  {
   "cell_type": "code",
   "execution_count": null,
   "metadata": {},
   "outputs": [],
   "source": [
    "display_image(\"./images/ch02_05_ep01_03_circuit.png\", width=700)"
   ]
  },
  {
   "cell_type": "markdown",
   "metadata": {},
   "source": [
    "##### 실험 결과 회로 사진"
   ]
  },
  {
   "cell_type": "code",
   "execution_count": null,
   "metadata": {},
   "outputs": [],
   "source": [
    "display_image(\"./data/ch02_05_ep01_03_result_circuit.png\", width=1000)"
   ]
  },
  {
   "cell_type": "markdown",
   "metadata": {},
   "source": [
    "##### 실험 결과 그래프 관찰"
   ]
  },
  {
   "cell_type": "code",
   "execution_count": null,
   "metadata": {},
   "outputs": [],
   "source": [
    "display_image(\"./data/ch02_05_ep01_03_result.png\", width=700)\n",
    "display_image(\"./data/ch02_05_ep01_03_result_xy.png\", width=700)"
   ]
  },
  {
   "cell_type": "code",
   "execution_count": null,
   "metadata": {},
   "outputs": [],
   "source": [
    "v_D0_V = 0.480\n",
    "\n",
    "rsh_ohm = 10\n",
    "vd_diff = 0.367\n",
    "vrsh_diff = 0.540\n",
    "\n",
    "r_D_ohm = vd_diff / (vrsh_diff / rsh_ohm)\n",
    "\n",
    "print(\"r_D_ohm    = {:8.3f}\".format(r_D_ohm))\n",
    "print(\"v_D0_V = {:8.3f}\".format(v_D0_V))"
   ]
  },
  {
   "cell_type": "markdown",
   "metadata": {},
   "source": [
    "##### 실험 결과 데이터 분석"
   ]
  },
  {
   "cell_type": "code",
   "execution_count": null,
   "metadata": {},
   "outputs": [],
   "source": [
    "# 실험 결과 파일을 읽는다.\n",
    "data = get_oscilloscpoe_result_tektronix('./data/ch02_05_ep01_03_result.csv')\n",
    "# data = get_oscilloscpoe_result_tektronix('./data/ch02_05_ep01_03_result_xy.csv')\n",
    "\n",
    "# 실험 결과에서 시간, 입력 전압, 출력 전압을 가져온다.\n",
    "times = data['TIME']\n",
    "vds = data['Sample CH1']\n",
    "vrshs = data['Sample CH2']\n",
    "\n",
    "# 필터를 적용해 잡음을 줄인다.\n",
    "vds = savgol_filter(vds, 100, 2)\n",
    "vrshs = savgol_filter(vrshs, 100, 2)\n",
    "\n",
    "# y 축 반전시키기\n",
    "vrshs = -vrshs\n",
    "\n",
    "# 시간을 x축, 전압들을 y축으로 하는 그래프를 그린다.\n",
    "plt.xlabel('TIME_s')\n",
    "plt.ylabel('V_V')\n",
    "plt.axhline(0, color='black')\n",
    "plt.axvline(0, color='black')\n",
    "draw_plot(times, vds, 'V(D)', 0)\n",
    "draw_plot(times, vrshs, 'V(Rsh)', 1)\n",
    "plt.show()\n",
    "\n",
    "data_len = int(len(data['TIME']))\n",
    "data_begin = 0\n",
    "data_end = int(data_len / 10)  # 데이터에 따라 조절 필요\n",
    "times_temp = times[data_begin:data_end]\n",
    "vds_temp = vds[data_begin:data_end]\n",
    "vrshs_temp = vrshs[data_begin:data_end]\n",
    "vd_max_inex = np.argmax(vds_temp)\n",
    "\n",
    "vrsh_a = 0.1  # 데이터에 따라 조절 필요\n",
    "vd_a = np.interp(vrsh_a, vrshs_temp, vds_temp)\n",
    "vrsh_b = vrshs[vd_max_inex]\n",
    "vd_b = vds[vd_max_inex]\n",
    "vrsh_diff = vrsh_b - vrsh_a\n",
    "vd_diff = vd_b - vd_a\n",
    "\n",
    "m = vrsh_diff / vd_diff\n",
    "b = vrsh_b - m * vd_b\n",
    "tf = lambda x: m * x + b\n",
    "gradient = m\n",
    "txs = np.arange(0.5, vd_b, 0.01)   # 데이터에 따라 조절 필요\n",
    "tys = tf(txs)\n",
    "\n",
    "v_D0_V = np.interp(0.0, tys, txs)\n",
    "rsh_ohm = 10\n",
    "r_D_ohm = vd_diff / (vrsh_diff / rsh_ohm)\n",
    "\n",
    "plt.scatter(vd_a, vrsh_a)\n",
    "plt.scatter(vd_b, vrsh_b)\n",
    "plt.scatter(v_D0_V, 0)\n",
    "plt.text(v_D0_V-2.0, 0-0.1, print_value_to_string('v_D0_V', v_D0_V))\n",
    "\n",
    "# 입력 전압을 x축, 출력 전압을 y축으로 하는 그래프를 그린다.\n",
    "plt.xlabel('V_D_V')\n",
    "plt.ylabel('V_Rsh_V')\n",
    "plt.axhline(0, color='black')\n",
    "plt.axvline(0, color='black')\n",
    "draw_plot(vds, vrshs, \"XY\", 0)\n",
    "plt.plot(txs, tys, 'g-')\n",
    "plt.show()\n",
    "\n",
    "print(\"vd_a = {:8.3f}\".format(vd_a))\n",
    "print(\"vrsh_a = {:8.3f}\".format(vrsh_a))\n",
    "print(\"vd_b = {:8.3f}\".format(vd_b))\n",
    "print(\"vrsh_b = {:8.3f}\".format(vrsh_b))\n",
    "print(\"vd_diff = {:8.3f}\".format(vd_diff))\n",
    "print(\"vrsh_diff = {:8.3f}\".format(vrsh_diff))\n",
    "print(\"\")\n",
    "\n",
    "print(\"r_D_ohm = {:8.3f}\".format(r_D_ohm))\n",
    "print(\"v_D0_V = {:8.3f}\".format(v_D0_V))"
   ]
  },
  {
   "cell_type": "markdown",
   "metadata": {},
   "source": [
    "##### 실험 결과 값 관찰"
   ]
  },
  {
   "cell_type": "markdown",
   "metadata": {},
   "source": [
    "|         |   측정    | 예시값   |\n",
    "|---------|-----------|----------|\n",
    "| r_D     | ??        | 4 Ohm    |\n",
    "| V_D0    | ??        | 0.667 V  |"
   ]
  },
  {
   "cell_type": "markdown",
   "metadata": {},
   "source": [
    "### 실험02 리미터 회로"
   ]
  },
  {
   "cell_type": "markdown",
   "metadata": {},
   "source": [
    "#### 실험02-01 리미터 회로의 v_D 측정"
   ]
  },
  {
   "cell_type": "markdown",
   "metadata": {},
   "source": [
    "##### 실험 방법"
   ]
  },
  {
   "cell_type": "markdown",
   "metadata": {},
   "source": [
    "* 다이오드:\n",
    "    + Si 다이오드 (1N4148)\n",
    "    + Ge 다이오드 (1N270)\n",
    "    + 전원용 다이오드 (1N4004)\n",
    "    + 제너 다이오드 (1N5234)\n",
    "    + LED (빨간색)\n",
    "    + LED (녹색)\n",
    "    + LED (흰색)"
   ]
  },
  {
   "cell_type": "code",
   "execution_count": null,
   "metadata": {},
   "outputs": [],
   "source": [
    "display_image(\"./images/ch02_05_ep02_01_circuit.png\", width=400)"
   ]
  },
  {
   "cell_type": "markdown",
   "metadata": {},
   "source": [
    "##### 실험 결과 회로 사진"
   ]
  },
  {
   "cell_type": "code",
   "execution_count": null,
   "metadata": {},
   "outputs": [],
   "source": [
    "display_image(\"./data/ch02_05_ep02_01_result_circuit.png\", width=1000)"
   ]
  },
  {
   "cell_type": "markdown",
   "metadata": {},
   "source": [
    "##### 실험 결과 값 관찰"
   ]
  },
  {
   "cell_type": "markdown",
   "metadata": {},
   "source": [
    "| 다이오드종류(실험실)      | vD (PSpice) (V) | vD  (V)    |         |\n",
    "|---------------------------|-----------------|------------|---------|\n",
    "|                           |                 | 측정       | 예시값  |\n",
    "| Si 다이오드(1N4148)       | 0.6163          | ??         | 0.675   |\n",
    "| Ge 다이오드(1N270)        | ....            | ??         | 0.25    |\n",
    "| 전원용 다이오드(1N4004)   | 0.6487          | ??         | 0.639   |\n",
    "| 제너 다이오드(1N5234)     | 0.7438          | ??         | 0.768   |\n",
    "| LED(빨간색)               | ....            | ??         | 1.924   |\n",
    "| LED(녹색)                 | ....            | ??         | 1.924   |\n",
    "| LED(흰색)                 | ....            | ??         | 2.768   |"
   ]
  },
  {
   "cell_type": "markdown",
   "metadata": {},
   "source": [
    "### 실험03 피크검출기 회로"
   ]
  },
  {
   "cell_type": "markdown",
   "metadata": {},
   "source": [
    "#### 실험03-01 양의 피크검출기 회로"
   ]
  },
  {
   "cell_type": "markdown",
   "metadata": {},
   "source": [
    "##### 실험 방법"
   ]
  },
  {
   "cell_type": "markdown",
   "metadata": {},
   "source": [
    "* 다이오드: 1N4148\n",
    "* Vi: 정현파, 주파수 1 kHz, 크기 8 ~ 12 Vpp"
   ]
  },
  {
   "cell_type": "code",
   "execution_count": null,
   "metadata": {},
   "outputs": [],
   "source": [
    "display(Image(\"./images/ch02_05_ep03_01_circuit.png\", width=400))"
   ]
  },
  {
   "cell_type": "markdown",
   "metadata": {},
   "source": [
    "##### 실험 결과 회로 사진"
   ]
  },
  {
   "cell_type": "code",
   "execution_count": null,
   "metadata": {},
   "outputs": [],
   "source": [
    "display_image(\"./data/ch02_05_ep03_01_result_circuit.png\", width=1000)"
   ]
  },
  {
   "cell_type": "markdown",
   "metadata": {},
   "source": [
    "##### 실험 결과 그래프 관찰"
   ]
  },
  {
   "cell_type": "code",
   "execution_count": null,
   "metadata": {},
   "outputs": [],
   "source": [
    "# 8 Vpp\n",
    "display(Image(\"./data/ch02_05_ep03_01_02_result_08vpp.png\", width=600))\n",
    "\n",
    "# 10 Vpp\n",
    "display(Image(\"./data/ch02_05_ep03_01_03_result_10vpp.png\", width=600))\n",
    "\n",
    "# 12 Vpp\n",
    "display(Image(\"./data/ch02_05_ep03_01_04_result_12vpp.png\", width=600))\n",
    "\n",
    "# 8 Vpp\n",
    "display(Image(\"./data/ch02_05_ep03_01_05_result_08vpp.png\", width=600))"
   ]
  },
  {
   "cell_type": "markdown",
   "metadata": {},
   "source": [
    "##### 실험 결과 데이터 분석"
   ]
  },
  {
   "cell_type": "code",
   "execution_count": null,
   "metadata": {},
   "outputs": [],
   "source": [
    "# 실험 결과 파일을 읽는다.\n",
    "data_02_08vpp = get_oscilloscpoe_result_tektronix('./data/ch02_05_ep03_01_02_result_08vpp.csv')\n",
    "data_03_10vpp = get_oscilloscpoe_result_tektronix('./data/ch02_05_ep03_01_03_result_10vpp.csv')\n",
    "data_04_12vpp = get_oscilloscpoe_result_tektronix('./data/ch02_05_ep03_01_04_result_12vpp.csv')\n",
    "data_05_08vpp = get_oscilloscpoe_result_tektronix('./data/ch02_05_ep03_01_05_result_08vpp.csv')\n",
    "\n",
    "# 실험 결과에서 시간, 입력 전압, 출력 전압을 가져온다.\n",
    "times_02_08vpp = data_02_08vpp['TIME']\n",
    "vins_02_08vpp  = data_02_08vpp['Sample CH1']\n",
    "vouts_02_08vpp = data_02_08vpp['Sample CH2']\n",
    "\n",
    "times_03_10vpp = data_03_10vpp['TIME']\n",
    "vins_03_10vpp  = data_03_10vpp['Sample CH1']\n",
    "vouts_03_10vpp = data_03_10vpp['Sample CH2']\n",
    "\n",
    "times_04_12vpp = data_04_12vpp['TIME']\n",
    "vins_04_12vpp  = data_04_12vpp['Sample CH1']\n",
    "vouts_04_12vpp = data_04_12vpp['Sample CH2']\n",
    "\n",
    "times_05_08vpp = data_05_08vpp['TIME']\n",
    "vins_05_08vpp  = data_05_08vpp['Sample CH1']\n",
    "vouts_05_08vpp = data_05_08vpp['Sample CH2']\n",
    "\n",
    "# 필터를 적용해 잡음을 줄인다.\n",
    "vins_02_08vpp = savgol_filter(vins_02_08vpp, 100, 2)\n",
    "vouts_02_08vpp = savgol_filter(vouts_02_08vpp, 100, 2)\n",
    "\n",
    "vins_03_10vpp = savgol_filter(vins_03_10vpp, 100, 2)\n",
    "vouts_03_10vpp = savgol_filter(vouts_03_10vpp, 100, 2)\n",
    "\n",
    "vins_04_12vpp = savgol_filter(vins_04_12vpp, 100, 2)\n",
    "vouts_04_12vpp = savgol_filter(vouts_04_12vpp, 100, 2)\n",
    "\n",
    "vins_05_08vpp = savgol_filter(vins_05_08vpp, 100, 2)\n",
    "vouts_05_08vpp = savgol_filter(vouts_05_08vpp, 100, 2)\n",
    "\n",
    "# 시간을 x축, 전압들을 y축으로 하는 그래프를 그리고, v_out을 구한다.\n",
    "plt.title(\"02_08vpp\")\n",
    "plt.xlabel('TIME_s')\n",
    "plt.ylabel('V_V')\n",
    "plt.axhline(0, color='black')\n",
    "plt.axvline(0, color='black')\n",
    "plt.ylim((-7, 7))\n",
    "draw_plot(times_02_08vpp, vins_02_08vpp, 'V(IN)', 0)\n",
    "draw_plot(times_02_08vpp, vouts_02_08vpp, 'V(OUT)', 1)\n",
    "plt.show()\n",
    "\n",
    "V_OUT_mean_V_02_08vpp = vouts_02_08vpp.mean()\n",
    "print_value(\"V_OUT_mean_V_02_08vpp\", V_OUT_mean_V_02_08vpp)\n",
    "print()\n",
    "\n",
    "plt.title(\"03_10vpp\")\n",
    "plt.xlabel('TIME_s')\n",
    "plt.ylabel('V_V')\n",
    "plt.axhline(0, color='black')\n",
    "plt.axvline(0, color='black')\n",
    "plt.ylim((-7, 7))\n",
    "draw_plot(times_03_10vpp, vins_03_10vpp, 'V(IN)', 0)\n",
    "draw_plot(times_03_10vpp, vouts_03_10vpp, 'V(OUT)', 1)\n",
    "plt.show()\n",
    "\n",
    "\n",
    "V_OUT_mean_V_03_10vpp = vouts_03_10vpp.mean()\n",
    "print_value(\"V_OUT_mean_V_03_10vpp\", V_OUT_mean_V_03_10vpp)\n",
    "print()\n",
    "\n",
    "plt.title(\"04_12vpp\")\n",
    "plt.xlabel('TIME_s')\n",
    "plt.ylabel('V_V')\n",
    "plt.axhline(0, color='black')\n",
    "plt.axvline(0, color='black')\n",
    "plt.ylim((-7, 7))\n",
    "draw_plot(times_04_12vpp, vins_04_12vpp, 'V(IN)', 0)\n",
    "draw_plot(times_04_12vpp, vouts_04_12vpp, 'V(OUT)', 1)\n",
    "plt.show()\n",
    "\n",
    "\n",
    "V_OUT_mean_V_04_12vpp = vouts_04_12vpp.mean()\n",
    "print_value(\"V_OUT_mean_V_04_12vpp\", V_OUT_mean_V_04_12vpp)\n",
    "print()\n",
    "\n",
    "plt.title(\"05_08vpp\")\n",
    "plt.xlabel('TIME_s')\n",
    "plt.ylabel('V_V')\n",
    "plt.axhline(0, color='black')\n",
    "plt.axvline(0, color='black')\n",
    "plt.ylim((-7, 7))\n",
    "draw_plot(times_05_08vpp, vins_05_08vpp, 'V(IN)', 0)\n",
    "draw_plot(times_05_08vpp, vouts_05_08vpp, 'V(OUT)', 1)\n",
    "plt.show()\n",
    "\n",
    "V_OUT_mean_V_05_08vpp = vouts_05_08vpp.mean()\n",
    "print_value(\"V_OUT_mean_V_05_08vpp\", V_OUT_mean_V_05_08vpp)\n",
    "print()"
   ]
  },
  {
   "cell_type": "markdown",
   "metadata": {},
   "source": [
    "|            | 측정 (V) | 예시값 (V) |\n",
    "|------------|----------|------------|\n",
    "| v_OUT      | ??       | 3.3        |\n",
    "| v_OUT      | ??       | 4.3        |\n",
    "| v_OUT      | ??       | 5.3        |\n",
    "| v_OUT      | ??       | 5.3        |"
   ]
  },
  {
   "cell_type": "markdown",
   "metadata": {},
   "source": [
    "#### 실험03-02 음의 피크검출기 회로"
   ]
  },
  {
   "cell_type": "markdown",
   "metadata": {},
   "source": [
    "##### 실험 방법"
   ]
  },
  {
   "cell_type": "markdown",
   "metadata": {},
   "source": [
    "* 다이오드: 1N4148\n",
    "* Vi: 정현파, 주파수 1 kHz, 크기 8 ~ 12 Vpp"
   ]
  },
  {
   "cell_type": "markdown",
   "metadata": {},
   "source": [
    "##### 실험 결과 회로 사진"
   ]
  },
  {
   "cell_type": "code",
   "execution_count": null,
   "metadata": {},
   "outputs": [],
   "source": [
    "display_image(\"./data/ch02_05_ep03_02_result_circuit.png\", width=1000)"
   ]
  },
  {
   "cell_type": "markdown",
   "metadata": {},
   "source": [
    "##### 실험 결과 그래프 관찰"
   ]
  },
  {
   "cell_type": "code",
   "execution_count": null,
   "metadata": {},
   "outputs": [],
   "source": [
    "# 8 Vpp\n",
    "display_image(\"./data/ch02_05_ep03_02_02_result_08vpp.png\", width=600)\n",
    "\n",
    "# 12 Vpp\n",
    "display_image(\"./data/ch02_05_ep03_02_03_result_12vpp.png\", width=600)\n",
    "\n",
    "# 8 Vpp\n",
    "display_image(\"./data/ch02_05_ep03_02_04_result_08vpp.png\", width=600)"
   ]
  },
  {
   "cell_type": "markdown",
   "metadata": {},
   "source": [
    "##### 실험 결과 데이터 분석"
   ]
  },
  {
   "cell_type": "code",
   "execution_count": null,
   "metadata": {},
   "outputs": [],
   "source": [
    "# 실험 결과 파일을 읽는다.\n",
    "data_02_08vpp = get_oscilloscpoe_result_tektronix('./data/ch02_05_ep03_02_02_result_08vpp.csv')\n",
    "data_03_12vpp = get_oscilloscpoe_result_tektronix('./data/ch02_05_ep03_02_03_result_12vpp.csv')\n",
    "data_04_08vpp = get_oscilloscpoe_result_tektronix('./data/ch02_05_ep03_02_04_result_08vpp.csv')\n",
    "\n",
    "# 실험 결과에서 시간, 입력 전압, 출력 전압을 가져온다.\n",
    "times_02_08vpp = data_02_08vpp['TIME']\n",
    "vins_02_08vpp  = data_02_08vpp['Sample CH1']\n",
    "vouts_02_08vpp = data_02_08vpp['Sample CH2']\n",
    "\n",
    "times_03_12vpp = data_03_12vpp['TIME']\n",
    "vins_03_12vpp  = data_03_12vpp['Sample CH1']\n",
    "vouts_03_12vpp = data_03_12vpp['Sample CH2']\n",
    "\n",
    "times_04_08vpp = data_04_08vpp['TIME']\n",
    "vins_04_08vpp  = data_04_08vpp['Sample CH1']\n",
    "vouts_04_08vpp = data_04_08vpp['Sample CH2']\n",
    "\n",
    "# 필터를 적용해 잡음을 줄인다.\n",
    "vins_02_08vpp = savgol_filter(vins_02_08vpp, 100, 2)\n",
    "vouts_02_08vpp = savgol_filter(vouts_02_08vpp, 100, 2)\n",
    "\n",
    "vins_03_12vpp = savgol_filter(vins_03_12vpp, 100, 2)\n",
    "vouts_03_12vpp = savgol_filter(vouts_03_12vpp, 100, 2)\n",
    "\n",
    "vins_04_08vpp = savgol_filter(vins_04_08vpp, 100, 2)\n",
    "vouts_04_08vpp = savgol_filter(vouts_04_08vpp, 100, 2)\n",
    "\n",
    "# 시간을 x축, 전압들을 y축으로 하는 그래프를 그리고, v_out을 구한다.\n",
    "plt.title(\"02_08vpp\")\n",
    "plt.xlabel('TIME_s')\n",
    "plt.ylabel('V_V')\n",
    "plt.axhline(0, color='black')\n",
    "plt.axvline(0, color='black')\n",
    "plt.ylim((-7, 7))\n",
    "draw_plot(times_02_08vpp, vins_02_08vpp, 'V(IN)', 0)\n",
    "draw_plot(times_02_08vpp, vouts_02_08vpp, 'V(OUT)', 1)\n",
    "plt.show()\n",
    "\n",
    "V_OUT_mean_V_02_08vpp = vouts_02_08vpp.mean()\n",
    "print_value(\"V_OUT_mean_V_02_08vpp\", V_OUT_mean_V_02_08vpp)\n",
    "print()\n",
    "\n",
    "plt.title(\"03_12vpp\")\n",
    "plt.xlabel('TIME_s')\n",
    "plt.ylabel('V_V')\n",
    "plt.axhline(0, color='black')\n",
    "plt.axvline(0, color='black')\n",
    "plt.ylim((-7, 7))\n",
    "draw_plot(times_03_12vpp, vins_03_12vpp, 'V(IN)', 0)\n",
    "draw_plot(times_03_12vpp, vouts_03_12vpp, 'V(OUT)', 1)\n",
    "plt.show()\n",
    "\n",
    "\n",
    "V_OUT_mean_V_03_12vpp = vouts_03_12vpp.mean()\n",
    "print_value(\"V_OUT_mean_V_03_12vpp\", V_OUT_mean_V_03_12vpp)\n",
    "print()\n",
    "\n",
    "plt.title(\"04_08vpp\")\n",
    "plt.xlabel('TIME_s')\n",
    "plt.ylabel('V_V')\n",
    "plt.axhline(0, color='black')\n",
    "plt.axvline(0, color='black')\n",
    "plt.ylim((-7, 7))\n",
    "draw_plot(times_04_08vpp, vins_04_08vpp, 'V(IN)', 0)\n",
    "draw_plot(times_04_08vpp, vouts_04_08vpp, 'V(OUT)', 1)\n",
    "plt.show()\n",
    "\n",
    "V_OUT_mean_V_04_08vpp = vouts_04_08vpp.mean()\n",
    "print_value(\"V_OUT_mean_V_04_08vpp\", V_OUT_mean_V_04_08vpp)\n",
    "print()"
   ]
  },
  {
   "cell_type": "markdown",
   "metadata": {},
   "source": [
    "|            | 측정 (V) | 예시값 (V) |\n",
    "|------------|----------|------------|\n",
    "| v_OUT      | ??       | -3.52      |\n",
    "| v_OUT      | ??       | -5.3       |\n",
    "| v_OUT      | ??       | -5.3       |\n"
   ]
  },
  {
   "cell_type": "markdown",
   "metadata": {},
   "source": [
    "### 실험04 정류기 회로"
   ]
  },
  {
   "cell_type": "markdown",
   "metadata": {},
   "source": [
    "#### 실험04-01 정류기 회로 입출력 전달 특성조사"
   ]
  },
  {
   "cell_type": "markdown",
   "metadata": {},
   "source": [
    "##### 실험 방법"
   ]
  },
  {
   "cell_type": "markdown",
   "metadata": {},
   "source": [
    "* 다이오드: 1N4004\n",
    "* Vi: 정현파, 주파수 1 kHz, 크기 8 Vpp"
   ]
  },
  {
   "cell_type": "code",
   "execution_count": null,
   "metadata": {},
   "outputs": [],
   "source": [
    "display_image(\"./images/ch02_05_ep04_01_circuit.png\", width=400)"
   ]
  },
  {
   "cell_type": "markdown",
   "metadata": {},
   "source": [
    "##### 실험 결과 회로 사진"
   ]
  },
  {
   "cell_type": "markdown",
   "metadata": {},
   "source": [
    "##### 제작한 회로"
   ]
  },
  {
   "cell_type": "code",
   "execution_count": null,
   "metadata": {},
   "outputs": [],
   "source": [
    "display_image(\"./data/ch02_05_ep04_01_result_circuit.png\", width=1000)"
   ]
  },
  {
   "cell_type": "markdown",
   "metadata": {},
   "source": [
    "##### 오실로스코프 화면"
   ]
  },
  {
   "cell_type": "code",
   "execution_count": null,
   "metadata": {},
   "outputs": [],
   "source": [
    "display_image(\"./data/ch02_05_ep04_02_result.png\", width=600)\n",
    "display_image(\"./data/ch02_05_ep04_03_result_xy.png\", width=600)"
   ]
  },
  {
   "cell_type": "markdown",
   "metadata": {},
   "source": [
    "#### 결과 분석"
   ]
  },
  {
   "cell_type": "code",
   "execution_count": null,
   "metadata": {},
   "outputs": [],
   "source": [
    "# 실험 결과 파일을 읽는다.\n",
    "data = get_oscilloscpoe_result_tektronix('./data/ch02_05_ep04_02_result.csv')\n",
    "\n",
    "# 실험 결과에서 시간, 입력 전압, 출력 전압을 가져온다.\n",
    "times = data['TIME']\n",
    "vins = data['Sample CH1']\n",
    "vouts = data['Sample CH2']\n",
    "\n",
    "# 필터를 적용해 잡음을 줄인다.\n",
    "vins = savgol_filter(vins, 100, 2)\n",
    "vouts = savgol_filter(vouts, 100, 2)\n",
    "\n",
    "# 시간을 x축, 전압들을 y축으로 하는 그래프를 그린다.\n",
    "plt.xlabel('TIME_s')\n",
    "plt.ylabel('V_V')\n",
    "plt.axhline(0, color='black')\n",
    "plt.axvline(0, color='black')\n",
    "draw_plot(times, vins, 'V(IN)', 0)\n",
    "draw_plot(times, vouts, 'V(OUT)', 1)\n",
    "plt.show()\n",
    "\n",
    "# 입력 전압을 x축, 출력 전압을 y축으로 하는 그래프를 그린다.\n",
    "plt.xlabel('V_IN_V')\n",
    "plt.ylabel('V_OUT_V')\n",
    "plt.axhline(0, color='black')\n",
    "plt.axvline(0, color='black')\n",
    "draw_plot(vins, vouts, \"XY\", 0)\n",
    "plt.show()"
   ]
  },
  {
   "cell_type": "markdown",
   "metadata": {},
   "source": [
    "### 실험05 논리 게이트"
   ]
  },
  {
   "cell_type": "markdown",
   "metadata": {},
   "source": [
    "#### 실험05-01 논리 OR 게이트"
   ]
  },
  {
   "cell_type": "markdown",
   "metadata": {},
   "source": [
    "##### 실험 방법"
   ]
  },
  {
   "cell_type": "code",
   "execution_count": null,
   "metadata": {},
   "outputs": [],
   "source": [
    "display_image(\"./images/ch02_05_ep05_01_circuit.png\", width=400)"
   ]
  },
  {
   "cell_type": "markdown",
   "metadata": {},
   "source": [
    "##### 실험 결과 값 관찰"
   ]
  },
  {
   "cell_type": "markdown",
   "metadata": {},
   "source": [
    "| v_A  v_B | v_Y     |         |        |\n",
    "|----------|---------|---------|--------|\n",
    "|          | 이론값  | 예시값  | 측정   |\n",
    "| 0V    0V | 0       | 0       | ??     |\n",
    "| 0V    5V | 4.35V   | 4.297V  | ??     |\n",
    "| 5V    0V | 4.35V   | 4.298V  | ??     |\n",
    "| 5V    5V | 4.35V   | 4.332V  | ??     |"
   ]
  },
  {
   "cell_type": "markdown",
   "metadata": {},
   "source": [
    "#### 실험05-02 논리 AND 게이트"
   ]
  },
  {
   "cell_type": "markdown",
   "metadata": {},
   "source": [
    "##### 실험 방법"
   ]
  },
  {
   "cell_type": "code",
   "execution_count": null,
   "metadata": {},
   "outputs": [],
   "source": [
    "display_image(\"./images/ch02_05_ep05_02_circuit.png\", width=400)"
   ]
  },
  {
   "cell_type": "markdown",
   "metadata": {},
   "source": [
    "##### 실험 결과 값 관찰"
   ]
  },
  {
   "cell_type": "markdown",
   "metadata": {},
   "source": [
    "| v_A  v_B | vY      |         |        |\n",
    "|----------|---------|---------|--------|\n",
    "|          | 이론값  | 예시값  | 측정   |\n",
    "| 0V    0V | 0.65V   | 0.652V  | ??     |\n",
    "| 0V    5V | 0.65V   | 0.69V   | ??     |\n",
    "| 5V    0V | 0.65V   | 0.688V  | ??     |\n",
    "| 5V    5V | 5V      | 4.98V   | ??     |"
   ]
  },
  {
   "cell_type": "markdown",
   "metadata": {},
   "source": [
    "##### 퀴즈"
   ]
  },
  {
   "cell_type": "markdown",
   "metadata": {},
   "source": [
    "질문: 2번째 경우의 결과값이 “3.54V”가 나왔다면, 무엇을 잘못했을까요?"
   ]
  },
  {
   "cell_type": "markdown",
   "metadata": {},
   "source": [
    "답: 전원과 측정기의 GND 가 연결되지 않았을 가능성이 높습니다."
   ]
  },
  {
   "cell_type": "markdown",
   "metadata": {},
   "source": [
    "### 실험06 입력저항이 다양한 값을 가질 때"
   ]
  },
  {
   "cell_type": "markdown",
   "metadata": {},
   "source": [
    "#### 실험06-01 입력전압이 다양한 값을 가질 때-경우1"
   ]
  },
  {
   "cell_type": "markdown",
   "metadata": {},
   "source": [
    "##### 실험 방법"
   ]
  },
  {
   "cell_type": "code",
   "execution_count": null,
   "metadata": {},
   "outputs": [],
   "source": [
    "display_image(\"./images/ch02_05_ep06_01_circuit.png\", width=400)"
   ]
  },
  {
   "cell_type": "markdown",
   "metadata": {},
   "source": [
    "##### 실험 결과 값 관찰"
   ]
  },
  {
   "cell_type": "markdown",
   "metadata": {},
   "source": [
    "| v_Y      |         |        |\n",
    "|----------|---------|--------|\n",
    "| 이론값   | 예시값  | 측정   |\n",
    "| 1.35V    | 1.367V  | ??     |"
   ]
  },
  {
   "cell_type": "markdown",
   "metadata": {},
   "source": [
    "#### 실험06-01 입력전압이 다양한 값을 가질 때-경우2"
   ]
  },
  {
   "cell_type": "markdown",
   "metadata": {},
   "source": [
    "##### 실험 방법"
   ]
  },
  {
   "cell_type": "code",
   "execution_count": null,
   "metadata": {},
   "outputs": [],
   "source": [
    "display_image(\"./images/ch02_05_ep06_02_circuit.png\", width=400)"
   ]
  },
  {
   "cell_type": "markdown",
   "metadata": {},
   "source": [
    "##### 실험 결과 값 관찰"
   ]
  },
  {
   "cell_type": "markdown",
   "metadata": {},
   "source": [
    "| v_Y     |         |          |\n",
    "|---------|---------|----------|\n",
    "| 이론값  | 예시값  | 측정     |\n",
    "| 1.65V   | 1.679V  | ??       |"
   ]
  },
  {
   "cell_type": "markdown",
   "metadata": {},
   "source": [
    "### 실험07 전자회로 교재의 연습문제"
   ]
  },
  {
   "cell_type": "markdown",
   "metadata": {},
   "source": [
    "#### 실험07-01 연습문제 3.2 (a)"
   ]
  },
  {
   "cell_type": "markdown",
   "metadata": {},
   "source": [
    "##### 실험 방법"
   ]
  },
  {
   "cell_type": "code",
   "execution_count": null,
   "metadata": {},
   "outputs": [],
   "source": [
    "display_image(\"./images/ch02_05_ep07_01_circuit.png\", width=400)"
   ]
  },
  {
   "cell_type": "markdown",
   "metadata": {},
   "source": [
    "##### 실험 결과 값 관찰"
   ]
  },
  {
   "cell_type": "markdown",
   "metadata": {},
   "source": [
    "| v_Y      |         |         |\n",
    "|----------|---------|---------|\n",
    "| 이론값   | 예시값  | 측정    |\n",
    "| 0V       | x       | ??      |"
   ]
  },
  {
   "cell_type": "markdown",
   "metadata": {},
   "source": [
    "#### 실험07-02 연습문제 3.2 (b)"
   ]
  },
  {
   "cell_type": "markdown",
   "metadata": {},
   "source": [
    "##### 실험 방법"
   ]
  },
  {
   "cell_type": "code",
   "execution_count": null,
   "metadata": {},
   "outputs": [],
   "source": [
    "display_image(\"./images/ch02_05_ep07_02_circuit.png\", width=400)"
   ]
  },
  {
   "cell_type": "markdown",
   "metadata": {},
   "source": [
    "##### 실험 결과 값 관찰"
   ]
  },
  {
   "cell_type": "markdown",
   "metadata": {},
   "source": [
    "| v_Y      |          |         |\n",
    "|----------|----------|---------|\n",
    "| 이론값   | 예시값   | 측정    |\n",
    "| 3.55V    | X        | ??      |"
   ]
  },
  {
   "cell_type": "markdown",
   "metadata": {},
   "source": [
    "### 실험08 LED의 특성"
   ]
  },
  {
   "cell_type": "markdown",
   "metadata": {},
   "source": [
    "#### 실험08-01 v_D1 측정"
   ]
  },
  {
   "cell_type": "markdown",
   "metadata": {},
   "source": [
    "##### 실험 방법"
   ]
  },
  {
   "cell_type": "code",
   "execution_count": null,
   "metadata": {},
   "outputs": [],
   "source": [
    "display_image(\"./images/ch02_05_ep08_01_circuit.png\", width=250)"
   ]
  },
  {
   "cell_type": "markdown",
   "metadata": {},
   "source": [
    "* 전원공급기의 전류표시값이 1mA가 될 때의 전압을 측정한다.\n",
    "* LED를 회로에서 분리하고, DMM의 다이오드 측정모드로 전압을 측정한다."
   ]
  },
  {
   "cell_type": "markdown",
   "metadata": {},
   "source": [
    "##### 실험 결과 값 관찰"
   ]
  },
  {
   "cell_type": "markdown",
   "metadata": {},
   "source": [
    "전원공급기의 전류표시값이 1mA가 될 때 측정한 전압\n",
    "\n",
    "|         | 측정    | 예시값   |\n",
    "|---------|---------|----------|\n",
    "| 빨간색  | ??      | 1.82 V   |\n",
    "| 녹색    | ??      | 1.831 V  |"
   ]
  },
  {
   "cell_type": "markdown",
   "metadata": {},
   "source": [
    "LED를 회로에서 분리하고, DMM의 다이오드 측정모드로 측정한 전압\n",
    "\n",
    "|         | 측정    | 예시값  |\n",
    "|---------|---------|---------|\n",
    "| 빨간색  | ??      | 1.801 V |\n",
    "| 녹색    | ??      | 1.816 V |"
   ]
  },
  {
   "cell_type": "markdown",
   "metadata": {},
   "source": [
    "#### 실험08-02 v_D2 측정"
   ]
  },
  {
   "cell_type": "code",
   "execution_count": null,
   "metadata": {},
   "outputs": [],
   "source": [
    "display_image(\"./images/ch02_05_ep08_02_circuit.png\", width=250)"
   ]
  },
  {
   "cell_type": "markdown",
   "metadata": {},
   "source": [
    "*  전원공급기의 전류표시값이 10mA가 될 때의 전압을 측정한다."
   ]
  },
  {
   "cell_type": "markdown",
   "metadata": {},
   "source": [
    "##### 실험 결과 값 관찰"
   ]
  },
  {
   "cell_type": "markdown",
   "metadata": {},
   "source": [
    "전원공급기의 전류표시값이 1mA가 될 때 측정한 전압\n",
    "\n",
    "|         | 측정    | 예시값  |\n",
    "|---------|---------|---------|\n",
    "| 빨간색  | ??      | 2.051 V |\n",
    "| 녹색    | ??      | 2.068 V |"
   ]
  },
  {
   "cell_type": "markdown",
   "metadata": {},
   "source": [
    "##### 실험 결과 고찰"
   ]
  },
  {
   "cell_type": "markdown",
   "metadata": {},
   "source": [
    "일반적으로 사용하는 LED는 대략 10mA일 때 적당한 밝기가 된다. 이때의 전압은 대략 2V이다."
   ]
  },
  {
   "cell_type": "markdown",
   "metadata": {},
   "source": [
    "### 실험09 LED의 구동"
   ]
  },
  {
   "cell_type": "markdown",
   "metadata": {},
   "source": [
    "#### 실험09-01 LED를 구동시키고, 소비전류를 측정"
   ]
  },
  {
   "cell_type": "markdown",
   "metadata": {},
   "source": [
    "##### 실험 방법"
   ]
  },
  {
   "cell_type": "code",
   "execution_count": null,
   "metadata": {},
   "outputs": [],
   "source": [
    "display_image(\"./images/ch02_05_ep09_01_circuit.png\", width=250)"
   ]
  },
  {
   "cell_type": "markdown",
   "metadata": {},
   "source": [
    "* 다음과 같은 경우에 소비전류를 측정한다.\n",
    "    + V_S = 5 V\n",
    "    + R = 300 Ohm\n",
    "\n",
    "* 다음과 같은 경우에 소비전류를 측정한다.\n",
    "    + V_S = 10 V\n",
    "    + R = 820 Ohm"
   ]
  },
  {
   "cell_type": "markdown",
   "metadata": {},
   "source": [
    "##### 실험 결과 값 관찰"
   ]
  },
  {
   "cell_type": "markdown",
   "metadata": {},
   "source": [
    "* 다음과 같은 경우에 소비전류\n",
    "    + V_S = 5 V\n",
    "    + R = 300 Ohm\n",
    "\n",
    "|         | 측정     | 예시값   |\n",
    "|---------|----------|----------|\n",
    "| 빨간색  | ??       | 10 mA    |\n",
    "| 녹색    | ??       | 10 mA    |"
   ]
  },
  {
   "cell_type": "markdown",
   "metadata": {},
   "source": [
    "* 다음과 같은 경우에 소비전류\n",
    "    + V_S = 10 V\n",
    "    + R = 820 Ohm\n",
    "\n",
    "|         | 측정     | 예시값   |\n",
    "|---------|----------|----------|\n",
    "| 빨간색  | ??       | 10 mA    |\n",
    "| 녹색    | ??       | 10 mA    |"
   ]
  }
 ],
 "metadata": {
  "kernelspec": {
   "display_name": "venv",
   "language": "python",
   "name": "python3"
  },
  "language_info": {
   "codemirror_mode": {
    "name": "ipython",
    "version": 3
   },
   "file_extension": ".py",
   "mimetype": "text/x-python",
   "name": "python",
   "nbconvert_exporter": "python",
   "pygments_lexer": "ipython3",
   "version": "3.11.9"
  },
  "orig_nbformat": 4
 },
 "nbformat": 4,
 "nbformat_minor": 2
}
