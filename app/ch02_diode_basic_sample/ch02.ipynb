{
 "cells": [
  {
   "cell_type": "markdown",
   "metadata": {},
   "source": [
    "# 02장 다이오드 기본 회로"
   ]
  },
  {
   "cell_type": "markdown",
   "metadata": {},
   "source": [
    "* 이름: 홍길동\n",
    "* 학번: 2024123456\n",
    "* 조: 1"
   ]
  },
  {
   "cell_type": "markdown",
   "metadata": {},
   "source": [
    "## 공통 코드"
   ]
  },
  {
   "cell_type": "code",
   "execution_count": 1,
   "metadata": {},
   "outputs": [],
   "source": [
    "import matplotlib.pyplot as plt\n",
    "import numpy as np\n",
    "import pandas as pd\n",
    "import re\n",
    "import io\n",
    "from scipy.signal import savgol_filter # 사비츠키-골레이(Savitzky-Golay) 필터\n",
    "from numpy import nan, inf\n",
    "\n",
    "# %matplotlib tk\n",
    "# %matplotlib inline\n",
    "\n",
    "def tangent_line(f, x):\n",
    "    h = 1e-4\n",
    "    d = (f(x+h) - f(x-h)) / (2*h)\n",
    "    return lambda t: d*t - d*x + f(x)\n",
    "\n",
    "def tangent_line_end(f, x):\n",
    "    h = 1e-4\n",
    "    d = (f(x) - f(x-h)) / (h)\n",
    "    return lambda t: d*t - d*x + f(x)\n",
    "\n",
    "def tangent_line_and_gradient(f, x):\n",
    "    h = 1e-4\n",
    "    d = (f(x+h) - f(x-h)) / (2*h)\n",
    "    return (lambda t: d*t - d*x + f(x)), d\n",
    "\n",
    "def tangent_line_and_gradient_end(f, x):\n",
    "    h = 1e-4\n",
    "    d = (f(x) - f(x-h)) / (h)\n",
    "    return (lambda t: d*t - d*x + f(x)), d\n",
    "\n",
    "def derivative(f, x):\n",
    "    h = 1e-4\n",
    "    d = (f(x+h) - f(x-h)) / (2*h)\n",
    "    return d\n",
    "\n",
    "def get_simulation_result(file_name, start=0, end=-1):\n",
    "    if end == -1:\n",
    "        end = None\n",
    "    else:\n",
    "        end += 1\n",
    "\n",
    "    with open(file_name, encoding='cp1252') as data_file:\n",
    "        lines = data_file.read()\n",
    "        occurrences = lines.count('Step Information:')\n",
    "        data_file.seek(0)\n",
    "\n",
    "        line = data_file.readline()\n",
    "        labels = re.split(', | ,|\\t', line)\n",
    "        labels = [s.strip().upper() for s in labels]\n",
    "\n",
    "        data = {}\n",
    "\n",
    "        if (occurrences == 0):\n",
    "            for label in labels:\n",
    "                data[label] = []\n",
    "\n",
    "            for line in data_file:\n",
    "                values = re.split(', | ,|\\t', line)\n",
    "                for i in range(len(values)):\n",
    "                    value = float(values[i]) * 1000\n",
    "                    data[labels[i]].append(value)\n",
    "\n",
    "        else:\n",
    "            labels_all =[]\n",
    "\n",
    "            lines = data_file.readline() # skip first line starting with 'Step Information:'\n",
    "\n",
    "            for idx in range(occurrences):\n",
    "                labels_new = []\n",
    "                for label in labels:\n",
    "                    labels_new.append('(%s)@%d' % (label, idx+1))\n",
    "                labels_all += labels_new\n",
    "\n",
    "                for label_new in labels_new:\n",
    "                    data[label_new] = []\n",
    "\n",
    "                for line in data_file:\n",
    "                    if (line.startswith('Step Information:')):\n",
    "                        break\n",
    "                    values = re.split(', | ,|\\t', line)\n",
    "                    for i in range(len(values)):\n",
    "                        value = float(values[i]) * 1000\n",
    "                        data[labels_new[i]].append(value)\n",
    "\n",
    "            labels = labels_all\n",
    "\n",
    "        for label in labels:\n",
    "            data[label] = np.array(data[label][start:end])\n",
    "\n",
    "    # print(\"labels = \", end='')\n",
    "    # print(list(data.keys()))\n",
    "    for label in list(data.keys()):\n",
    "        print(\"data['%s'] : sample number = %d\" % (label, len(data[label])))\n",
    "\n",
    "    return data\n",
    "\n",
    "def get_oscilloscpoe_result_tektronix(file_name, start=0, end=-1):\n",
    "    if end == -1:\n",
    "        end = None\n",
    "    else:\n",
    "        end += 1\n",
    "\n",
    "    df = pd.read_csv(file_name, header=None, encoding='cp1252',low_memory=False)\n",
    "\n",
    "    label_ri = df.loc[df.iloc[:,0] == 'Source', 1].index\n",
    "    ci = 0\n",
    "    data = {}\n",
    "    data['TIME'] = df.iloc[start:end, 3].to_numpy().astype(float)\n",
    "    data['TIME'] -= data['TIME'][0]\n",
    "    for idx in range(df.shape[1]//6):\n",
    "        label = df.iloc[label_ri, ci+1].item()\n",
    "        data[label] = df.iloc[start:end,ci+4].to_numpy().astype(float)\n",
    "        ci += 6\n",
    "\n",
    "    # print(\"labels = \", end='')\n",
    "    # print(list(data.keys()))\n",
    "    for label in list(data.keys()):\n",
    "        print(\"data['%s'] : sample number = %d\" % (label, len(data[label])))\n",
    "\n",
    "    return data\n",
    "\n",
    "def print_array(label, values):\n",
    "    print('%s = [' % label, end='')\n",
    "    for idx, vd in enumerate(values):\n",
    "        print('{:11.3f}'.format(vd), end='')\n",
    "        if (idx+1 != len(values)):\n",
    "            print(', ', end='')\n",
    "    print(']')\n",
    "\n",
    "def print_value(label, value):\n",
    "    print('%s = ' % label, end='')\n",
    "    print('{:11.3f}'.format(value))\n",
    "\n",
    "def print_value_to_string(label, value):\n",
    "    output = io.StringIO()\n",
    "    print('%s = ' % label, end='', file=output)\n",
    "    print('{:11.3f}'.format(value), file=output)\n",
    "    captured = output.getvalue()\n",
    "    return captured\n",
    "\n",
    "def draw_plot(xs, ys, label, style_idx, color_idx=-1, marker_num=16, scatter=False, scatter_s=2):\n",
    "    linestyle  = ['-',          '-',            '-',            '-',            '-',\n",
    "                  '-',          '-',            '-',            '-',            '-',\n",
    "                  '-',          '-',            '-',            '-',            '-',\n",
    "                  '-',          '-',            '-',            '-',            '-',\n",
    "                  '-',          '-',            '-',            '-',            '-']\n",
    "    colors     = ['blue',       'green',        'red',          'orange',       'purple',\n",
    "                  'cyan',       'darkseagreen', 'brown',        'goldenrod',    'darkviolet',\n",
    "                  'steelblue',  'limegreen',    'tomato',       'tan',          'deeppink',\n",
    "                  'navy',       'lightgreen',   'indianred',    'khaki',        'rebeccapurple',\n",
    "                  'slategray',  'forestgreen',  'orangered',    'wheat',        'orchid']\n",
    "    markers    = ['o',          'v',            '<',            's',            'p',\n",
    "                  'h',          '*',            'X',            'x',            '^',\n",
    "                  '>',          'P',            'D',            'H',            'd',\n",
    "                  '|',          '-',            '4'             '5',            '6',\n",
    "                  '7',          '8',            '9 ',           '10',           '+']\n",
    "\n",
    "    if color_idx < 0:\n",
    "        color_idx = style_idx\n",
    "\n",
    "    if isinstance(xs, list):\n",
    "        xs = np.array(xs)\n",
    "    if isinstance(ys, list):\n",
    "        ys = np.array(ys)\n",
    "\n",
    "    if (marker_num == 0):\n",
    "        selected_markevery = None\n",
    "        selected_marker = None\n",
    "    elif not isinstance(xs, np.ndarray):\n",
    "        selected_markevery = None\n",
    "        selected_marker = markers[style_idx]\n",
    "    elif (marker_num > 0):\n",
    "        markeverys = []\n",
    "        if xs[0] > xs[-1]:\n",
    "            first_idx = -1\n",
    "        else:\n",
    "            first_idx = 0\n",
    "        x_step = (xs.max() - xs.min()) / marker_num\n",
    "        for idx in range(len(markers)):\n",
    "            x_start = xs.min() + ((x_step / (len(markers) + 1)) * idx)\n",
    "            marker_list = []\n",
    "            for j in range(marker_num):\n",
    "                tmp_array = np.where(xs > (x_start + (x_step * j)))\n",
    "                if (len(tmp_array[0]) > 0):\n",
    "                    marker_list.append(tmp_array[0][first_idx])\n",
    "            markeverys.append(marker_list)\n",
    "\n",
    "        selected_markevery = markeverys[style_idx]\n",
    "        selected_marker = markers[style_idx]\n",
    "    else:\n",
    "        selected_markevery = None\n",
    "        selected_marker = markers[style_idx]\n",
    "\n",
    "    if (scatter):\n",
    "        plt.scatter(xs, ys, color=colors[color_idx], marker=selected_marker, s=scatter_s, label=label)\n",
    "    else:\n",
    "        plt.plot(xs, ys, ls=linestyle[style_idx], color=colors[color_idx], marker=selected_marker, markevery=selected_markevery, label=label)\n",
    "    if (label != None):\n",
    "        plt.legend(bbox_to_anchor=(1.05, 1), loc='upper left', borderaxespad=0.)\n",
    "\n",
    "def set_plot_size(xrate, yrate):\n",
    "    if (len(set_plot_size.g_plt_figsize) == 0):\n",
    "        set_plot_size.g_plt_figsize = plt.rcParams[\"figure.figsize\"]\n",
    "    size = []\n",
    "    size.append(set_plot_size.g_plt_figsize[0] * xrate)\n",
    "    size.append(set_plot_size.g_plt_figsize[1] * yrate)\n",
    "    plt.figure(figsize=size)\n",
    "\n",
    "set_plot_size.g_plt_figsize = []"
   ]
  },
  {
   "cell_type": "markdown",
   "metadata": {},
   "source": [
    "*******************************************************************************\n",
    "## 실험01 다이오드의 측정 : DMM"
   ]
  },
  {
   "cell_type": "markdown",
   "metadata": {},
   "source": [
    "### 실험 방법\n",
    "\n",
    "![Markdown-mark](./data/ch02_ep01-01_circuit.png)\n",
    "\n",
    "* Si 다이오드 (1N4148)\n",
    "* Ge 다이오드 (1N270)\n",
    "* 전원용 다이오드 (1N4004)\n",
    "* 제너 다이오드 (1N5234)\n",
    "* LED (빨간색)\n",
    "* LED (녹색)\n",
    "* LED (흰색)"
   ]
  },
  {
   "cell_type": "markdown",
   "metadata": {},
   "source": [
    "### 실험 결과"
   ]
  },
  {
   "cell_type": "code",
   "execution_count": 2,
   "metadata": {},
   "outputs": [],
   "source": [
    "# 멀티미터 측정 결과가 OL이면 inf로 기록한다.\n",
    "\n",
    "V_D_S_1N4148_forward_V = 0.564\n",
    "V_D_S_1N4148_reverse_V = inf\n",
    "\n",
    "V_D_G_1N270_forward_V = 0.183\n",
    "V_D_G_1N270_reverse_V = inf\n",
    "\n",
    "V_D_R_1N4004_forward_V = 0.530\n",
    "V_D_R_1N4004_reverse_V = inf\n",
    "\n",
    "V_D_Z_1N5234_forward_V = 0.718\n",
    "V_D_Z_1N5234_reverse_V = inf\n",
    "\n",
    "V_D_L_R_forward_V = 1.752\n",
    "V_D_L_R_reverse_V = inf\n",
    "\n",
    "V_D_L_G_forward_V = 1.773\n",
    "V_D_L_G_reverse_V = inf\n",
    "\n",
    "V_D_L_W_forward_V = inf\n",
    "V_D_L_W_reverse_V = inf"
   ]
  },
  {
   "cell_type": "markdown",
   "metadata": {},
   "source": [
    "*******************************************************************************\n",
    "## 실험02 다이오드 전압-전류 특성 측정"
   ]
  },
  {
   "cell_type": "markdown",
   "metadata": {},
   "source": [
    "### 실험 방법\n",
    "\n",
    "![Markdown-mark](./data/ch02_ep02-01_circuit.png)\n",
    "\n",
    "* 저항: 1 kOhm\n",
    "* 다이오드: 1N4148\n",
    "* Vi: 직류 0.4 ~ 10 V"
   ]
  },
  {
   "cell_type": "markdown",
   "metadata": {},
   "source": [
    "### 실험 결과"
   ]
  },
  {
   "cell_type": "markdown",
   "metadata": {},
   "source": [
    "#### 제작한 회로\n",
    "\n",
    "![Markdown-mark](./data/ch02_ep02-01_circuit_real.jpg)"
   ]
  },
  {
   "cell_type": "markdown",
   "metadata": {},
   "source": [
    "#### 멀티미터 측정값"
   ]
  },
  {
   "cell_type": "code",
   "execution_count": 3,
   "metadata": {},
   "outputs": [],
   "source": [
    "V_S_V = [  0.400,  0.600,  0.800,  1.000,  2.000,  3.000,  4.000,  5.000,  6.000,  7.000,  8.000,  9.000, 10.000]\n",
    "\n",
    "V_I_V = [  0.40 ,  0.60 ,  0.80 ,  1.01 ,  2.02 ,  3.02 ,  4.02 ,  5.02 ,  6.03 ,  7.04 ,  8.06 ,  9.06 ,  10.07]\n",
    "V_D_V = [  0.395,  0.497,  0.541,  0.564,  0.620,  0.646,  0.663,  0.676,  0.687,  0.695,  0.703,  0.710,  0.716]"
   ]
  },
  {
   "cell_type": "markdown",
   "metadata": {},
   "source": [
    "### 결과 분석"
   ]
  },
  {
   "cell_type": "markdown",
   "metadata": {},
   "source": [
    "#### 저항 R1의 크기와, 이 저항에 걸리는 전압값을 사용해 다이오드, D1에 흐르는 전류값을 계산한다."
   ]
  },
  {
   "cell_type": "code",
   "execution_count": null,
   "metadata": {},
   "outputs": [],
   "source": [
    "R1_ohm = 1000\n",
    "\n",
    "V_D_V = np.array(V_D_V)\n",
    "V_I_V = np.array(V_I_V)\n",
    "\n",
    "I_D_A = ((V_I_V - V_D_V) / R1_ohm)\n",
    "I_D_mA = I_D_A * 1000\n",
    "print_array('I_D_mA', I_D_mA)"
   ]
  },
  {
   "cell_type": "markdown",
   "metadata": {},
   "source": [
    "####  다이오드의 I<sub>D</sub>-V<sub>D</sub> 특성 곡선을 그린다."
   ]
  },
  {
   "cell_type": "code",
   "execution_count": null,
   "metadata": {},
   "outputs": [],
   "source": [
    "plt.xlabel('V_D_V')\n",
    "plt.ylabel('I_D_mA')\n",
    "plt.axhline(0, color='black')\n",
    "plt.axvline(0, color='black')\n",
    "plt.axvline(0.7, color='green')\n",
    "plt.xlim(-0.08,  0.8)\n",
    "plt.ylim(-1.0, 10.0)\n",
    "plt.plot(V_D_V, I_D_mA, 'b.-')\n",
    "plt.show()"
   ]
  },
  {
   "cell_type": "markdown",
   "metadata": {},
   "source": [
    "#### 다이오드 특성 곡선에서 정전압 등가모델용 V<sub>cut_in</sub>을 구한다."
   ]
  },
  {
   "cell_type": "code",
   "execution_count": null,
   "metadata": {},
   "outputs": [],
   "source": [
    "V_cut_in_V = 0.7\n",
    "print(\"V_cut_in_V = {:8.3f}\".format(V_cut_in_V))"
   ]
  },
  {
   "cell_type": "markdown",
   "metadata": {},
   "source": [
    "#### 다이오드 특성 곡선에서 부분선형 등가모델용 V<sub>cut_in</sub>과 r<sub>D</sub>을 구한다."
   ]
  },
  {
   "cell_type": "code",
   "execution_count": null,
   "metadata": {},
   "outputs": [],
   "source": [
    "i1 = 7\n",
    "i2 = 12\n",
    "\n",
    "xs = V_D_V\n",
    "ys = I_D_mA\n",
    "\n",
    "m = (ys[i2] - ys[i1]) / (xs[i2] - xs[i1])\n",
    "b = ys[i2] - m * xs[i2]\n",
    "tf = lambda x: m * x + b\n",
    "gradient = m\n",
    "txs = np.arange(0.6, 0.8, 0.01)\n",
    "tys = tf(txs)\n",
    "\n",
    "V_cut_in_V = np.interp(0.0, tys, txs)\n",
    "r_D__V_div_mA = 1. / gradient\n",
    "r_D_ohm = r_D__V_div_mA * 1000.\n",
    "\n",
    "plt.xlabel('V_D_V')\n",
    "plt.ylabel('I_D_mA')\n",
    "plt.axhline(0, color='black')\n",
    "plt.axvline(0, color='black')\n",
    "plt.xlim(-0.08,  0.8)\n",
    "plt.ylim(-1.0, 10.0)\n",
    "plt.plot(xs, ys, 'b.-')\n",
    "plt.plot(txs, tys, 'g-')\n",
    "plt.scatter(V_cut_in_V, 0)\n",
    "plt.scatter(xs[i1], ys[i1])\n",
    "plt.scatter(xs[i2], ys[i2])\n",
    "plt.text(V_cut_in_V-0.2, 0-1.0, print_value_to_string('V_cut_in_V', V_cut_in_V))\n",
    "plt.show()\n",
    "\n",
    "print(\"Point A: {}, {}, {}\".format(V_S_V[i1], xs[i1], ys[i1]))\n",
    "print(\"Point B: {}, {}, {}\".format(V_S_V[i2], xs[i2], ys[i2]))\n",
    "print()\n",
    "print(\"r_D_ohm    = {:8.3f}\".format(r_D_ohm))\n",
    "print(\"V_cut_in_V = {:8.3f}\".format(V_cut_in_V))\n"
   ]
  },
  {
   "cell_type": "markdown",
   "metadata": {},
   "source": [
    "*******************************************************************************\n",
    "## 실험03 리미터 회로"
   ]
  },
  {
   "cell_type": "markdown",
   "metadata": {},
   "source": [
    "### 실험 방법\n",
    "\n",
    "![Markdown-mark](./data/ch02_ep03-01_circuit.png)\n",
    "\n",
    "* 저항: 1 kOhm\n",
    "* 다이오드:\n",
    "    + Si 다이오드 (1N4148)\n",
    "    + Ge 다이오드 (1N270)\n",
    "    + 전원용 다이오드 (1N4004)\n",
    "    + 제너 다이오드 (1N5234)\n",
    "    + LED (빨간색)\n",
    "    + LED (녹색)\n",
    "    + LED (흰색)\n",
    "* Vi: 직류 5 V"
   ]
  },
  {
   "cell_type": "markdown",
   "metadata": {},
   "source": [
    "### 실험 결과"
   ]
  },
  {
   "cell_type": "markdown",
   "metadata": {},
   "source": [
    "#### 제작한 회로\n",
    "\n",
    "![Markdown-mark](./data/ch02_ep03-01_circuit_real.jpg)"
   ]
  },
  {
   "cell_type": "markdown",
   "metadata": {},
   "source": [
    "#### 멀티미터 측정값"
   ]
  },
  {
   "cell_type": "code",
   "execution_count": 8,
   "metadata": {},
   "outputs": [],
   "source": [
    "V_D_S_1N4148_V = 0.677\n",
    "\n",
    "V_D_G_1N270_V = 0.263\n",
    "\n",
    "V_D_R_1N4004_V = 0.640\n",
    "\n",
    "V_D_Z_1N5234_V = 0.775\n",
    "\n",
    "V_D_L_R_V = 1.922\n",
    "\n",
    "V_D_L_G_V = 1.952\n",
    "\n",
    "V_D_L_W_V = 2.649"
   ]
  },
  {
   "cell_type": "markdown",
   "metadata": {},
   "source": [
    "*******************************************************************************\n",
    "## 실험04 피크검출기 회로"
   ]
  },
  {
   "cell_type": "markdown",
   "metadata": {},
   "source": [
    "### 실험 방법\n",
    "\n",
    "![Markdown-mark](./data/ch02_ep04-01_circuit.png)\n",
    "\n",
    "* 다이오드: 1N4148\n",
    "* 커패시터: 100 uF\n",
    "* Vi: 정현파, 주파수 1 kHz, 크기 8 ~ 12 Vpp"
   ]
  },
  {
   "cell_type": "markdown",
   "metadata": {},
   "source": [
    "### 실험 결과"
   ]
  },
  {
   "cell_type": "markdown",
   "metadata": {},
   "source": [
    "### 제작한 회로\n",
    "\n",
    "![Markdown-mark](./data/ch02_ep04-01_circuit_real.jpg)"
   ]
  },
  {
   "cell_type": "markdown",
   "metadata": {},
   "source": [
    "#### 오실로스코프 화면\n",
    "\n",
    "##### 8 Vpp\n",
    "![Markdown-mark](./data/ch02_ep04-02_result_08vpp.png)\n",
    "\n",
    "##### 10 Vpp\n",
    "![Markdown-mark](./data/ch02_ep04-03_result_10vpp.png)\n",
    "\n",
    "##### 12 Vpp\n",
    "![Markdown-mark](./data/ch02_ep04-04_result_12vpp.png)\n",
    "\n",
    "##### 8 Vpp\n",
    "![Markdown-mark](./data/ch02_ep04-05_result_08vpp.png)\n"
   ]
  },
  {
   "cell_type": "markdown",
   "metadata": {},
   "source": [
    "### 결과 분석"
   ]
  },
  {
   "cell_type": "markdown",
   "metadata": {},
   "source": [
    "#### 실험 결과 파일을 읽는다."
   ]
  },
  {
   "cell_type": "code",
   "execution_count": null,
   "metadata": {},
   "outputs": [],
   "source": [
    "data_02_08vpp = get_oscilloscpoe_result_tektronix('./data/ch02_ep04-02_result_08vpp.csv')\n",
    "data_03_10vpp = get_oscilloscpoe_result_tektronix('./data/ch02_ep04-03_result_10vpp.csv')\n",
    "data_04_12vpp = get_oscilloscpoe_result_tektronix('./data/ch02_ep04-04_result_12vpp.csv')\n",
    "data_05_08vpp = get_oscilloscpoe_result_tektronix('./data/ch02_ep04-05_result_08vpp.csv')"
   ]
  },
  {
   "cell_type": "markdown",
   "metadata": {},
   "source": [
    "#### 실험 결과에서 시간, 입력 전압, 출력 전압을 가져온다."
   ]
  },
  {
   "cell_type": "code",
   "execution_count": 10,
   "metadata": {},
   "outputs": [],
   "source": [
    "times_02_08vpp = data_02_08vpp['TIME']\n",
    "vins_02_08vpp  = data_02_08vpp['Sample CH1']\n",
    "vouts_02_08vpp = data_02_08vpp['Sample CH2']\n",
    "\n",
    "times_03_10vpp = data_03_10vpp['TIME']\n",
    "vins_03_10vpp  = data_03_10vpp['Sample CH1']\n",
    "vouts_03_10vpp = data_03_10vpp['Sample CH2']\n",
    "\n",
    "times_04_12vpp = data_04_12vpp['TIME']\n",
    "vins_04_12vpp  = data_04_12vpp['Sample CH1']\n",
    "vouts_04_12vpp = data_04_12vpp['Sample CH2']\n",
    "\n",
    "times_05_08vpp = data_05_08vpp['TIME']\n",
    "vins_05_08vpp  = data_05_08vpp['Sample CH1']\n",
    "vouts_05_08vpp = data_05_08vpp['Sample CH2']"
   ]
  },
  {
   "cell_type": "markdown",
   "metadata": {},
   "source": [
    "#### 필터를 적용해 잡음을 줄인다."
   ]
  },
  {
   "cell_type": "code",
   "execution_count": 11,
   "metadata": {},
   "outputs": [],
   "source": [
    "vins_02_08vpp = savgol_filter(vins_02_08vpp, 100, 2)\n",
    "vouts_02_08vpp = savgol_filter(vouts_02_08vpp, 100, 2)\n",
    "\n",
    "vins_03_10vpp = savgol_filter(vins_03_10vpp, 100, 2)\n",
    "vouts_03_10vpp = savgol_filter(vouts_03_10vpp, 100, 2)\n",
    "\n",
    "vins_04_12vpp = savgol_filter(vins_04_12vpp, 100, 2)\n",
    "vouts_04_12vpp = savgol_filter(vouts_04_12vpp, 100, 2)\n",
    "\n",
    "vins_05_08vpp = savgol_filter(vins_05_08vpp, 100, 2)\n",
    "vouts_05_08vpp = savgol_filter(vouts_05_08vpp, 100, 2)"
   ]
  },
  {
   "cell_type": "markdown",
   "metadata": {},
   "source": [
    "#### 시간을 x축, 전압들을 y축으로 하는 그래프를 그리고, v<sub>O</sub>를 구한다."
   ]
  },
  {
   "cell_type": "code",
   "execution_count": null,
   "metadata": {},
   "outputs": [],
   "source": [
    "plt.title(\"02_08vpp\")\n",
    "plt.xlabel('TIME_s')\n",
    "plt.ylabel('V_V')\n",
    "plt.axhline(0, color='black')\n",
    "plt.axvline(0, color='black')\n",
    "plt.ylim((-7, 7))\n",
    "draw_plot(times_02_08vpp, vins_02_08vpp, 'V(IN)', 0)\n",
    "draw_plot(times_02_08vpp, vouts_02_08vpp, 'V(OUT)', 1)\n",
    "plt.show()\n",
    "\n",
    "V_OUT_mean_V_02_08vpp = vouts_02_08vpp.mean()\n",
    "print_value(\"V_OUT_mean_V_02_08vpp\", V_OUT_mean_V_02_08vpp)\n",
    "print()\n",
    "\n",
    "plt.title(\"03_10vpp\")\n",
    "plt.xlabel('TIME_s')\n",
    "plt.ylabel('V_V')\n",
    "plt.axhline(0, color='black')\n",
    "plt.axvline(0, color='black')\n",
    "plt.ylim((-7, 7))\n",
    "draw_plot(times_03_10vpp, vins_03_10vpp, 'V(IN)', 0)\n",
    "draw_plot(times_03_10vpp, vouts_03_10vpp, 'V(OUT)', 1)\n",
    "plt.show()\n",
    "\n",
    "\n",
    "V_OUT_mean_V_03_10vpp = vouts_03_10vpp.mean()\n",
    "print_value(\"V_OUT_mean_V_03_10vpp\", V_OUT_mean_V_03_10vpp)\n",
    "print()\n",
    "\n",
    "plt.title(\"04_12vpp\")\n",
    "plt.xlabel('TIME_s')\n",
    "plt.ylabel('V_V')\n",
    "plt.axhline(0, color='black')\n",
    "plt.axvline(0, color='black')\n",
    "plt.ylim((-7, 7))\n",
    "draw_plot(times_04_12vpp, vins_04_12vpp, 'V(IN)', 0)\n",
    "draw_plot(times_04_12vpp, vouts_04_12vpp, 'V(OUT)', 1)\n",
    "plt.show()\n",
    "\n",
    "\n",
    "V_OUT_mean_V_04_12vpp = vouts_04_12vpp.mean()\n",
    "print_value(\"V_OUT_mean_V_04_12vpp\", V_OUT_mean_V_04_12vpp)\n",
    "print()\n",
    "\n",
    "plt.title(\"05_08vpp\")\n",
    "plt.xlabel('TIME_s')\n",
    "plt.ylabel('V_V')\n",
    "plt.axhline(0, color='black')\n",
    "plt.axvline(0, color='black')\n",
    "plt.ylim((-7, 7))\n",
    "draw_plot(times_05_08vpp, vins_05_08vpp, 'V(IN)', 0)\n",
    "draw_plot(times_05_08vpp, vouts_05_08vpp, 'V(OUT)', 1)\n",
    "plt.show()\n",
    "\n",
    "V_OUT_mean_V_05_08vpp = vouts_05_08vpp.mean()\n",
    "print_value(\"V_OUT_mean_V_05_08vpp\", V_OUT_mean_V_05_08vpp)\n",
    "print()"
   ]
  },
  {
   "cell_type": "markdown",
   "metadata": {},
   "source": [
    "*******************************************************************************\n",
    "## 실험05 정류기 회로"
   ]
  },
  {
   "cell_type": "markdown",
   "metadata": {},
   "source": [
    "### 실험 방법\n",
    "\n",
    "![Markdown-mark](./data/ch02_ep05-01_circuit.png)\n",
    "\n",
    "* 다이오드: 1N4004\n",
    "* 저항: 1 kOhm\n",
    "* Vi: 정현파, 주파수 1 kHz, 크기 8 Vpp"
   ]
  },
  {
   "cell_type": "markdown",
   "metadata": {},
   "source": [
    "### 실험 결과"
   ]
  },
  {
   "cell_type": "markdown",
   "metadata": {},
   "source": [
    "#### 제작한 회로\n",
    "\n",
    "![Markdown-mark](./data/ch02_ep05-01_circuit_real.jpg)"
   ]
  },
  {
   "cell_type": "markdown",
   "metadata": {},
   "source": [
    "#### 오실로스코프 화면\n",
    "\n",
    "![Markdown-mark](./data/ch02_ep05-02_result.png)\n",
    "\n",
    "![Markdown-mark](./data/ch02_ep05-03_result_xy.png)"
   ]
  },
  {
   "cell_type": "markdown",
   "metadata": {},
   "source": [
    "### 결과 분석"
   ]
  },
  {
   "cell_type": "markdown",
   "metadata": {},
   "source": [
    "#### 실험 결과 파일을 읽는다."
   ]
  },
  {
   "cell_type": "code",
   "execution_count": null,
   "metadata": {},
   "outputs": [],
   "source": [
    "data = get_oscilloscpoe_result_tektronix('./data/ch02_ep05-02_result.csv')"
   ]
  },
  {
   "cell_type": "markdown",
   "metadata": {},
   "source": [
    "#### 실험 결과에서 시간, 입력 전압, 출력 전압을 가져온다."
   ]
  },
  {
   "cell_type": "code",
   "execution_count": 14,
   "metadata": {},
   "outputs": [],
   "source": [
    "times = data['TIME']\n",
    "vins = data['Sample CH1']\n",
    "vouts = data['Sample CH2']"
   ]
  },
  {
   "cell_type": "markdown",
   "metadata": {},
   "source": [
    "#### 필터를 적용해 잡음을 줄인다."
   ]
  },
  {
   "cell_type": "code",
   "execution_count": 15,
   "metadata": {},
   "outputs": [],
   "source": [
    "vins = savgol_filter(vins, 100, 2)\n",
    "vouts = savgol_filter(vouts, 100, 2)"
   ]
  },
  {
   "cell_type": "markdown",
   "metadata": {},
   "source": [
    "#### 시간을 x축, 전압들을 y축으로 하는 그래프를 그린다."
   ]
  },
  {
   "cell_type": "code",
   "execution_count": null,
   "metadata": {},
   "outputs": [],
   "source": [
    "plt.xlabel('TIME_s')\n",
    "plt.ylabel('V_V')\n",
    "plt.axhline(0, color='black')\n",
    "plt.axvline(0, color='black')\n",
    "draw_plot(times, vins, 'V(IN)', 0)\n",
    "draw_plot(times, vouts, 'V(OUT)', 1)\n",
    "plt.show()"
   ]
  },
  {
   "cell_type": "markdown",
   "metadata": {},
   "source": [
    "#### 입력 전압을 x축, 출력 전압을 y축으로 하는 그래프를 그린다."
   ]
  },
  {
   "cell_type": "code",
   "execution_count": null,
   "metadata": {},
   "outputs": [],
   "source": [
    "plt.xlabel('V_IN_V')\n",
    "plt.ylabel('V_OUT_V')\n",
    "plt.axhline(0, color='black')\n",
    "plt.axvline(0, color='black')\n",
    "draw_plot(vins, vouts, \"XY\", 0)\n",
    "plt.show()"
   ]
  }
 ],
 "metadata": {
  "kernelspec": {
   "display_name": "Python 3.10.6 64-bit",
   "language": "python",
   "name": "python3"
  },
  "language_info": {
   "codemirror_mode": {
    "name": "ipython",
    "version": 3
   },
   "file_extension": ".py",
   "mimetype": "text/x-python",
   "name": "python",
   "nbconvert_exporter": "python",
   "pygments_lexer": "ipython3",
   "version": "3.10.12"
  },
  "orig_nbformat": 4,
  "vscode": {
   "interpreter": {
    "hash": "45d5ea1a628b116fc37336f3e2703270bd779ac9277507a8bf46eb41278a50a9"
   }
  }
 },
 "nbformat": 4,
 "nbformat_minor": 2
}
