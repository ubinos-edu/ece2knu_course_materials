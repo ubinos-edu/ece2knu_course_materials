{
 "cells": [
  {
   "cell_type": "markdown",
   "metadata": {},
   "source": [
    "# 04장 연산증폭기 기본 회로"
   ]
  },
  {
   "cell_type": "markdown",
   "metadata": {},
   "source": [
    "* 이름: 홍길동\n",
    "* 학번: 2024123456\n",
    "* 조: 1"
   ]
  },
  {
   "cell_type": "markdown",
   "metadata": {},
   "source": [
    "## 공통 코드"
   ]
  },
  {
   "cell_type": "code",
   "execution_count": 1,
   "metadata": {},
   "outputs": [],
   "source": [
    "import matplotlib.pyplot as plt\n",
    "import numpy as np\n",
    "import pandas as pd\n",
    "import re\n",
    "import io\n",
    "from scipy.signal import savgol_filter # 사비츠키-골레이(Savitzky-Golay) 필터\n",
    "from numpy import nan, inf\n",
    "\n",
    "from IPython.display import Image\n",
    "\n",
    "# %matplotlib tk\n",
    "# %matplotlib inline\n",
    "\n",
    "def tangent_line(f, x):\n",
    "    h = 1e-4\n",
    "    d = (f(x+h) - f(x-h)) / (2*h)\n",
    "    return lambda t: d*t - d*x + f(x)\n",
    "\n",
    "def tangent_line_end(f, x):\n",
    "    h = 1e-4\n",
    "    d = (f(x) - f(x-h)) / (h)\n",
    "    return lambda t: d*t - d*x + f(x)\n",
    "\n",
    "def tangent_line_and_gradient(f, x):\n",
    "    h = 1e-4\n",
    "    d = (f(x+h) - f(x-h)) / (2*h)\n",
    "    return (lambda t: d*t - d*x + f(x)), d\n",
    "\n",
    "def tangent_line_and_gradient_end(f, x):\n",
    "    h = 1e-4\n",
    "    d = (f(x) - f(x-h)) / (h)\n",
    "    return (lambda t: d*t - d*x + f(x)), d\n",
    "\n",
    "def derivative(f, x):\n",
    "    h = 1e-4\n",
    "    d = (f(x+h) - f(x-h)) / (2*h)\n",
    "    return d\n",
    "\n",
    "def get_simulation_result(file_name, start=0, end=-1):\n",
    "    if end == -1:\n",
    "        end = None\n",
    "    else:\n",
    "        end += 1\n",
    "\n",
    "    with open(file_name, encoding='cp1252') as data_file:\n",
    "        lines = data_file.read()\n",
    "        occurrences = lines.count('Step Information:')\n",
    "        data_file.seek(0)\n",
    "\n",
    "        line = data_file.readline()\n",
    "        labels = re.split(', | ,|\\t', line)\n",
    "        labels = [s.strip().upper() for s in labels]\n",
    "\n",
    "        data = {}\n",
    "\n",
    "        if (occurrences == 0):\n",
    "            for label in labels:\n",
    "                data[label] = []\n",
    "\n",
    "            for line in data_file:\n",
    "                values = re.split(', | ,|\\t', line)\n",
    "                for i in range(len(values)):\n",
    "                    value = float(values[i]) * 1000\n",
    "                    data[labels[i]].append(value)\n",
    "\n",
    "        else:\n",
    "            labels_all =[]\n",
    "\n",
    "            lines = data_file.readline() # skip first line starting with 'Step Information:'\n",
    "\n",
    "            for idx in range(occurrences):\n",
    "                labels_new = []\n",
    "                for label in labels:\n",
    "                    labels_new.append('(%s)@%d' % (label, idx+1))\n",
    "                labels_all += labels_new\n",
    "\n",
    "                for label_new in labels_new:\n",
    "                    data[label_new] = []\n",
    "\n",
    "                for line in data_file:\n",
    "                    if (line.startswith('Step Information:')):\n",
    "                        break\n",
    "                    values = re.split(', | ,|\\t', line)\n",
    "                    for i in range(len(values)):\n",
    "                        value = float(values[i]) * 1000\n",
    "                        data[labels_new[i]].append(value)\n",
    "\n",
    "            labels = labels_all\n",
    "\n",
    "        for label in labels:\n",
    "            data[label] = np.array(data[label][start:end])\n",
    "\n",
    "    # print(\"labels = \", end='')\n",
    "    # print(list(data.keys()))\n",
    "    for label in list(data.keys()):\n",
    "        print(\"data['%s'] : sample number = %d\" % (label, len(data[label])))\n",
    "\n",
    "    return data\n",
    "\n",
    "def get_oscilloscpoe_result_tektronix(file_name, start=0, end=-1):\n",
    "    if end == -1:\n",
    "        end = None\n",
    "    else:\n",
    "        end += 1\n",
    "\n",
    "    df = pd.read_csv(file_name, header=None, encoding='cp1252',low_memory=False)\n",
    "\n",
    "    label_ri = df.loc[df.iloc[:,0] == 'Source', 1].index\n",
    "    ci = 0\n",
    "    data = {}\n",
    "    data['TIME'] = df.iloc[start:end, 3].to_numpy().astype(float)\n",
    "    data['TIME'] -= data['TIME'][0]\n",
    "    for idx in range(df.shape[1]//6):\n",
    "        label = df.iloc[label_ri, ci+1].item()\n",
    "        data[label] = df.iloc[start:end,ci+4].to_numpy().astype(float)\n",
    "        ci += 6\n",
    "\n",
    "    # print(\"labels = \", end='')\n",
    "    # print(list(data.keys()))\n",
    "    for label in list(data.keys()):\n",
    "        print(\"data['%s'] : sample number = %d\" % (label, len(data[label])))\n",
    "\n",
    "    return data\n",
    "\n",
    "def print_array(label, values):\n",
    "    print('%s = [' % label, end='')\n",
    "    for idx, vd in enumerate(values):\n",
    "        print('{:11.3f}'.format(vd), end='')\n",
    "        if (idx+1 != len(values)):\n",
    "            print(', ', end='')\n",
    "    print(']')\n",
    "\n",
    "def print_value(label, value):\n",
    "    print('%s = ' % label, end='')\n",
    "    print('{:11.3f}'.format(value))\n",
    "\n",
    "def print_value_to_string(label, value):\n",
    "    output = io.StringIO()\n",
    "    print('%s = ' % label, end='', file=output)\n",
    "    print('{:11.3f}'.format(value), file=output)\n",
    "    captured = output.getvalue()\n",
    "    return captured\n",
    "\n",
    "def draw_plot(xs, ys, label, style_idx, color_idx=-1, marker_num=16, scatter=False, scatter_s=2):\n",
    "    linestyle  = ['-',          '-',            '-',            '-',            '-',\n",
    "                  '-',          '-',            '-',            '-',            '-',\n",
    "                  '-',          '-',            '-',            '-',            '-',\n",
    "                  '-',          '-',            '-',            '-',            '-',\n",
    "                  '-',          '-',            '-',            '-',            '-']\n",
    "    colors     = ['blue',       'green',        'red',          'orange',       'purple',\n",
    "                  'cyan',       'darkseagreen', 'brown',        'goldenrod',    'darkviolet',\n",
    "                  'steelblue',  'limegreen',    'tomato',       'tan',          'deeppink',\n",
    "                  'navy',       'lightgreen',   'indianred',    'khaki',        'rebeccapurple',\n",
    "                  'slategray',  'forestgreen',  'orangered',    'wheat',        'orchid']\n",
    "    markers    = ['o',          'v',            '<',            's',            'p',\n",
    "                  'h',          '*',            'X',            'x',            '^',\n",
    "                  '>',          'P',            'D',            'H',            'd',\n",
    "                  '|',          '-',            '4'             '5',            '6',\n",
    "                  '7',          '8',            '9 ',           '10',           '+']\n",
    "\n",
    "    if color_idx < 0:\n",
    "        color_idx = style_idx\n",
    "\n",
    "    if isinstance(xs, list):\n",
    "        xs = np.array(xs)\n",
    "    if isinstance(ys, list):\n",
    "        ys = np.array(ys)\n",
    "\n",
    "    if (marker_num == 0):\n",
    "        selected_markevery = None\n",
    "        selected_marker = None\n",
    "    elif not isinstance(xs, np.ndarray):\n",
    "        selected_markevery = None\n",
    "        selected_marker = markers[style_idx]\n",
    "    elif (marker_num > 0):\n",
    "        markeverys = []\n",
    "        if xs[0] > xs[-1]:\n",
    "            first_idx = -1\n",
    "        else:\n",
    "            first_idx = 0\n",
    "        x_step = (xs.max() - xs.min()) / marker_num\n",
    "        for idx in range(len(markers)):\n",
    "            x_start = xs.min() + ((x_step / (len(markers) + 1)) * idx)\n",
    "            marker_list = []\n",
    "            for j in range(marker_num):\n",
    "                tmp_array = np.where(xs > (x_start + (x_step * j)))\n",
    "                if (len(tmp_array[0]) > 0):\n",
    "                    marker_list.append(tmp_array[0][first_idx])\n",
    "            markeverys.append(marker_list)\n",
    "\n",
    "        selected_markevery = markeverys[style_idx]\n",
    "        selected_marker = markers[style_idx]\n",
    "    else:\n",
    "        selected_markevery = None\n",
    "        selected_marker = markers[style_idx]\n",
    "\n",
    "    if (scatter):\n",
    "        plt.scatter(xs, ys, color=colors[color_idx], marker=selected_marker, s=scatter_s, label=label)\n",
    "    else:\n",
    "        plt.plot(xs, ys, ls=linestyle[style_idx], color=colors[color_idx], marker=selected_marker, markevery=selected_markevery, label=label)\n",
    "    if (label != None):\n",
    "        plt.legend(bbox_to_anchor=(1.05, 1), loc='upper left', borderaxespad=0.)\n",
    "\n",
    "def set_plot_size(xrate, yrate):\n",
    "    if (len(set_plot_size.g_plt_figsize) == 0):\n",
    "        set_plot_size.g_plt_figsize = plt.rcParams[\"figure.figsize\"]\n",
    "    size = []\n",
    "    size.append(set_plot_size.g_plt_figsize[0] * xrate)\n",
    "    size.append(set_plot_size.g_plt_figsize[1] * yrate)\n",
    "    plt.figure(figsize=size)\n",
    "\n",
    "set_plot_size.g_plt_figsize = []"
   ]
  },
  {
   "cell_type": "markdown",
   "metadata": {},
   "source": [
    "*******************************************************************************\n",
    "## 실험01 이득이-2인 반전증폭기"
   ]
  },
  {
   "cell_type": "markdown",
   "metadata": {},
   "source": [
    "### 실험01-01 +15V와 -15V 만들기"
   ]
  },
  {
   "cell_type": "markdown",
   "metadata": {},
   "source": [
    "#### 실험 방법"
   ]
  },
  {
   "cell_type": "code",
   "execution_count": null,
   "metadata": {},
   "outputs": [],
   "source": [
    "display(Image(\"./images/ch04_ep01_01_circuit.png\", width=300))"
   ]
  },
  {
   "cell_type": "markdown",
   "metadata": {},
   "source": [
    "#### 실험 결과"
   ]
  },
  {
   "cell_type": "markdown",
   "metadata": {},
   "source": [
    "##### 제작한 회로"
   ]
  },
  {
   "cell_type": "code",
   "execution_count": null,
   "metadata": {},
   "outputs": [],
   "source": [
    "display(Image(\"./data/ch04_ep01_01_result_circuit.jpg\", width=600))"
   ]
  },
  {
   "cell_type": "code",
   "execution_count": 4,
   "metadata": {},
   "outputs": [],
   "source": [
    "# DMM으로 측정한 결과 기록\n",
    "\n",
    "V_CH1_V = ?\n",
    "V_CH2_V = ?"
   ]
  },
  {
   "cell_type": "markdown",
   "metadata": {},
   "source": [
    "#### 결과 분석"
   ]
  },
  {
   "cell_type": "code",
   "execution_count": null,
   "metadata": {},
   "outputs": [],
   "source": [
    "print_value(\"V_CH1_V\", V_CH1_V)\n",
    "print_value(\"V_CH2_V\", V_CH2_V)"
   ]
  },
  {
   "cell_type": "markdown",
   "metadata": {},
   "source": [
    "### 실험01-02~04 반전증폭기 만들기"
   ]
  },
  {
   "cell_type": "markdown",
   "metadata": {},
   "source": [
    "#### 실험 방법\n",
    "\n",
    "* 연산증폭기: 741 OP amp\n",
    "* VCC: 15 V\n",
    "* -VCC: -15 V\n",
    "* Vi: 정현파, 주파수 1 kHz, 크기 1 Vpp"
   ]
  },
  {
   "cell_type": "code",
   "execution_count": null,
   "metadata": {},
   "outputs": [],
   "source": [
    "display(Image(\"./images/ch04_ep01_02_circuit.png\", width=400))"
   ]
  },
  {
   "cell_type": "markdown",
   "metadata": {},
   "source": [
    "#### 실험 결과"
   ]
  },
  {
   "cell_type": "markdown",
   "metadata": {},
   "source": [
    "##### 제작한 회로"
   ]
  },
  {
   "cell_type": "code",
   "execution_count": null,
   "metadata": {},
   "outputs": [],
   "source": [
    "display(Image(\"./data/ch04_ep01_02_result_circuit.jpg\", width=1000))"
   ]
  },
  {
   "cell_type": "markdown",
   "metadata": {},
   "source": [
    "##### 오실로스코프 화면"
   ]
  },
  {
   "cell_type": "code",
   "execution_count": null,
   "metadata": {},
   "outputs": [],
   "source": [
    "display(Image(\"./data/ch04_ep01_03_result.png\", width=600))\n",
    "display(Image(\"./data/ch04_ep01_04_result_xy.png\", width=600))"
   ]
  },
  {
   "cell_type": "markdown",
   "metadata": {},
   "source": [
    "#### 결과 분석"
   ]
  },
  {
   "cell_type": "code",
   "execution_count": null,
   "metadata": {},
   "outputs": [],
   "source": [
    "# 실험 결과 파일을 읽는다.\n",
    "data = get_oscilloscpoe_result_tektronix('./data/ch04_ep01_02_result.csv')\n",
    "\n",
    "# 실험 결과에서 시간, 입력 전압, 출력 전압을 가져온다.\n",
    "times = data['TIME']\n",
    "vins = data['Sample CH1']\n",
    "vouts = data['Sample CH2']\n",
    "\n",
    "# 필터를 적용해 잡음을 줄인다.\n",
    "vins = savgol_filter(vins, 100, 2)\n",
    "vouts = savgol_filter(vouts, 100, 2)\n",
    "\n",
    "# 시간을 x축, 전압들을 y축으로 하는 그래프를 그린다.\n",
    "plt.xlabel('TIME_s')\n",
    "plt.ylabel('V_V')\n",
    "plt.axhline(0, color='black')\n",
    "plt.axvline(0, color='black')\n",
    "draw_plot(times, vins, 'V(IN)', 0)\n",
    "draw_plot(times, vouts, 'V(OUT)', 1)\n",
    "plt.show()\n",
    "\n",
    "# 입력 전압을 x축, 출력 전압을 y축으로 하는 그래프를 그린다.\n",
    "plt.xlabel('V_IN_V')\n",
    "plt.ylabel('V_OUT_V')\n",
    "plt.axhline(0, color='black')\n",
    "plt.axvline(0, color='black')\n",
    "draw_plot(vins, vouts, \"XY\", 0)\n",
    "plt.show()\n",
    "\n",
    "V_IN_pp_V = vins.max() - vins.min()\n",
    "print_value(\"V_IN_pp_V\", V_IN_pp_V)\n",
    "V_OUT_pp_V = vouts.max() - vouts.min()\n",
    "print_value(\"V_OUT_pp_V\", V_OUT_pp_V)"
   ]
  },
  {
   "cell_type": "markdown",
   "metadata": {},
   "source": [
    "### 실험01-05 반전증폭기 출력 제한"
   ]
  },
  {
   "cell_type": "markdown",
   "metadata": {},
   "source": [
    "#### 실험 방법\n",
    "\n",
    "* Vi: 정현파, 주파수 1 kHz, 크기 20 Vpp"
   ]
  },
  {
   "cell_type": "markdown",
   "metadata": {},
   "source": [
    "#### 실험 결과"
   ]
  },
  {
   "cell_type": "markdown",
   "metadata": {},
   "source": [
    "##### 오실로스코프 화면"
   ]
  },
  {
   "cell_type": "code",
   "execution_count": null,
   "metadata": {},
   "outputs": [],
   "source": [
    "display(Image(\"./data/ch04_ep01_05_result.png\", width=600))\n",
    "display(Image(\"./data/ch04_ep01_05_result_xy.png\", width=600))"
   ]
  },
  {
   "cell_type": "markdown",
   "metadata": {},
   "source": [
    "#### 결과 분석"
   ]
  },
  {
   "cell_type": "code",
   "execution_count": null,
   "metadata": {},
   "outputs": [],
   "source": [
    "# 실험 결과 파일을 읽는다.\n",
    "data = get_oscilloscpoe_result_tektronix('./data/ch04_ep01_05_result.csv')\n",
    "\n",
    "# 실험 결과에서 시간, 입력 전압, 출력 전압을 가져온다.\n",
    "times = data['TIME']\n",
    "vins = data['Sample CH1']\n",
    "vouts = data['Sample CH2']\n",
    "\n",
    "# 필터를 적용해 잡음을 줄인다.\n",
    "vins = savgol_filter(vins, 100, 2)\n",
    "vouts = savgol_filter(vouts, 100, 2)\n",
    "\n",
    "# 시간을 x축, 전압들을 y축으로 하는 그래프를 그린다.\n",
    "plt.xlabel('TIME_s')\n",
    "plt.ylabel('V_V')\n",
    "plt.axhline(0, color='black')\n",
    "plt.axvline(0, color='black')\n",
    "draw_plot(times, vins, 'V(IN)', 0)\n",
    "draw_plot(times, vouts, 'V(OUT)', 1)\n",
    "plt.show()\n",
    "\n",
    "# 입력 전압을 x축, 출력 전압을 y축으로 하는 그래프를 그린다.\n",
    "plt.xlabel('V_IN_V')\n",
    "plt.ylabel('V_OUT_V')\n",
    "plt.axhline(0, color='black')\n",
    "plt.axvline(0, color='black')\n",
    "draw_plot(vins, vouts, \"XY\", 0)\n",
    "plt.show()\n",
    "\n",
    "\n",
    "V_IN_pp_V = vins.max() - vins.min()\n",
    "print_value(\"V_IN_pp_V\", V_IN_pp_V)\n",
    "V_OUT_pp_V = vouts.max() - vouts.min()\n",
    "print_value(\"V_OUT_pp_V\", V_OUT_pp_V)"
   ]
  },
  {
   "cell_type": "markdown",
   "metadata": {},
   "source": [
    "### 실험01-06 반전증폭기 직류 증폭"
   ]
  },
  {
   "cell_type": "markdown",
   "metadata": {},
   "source": [
    "#### 실험 방법\n",
    "\n",
    "* Vi: 직류 1 V"
   ]
  },
  {
   "cell_type": "markdown",
   "metadata": {},
   "source": [
    "#### 실험 결과"
   ]
  },
  {
   "cell_type": "markdown",
   "metadata": {},
   "source": [
    "##### 오실로스코프 화면"
   ]
  },
  {
   "cell_type": "code",
   "execution_count": null,
   "metadata": {},
   "outputs": [],
   "source": [
    "display(Image(\"./data/ch04_ep01_06_result.png\", width=600))"
   ]
  },
  {
   "cell_type": "markdown",
   "metadata": {},
   "source": [
    "#### 결과 분석"
   ]
  },
  {
   "cell_type": "code",
   "execution_count": null,
   "metadata": {},
   "outputs": [],
   "source": [
    "# 실험 결과 파일을 읽는다.\n",
    "data = get_oscilloscpoe_result_tektronix('./data/ch04_ep01_06_result.csv')\n",
    "\n",
    "# 실험 결과에서 시간, 입력 전압, 출력 전압을 가져온다.\n",
    "times = data['TIME']\n",
    "vins = data['Sample CH1']\n",
    "vouts = data['Sample CH2']\n",
    "\n",
    "# 필터를 적용해 잡음을 줄인다.\n",
    "vins = savgol_filter(vins, 100, 2)\n",
    "vouts = savgol_filter(vouts, 100, 2)\n",
    "\n",
    "# 시간을 x축, 전압들을 y축으로 하는 그래프를 그린다.\n",
    "plt.xlabel('TIME_s')\n",
    "plt.ylabel('V_V')\n",
    "plt.axhline(0, color='black')\n",
    "plt.axvline(0, color='black')\n",
    "draw_plot(times, vins, 'V(IN)', 0)\n",
    "draw_plot(times, vouts, 'V(OUT)', 1)\n",
    "plt.show()\n",
    "\n",
    "V_IN_mean_V = vins.mean()\n",
    "V_OUT_mean_V = vouts.mean()\n",
    "\n",
    "print_value(\"V_IN_mean_V\", V_IN_mean_V)\n",
    "print_value(\"V_OUT_mean_V\", V_OUT_mean_V)"
   ]
  },
  {
   "cell_type": "markdown",
   "metadata": {},
   "source": [
    "*******************************************************************************\n",
    "## 실험02 이득이 2인 비반전증폭기"
   ]
  },
  {
   "cell_type": "markdown",
   "metadata": {},
   "source": [
    "### 실험02-01~02 비반전증폭기 만들기"
   ]
  },
  {
   "cell_type": "markdown",
   "metadata": {},
   "source": [
    "#### 실험 방법\n",
    "\n",
    "* 연산증폭기: 741 OP amp\n",
    "* VCC: 15 V\n",
    "* -VCC: -15 V\n",
    "* Vi: 정현파, 주파수 1 kHz, 크기 1 Vpp"
   ]
  },
  {
   "cell_type": "code",
   "execution_count": null,
   "metadata": {},
   "outputs": [],
   "source": [
    "display(Image(\"./images/ch04_ep02_01_circuit.png\", width=400))"
   ]
  },
  {
   "cell_type": "markdown",
   "metadata": {},
   "source": [
    "#### 실험 결과"
   ]
  },
  {
   "cell_type": "markdown",
   "metadata": {},
   "source": [
    "##### 제작한 회로"
   ]
  },
  {
   "cell_type": "code",
   "execution_count": null,
   "metadata": {},
   "outputs": [],
   "source": [
    "display(Image(\"./data/ch04_ep02_01_result_circuit.jpg\", width=1000))"
   ]
  },
  {
   "cell_type": "markdown",
   "metadata": {},
   "source": [
    "##### 오실로스코프 화면"
   ]
  },
  {
   "cell_type": "code",
   "execution_count": null,
   "metadata": {},
   "outputs": [],
   "source": [
    "display(Image(\"./data/ch04_ep02_02_result.png\", width=600))\n",
    "display(Image(\"./data/ch04_ep02_02_result_xy.png\", width=600))"
   ]
  },
  {
   "cell_type": "markdown",
   "metadata": {},
   "source": [
    "#### 결과 분석"
   ]
  },
  {
   "cell_type": "code",
   "execution_count": null,
   "metadata": {},
   "outputs": [],
   "source": [
    "# 실험 결과 파일을 읽는다.\n",
    "data = get_oscilloscpoe_result_tektronix('./data/ch04_ep02_02_result.csv')\n",
    "\n",
    "# 실험 결과에서 시간, 입력 전압, 출력 전압을 가져온다.\n",
    "times = data['TIME']\n",
    "vins = data['Sample CH1']\n",
    "vouts = data['Sample CH2']\n",
    "\n",
    "# 필터를 적용해 잡음을 줄인다.\n",
    "vins = savgol_filter(vins, 100, 2)\n",
    "vouts = savgol_filter(vouts, 100, 2)\n",
    "\n",
    "# 시간을 x축, 전압들을 y축으로 하는 그래프를 그린다.\n",
    "plt.xlabel('TIME_s')\n",
    "plt.ylabel('V_V')\n",
    "plt.axhline(0, color='black')\n",
    "plt.axvline(0, color='black')\n",
    "draw_plot(times, vins, 'V(IN)', 0)\n",
    "draw_plot(times, vouts, 'V(OUT)', 1)\n",
    "plt.show()\n",
    "\n",
    "# 입력 전압을 x축, 출력 전압을 y축으로 하는 그래프를 그린다.\n",
    "plt.xlabel('V_IN_V')\n",
    "plt.ylabel('V_OUT_V')\n",
    "plt.axhline(0, color='black')\n",
    "plt.axvline(0, color='black')\n",
    "draw_plot(vins, vouts, \"XY\", 0)\n",
    "plt.show()\n",
    "\n",
    "V_IN_pp_V = vins.max() - vins.min()\n",
    "print_value(\"V_IN_pp_V\", V_IN_pp_V)\n",
    "V_OUT_pp_V = vouts.max() - vouts.min()\n",
    "print_value(\"V_OUT_pp_V\", V_OUT_pp_V)"
   ]
  },
  {
   "cell_type": "markdown",
   "metadata": {},
   "source": [
    "### 실험02-03 비반전증폭기 출력 제한"
   ]
  },
  {
   "cell_type": "markdown",
   "metadata": {},
   "source": [
    "#### 실험 방법\n",
    "\n",
    "* Vi: 정현파, 주파수 1 kHz, 크기 20 Vpp"
   ]
  },
  {
   "cell_type": "markdown",
   "metadata": {},
   "source": [
    "#### 실험 결과"
   ]
  },
  {
   "cell_type": "markdown",
   "metadata": {},
   "source": [
    "##### 오실로스코프 화면"
   ]
  },
  {
   "cell_type": "code",
   "execution_count": null,
   "metadata": {},
   "outputs": [],
   "source": [
    "display(Image(\"./data/ch04_ep02_03_result.png\", width=600))\n",
    "display(Image(\"./data/ch04_ep02_03_result_xy.png\", width=600))"
   ]
  },
  {
   "cell_type": "markdown",
   "metadata": {},
   "source": [
    "#### 결과 분석"
   ]
  },
  {
   "cell_type": "code",
   "execution_count": null,
   "metadata": {},
   "outputs": [],
   "source": [
    "# 실험 결과 파일을 읽는다.\n",
    "data = get_oscilloscpoe_result_tektronix('./data/ch04_ep02_03_result.csv')\n",
    "\n",
    "# 실험 결과에서 시간, 입력 전압, 출력 전압을 가져온다.\n",
    "times = data['TIME']\n",
    "vins = data['Sample CH1']\n",
    "vouts = data['Sample CH2']\n",
    "\n",
    "# 필터를 적용해 잡음을 줄인다.\n",
    "vins = savgol_filter(vins, 100, 2)\n",
    "vouts = savgol_filter(vouts, 100, 2)\n",
    "\n",
    "# 시간을 x축, 전압들을 y축으로 하는 그래프를 그린다.\n",
    "plt.xlabel('TIME_s')\n",
    "plt.ylabel('V_V')\n",
    "plt.axhline(0, color='black')\n",
    "plt.axvline(0, color='black')\n",
    "draw_plot(times, vins, 'V(IN)', 0)\n",
    "draw_plot(times, vouts, 'V(OUT)', 1)\n",
    "plt.show()\n",
    "\n",
    "# 입력 전압을 x축, 출력 전압을 y축으로 하는 그래프를 그린다.\n",
    "plt.xlabel('V_IN_V')\n",
    "plt.ylabel('V_OUT_V')\n",
    "plt.axhline(0, color='black')\n",
    "plt.axvline(0, color='black')\n",
    "draw_plot(vins, vouts, \"XY\", 0)\n",
    "plt.show()\n",
    "\n",
    "V_IN_pp_V = vins.max() - vins.min()\n",
    "print_value(\"V_IN_pp_V\", V_IN_pp_V)\n",
    "V_OUT_pp_V = vouts.max() - vouts.min()\n",
    "print_value(\"V_OUT_pp_V\", V_OUT_pp_V)"
   ]
  },
  {
   "cell_type": "markdown",
   "metadata": {},
   "source": [
    "### 실험02-04 비반전증폭기 직류 증폭"
   ]
  },
  {
   "cell_type": "markdown",
   "metadata": {},
   "source": [
    "#### 실험 방법\n",
    "\n",
    "* Vi: 직류 1 V"
   ]
  },
  {
   "cell_type": "markdown",
   "metadata": {},
   "source": [
    "#### 실험 결과"
   ]
  },
  {
   "cell_type": "markdown",
   "metadata": {},
   "source": [
    "##### 오실로스코프 화면"
   ]
  },
  {
   "cell_type": "code",
   "execution_count": null,
   "metadata": {},
   "outputs": [],
   "source": [
    "\n",
    "display(Image(\"./data/ch04_ep02_04_result.png\", width=600))"
   ]
  },
  {
   "cell_type": "markdown",
   "metadata": {},
   "source": [
    "#### 결과 분석"
   ]
  },
  {
   "cell_type": "code",
   "execution_count": null,
   "metadata": {},
   "outputs": [],
   "source": [
    "# 실험 결과 파일을 읽는다.\n",
    "data = get_oscilloscpoe_result_tektronix('./data/ch04_ep02_04_result.csv')\n",
    "\n",
    "# 실험 결과에서 시간, 입력 전압, 출력 전압을 가져온다.\n",
    "times = data['TIME']\n",
    "vins = data['Sample CH1']\n",
    "vouts = data['Sample CH2']\n",
    "\n",
    "# 필터를 적용해 잡음을 줄인다.\n",
    "vins = savgol_filter(vins, 100, 2)\n",
    "vouts = savgol_filter(vouts, 100, 2)\n",
    "\n",
    "# 시간을 x축, 전압들을 y축으로 하는 그래프를 그린다.\n",
    "plt.xlabel('TIME_s')\n",
    "plt.ylabel('V_V')\n",
    "plt.axhline(0, color='black')\n",
    "plt.axvline(0, color='black')\n",
    "draw_plot(times, vins, 'V(IN)', 0)\n",
    "draw_plot(times, vouts, 'V(OUT)', 1)\n",
    "plt.show()\n",
    "\n",
    "V_IN_mean_V = vins.mean()\n",
    "V_OUT_mean_V = vouts.mean()\n",
    "\n",
    "print_value(\"V_IN_mean_V\", V_IN_mean_V)\n",
    "print_value(\"V_OUT_mean_V\", V_OUT_mean_V)"
   ]
  },
  {
   "cell_type": "markdown",
   "metadata": {},
   "source": [
    "*******************************************************************************\n",
    "## 실험03 Voltage Follower"
   ]
  },
  {
   "cell_type": "markdown",
   "metadata": {},
   "source": [
    "### 실험03-01 Voltage Follower 만들기"
   ]
  },
  {
   "cell_type": "markdown",
   "metadata": {},
   "source": [
    "#### 실험 방법\n",
    "\n",
    "* 연산증폭기: 741 OP amp\n",
    "* VCC: 15 V\n",
    "* -VCC: -15 V\n",
    "* Vi: 정현파, 주파수 1 kHz, 크기 1 Vpp"
   ]
  },
  {
   "cell_type": "code",
   "execution_count": null,
   "metadata": {},
   "outputs": [],
   "source": [
    "display(Image(\"./images/ch04_ep03_01_circuit.png\", width=400))"
   ]
  },
  {
   "cell_type": "markdown",
   "metadata": {},
   "source": [
    "#### 실험 결과"
   ]
  },
  {
   "cell_type": "markdown",
   "metadata": {},
   "source": [
    "##### 제작한 회로"
   ]
  },
  {
   "cell_type": "code",
   "execution_count": null,
   "metadata": {},
   "outputs": [],
   "source": [
    "display(Image(\"./data/ch04_ep03_01_result_circuit.jpg\", width=1000))"
   ]
  },
  {
   "cell_type": "markdown",
   "metadata": {},
   "source": [
    "##### 오실로스코프 화면"
   ]
  },
  {
   "cell_type": "code",
   "execution_count": null,
   "metadata": {},
   "outputs": [],
   "source": [
    "display(Image(\"./data/ch04_ep03_01_result.png\", width=600))\n",
    "display(Image(\"./data/ch04_ep03_01_result_xy.png\", width=600))"
   ]
  },
  {
   "cell_type": "markdown",
   "metadata": {},
   "source": [
    "#### 결과 분석"
   ]
  },
  {
   "cell_type": "code",
   "execution_count": null,
   "metadata": {},
   "outputs": [],
   "source": [
    "# 실험 결과 파일을 읽는다.\n",
    "data = get_oscilloscpoe_result_tektronix('./data/ch04_ep03_01_result.csv')\n",
    "\n",
    "# 실험 결과에서 시간, 입력 전압, 출력 전압을 가져온다.\n",
    "times = data['TIME']\n",
    "vins = data['Sample CH1']\n",
    "vouts = data['Sample CH2']\n",
    "\n",
    "# 필터를 적용해 잡음을 줄인다.\n",
    "vins = savgol_filter(vins, 100, 2)\n",
    "vouts = savgol_filter(vouts, 100, 2)\n",
    "\n",
    "# 시간을 x축, 전압들을 y축으로 하는 그래프를 그린다.\n",
    "plt.xlabel('TIME_s')\n",
    "plt.ylabel('V_V')\n",
    "plt.axhline(0, color='black')\n",
    "plt.axvline(0, color='black')\n",
    "draw_plot(times, vins, 'V(IN)', 0)\n",
    "draw_plot(times, vouts, 'V(OUT)', 1)\n",
    "plt.show()\n",
    "\n",
    "# 입력 전압을 x축, 출력 전압을 y축으로 하는 그래프를 그린다.\n",
    "plt.xlabel('V_IN_V')\n",
    "plt.ylabel('V_OUT_V')\n",
    "plt.axhline(0, color='black')\n",
    "plt.axvline(0, color='black')\n",
    "draw_plot(vins, vouts, \"XY\", 0)\n",
    "plt.show()\n",
    "\n",
    "V_IN_pp_V = vins.max() - vins.min()\n",
    "print_value(\"V_IN_pp_V\", V_IN_pp_V)\n",
    "V_OUT_pp_V = vouts.max() - vouts.min()\n",
    "print_value(\"V_OUT_pp_V\", V_OUT_pp_V)"
   ]
  },
  {
   "cell_type": "markdown",
   "metadata": {},
   "source": [
    "*******************************************************************************\n",
    "## 실험04 반전가산기"
   ]
  },
  {
   "cell_type": "markdown",
   "metadata": {},
   "source": [
    "### 실험04-01~02 반전가산기 만들기"
   ]
  },
  {
   "cell_type": "markdown",
   "metadata": {},
   "source": [
    "#### 실험 방법\n",
    "\n",
    "* 연산증폭기: 741 OP amp\n",
    "* VCC: 15 V\n",
    "* -VCC: -15 V\n",
    "* V1: 정현파, 주파수 1 kHz, 크기 2 Vpp\n",
    "* V2: 구형파, 주파수 1 kHz, 크기 2 Vpp\n"
   ]
  },
  {
   "cell_type": "code",
   "execution_count": null,
   "metadata": {},
   "outputs": [],
   "source": [
    "display(Image(\"./images/ch04_ep04_01_circuit.png\", width=400))"
   ]
  },
  {
   "cell_type": "markdown",
   "metadata": {},
   "source": [
    "#### 실험 결과"
   ]
  },
  {
   "cell_type": "markdown",
   "metadata": {},
   "source": [
    "##### 제작한 회로"
   ]
  },
  {
   "cell_type": "code",
   "execution_count": null,
   "metadata": {},
   "outputs": [],
   "source": [
    "display(Image(\"./data/ch04_ep04_01_result_circuit.jpg\", width=1000))"
   ]
  },
  {
   "cell_type": "markdown",
   "metadata": {},
   "source": [
    "##### 오실로스코프 화면"
   ]
  },
  {
   "cell_type": "code",
   "execution_count": null,
   "metadata": {},
   "outputs": [],
   "source": [
    "display(Image(\"./data/ch04_ep04_02_result.png\", width=600))"
   ]
  },
  {
   "cell_type": "markdown",
   "metadata": {},
   "source": [
    "#### 결과 분석"
   ]
  },
  {
   "cell_type": "code",
   "execution_count": null,
   "metadata": {},
   "outputs": [],
   "source": [
    "# 실험 결과 파일을 읽는다.\n",
    "data = get_oscilloscpoe_result_tektronix('./data/ch04_ep04_02_result.csv')\n",
    "\n",
    "# 실험 결과에서 시간, 입력 전압, 출력 전압을 가져온다.\n",
    "times = data['TIME']\n",
    "vins = data['Sample CH1']\n",
    "vouts = data['Sample CH2']\n",
    "\n",
    "# 필터를 적용해 잡음을 줄인다.\n",
    "vins = savgol_filter(vins, 100, 2)\n",
    "vouts = savgol_filter(vouts, 100, 2)\n",
    "\n",
    "# 시간을 x축, 전압들을 y축으로 하는 그래프를 그린다.\n",
    "plt.xlabel('TIME_s')\n",
    "plt.ylabel('V_V')\n",
    "plt.axhline(0, color='black')\n",
    "plt.axvline(0, color='black')\n",
    "draw_plot(times, vins, 'V(IN)', 0)\n",
    "draw_plot(times, vouts, 'V(OUT)', 1)\n",
    "plt.show()\n",
    "\n",
    "V_IN_pp_V = vins.max() - vins.min()\n",
    "print_value(\"V_IN_pp_V\", V_IN_pp_V)\n",
    "V_OUT_pp_V = vouts.max() - vouts.min()\n",
    "print_value(\"V_OUT_pp_V\", V_OUT_pp_V)"
   ]
  },
  {
   "cell_type": "markdown",
   "metadata": {},
   "source": [
    "*******************************************************************************\n",
    "## 실험05 비반전가산기"
   ]
  },
  {
   "cell_type": "markdown",
   "metadata": {},
   "source": [
    "### 실험05-01~02 비반전가산기 만들기"
   ]
  },
  {
   "cell_type": "markdown",
   "metadata": {},
   "source": [
    "#### 실험 방법\n",
    "\n",
    "* 연산증폭기: 741 OP amp\n",
    "* VCC: 15 V\n",
    "* -VCC: -15 V\n",
    "* V1: 정현파, 주파수 1 kHz, 크기 2 Vpp\n",
    "* V2: 구형파, 주파수 1 kHz, 크기 2 Vpp\n"
   ]
  },
  {
   "cell_type": "code",
   "execution_count": null,
   "metadata": {},
   "outputs": [],
   "source": [
    "display(Image(\"./images/ch04_ep05_01_circuit.png\", width=400))"
   ]
  },
  {
   "cell_type": "markdown",
   "metadata": {},
   "source": [
    "#### 실험 결과"
   ]
  },
  {
   "cell_type": "markdown",
   "metadata": {},
   "source": [
    "##### 제작한 회로"
   ]
  },
  {
   "cell_type": "code",
   "execution_count": null,
   "metadata": {},
   "outputs": [],
   "source": [
    "display(Image(\"./data/ch04_ep05_01_result_circuit.jpg\", width=1000))"
   ]
  },
  {
   "cell_type": "markdown",
   "metadata": {},
   "source": [
    "##### 오실로스코프 화면"
   ]
  },
  {
   "cell_type": "code",
   "execution_count": null,
   "metadata": {},
   "outputs": [],
   "source": [
    "display(Image(\"./data/ch04_ep05_02_result.png\", width=600))"
   ]
  },
  {
   "cell_type": "markdown",
   "metadata": {},
   "source": [
    "#### 결과 분석"
   ]
  },
  {
   "cell_type": "code",
   "execution_count": null,
   "metadata": {},
   "outputs": [],
   "source": [
    "# 실험 결과 파일을 읽는다.\n",
    "data = get_oscilloscpoe_result_tektronix('./data/ch04_ep05_02_result.csv')\n",
    "\n",
    "# 실험 결과에서 시간, 입력 전압, 출력 전압을 가져온다.\n",
    "times = data['TIME']\n",
    "vins = data['Sample CH1']\n",
    "vouts = data['Sample CH2']\n",
    "\n",
    "# 필터를 적용해 잡음을 줄인다.\n",
    "vins = savgol_filter(vins, 100, 2)\n",
    "vouts = savgol_filter(vouts, 100, 2)\n",
    "\n",
    "# 시간을 x축, 전압들을 y축으로 하는 그래프를 그린다.\n",
    "plt.xlabel('TIME_s')\n",
    "plt.ylabel('V_V')\n",
    "plt.axhline(0, color='black')\n",
    "plt.axvline(0, color='black')\n",
    "draw_plot(times, vins, 'V(IN)', 0)\n",
    "draw_plot(times, vouts, 'V(OUT)', 1)\n",
    "plt.show()\n",
    "\n",
    "V_IN_pp_V = vins.max() - vins.min()\n",
    "print_value(\"V_IN_pp_V\", V_IN_pp_V)\n",
    "V_OUT_pp_V = vouts.max() - vouts.min()\n",
    "print_value(\"V_OUT_pp_V\", V_OUT_pp_V)"
   ]
  },
  {
   "cell_type": "markdown",
   "metadata": {},
   "source": [
    "### 실험05-03 비반전가산기 실험2 "
   ]
  },
  {
   "cell_type": "markdown",
   "metadata": {},
   "source": [
    "#### 실험 방법\n",
    "\n",
    "* V1: 정현파, 주파수 1 kHz, 크기 3 Vpp\n",
    "* V2: 구형파, 주파수 5 kHz, 크기 1 Vpp\n"
   ]
  },
  {
   "cell_type": "markdown",
   "metadata": {},
   "source": [
    "#### 실험 결과"
   ]
  },
  {
   "cell_type": "markdown",
   "metadata": {},
   "source": [
    "##### 오실로스코프 화면"
   ]
  },
  {
   "cell_type": "code",
   "execution_count": null,
   "metadata": {},
   "outputs": [],
   "source": [
    "display(Image(\"./data/ch04_ep05_03_result.png\", width=600))"
   ]
  },
  {
   "cell_type": "markdown",
   "metadata": {},
   "source": [
    "#### 결과 분석"
   ]
  },
  {
   "cell_type": "code",
   "execution_count": null,
   "metadata": {},
   "outputs": [],
   "source": [
    "# 실험 결과 파일을 읽는다.\n",
    "data = get_oscilloscpoe_result_tektronix('./data/ch04_ep05_03_result.csv')\n",
    "\n",
    "# 실험 결과에서 시간, 입력 전압, 출력 전압을 가져온다.\n",
    "times = data['TIME']\n",
    "vins = data['Sample CH1']\n",
    "vouts = data['Sample CH2']\n",
    "\n",
    "# 필터를 적용해 잡음을 줄인다.\n",
    "# vins = savgol_filter(vins, 100, 2)\n",
    "# vouts = savgol_filter(vouts, 100, 2)\n",
    "\n",
    "# 시간을 x축, 전압들을 y축으로 하는 그래프를 그린다.\n",
    "plt.xlabel('TIME_s')\n",
    "plt.ylabel('V_V')\n",
    "plt.axhline(0, color='black')\n",
    "plt.axvline(0, color='black')\n",
    "plt.xlim((-0.0001, 0.0015))\n",
    "draw_plot(times, vins, 'V(IN)', 0)\n",
    "draw_plot(times, vouts, 'V(OUT)', 1)\n",
    "plt.show()"
   ]
  }
 ],
 "metadata": {
  "kernelspec": {
   "display_name": "Python 3.10.6 64-bit",
   "language": "python",
   "name": "python3"
  },
  "language_info": {
   "codemirror_mode": {
    "name": "ipython",
    "version": 3
   },
   "file_extension": ".py",
   "mimetype": "text/x-python",
   "name": "python",
   "nbconvert_exporter": "python",
   "pygments_lexer": "ipython3",
   "version": "3.10.12"
  },
  "orig_nbformat": 4,
  "vscode": {
   "interpreter": {
    "hash": "45d5ea1a628b116fc37336f3e2703270bd779ac9277507a8bf46eb41278a50a9"
   }
  }
 },
 "nbformat": 4,
 "nbformat_minor": 2
}
