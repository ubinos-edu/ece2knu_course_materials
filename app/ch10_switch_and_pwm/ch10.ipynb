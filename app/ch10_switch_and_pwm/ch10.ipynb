{
 "cells": [
  {
   "cell_type": "markdown",
   "metadata": {},
   "source": [
    "# 10장 스위칭회로와 PWM"
   ]
  },
  {
   "cell_type": "markdown",
   "metadata": {},
   "source": [
    "* 이름: 홍길동\n",
    "* 학번: 2024123456\n",
    "* 조: 1"
   ]
  },
  {
   "cell_type": "markdown",
   "metadata": {},
   "source": [
    "## 공통 코드"
   ]
  },
  {
   "cell_type": "code",
   "execution_count": null,
   "metadata": {},
   "outputs": [],
   "source": [
    "import os,sys,inspect\n",
    "\n",
    "currentdir = os.path.dirname(os.path.abspath(inspect.getfile(inspect.currentframe())))\n",
    "parentdir = os.path.dirname(currentdir)\n",
    "sys.path.insert(0,parentdir)\n",
    "\n",
    "from common import *\n"
   ]
  },
  {
   "cell_type": "markdown",
   "metadata": {},
   "source": [
    "*******************************************************************************\n",
    "## 실험01 스위칭회로\n"
   ]
  },
  {
   "cell_type": "markdown",
   "metadata": {},
   "source": [
    "### 실험01-01 BJT를 사용한 회로의 구성\n"
   ]
  },
  {
   "cell_type": "markdown",
   "metadata": {},
   "source": [
    "#### 실험 방법\n",
    "\n",
    "* 트랜지스터: 2N2222\n",
    "* Vi: 채널1을 정현파, 주파수 1 Hz, 진폭 3.3 Vpp 로 설정 후 Sync 단자의 출력을 사용\n",
    "    "
   ]
  },
  {
   "cell_type": "code",
   "execution_count": null,
   "metadata": {},
   "outputs": [],
   "source": [
    "display_image(\"./images/ch10_ep01_01_circuit.png\", width=300)\n"
   ]
  },
  {
   "cell_type": "markdown",
   "metadata": {},
   "source": [
    "#### 실험 결과\n"
   ]
  },
  {
   "cell_type": "markdown",
   "metadata": {},
   "source": [
    "##### 제작한 회로\n"
   ]
  },
  {
   "cell_type": "code",
   "execution_count": null,
   "metadata": {},
   "outputs": [],
   "source": [
    "display_image(\"./data/ch10_ep01_01_result_circuit.jpg\", width=1000)\n"
   ]
  },
  {
   "cell_type": "markdown",
   "metadata": {},
   "source": [
    "* 고찰\n",
    "    + LED가 ?? "
   ]
  },
  {
   "cell_type": "markdown",
   "metadata": {},
   "source": [
    "### 실험01-02 FET를 사용한 회로의 구성\n"
   ]
  },
  {
   "cell_type": "markdown",
   "metadata": {},
   "source": [
    "#### 실험 방법\n",
    "\n",
    "* 트랜지스터: 2N7000\n",
    "* Vi: 채널1을 정현파, 주파수 1 Hz, 진폭 3.3 Vpp 로 설정 후 Sync 단자의 출력을 사용\n"
   ]
  },
  {
   "cell_type": "code",
   "execution_count": null,
   "metadata": {},
   "outputs": [],
   "source": [
    "display_image(\"./images/ch10_ep01_02_circuit.png\", width=300)\n"
   ]
  },
  {
   "cell_type": "markdown",
   "metadata": {},
   "source": [
    "#### 실험 결과\n"
   ]
  },
  {
   "cell_type": "markdown",
   "metadata": {},
   "source": [
    "* 고찰\n",
    "    + LED가 ?? "
   ]
  },
  {
   "cell_type": "markdown",
   "metadata": {},
   "source": [
    "*******************************************************************************\n",
    "## 실험02 스위칭회로 응답 속도 개선\n"
   ]
  },
  {
   "cell_type": "markdown",
   "metadata": {},
   "source": [
    "### 실험02-01 스위칭회로의 응답 지연 확인하기\n"
   ]
  },
  {
   "cell_type": "markdown",
   "metadata": {},
   "source": [
    "#### 실험 방법\n",
    "\n",
    "* 트랜지스터: 2N2222\n",
    "* Vi: 채널1을 정현파, 주파수 10 kHz, 진폭 3.3 Vpp 로 설정 후 Sync 단자의 출력을 사용\n",
    "* 오실로스코프 설정\n",
    "    + 트리거링 엣지: 하강엣지\n",
    "    + 가로(시간)축 설정: 1 us/DIV\n"
   ]
  },
  {
   "cell_type": "markdown",
   "metadata": {},
   "source": [
    "#### 실험 결과\n"
   ]
  },
  {
   "cell_type": "markdown",
   "metadata": {},
   "source": [
    "##### 오실로스코프 화면\n"
   ]
  },
  {
   "cell_type": "code",
   "execution_count": null,
   "metadata": {},
   "outputs": [],
   "source": [
    "display_image(\"./data/ch10_ep02_01_result.png\", width=600)"
   ]
  },
  {
   "cell_type": "markdown",
   "metadata": {},
   "source": [
    "* 고찰\n",
    "    + 입력신호가 바뀐후, BJT가 포화영역에서 차단영역으로 가는데(스위치 열림) 약 ?? 의 지연이 발생한다."
   ]
  },
  {
   "cell_type": "markdown",
   "metadata": {},
   "source": [
    "### 실험02-02 스위칭회로의 응답 속도 개선하기\n"
   ]
  },
  {
   "cell_type": "markdown",
   "metadata": {},
   "source": [
    "#### 실험 방법\n",
    "\n",
    "* 입력단 저헝에 커페시터를 병렬로 연결한다."
   ]
  },
  {
   "cell_type": "code",
   "execution_count": null,
   "metadata": {},
   "outputs": [],
   "source": [
    "display_image(\"./images/ch10_ep02_02_circuit.png\", width=300)\n"
   ]
  },
  {
   "cell_type": "markdown",
   "metadata": {},
   "source": [
    "#### 실험 결과\n"
   ]
  },
  {
   "cell_type": "markdown",
   "metadata": {},
   "source": [
    "##### 오실로스코프 화면\n"
   ]
  },
  {
   "cell_type": "code",
   "execution_count": null,
   "metadata": {},
   "outputs": [],
   "source": [
    "display_image(\"./data/ch10_ep02_02_result.png\", width=600)"
   ]
  },
  {
   "cell_type": "markdown",
   "metadata": {},
   "source": [
    "* 고찰\n",
    "    + 지연이 ??"
   ]
  },
  {
   "cell_type": "markdown",
   "metadata": {},
   "source": [
    "*******************************************************************************\n",
    "## 실험03 밝기 제어, PWM\n"
   ]
  },
  {
   "cell_type": "markdown",
   "metadata": {},
   "source": [
    "### 실험03-01 주기적 On/Off 확인하기\n"
   ]
  },
  {
   "cell_type": "markdown",
   "metadata": {},
   "source": [
    "#### 실험 방법\n",
    "\n",
    "* 베이스단자의 커패시터 제거\n",
    "* Vi: 파형 발생기의 채널1 사용\n",
    "* 파형 발생기 채널1 설정\n",
    "    + Waveform 버튼\n",
    "        - Pulse\n",
    "    + Units 버튼\n",
    "        - Period\n",
    "        - High/Low\n",
    "        - Duty Cycle\n",
    "    + Parameters 버튼\n",
    "        - Period: 1초\n",
    "        - High level: 3.3 V\n",
    "        - Low level: 0 V\n",
    "        - Duty cycle: 50 %\n",
    "        - Lead Edge: 10 ns\n",
    "        - Trail Edge: 10 ns\n",
    "* 전류 측정은 "
   ]
  },
  {
   "cell_type": "markdown",
   "metadata": {},
   "source": [
    "#### 실험 결과"
   ]
  },
  {
   "cell_type": "markdown",
   "metadata": {},
   "source": [
    "* 고찰\n",
    "    + LED가 ??"
   ]
  },
  {
   "cell_type": "markdown",
   "metadata": {},
   "source": [
    "### 실험03-02 밝기 변화 확인하기"
   ]
  },
  {
   "cell_type": "markdown",
   "metadata": {},
   "source": [
    "#### 실험 방법\n",
    "\n",
    "* Vi의 주기를 2 ms로 변경한다.\n",
    "* Duty cycle을 변경하면서 LED에 흐르는 전류와 밝기를 측정한다.\n"
   ]
  },
  {
   "cell_type": "markdown",
   "metadata": {},
   "source": [
    "#### 실험 결과"
   ]
  },
  {
   "cell_type": "code",
   "execution_count": null,
   "metadata": {},
   "outputs": [],
   "source": [
    "V_DD_V = 10\n",
    "R_Ohm = 390\n",
    "Duty_Cycle = [0.01, 10,   30,   50,   70,   90  ]\n",
    "\n",
    "V_D1_V     = [??,   ??,   ??,   ??,   ??,   ??]\n",
    "\n",
    "\n",
    "V_D1_V     = np.asarray(V_D1_V)\n",
    "V_RD_V     = V_DD_V - V_D1_V\n",
    "\n",
    "I_D_mA = V_RD_V / R_Ohm * 1000\n",
    "\n",
    "print_array(\"Duty_Cycle\", Duty_Cycle)\n",
    "print_array(\"V_RD_V    \", V_RD_V)\n",
    "print_array(\"I_LED_mA  \", I_D_mA)\n"
   ]
  },
  {
   "cell_type": "markdown",
   "metadata": {},
   "source": [
    "| 경우 | 듀티사이클 | 밝기정도 0(꺼짐)-100(가장 밝음) | 전류 측정값 (mA) | 전류 예시값 (mA) |\n",
    "|-----|-----------|------------------------------|----------------|----------------|\n",
    "| 1   |  0        | ??                           | ??             |  0             |\n",
    "| 2   | 10%       | ??                           | ??             |  2             |\n",
    "| 3   | 30%       | ??                           | ??             |  6             |\n",
    "| 4   | 50%       | ??                           | ??             | 11             |\n",
    "| 5   | 70%       | ??                           | ??             | 15             |\n",
    "| 6   | 90%       | ??                           | ??             | 19             |\n"
   ]
  },
  {
   "cell_type": "markdown",
   "metadata": {},
   "source": [
    "*******************************************************************************\n",
    "## 실험04 조도센서의 측정\n"
   ]
  },
  {
   "cell_type": "markdown",
   "metadata": {},
   "source": [
    "### 실험04-01 DMM을 이용하여 저항값을 측정한다."
   ]
  },
  {
   "cell_type": "markdown",
   "metadata": {},
   "source": [
    "#### 실험 방법\n"
   ]
  },
  {
   "cell_type": "code",
   "execution_count": null,
   "metadata": {},
   "outputs": [],
   "source": [
    "display_image(\"./images/ch10_ep04_01_circuit.png\", width=300)\n"
   ]
  },
  {
   "cell_type": "markdown",
   "metadata": {},
   "source": [
    "#### 실험 결과\n"
   ]
  },
  {
   "cell_type": "markdown",
   "metadata": {},
   "source": [
    "| 경우      | 저항값     | 측정값 (Ohm) | 예시값  (Ohm)   |\n",
    "|----------|-----------|-------------|-----------------|\n",
    "| 밝을 때   | 낮은 저항값 | ??          | 2 k            |\n",
    "| 어두울 때 | 높은 저항값 | ??          | 200 k          |\n"
   ]
  },
  {
   "cell_type": "markdown",
   "metadata": {},
   "source": [
    "*******************************************************************************\n",
    "## 실험05 저항값의 변화를 전압의 변화로 만들기\n"
   ]
  },
  {
   "cell_type": "markdown",
   "metadata": {},
   "source": [
    "### 실험05-01 회로의 구성"
   ]
  },
  {
   "cell_type": "markdown",
   "metadata": {},
   "source": [
    "#### 실험 방법\n"
   ]
  },
  {
   "cell_type": "code",
   "execution_count": null,
   "metadata": {},
   "outputs": [],
   "source": [
    "display_image(\"./images/ch10_ep05_01_circuit.png\", width=200)\n"
   ]
  },
  {
   "cell_type": "markdown",
   "metadata": {},
   "source": [
    "#### 실험 결과"
   ]
  },
  {
   "cell_type": "markdown",
   "metadata": {},
   "source": [
    "##### 제작한 회로"
   ]
  },
  {
   "cell_type": "code",
   "execution_count": null,
   "metadata": {},
   "outputs": [],
   "source": [
    "display_image(\"./data/ch10_ep05_01_result_circuit.jpg\", width=1000)\n"
   ]
  },
  {
   "cell_type": "markdown",
   "metadata": {},
   "source": [
    "| 경우      | 측정값 (V)  | 예시값 (V) |\n",
    "|----------|------------|------------|\n",
    "| 밝을 때   | ??         | 0.2        |\n",
    "| 어두울 때 | ??         | 6.67       |\n"
   ]
  },
  {
   "cell_type": "markdown",
   "metadata": {},
   "source": [
    "*******************************************************************************\n",
    "## 실험06 어두우면 불이 켜지는 회로\n"
   ]
  },
  {
   "cell_type": "markdown",
   "metadata": {},
   "source": [
    "### 실험06-01 BJT를 사용한 회로의 구성"
   ]
  },
  {
   "cell_type": "markdown",
   "metadata": {},
   "source": [
    "#### 실험 방법\n",
    "\n",
    "* 트랜지스터: 2N2222"
   ]
  },
  {
   "cell_type": "code",
   "execution_count": null,
   "metadata": {},
   "outputs": [],
   "source": [
    "display_image(\"./images/ch10_ep06_01_circuit.png\", width=300)"
   ]
  },
  {
   "cell_type": "markdown",
   "metadata": {},
   "source": [
    "#### 실험 결과"
   ]
  },
  {
   "cell_type": "markdown",
   "metadata": {},
   "source": [
    "##### 제작한 회로\n"
   ]
  },
  {
   "cell_type": "code",
   "execution_count": null,
   "metadata": {},
   "outputs": [],
   "source": [
    "display_image(\"./data/ch10_ep06_01_result_circuit.jpg\", width=1000)"
   ]
  },
  {
   "cell_type": "markdown",
   "metadata": {},
   "source": [
    "* 고찰\n",
    "    + 손으로 CDS를 가리면 LED가 ??"
   ]
  },
  {
   "cell_type": "markdown",
   "metadata": {},
   "source": [
    "### 실험06-02 FET를 사용한 회로의 구성"
   ]
  },
  {
   "cell_type": "markdown",
   "metadata": {},
   "source": [
    "#### 실험 방법\n",
    "\n",
    "* 트랜지스터: 2N7000"
   ]
  },
  {
   "cell_type": "code",
   "execution_count": null,
   "metadata": {},
   "outputs": [],
   "source": [
    "display_image(\"./images/ch10_ep06_02_circuit.png\", width=300)"
   ]
  },
  {
   "cell_type": "markdown",
   "metadata": {},
   "source": [
    "#### 실험 결과"
   ]
  },
  {
   "cell_type": "markdown",
   "metadata": {},
   "source": [
    "* 고찰\n",
    "    + 손으로 CDS를 가리면 LED가 ??"
   ]
  }
 ],
 "metadata": {
  "kernelspec": {
   "display_name": "reinforcement-learning-an-introduction_env",
   "language": "python",
   "name": "python3"
  },
  "language_info": {
   "codemirror_mode": {
    "name": "ipython",
    "version": 3
   },
   "file_extension": ".py",
   "mimetype": "text/x-python",
   "name": "python",
   "nbconvert_exporter": "python",
   "pygments_lexer": "ipython3",
   "version": "3.10.12"
  },
  "orig_nbformat": 4
 },
 "nbformat": 4,
 "nbformat_minor": 2
}
