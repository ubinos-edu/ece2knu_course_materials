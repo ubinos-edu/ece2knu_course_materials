{
 "cells": [
  {
   "cell_type": "markdown",
   "metadata": {},
   "source": [
    "# 06장 연산증폭기의 응용회로 1"
   ]
  },
  {
   "cell_type": "markdown",
   "metadata": {},
   "source": [
    "* 이름: 홍길동\n",
    "* 학번: 2025123456\n",
    "* 조: 1"
   ]
  },
  {
   "cell_type": "markdown",
   "metadata": {},
   "source": [
    "## 공통 코드"
   ]
  },
  {
   "cell_type": "code",
   "execution_count": null,
   "metadata": {},
   "outputs": [],
   "source": [
    "import sys\n",
    "from pathlib import Path\n",
    "\n",
    "# common_dir = Path.cwd().parent / \"ece2knu_common\"\n",
    "common_dir = Path.cwd()\n",
    "sys.path.insert(0, str(common_dir))\n",
    "\n",
    "from common import *"
   ]
  },
  {
   "cell_type": "markdown",
   "metadata": {},
   "source": [
    "*******************************************************************************"
   ]
  },
  {
   "cell_type": "markdown",
   "metadata": {},
   "source": [
    "## 5.5 실험 내용"
   ]
  },
  {
   "cell_type": "markdown",
   "metadata": {},
   "source": [
    "### 실험01 비반전비교기 회로"
   ]
  },
  {
   "cell_type": "markdown",
   "metadata": {},
   "source": [
    "#### 실험01-01 +15V와 –15V를 만들자."
   ]
  },
  {
   "cell_type": "markdown",
   "metadata": {},
   "source": [
    "4장의 실험 1-1을 참조하여, +15V와 –15V를 만든다."
   ]
  },
  {
   "cell_type": "markdown",
   "metadata": {},
   "source": [
    "#### 실험01-02 회로의 구성"
   ]
  },
  {
   "cell_type": "markdown",
   "metadata": {},
   "source": [
    "다음 회로를 만들어보자."
   ]
  },
  {
   "cell_type": "code",
   "execution_count": null,
   "metadata": {},
   "outputs": [],
   "source": [
    "display_image(\"./images/ch06_05_ep01_02_circuit.png\", width=600)"
   ]
  },
  {
   "cell_type": "markdown",
   "metadata": {},
   "source": [
    "구성한 회로의 사진을 찍는다."
   ]
  },
  {
   "cell_type": "code",
   "execution_count": null,
   "metadata": {},
   "outputs": [],
   "source": [
    "display_image(\"./data/ch06_05_ep01_02_circuit_hardware.png\", width=700)"
   ]
  },
  {
   "cell_type": "markdown",
   "metadata": {},
   "source": [
    "#### 실험01-03  직류전압으로 동작확인"
   ]
  },
  {
   "cell_type": "markdown",
   "metadata": {},
   "source": [
    "직류전압 동작을 확인한다.\n",
    "\n",
    "*  입력 v_i 에 V_REF (5 V) 보다 낮은 전압을 인가하면, 출력은 V_L 이 나올 것이다.\n",
    "*  입력 v_i 에 V_REF (5 V) 보다 높은 전압을 인가하면, 출력은 V_H 가 나올 것이다."
   ]
  },
  {
   "cell_type": "markdown",
   "metadata": {},
   "source": [
    "| v_i (V)         | v_o 측정치  (V) | v_o 예시값  (V) |\n",
    "|-----------------|-----------------|-----------------|\n",
    "| 3               | ??              | -12.9           |\n",
    "| 7               | ??              | 14.35           |"
   ]
  },
  {
   "cell_type": "markdown",
   "metadata": {},
   "source": [
    "#### 실험01-04  입력에 교류전압을 인가"
   ]
  },
  {
   "cell_type": "markdown",
   "metadata": {},
   "source": [
    "입력 v_i 에 정현파를 인가하자 (파형발생기를 이용)\n",
    "\n",
    "* 14 V_PP\n",
    "* f = 50 Hz"
   ]
  },
  {
   "cell_type": "markdown",
   "metadata": {},
   "source": [
    "오실로스코프로 측정해보자\n",
    "\n",
    "* CH1 : v_i\n",
    "* CH2 : v_o"
   ]
  },
  {
   "cell_type": "code",
   "execution_count": null,
   "metadata": {},
   "outputs": [],
   "source": [
    "display_image(\"./data/ch06_05_ep01_04_result_plot.png\", width=700)"
   ]
  },
  {
   "cell_type": "markdown",
   "metadata": {},
   "source": [
    "XY 모드로 설정한다."
   ]
  },
  {
   "cell_type": "code",
   "execution_count": null,
   "metadata": {},
   "outputs": [],
   "source": [
    "display_image(\"./data/ch06_05_ep01_04_result_plot_xy.png\", width=700)"
   ]
  },
  {
   "cell_type": "markdown",
   "metadata": {},
   "source": [
    "### 실험02 조도센서를 이용한 회로"
   ]
  },
  {
   "cell_type": "markdown",
   "metadata": {},
   "source": [
    "#### 실험02-01 조도센서의 측정"
   ]
  },
  {
   "cell_type": "markdown",
   "metadata": {},
   "source": [
    "DMM을 이용하여 저항값을 측정하면 된다."
   ]
  },
  {
   "cell_type": "code",
   "execution_count": null,
   "metadata": {},
   "outputs": [],
   "source": [
    "display_image(\"./images/ch06_05_ep02_01_circuit.png\", width=300)"
   ]
  },
  {
   "cell_type": "markdown",
   "metadata": {},
   "source": [
    "측정 결과를 기록한다."
   ]
  },
  {
   "cell_type": "markdown",
   "metadata": {},
   "source": [
    "| 경우            | 저항값 (Ohm)    | 측정값 (Ohm)    | 예시값 (Ohm)    |\n",
    "|-----------------|-----------------|-----------------|-----------------|\n",
    "| 밝을 때         | 낮은 저항값 R1  | ??              | 4.7 k           |\n",
    "| 어두울 때       | 낮은 저항값 R2  | ??              | 55 k            |"
   ]
  },
  {
   "cell_type": "markdown",
   "metadata": {},
   "source": [
    "#### 실험02-02 조도값의 변화를 전압의 변화로 변경하자"
   ]
  },
  {
   "cell_type": "markdown",
   "metadata": {},
   "source": [
    "다음 회로를 만들어보자."
   ]
  },
  {
   "cell_type": "code",
   "execution_count": null,
   "metadata": {},
   "outputs": [],
   "source": [
    "display_image(\"./images/ch06_05_ep02_02_circuit.png\", width=300)"
   ]
  },
  {
   "cell_type": "markdown",
   "metadata": {},
   "source": [
    "구성한 회로의 사진을 찍는다."
   ]
  },
  {
   "cell_type": "code",
   "execution_count": null,
   "metadata": {},
   "outputs": [],
   "source": [
    "display_image(\"./data/ch06_05_ep02_02_circuit_hardware.png\", width=700)"
   ]
  },
  {
   "cell_type": "markdown",
   "metadata": {},
   "source": [
    "이론 값을 계산한다."
   ]
  },
  {
   "cell_type": "code",
   "execution_count": null,
   "metadata": {},
   "outputs": [],
   "source": [
    "V_in_V = 15.0  # 15 volts\n",
    "R1_Ohm = 10000  # 10k ohm\n",
    "\n",
    "R_CDS_bright_Ohm = ??\n",
    "R_CDS_dark_Ohm = ??\n",
    "\n",
    "V_out_bright_V = V_in_V * R_CDS_bright_Ohm / (R_CDS_bright_Ohm + R1_Ohm)\n",
    "V_out_dark_V = V_in_V * R_CDS_dark_Ohm / (R_CDS_dark_Ohm + R1_Ohm)\n",
    "\n",
    "print_value(\"V_out_bright_V\", V_out_bright_V)\n",
    "print_value(\"V_out_dark_V\", V_out_dark_V)"
   ]
  },
  {
   "cell_type": "markdown",
   "metadata": {},
   "source": [
    "회로에서 측정한다."
   ]
  },
  {
   "cell_type": "markdown",
   "metadata": {},
   "source": [
    "이론값과 측적값을 기록한다."
   ]
  },
  {
   "cell_type": "markdown",
   "metadata": {},
   "source": [
    "| 경우            | 측정값 (V)      | 이론값 (V)      | 예시값 (V)      |\n",
    "|-----------------|-----------------|-----------------|-----------------|\n",
    "| 밝을 때         | ??              | ??              | 4.7             |\n",
    "| 어두울 때       | ??              | ??              | 14.3            |"
   ]
  },
  {
   "cell_type": "markdown",
   "metadata": {},
   "source": [
    "### 실험03 조도값에 따라 불이 켜지는 회로"
   ]
  },
  {
   "cell_type": "markdown",
   "metadata": {},
   "source": [
    "#### 실험03-01 어두우면 불 켜지는 회로"
   ]
  },
  {
   "cell_type": "markdown",
   "metadata": {},
   "source": [
    "다음 회로를 만들어보자."
   ]
  },
  {
   "cell_type": "code",
   "execution_count": null,
   "metadata": {},
   "outputs": [],
   "source": [
    "display_image(\"./images/ch06_05_ep03_01_circuit.png\", width=600)"
   ]
  },
  {
   "cell_type": "markdown",
   "metadata": {},
   "source": [
    "구성한 회로의 사진을 찍는다."
   ]
  },
  {
   "cell_type": "code",
   "execution_count": null,
   "metadata": {},
   "outputs": [],
   "source": [
    "display_image(\"./data/ch06_05_ep03_01_circuit_hardware.png\", width=700)"
   ]
  },
  {
   "cell_type": "markdown",
   "metadata": {},
   "source": [
    "측정 결과를 기록한다."
   ]
  },
  {
   "cell_type": "markdown",
   "metadata": {},
   "source": [
    "| 경우            | LED 축정값 (ON/OFF) | LED 예시값 (ON/OFF) |\n",
    "|-----------------|---------------------|---------------------|\n",
    "| 밝을 때         | ??                  | OFF                 |\n",
    "| 어두울 때       | ??                  | ON                  |"
   ]
  },
  {
   "cell_type": "markdown",
   "metadata": {},
   "source": [
    "#### 실험03-02 밝으면 불 켜지는 회로"
   ]
  },
  {
   "cell_type": "markdown",
   "metadata": {},
   "source": [
    "다음 회로를 만들어보자."
   ]
  },
  {
   "cell_type": "code",
   "execution_count": null,
   "metadata": {},
   "outputs": [],
   "source": [
    "display_image(\"./images/ch06_05_ep03_02_circuit.png\", width=600)"
   ]
  },
  {
   "cell_type": "markdown",
   "metadata": {},
   "source": [
    "구성한 회로의 사진을 찍는다."
   ]
  },
  {
   "cell_type": "code",
   "execution_count": null,
   "metadata": {},
   "outputs": [],
   "source": [
    "display_image(\"./data/ch06_05_ep03_02_circuit_hardware.png\", width=700)"
   ]
  },
  {
   "cell_type": "markdown",
   "metadata": {},
   "source": [
    "측정 결과를 기록한다."
   ]
  },
  {
   "cell_type": "markdown",
   "metadata": {},
   "source": [
    "| 경우            | LED 축정값 (ON/OFF) | LED 예시값 (ON/OFF) |\n",
    "|-----------------|---------------------|---------------------|\n",
    "| 밝을 때         | ??                  | ON                  |\n",
    "| 어두울 때       | ??                  | OFF                 |"
   ]
  },
  {
   "cell_type": "markdown",
   "metadata": {},
   "source": [
    "### 실험04 반전비교기"
   ]
  },
  {
   "cell_type": "markdown",
   "metadata": {},
   "source": [
    "#### 실험04-01 반전비교기의 구성"
   ]
  },
  {
   "cell_type": "markdown",
   "metadata": {},
   "source": [
    "다음 회로를 만들어보자."
   ]
  },
  {
   "cell_type": "code",
   "execution_count": null,
   "metadata": {},
   "outputs": [],
   "source": [
    "display_image(\"./images/ch06_05_ep04_01_circuit.png\", width=600)"
   ]
  },
  {
   "cell_type": "markdown",
   "metadata": {},
   "source": [
    "구성한 회로의 사진을 찍는다."
   ]
  },
  {
   "cell_type": "code",
   "execution_count": null,
   "metadata": {},
   "outputs": [],
   "source": [
    "display_image(\"./data/ch06_05_ep04_01_circuit_hardware.png\", width=700)"
   ]
  },
  {
   "cell_type": "markdown",
   "metadata": {},
   "source": [
    "#### 실험04-02 직류전압으로 동작확인"
   ]
  },
  {
   "cell_type": "markdown",
   "metadata": {},
   "source": [
    "직류전압 동작을 확인한다.\n",
    "\n",
    "*  입력 v_i 에 V_REF (5 V) 보다 낮은 전압을 인가하면, 출력은 V_H 가 나올 것이다.\n",
    "*  입력 v_i 에 V_REF (5 V) 보다 높은 전압을 인가하면, 출력은 V_L 이 나올 것이다."
   ]
  },
  {
   "cell_type": "markdown",
   "metadata": {},
   "source": [
    "| v_i (V)         | v_o 측정치  (V) | v_o 예시값  (V) |\n",
    "|-----------------|-----------------|-----------------|\n",
    "| 3               | ??              | 14.39           |\n",
    "| 7               | ??              | -12.88          |"
   ]
  },
  {
   "cell_type": "markdown",
   "metadata": {},
   "source": [
    "#### 실험04-03 입력에 교류전압을 인가"
   ]
  },
  {
   "cell_type": "markdown",
   "metadata": {},
   "source": [
    "입력 v_i 에 정현파를 인가하자 (파형발생기를 이용)\n",
    "\n",
    "* 14 V_PP\n",
    "* f = 50 Hz"
   ]
  },
  {
   "cell_type": "markdown",
   "metadata": {},
   "source": [
    "오실로스코프로 측정해보자\n",
    "\n",
    "* CH1 : v_i\n",
    "* CH2 : v_o"
   ]
  },
  {
   "cell_type": "code",
   "execution_count": null,
   "metadata": {},
   "outputs": [],
   "source": [
    "display_image(\"./data/ch06_05_ep04_03_result_plot.png\", width=700)"
   ]
  },
  {
   "cell_type": "markdown",
   "metadata": {},
   "source": [
    "XY 모드로 설정한다."
   ]
  },
  {
   "cell_type": "code",
   "execution_count": null,
   "metadata": {},
   "outputs": [],
   "source": [
    "display_image(\"./data/ch06_05_ep04_03_result_plot_xy.png\", width=700)"
   ]
  },
  {
   "cell_type": "markdown",
   "metadata": {},
   "source": [
    "#### 실험04-04 어두우면 불 켜지는 회로"
   ]
  },
  {
   "cell_type": "markdown",
   "metadata": {},
   "source": [
    "다음 회로를 만들어보자."
   ]
  },
  {
   "cell_type": "code",
   "execution_count": null,
   "metadata": {},
   "outputs": [],
   "source": [
    "display_image(\"./images/ch06_05_ep04_04_circuit.png\", width=600)"
   ]
  },
  {
   "cell_type": "markdown",
   "metadata": {},
   "source": [
    "구성한 회로의 사진을 찍는다."
   ]
  },
  {
   "cell_type": "code",
   "execution_count": null,
   "metadata": {},
   "outputs": [],
   "source": [
    "display_image(\"./data/ch06_05_ep04_04_circuit_hardware.png\", width=700)"
   ]
  },
  {
   "cell_type": "markdown",
   "metadata": {},
   "source": [
    "측정 결과를 기록한다."
   ]
  },
  {
   "cell_type": "markdown",
   "metadata": {},
   "source": [
    "| 경우            | LED 축정값 (ON/OFF) | LED 예시값 (ON/OFF) |\n",
    "|-----------------|---------------------|---------------------|\n",
    "| 밝을 때         | ??                  | OFF                 |\n",
    "| 어두울 때       | ??                  | ON                  |"
   ]
  },
  {
   "cell_type": "markdown",
   "metadata": {},
   "source": [
    "#### 실험04-05 밝으면 불 켜지는 회로"
   ]
  },
  {
   "cell_type": "markdown",
   "metadata": {},
   "source": [
    "반전비교기로 밝으면 불 켜지는 회로를 설계해보자."
   ]
  },
  {
   "cell_type": "code",
   "execution_count": null,
   "metadata": {},
   "outputs": [],
   "source": [
    "display_image(\"./data/ch06_05_ep04_05_circuit.png\", width=600)"
   ]
  },
  {
   "cell_type": "markdown",
   "metadata": {},
   "source": [
    "설계한 회로를 만들고, 사진을 찍는다."
   ]
  },
  {
   "cell_type": "code",
   "execution_count": null,
   "metadata": {},
   "outputs": [],
   "source": [
    "display_image(\"./data/ch06_05_ep04_05_circuit_hardware.png\", width=700)"
   ]
  },
  {
   "cell_type": "markdown",
   "metadata": {},
   "source": [
    "측정 결과를 기록한다."
   ]
  },
  {
   "cell_type": "markdown",
   "metadata": {},
   "source": [
    "| 경우            | LED 축정값 (ON/OFF) | LED 예시값 (ON/OFF) |\n",
    "|-----------------|---------------------|---------------------|\n",
    "| 밝을 때         | ??                  | ON                  |\n",
    "| 어두울 때       | ??                  | OFF                 |"
   ]
  },
  {
   "cell_type": "markdown",
   "metadata": {},
   "source": [
    "### 실험05 비반전 형태의 슈미트트리거 회로"
   ]
  },
  {
   "cell_type": "markdown",
   "metadata": {},
   "source": [
    "#### 실험05-01 비반전 형태의 슈미트트리거 회로"
   ]
  },
  {
   "cell_type": "markdown",
   "metadata": {},
   "source": [
    "다음 회로를 만들어보자. (beta = 1/3)"
   ]
  },
  {
   "cell_type": "code",
   "execution_count": null,
   "metadata": {},
   "outputs": [],
   "source": [
    "display_image(\"./images/ch06_05_ep05_01_circuit.png\", width=600)"
   ]
  },
  {
   "cell_type": "markdown",
   "metadata": {},
   "source": [
    "* 상문턱전압은 V_TH = beta * V_H ~= 4.6 V\n",
    "* 하문턱전압은 V_TL = beta * V_L ~= -4.6 V"
   ]
  },
  {
   "cell_type": "markdown",
   "metadata": {},
   "source": [
    "구성한 회로의 사진을 찍는다."
   ]
  },
  {
   "cell_type": "code",
   "execution_count": null,
   "metadata": {},
   "outputs": [],
   "source": [
    "display_image(\"./data/ch06_05_ep05_01_circuit_hardware.png\", width=700)"
   ]
  },
  {
   "cell_type": "markdown",
   "metadata": {},
   "source": [
    "#### 실험05-02 직류전압으로 동작확인"
   ]
  },
  {
   "cell_type": "markdown",
   "metadata": {},
   "source": [
    "직류전압 동작을 확인한다. (출력을 DMM으로 측정해보자.)"
   ]
  },
  {
   "cell_type": "markdown",
   "metadata": {},
   "source": [
    "| 경우   | v_i (V)         | v_o 측정치  (V) | v_o 예시값  (V) |\n",
    "|--------|-----------------|-----------------|-----------------|\n",
    "| 1      | -10             | ??              | V_L             |\n",
    "| 2      | 0               | ??              | V_L             |\n",
    "| 3      | 10              | ??              | V_H             |\n",
    "| 4      | 0               | ??              | V_H             |\n",
    "| 2      | -10             | ??              | V_L             |"
   ]
  },
  {
   "cell_type": "markdown",
   "metadata": {},
   "source": [
    "[결과] 경우2와 경우4는 입력이 같지만, 출력값이 다르다."
   ]
  },
  {
   "cell_type": "markdown",
   "metadata": {},
   "source": [
    "#### 실험05-03 입력에 교류전압을 인가"
   ]
  },
  {
   "cell_type": "markdown",
   "metadata": {},
   "source": [
    "입력 v_i 에 정현파를 인가하자 (파형발생기를 이용)\n",
    "\n",
    "* 20 V_PP\n",
    "* f = 50 Hz"
   ]
  },
  {
   "cell_type": "markdown",
   "metadata": {},
   "source": [
    "오실로스코프로 측정해보자\n",
    "\n",
    "* CH1 : v_i\n",
    "* CH2 : v_o"
   ]
  },
  {
   "cell_type": "code",
   "execution_count": null,
   "metadata": {},
   "outputs": [],
   "source": [
    "display_image(\"./data/ch06_05_ep05_03_result_plot.png\", width=700)"
   ]
  },
  {
   "cell_type": "markdown",
   "metadata": {},
   "source": [
    "XY 모드로 설정한다."
   ]
  },
  {
   "cell_type": "code",
   "execution_count": null,
   "metadata": {},
   "outputs": [],
   "source": [
    "display_image(\"./data/ch06_05_ep05_03_result_plot_xy.png\", width=700)"
   ]
  },
  {
   "cell_type": "markdown",
   "metadata": {},
   "source": [
    "### 실험06 반전 형태의 슈미트트리거 회로"
   ]
  },
  {
   "cell_type": "markdown",
   "metadata": {},
   "source": [
    "다음 회로를 만들어보자. (beta = 1/2)"
   ]
  },
  {
   "cell_type": "code",
   "execution_count": null,
   "metadata": {},
   "outputs": [],
   "source": [
    "display_image(\"./images/ch06_05_ep06_01_circuit.png\", width=600)"
   ]
  },
  {
   "cell_type": "markdown",
   "metadata": {},
   "source": [
    "* 상문턱전압은 V_TH = beta * V_H ~= 7 V\n",
    "* 하문턱전압은 V_TL = beta * V_L ~= -7 V"
   ]
  },
  {
   "cell_type": "markdown",
   "metadata": {},
   "source": [
    "구성한 회로의 사진을 찍는다."
   ]
  },
  {
   "cell_type": "code",
   "execution_count": null,
   "metadata": {},
   "outputs": [],
   "source": [
    "display_image(\"./data/ch06_05_ep06_01_circuit_hardware.png\", width=700)"
   ]
  },
  {
   "cell_type": "markdown",
   "metadata": {},
   "source": [
    "#### 실험06-02 직류전압으로 동작확인"
   ]
  },
  {
   "cell_type": "markdown",
   "metadata": {},
   "source": [
    "직류전압 동작을 확인한다. (출력을 DMM으로 측정해보자.)"
   ]
  },
  {
   "cell_type": "markdown",
   "metadata": {},
   "source": [
    "| 경우   | v_i (V)         | v_o 측정치 (V)  | v_o 예시값 (V)  |\n",
    "|--------|-----------------|-----------------|-----------------|\n",
    "| 1      | -10             | ??              | V_H             |\n",
    "| 2      | 0               | ??              | V_H             |\n",
    "| 3      | 10              | ??              | V_L             |\n",
    "| 4      | 0               | ??              | V_L             |\n",
    "| 2      | -10             | ??              | V_H             |"
   ]
  },
  {
   "cell_type": "markdown",
   "metadata": {},
   "source": [
    "#### 실험06-03 입력에 교류전압을 인가"
   ]
  },
  {
   "cell_type": "markdown",
   "metadata": {},
   "source": [
    "입력 v_i 에 정현파를 인가하자 (파형발생기를 이용)\n",
    "\n",
    "* 20 V_PP\n",
    "* f = 50 Hz"
   ]
  },
  {
   "cell_type": "markdown",
   "metadata": {},
   "source": [
    "오실로스코프로 측정해보자\n",
    "\n",
    "* CH1 : v_i\n",
    "* CH2 : v_o"
   ]
  },
  {
   "cell_type": "code",
   "execution_count": null,
   "metadata": {},
   "outputs": [],
   "source": [
    "display_image(\"./data/ch06_05_ep06_03_result_plot.png\", width=700)"
   ]
  },
  {
   "cell_type": "markdown",
   "metadata": {},
   "source": [
    "XY 모드로 설정한다."
   ]
  },
  {
   "cell_type": "code",
   "execution_count": null,
   "metadata": {},
   "outputs": [],
   "source": [
    "display_image(\"./data/ch06_05_ep06_03_result_plot_xy.png\", width=700)"
   ]
  },
  {
   "cell_type": "markdown",
   "metadata": {},
   "source": [
    "#### 실험06-04 가상의 난방기 실험"
   ]
  },
  {
   "cell_type": "markdown",
   "metadata": {},
   "source": [
    "실험04의 반전비교기 회로로 가상의 난방기를 실험한다."
   ]
  },
  {
   "cell_type": "markdown",
   "metadata": {},
   "source": [
    "입력 v_i 에 정현파와 정현파를 중첩하여 인가하자 (파형발생기를 이용)\n",
    "\n",
    "* 채널 1:\n",
    "    + 14 V_PP\n",
    "    + f = 50 Hz\n",
    "* 채널 2:\n",
    "    + 3 V_PP\n",
    "    + f = 1 kHz"
   ]
  },
  {
   "cell_type": "markdown",
   "metadata": {},
   "source": [
    "중첩 방법은 다음 동영상을 참조한다.\n",
    "\n",
    "* https://www.youtube.com/@ubinos > Electronic Circuit Experiment 2 Course\n",
    "    + 파형생성기 여러 채널 중첩하기\n",
    "        - https://youtu.be/ziVuRwuOcnQ?si=IDNUT0NhB57X1ecc\n",
    "    + 파형생성기 동기 채널로 오실로스코프 트리거하기\n",
    "        - https://youtu.be/qccnBH2rd84?si=BhuX9tZxtpwbuP5A"
   ]
  },
  {
   "cell_type": "markdown",
   "metadata": {},
   "source": [
    "오실로스코프로 측정해보자\n",
    "\n",
    "* CH1 : v_i\n",
    "* CH2 : v_o"
   ]
  },
  {
   "cell_type": "code",
   "execution_count": null,
   "metadata": {},
   "outputs": [],
   "source": [
    "display_image(\"./data/ch06_05_ep06_04_01_result_plot.png\", width=700)"
   ]
  },
  {
   "cell_type": "markdown",
   "metadata": {},
   "source": [
    "위와 동일한 조건에서 실험05의 반전 형태의 슈미트트리거 회로로 가상의 난방기를 실험한다."
   ]
  },
  {
   "cell_type": "markdown",
   "metadata": {},
   "source": [
    "오실로스코프로 측정해보자\n",
    "\n",
    "* CH1 : v_i\n",
    "* CH2 : v_o"
   ]
  },
  {
   "cell_type": "code",
   "execution_count": null,
   "metadata": {},
   "outputs": [],
   "source": [
    "display_image(\"./data/ch06_05_ep06_04_02_result_plot.png\", width=700)"
   ]
  },
  {
   "cell_type": "markdown",
   "metadata": {},
   "source": [
    "### 실험07 비안정 멀티바이브레이터 회로"
   ]
  },
  {
   "cell_type": "markdown",
   "metadata": {},
   "source": [
    "#### 실험07-01 회로의 구성"
   ]
  },
  {
   "cell_type": "markdown",
   "metadata": {},
   "source": [
    "다음 회로를 만들어보자. (beta = 1/2)"
   ]
  },
  {
   "cell_type": "code",
   "execution_count": null,
   "metadata": {},
   "outputs": [],
   "source": [
    "display_image(\"./images/ch06_05_ep07_01_circuit.png\", width=600)"
   ]
  },
  {
   "cell_type": "markdown",
   "metadata": {},
   "source": [
    "[예상] 주기 T = 2.2 * R * C = 2.2 ms, 주파수 f = 1 / T = 454.54 Hz"
   ]
  },
  {
   "cell_type": "markdown",
   "metadata": {},
   "source": [
    "구성한 회로의 사진을 찍는다."
   ]
  },
  {
   "cell_type": "code",
   "execution_count": null,
   "metadata": {},
   "outputs": [],
   "source": [
    "display_image(\"./data/ch06_05_ep07_01_circuit_hardware.png\", width=700)"
   ]
  },
  {
   "cell_type": "markdown",
   "metadata": {},
   "source": [
    "#### 실험07-02 동작 확인"
   ]
  },
  {
   "cell_type": "markdown",
   "metadata": {},
   "source": [
    "오실로스코프로 측정해보자 (주파수는 자동측정 모드로 측정하라)\n",
    "\n",
    "* CH1 : v_i\n",
    "* CH2 : v_o"
   ]
  },
  {
   "cell_type": "code",
   "execution_count": null,
   "metadata": {},
   "outputs": [],
   "source": [
    "display_image(\"./data/ch06_05_ep07_01_result_plot.png\", width=700)"
   ]
  },
  {
   "cell_type": "markdown",
   "metadata": {},
   "source": [
    "| 주파수 측정값 (Hz) | 주파수 이론값 (Hz) | 주파수 예시값 (Hz) |\n",
    "|--------------------|--------------------|--------------------|\n",
    "| ??                 | 454.54             | 462.9              |"
   ]
  },
  {
   "cell_type": "markdown",
   "metadata": {},
   "source": [
    "#### 실험07-03 비안정 멀티바이브레이터 회로: 눈으로 관측"
   ]
  },
  {
   "cell_type": "markdown",
   "metadata": {},
   "source": [
    "눈으로 관측하기 위해 회로를 다음과 같이 수정한다.\n",
    "\n",
    "* R = 4.7 kOhm, C = 100 uF 으로 변경한다.\n",
    "    + T = 2.2 * R * C ~= 1 s"
   ]
  },
  {
   "cell_type": "code",
   "execution_count": null,
   "metadata": {},
   "outputs": [],
   "source": [
    "display_image(\"./images/ch06_05_ep07_03_circuit.png\", width=600)"
   ]
  },
  {
   "cell_type": "markdown",
   "metadata": {},
   "source": [
    "구성한 회로의 사진을 찍는다."
   ]
  },
  {
   "cell_type": "code",
   "execution_count": null,
   "metadata": {},
   "outputs": [],
   "source": [
    "display_image(\"./data/ch06_05_ep07_03_circuit_hardware.png\", width=700)"
   ]
  },
  {
   "cell_type": "markdown",
   "metadata": {},
   "source": [
    "관찰 결과를 기록한다."
   ]
  },
  {
   "cell_type": "markdown",
   "metadata": {},
   "source": [
    "??"
   ]
  },
  {
   "cell_type": "markdown",
   "metadata": {},
   "source": [
    "### 실험08 슈퍼다이오드"
   ]
  },
  {
   "cell_type": "markdown",
   "metadata": {},
   "source": [
    "#### 실험08-01 정밀 반파정류기"
   ]
  },
  {
   "cell_type": "markdown",
   "metadata": {},
   "source": [
    "다음 회로를 만들어보자.\n",
    "\n",
    "* 다이오드: 1N4148\n",
    "* R_L: 1 kOhm"
   ]
  },
  {
   "cell_type": "code",
   "execution_count": null,
   "metadata": {},
   "outputs": [],
   "source": [
    "display_image(\"./images/ch06_05_ep08_01_circuit.png\", width=600)"
   ]
  },
  {
   "cell_type": "markdown",
   "metadata": {},
   "source": [
    "구성한 회로의 사진을 찍는다."
   ]
  },
  {
   "cell_type": "code",
   "execution_count": null,
   "metadata": {},
   "outputs": [],
   "source": [
    "display_image(\"./data/ch06_05_ep08_01_circuit_hardware.png\", width=700)"
   ]
  },
  {
   "cell_type": "markdown",
   "metadata": {},
   "source": [
    "입력 v_i 에 정현파를 인가하자 (파형발생기를 이용)\n",
    "\n",
    "* 8 V_PP\n",
    "* f = 1 kHz"
   ]
  },
  {
   "cell_type": "markdown",
   "metadata": {},
   "source": [
    "오실로스코프로 측정해보자 (채널1과 채널2의 ‘0V 기준점’을 화면의 중앙에 오도록)\n",
    "\n",
    "* CH1 : v_i\n",
    "* CH2 : v_o"
   ]
  },
  {
   "cell_type": "code",
   "execution_count": null,
   "metadata": {},
   "outputs": [],
   "source": [
    "display_image(\"./data/ch06_05_ep08_01_result_plot.png\", width=700)"
   ]
  },
  {
   "cell_type": "markdown",
   "metadata": {},
   "source": [
    "[결과] 정확하게 반파정류가 이뤄졌다."
   ]
  },
  {
   "cell_type": "markdown",
   "metadata": {},
   "source": [
    "XY 모드로 설정한다."
   ]
  },
  {
   "cell_type": "code",
   "execution_count": null,
   "metadata": {},
   "outputs": [],
   "source": [
    "display_image(\"./data/ch06_05_ep08_01_result_plot_xy.png\", width=700)"
   ]
  },
  {
   "cell_type": "markdown",
   "metadata": {},
   "source": [
    "[비교] 2장의 실험 6 (정류기 회로)의 결과와 비교하여 본다."
   ]
  },
  {
   "cell_type": "markdown",
   "metadata": {},
   "source": [
    "#### 실험08-02 정밀 피크검출기"
   ]
  },
  {
   "cell_type": "markdown",
   "metadata": {},
   "source": [
    "다음 회로를 만들어보자.\n",
    "\n",
    "* 다이오드: 1N4148\n",
    "* 커패시터: 100 uF"
   ]
  },
  {
   "cell_type": "code",
   "execution_count": null,
   "metadata": {},
   "outputs": [],
   "source": [
    "display_image(\"./images/ch06_05_ep08_02_circuit.png\", width=600)"
   ]
  },
  {
   "cell_type": "markdown",
   "metadata": {},
   "source": [
    "구성한 회로의 사진을 찍는다."
   ]
  },
  {
   "cell_type": "code",
   "execution_count": null,
   "metadata": {},
   "outputs": [],
   "source": [
    "display_image(\"./data/ch06_05_ep08_02_circuit_hardware.png\", width=700)"
   ]
  },
  {
   "cell_type": "markdown",
   "metadata": {},
   "source": [
    "[예상] (6.3.6)절의 이론으로 인해, 출력은 v_o = V_P 가 될 것이다. "
   ]
  },
  {
   "cell_type": "markdown",
   "metadata": {},
   "source": [
    "입력 v_i 에 정현파를 인가하자 (파형발생기를 이용)\n",
    "\n",
    "* 8 V_PP\n",
    "* f = 1 kHz"
   ]
  },
  {
   "cell_type": "markdown",
   "metadata": {},
   "source": [
    "오실로스코프로 측정해보자 (채널1과 채널2의 ‘0V 기준점’을 화면의 중앙에 오도록)\n",
    "\n",
    "* CH1 : v_i\n",
    "* CH2 : v_o"
   ]
  },
  {
   "cell_type": "code",
   "execution_count": null,
   "metadata": {},
   "outputs": [],
   "source": [
    "display_image(\"./data/ch06_05_ep08_02_result_plot.png\", width=700)"
   ]
  },
  {
   "cell_type": "markdown",
   "metadata": {},
   "source": [
    "자동측정으로 v_o 의 평균값을 측정한다."
   ]
  },
  {
   "cell_type": "markdown",
   "metadata": {},
   "source": [
    "| v_o 측정치 (V)  | v_o 예시값 (V)  |\n",
    "|-----------------|-----------------|\n",
    "| ??              | 3.94            |"
   ]
  },
  {
   "cell_type": "markdown",
   "metadata": {},
   "source": [
    "#### 실험08-03 정밀 클램프 회로"
   ]
  },
  {
   "cell_type": "markdown",
   "metadata": {},
   "source": [
    "다음 회로를 만들어보자.\n",
    "\n",
    "* 다이오드: 1N4148\n",
    "* 커패시터: 10 uF"
   ]
  },
  {
   "cell_type": "code",
   "execution_count": null,
   "metadata": {},
   "outputs": [],
   "source": [
    "display_image(\"./images/ch06_05_ep08_03_circuit.png\", width=600)"
   ]
  },
  {
   "cell_type": "markdown",
   "metadata": {},
   "source": [
    "구성한 회로의 사진을 찍는다."
   ]
  },
  {
   "cell_type": "code",
   "execution_count": null,
   "metadata": {},
   "outputs": [],
   "source": [
    "display_image(\"./data/ch06_05_ep08_03_circuit_hardware.png\", width=700)"
   ]
  },
  {
   "cell_type": "markdown",
   "metadata": {},
   "source": [
    "입력 v_i 에 정현파를 인가하자 (파형발생기를 이용)\n",
    "\n",
    "* 8 V_PP\n",
    "* f = 1 kHz"
   ]
  },
  {
   "cell_type": "markdown",
   "metadata": {},
   "source": [
    "오실로스코프로 측정해보자 (채널1과 채널2의 ‘0V 기준점’을 화면의 중앙에 오도록)\n",
    "\n",
    "* CH1 : v_i\n",
    "* CH2 : v_o"
   ]
  },
  {
   "cell_type": "code",
   "execution_count": null,
   "metadata": {},
   "outputs": [],
   "source": [
    "display_image(\"./data/ch06_05_ep08_03_result_plot.png\", width=700)"
   ]
  },
  {
   "cell_type": "markdown",
   "metadata": {},
   "source": [
    "자동측정으로 v_o 의 평균값을 측정한다."
   ]
  },
  {
   "cell_type": "markdown",
   "metadata": {},
   "source": [
    "| v_o 측정치 (V)  | v_o 예시값 (V)  |\n",
    "|-----------------|-----------------|\n",
    "| ??              | 3.95            |"
   ]
  },
  {
   "cell_type": "markdown",
   "metadata": {},
   "source": [
    "### 실험09 단일전원 연산증폭기의 증폭회로"
   ]
  },
  {
   "cell_type": "markdown",
   "metadata": {},
   "source": [
    "#### 실험09-01 교류 증폭"
   ]
  },
  {
   "cell_type": "markdown",
   "metadata": {},
   "source": [
    "사용한 단일전원 연산증폭기는 LM358이고 단자연결도는 다음과 같다."
   ]
  },
  {
   "cell_type": "code",
   "execution_count": null,
   "metadata": {},
   "outputs": [],
   "source": [
    "display_image(\"./images/ch06_05_ep09_01_lm358.png\", width=600)"
   ]
  },
  {
   "cell_type": "markdown",
   "metadata": {},
   "source": [
    "다음 비반전등폭기 회로를 만들어보자.\n",
    "\n",
    "* 증폭기: LM358\n",
    "* 이득: 2\n",
    "* V_CC_plus = 10 V\n",
    "* V_CC_minus = GND"
   ]
  },
  {
   "cell_type": "code",
   "execution_count": null,
   "metadata": {},
   "outputs": [],
   "source": [
    "display_image(\"./images/ch06_05_ep09_01_circuit.png\", width=600)"
   ]
  },
  {
   "cell_type": "markdown",
   "metadata": {},
   "source": [
    "구성한 회로의 사진을 찍는다."
   ]
  },
  {
   "cell_type": "code",
   "execution_count": null,
   "metadata": {},
   "outputs": [],
   "source": [
    "display_image(\"./data/ch06_05_ep09_01_circuit_hardware.png\", width=700)"
   ]
  },
  {
   "cell_type": "markdown",
   "metadata": {},
   "source": [
    "입력 v_i 에 정현파를 인가하자 (파형발생기를 이용)\n",
    "\n",
    "* 1 V_PP\n",
    "* f = 1 kHz"
   ]
  },
  {
   "cell_type": "markdown",
   "metadata": {},
   "source": [
    "오실로스코프로 측정해보자\n",
    "\n",
    "* CH1 : v_i\n",
    "* CH2 : v_o"
   ]
  },
  {
   "cell_type": "code",
   "execution_count": null,
   "metadata": {},
   "outputs": [],
   "source": [
    "display_image(\"./data/ch06_05_ep09_01_result_plot.png\", width=700)"
   ]
  },
  {
   "cell_type": "markdown",
   "metadata": {},
   "source": [
    "#### 실험09-02 직류 증폭"
   ]
  },
  {
   "cell_type": "markdown",
   "metadata": {},
   "source": [
    "이전 실험 회로의 입력 v_i 에 1 V 직류값을 인가하자 (파형발생기를 이용)"
   ]
  },
  {
   "cell_type": "markdown",
   "metadata": {},
   "source": [
    "오실로스코프로 측정해보자\n",
    "\n",
    "* CH1 : v_i\n",
    "* CH2 : v_o"
   ]
  },
  {
   "cell_type": "code",
   "execution_count": null,
   "metadata": {},
   "outputs": [],
   "source": [
    "display_image(\"./data/ch06_05_ep09_02_result_plot.png\", width=700)"
   ]
  },
  {
   "cell_type": "markdown",
   "metadata": {},
   "source": [
    "자동측정으로 v_o 의 평균값을 측정한다."
   ]
  },
  {
   "cell_type": "markdown",
   "metadata": {},
   "source": [
    "| v_o 측정치 (V)  | v_o 예시값 (V)  |\n",
    "|-----------------|-----------------|\n",
    "| ??              | 2               |"
   ]
  },
  {
   "cell_type": "markdown",
   "metadata": {},
   "source": [
    "[결과] 직류성분값은 문제없이 증폭한다. "
   ]
  },
  {
   "cell_type": "markdown",
   "metadata": {},
   "source": [
    "#### 실험09-03 DC + AC"
   ]
  },
  {
   "cell_type": "markdown",
   "metadata": {},
   "source": [
    "입력 v_i 에 정현파와 DC 값을 중첩해 인가하자 (파형발생기를 이용)\n",
    "\n",
    "* 정형파\n",
    "    * 1 V_PP\n",
    "    * f = 1 kHz\n",
    "    * Offset = 2"
   ]
  },
  {
   "cell_type": "markdown",
   "metadata": {},
   "source": [
    "오실로스코프로 측정해보자 (채널1과 2의 기준점을 중앙에서 2칸 아래로 이동한다.)\n",
    "\n",
    "* CH1 : v_i\n",
    "* CH2 : v_o"
   ]
  },
  {
   "cell_type": "code",
   "execution_count": null,
   "metadata": {},
   "outputs": [],
   "source": [
    "display_image(\"./data/ch06_05_ep09_03_result_plot.png\", width=700)"
   ]
  },
  {
   "cell_type": "markdown",
   "metadata": {},
   "source": [
    "자동측정으로 v_o 의 직류와 교류 값을 측정한다."
   ]
  },
  {
   "cell_type": "markdown",
   "metadata": {},
   "source": [
    "|                 | v_o 측정치      | v_o 예시값      |\n",
    "|-----------------|-----------------|-----------------|\n",
    "| 직류 (V)        | ??              | 4.01            |\n",
    "| 교류 (V_PP)     | ??              | 2               |"
   ]
  },
  {
   "cell_type": "markdown",
   "metadata": {},
   "source": [
    "[결과] AC 성분이 제대로 증폭된다. 하지만, 출력에도 DC 성분이 포함되어 있다."
   ]
  },
  {
   "cell_type": "markdown",
   "metadata": {},
   "source": [
    "#### 실험09-04  AC 커플링"
   ]
  },
  {
   "cell_type": "markdown",
   "metadata": {},
   "source": [
    "다음 회로를 만들어보자."
   ]
  },
  {
   "cell_type": "code",
   "execution_count": null,
   "metadata": {},
   "outputs": [],
   "source": [
    "display_image(\"./images/ch06_05_ep09_04_circuit.png\", width=600)"
   ]
  },
  {
   "cell_type": "markdown",
   "metadata": {},
   "source": [
    "구성한 회로의 사진을 찍는다."
   ]
  },
  {
   "cell_type": "code",
   "execution_count": null,
   "metadata": {},
   "outputs": [],
   "source": [
    "display_image(\"./data/ch06_05_ep09_04_circuit_hardware.png\", width=700)"
   ]
  },
  {
   "cell_type": "markdown",
   "metadata": {},
   "source": [
    "오실로스코프로 측정해보자\n",
    "* CH1 : v_i\n",
    "* CH2 : v_o"
   ]
  },
  {
   "cell_type": "code",
   "execution_count": null,
   "metadata": {},
   "outputs": [],
   "source": [
    "display_image(\"./data/ch06_05_ep09_04_result_plot.png\", width=700)"
   ]
  },
  {
   "cell_type": "markdown",
   "metadata": {},
   "source": [
    "자동측정으로 v_o 의 직류와 교류 값을 측정한다."
   ]
  },
  {
   "cell_type": "markdown",
   "metadata": {},
   "source": [
    "|                 | v_o 측정치      | v_o 예시값      |\n",
    "|-----------------|-----------------|-----------------|\n",
    "| 직류 (V)        | ??              | 0.0148          |\n",
    "| 교류 (V_PP)     | ??              | 2               |"
   ]
  },
  {
   "cell_type": "markdown",
   "metadata": {},
   "source": [
    "[결과] DC 성분은 제거되고, 순수 AC 성분이 출력에 나타난다."
   ]
  },
  {
   "cell_type": "markdown",
   "metadata": {},
   "source": [
    "### 실험10 단일전원 연산증폭기의 비교기회로"
   ]
  },
  {
   "cell_type": "markdown",
   "metadata": {},
   "source": [
    "#### 실험10-01 어두우면 불 켜지는 회로 ((단일 전원 반전비교기))"
   ]
  },
  {
   "cell_type": "markdown",
   "metadata": {},
   "source": [
    "다음 회로를 만들어보자.\n",
    "\n",
    "* 증폭기: LM358\n",
    "* V_CC_plus = 5 V\n",
    "* V_CC_minus = GND"
   ]
  },
  {
   "cell_type": "code",
   "execution_count": null,
   "metadata": {},
   "outputs": [],
   "source": [
    "display_image(\"./images/ch06_05_ep10_01_circuit.png\", width=600)"
   ]
  },
  {
   "cell_type": "markdown",
   "metadata": {},
   "source": [
    "구성한 회로의 사진을 찍는다."
   ]
  },
  {
   "cell_type": "code",
   "execution_count": null,
   "metadata": {},
   "outputs": [],
   "source": [
    "display_image(\"./data/ch06_05_ep10_01_circuit_hardware.png\", width=700)"
   ]
  },
  {
   "cell_type": "markdown",
   "metadata": {},
   "source": [
    "측정 결과를 기록한다."
   ]
  },
  {
   "cell_type": "markdown",
   "metadata": {},
   "source": [
    "| 경우            | LED 축정값 (ON/OFF) | LED 예시값 (ON/OFF) |\n",
    "|-----------------|---------------------|---------------------|\n",
    "| 밝을 때         | ??                  | OFF                 |\n",
    "| 어두울 때       | ??                  | ON                  |"
   ]
  },
  {
   "cell_type": "markdown",
   "metadata": {},
   "source": [
    "#### 실험10-02 불꽃을 감지하는 회로"
   ]
  },
  {
   "cell_type": "markdown",
   "metadata": {},
   "source": [
    "다음 회로를 만들어보자. (감지센서에서 불꽃이 감지되면 LED가 켜지는 회로)\n",
    "\n",
    "* 증폭기: LM358\n",
    "* V_CC_plus = 5 V\n",
    "* V_CC_minus = GND\n",
    "* 불꽃 감지 센서: YG1006"
   ]
  },
  {
   "cell_type": "code",
   "execution_count": null,
   "metadata": {},
   "outputs": [],
   "source": [
    "display_image(\"./images/ch06_05_ep10_02_circuit.png\", width=600)"
   ]
  },
  {
   "cell_type": "markdown",
   "metadata": {},
   "source": [
    "구성한 회로의 사진을 찍는다."
   ]
  },
  {
   "cell_type": "code",
   "execution_count": null,
   "metadata": {},
   "outputs": [],
   "source": [
    "display_image(\"./data/ch06_05_ep10_02_circuit_hardware.png\", width=700)"
   ]
  },
  {
   "cell_type": "markdown",
   "metadata": {},
   "source": [
    "라이터로 불꽃을 만들어 결과를 확인한다."
   ]
  },
  {
   "cell_type": "markdown",
   "metadata": {},
   "source": [
    "| 경우            | LED 축정값 (ON/OFF) | LED 예시값 (ON/OFF) |\n",
    "|-----------------|---------------------|---------------------|\n",
    "| 라이터 ON       | ??                  | ON                  |\n",
    "| 라이터 OFF      | ??                  | OFF                 |"
   ]
  },
  {
   "cell_type": "markdown",
   "metadata": {},
   "source": [
    "리모컨을 감지센서로 향하고 스위치(어떤 것이든 상관없다)를 누르고 결과를 확인한다.\n",
    "* 적외선에 반응 한다면 리모컨에도 반응할 것이다."
   ]
  },
  {
   "cell_type": "markdown",
   "metadata": {},
   "source": [
    "| 경우                | LED 축정값 (깜빡임/OFF) | LED 예시값 (깜빡임/OFF) |\n",
    "|---------------------|-------------------------|-------------------------|\n",
    "| 리모콘 버튼 누름    | ??                      | 깜빡임                  |\n",
    "| 리모콘 버튼 안 누름 | ??                      | OFF                     |"
   ]
  }
 ],
 "metadata": {
  "kernelspec": {
   "display_name": "venv",
   "language": "python",
   "name": "python3"
  },
  "language_info": {
   "codemirror_mode": {
    "name": "ipython",
    "version": 3
   },
   "file_extension": ".py",
   "mimetype": "text/x-python",
   "name": "python",
   "nbconvert_exporter": "python",
   "pygments_lexer": "ipython3",
   "version": "3.11.9"
  },
  "orig_nbformat": 4
 },
 "nbformat": 4,
 "nbformat_minor": 2
}
