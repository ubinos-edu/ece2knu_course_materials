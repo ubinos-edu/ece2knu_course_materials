{
 "cells": [
  {
   "cell_type": "markdown",
   "metadata": {},
   "source": [
    "# 06장 연산증폭기의 응용회로 1"
   ]
  },
  {
   "cell_type": "markdown",
   "metadata": {},
   "source": [
    "* 이름: 홍길동\n",
    "* 학번: 2025123456\n",
    "* 조: 1"
   ]
  },
  {
   "cell_type": "markdown",
   "metadata": {},
   "source": [
    "## 공통 코드"
   ]
  },
  {
   "cell_type": "code",
   "execution_count": null,
   "metadata": {},
   "outputs": [],
   "source": [
    "import sys\n",
    "from pathlib import Path\n",
    "\n",
    "# common_dir = Path.cwd().parent / \"ece2knu_common\"\n",
    "common_dir = Path.cwd()\n",
    "sys.path.insert(0, str(common_dir))\n",
    "\n",
    "from common import *"
   ]
  },
  {
   "cell_type": "markdown",
   "metadata": {},
   "source": [
    "*******************************************************************************"
   ]
  },
  {
   "cell_type": "markdown",
   "metadata": {},
   "source": [
    "## 6.4 예비 문제"
   ]
  },
  {
   "cell_type": "markdown",
   "metadata": {},
   "source": [
    "### 6.4.1 비반전 형태의 슈미트트리거 회로를 해석하시오. V_TH 와 V_TL 을 구하시오."
   ]
  },
  {
   "cell_type": "code",
   "execution_count": null,
   "metadata": {},
   "outputs": [],
   "source": [
    "display_image(\"./images/ch06_04_01_circuit_diagram.png\", width=500)"
   ]
  },
  {
   "cell_type": "code",
   "execution_count": null,
   "metadata": {},
   "outputs": [],
   "source": [
    "display_image(\"./data/ch06_04_01_calc.png\", width=800)"
   ]
  },
  {
   "cell_type": "markdown",
   "metadata": {},
   "source": [
    "### 6.4.2 비안정 멀티바이브레이터(실험7-1)의 회로를 KiCad/Ngspice로 검증하시오."
   ]
  },
  {
   "cell_type": "markdown",
   "metadata": {},
   "source": [
    "#### 다음 회로를 CAD 로 그리기"
   ]
  },
  {
   "cell_type": "code",
   "execution_count": null,
   "metadata": {},
   "outputs": [],
   "source": [
    "display_image(\"./images/ch06_04_02_circuit_diagram.png\", width=700)"
   ]
  },
  {
   "cell_type": "markdown",
   "metadata": {},
   "source": [
    "참고용 CAD 회로도"
   ]
  },
  {
   "cell_type": "code",
   "execution_count": null,
   "metadata": {},
   "outputs": [],
   "source": [
    "display_image(\"./images/ch06_04_02_circuit_cad_ref.png\", width=700)"
   ]
  },
  {
   "cell_type": "markdown",
   "metadata": {},
   "source": [
    "* VCC: Symbol > power > VCC\n",
    "* VEE: Symbol > power > VEE\n",
    "* OPAMP: Symbol > Simulation_SPICE > OPAMP\n",
    "    + Simulation Model File: UA741.301.mod\n",
    "        - Model: UA741"
   ]
  },
  {
   "cell_type": "markdown",
   "metadata": {},
   "source": [
    "그린 CAD 회로도"
   ]
  },
  {
   "cell_type": "code",
   "execution_count": null,
   "metadata": {},
   "outputs": [],
   "source": [
    "display_image(\"./data/ch06_04_02_circuit_cad.png\", width=700)"
   ]
  },
  {
   "cell_type": "markdown",
   "metadata": {},
   "source": [
    "#### 그린 회로 시뮬레이션하기"
   ]
  },
  {
   "cell_type": "markdown",
   "metadata": {},
   "source": [
    "참고용 시뮬레이션 설정"
   ]
  },
  {
   "cell_type": "code",
   "execution_count": null,
   "metadata": {},
   "outputs": [],
   "source": [
    "display_image(\"./images/ch06_04_02_sim_setting_ref.png\", width=700)"
   ]
  },
  {
   "cell_type": "markdown",
   "metadata": {},
   "source": [
    "시뮬레이션 설정"
   ]
  },
  {
   "cell_type": "code",
   "execution_count": null,
   "metadata": {},
   "outputs": [],
   "source": [
    "display_image(\"./data/ch06_04_02_sim_setting.png\", width=700)"
   ]
  },
  {
   "cell_type": "markdown",
   "metadata": {},
   "source": [
    "#### 시뮬레이션 결과 관찰한기"
   ]
  },
  {
   "cell_type": "markdown",
   "metadata": {},
   "source": [
    "##### 결과 그래프 관찰"
   ]
  },
  {
   "cell_type": "code",
   "execution_count": null,
   "metadata": {},
   "outputs": [],
   "source": [
    "display_image(\"./data/ch06_04_02_plot.png\", width=700)"
   ]
  },
  {
   "cell_type": "markdown",
   "metadata": {},
   "source": [
    "##### 결과 그래프 분석하기"
   ]
  },
  {
   "cell_type": "markdown",
   "metadata": {},
   "source": [
    "다음 그림처럼 커서를 이용해 주파수 측정한다."
   ]
  },
  {
   "cell_type": "markdown",
   "metadata": {},
   "source": [
    "참고용 커서를 사용한 측정 화면"
   ]
  },
  {
   "cell_type": "code",
   "execution_count": null,
   "metadata": {},
   "outputs": [],
   "source": [
    "display_image(\"./images/ch06_04_02_plot_cursor_ref.png\", width=900)"
   ]
  },
  {
   "cell_type": "markdown",
   "metadata": {},
   "source": [
    "참고용 측정치를 사용한 주파수 계산 "
   ]
  },
  {
   "cell_type": "code",
   "execution_count": null,
   "metadata": {},
   "outputs": [],
   "source": [
    "Period_cursor_ref_ms = 2.29\n",
    "Freq_cursor_ref_Hz = (1 / Period_cursor_ref_ms) * 1000\n",
    "print_value(\"Freq_cursor_ref_Hz\", Freq_cursor_ref_Hz)"
   ]
  },
  {
   "cell_type": "markdown",
   "metadata": {},
   "source": [
    "커서를 사용한 측정 화면"
   ]
  },
  {
   "cell_type": "code",
   "execution_count": null,
   "metadata": {},
   "outputs": [],
   "source": [
    "display_image(\"./data/ch06_04_02_plot_cursor.png\", width=700)"
   ]
  },
  {
   "cell_type": "markdown",
   "metadata": {},
   "source": [
    "커서로 측정한 측정치를 사용한 주파수 계산"
   ]
  },
  {
   "cell_type": "code",
   "execution_count": null,
   "metadata": {},
   "outputs": [],
   "source": [
    "Period_cursor_ms = ??\n",
    "Freq_cursor_Hz = (1 / Period_cursor_ms) * 1000\n",
    "print_value(\"Freq_cursor_Hz\", Freq_cursor_Hz)"
   ]
  },
  {
   "cell_type": "markdown",
   "metadata": {},
   "source": [
    "##### 결과 데이터 분석하기"
   ]
  },
  {
   "cell_type": "markdown",
   "metadata": {},
   "source": [
    "그래프를 그린다."
   ]
  },
  {
   "cell_type": "code",
   "execution_count": null,
   "metadata": {},
   "outputs": [],
   "source": [
    "# 실험 결과 파일을 읽는다.\n",
    "data = get_simulation_result_kicad('./data/ch06_04_02_data.csv')\n",
    "\n",
    "# 실험 결과에서 시간, 입력 전압, 출력 전압을 가져온다.\n",
    "times = data['time']\n",
    "vch1 = data['V(/ch1)']\n",
    "vch2 = data['V(/ch2)']\n",
    "\n",
    "# 필터를 적용해 잡음을 줄인다.\n",
    "# vds = savgol_filter(vds, 100, 2)\n",
    "# vrshs = savgol_filter(vrshs, 100, 2)\n",
    "\n",
    "# y 축 반전시키기\n",
    "# vrshs = -vrshs\n",
    "\n",
    "# 시간을 x축, 전압들을 y축으로 하는 그래프를 그린다.\n",
    "plt.xlabel('TIME_s')\n",
    "plt.ylabel('V_V')\n",
    "plt.axhline(0, color='black')\n",
    "plt.axvline(0.1, color='black')\n",
    "draw_plot(times, vch1, 'V(CH1)', 0)\n",
    "draw_plot(times, vch2, 'V(CH2)', 1)\n",
    "plt.show()"
   ]
  },
  {
   "cell_type": "markdown",
   "metadata": {},
   "source": [
    "주파수를 계산한다."
   ]
  },
  {
   "cell_type": "code",
   "execution_count": null,
   "metadata": {},
   "outputs": [],
   "source": [
    "Freq_Hz = calculate_square_wave_frequency(times, vch2)\n",
    "print_value(\"Freq_Hz\", Freq_Hz)"
   ]
  }
 ],
 "metadata": {
  "kernelspec": {
   "display_name": "venv",
   "language": "python",
   "name": "python3"
  },
  "language_info": {
   "codemirror_mode": {
    "name": "ipython",
    "version": 3
   },
   "file_extension": ".py",
   "mimetype": "text/x-python",
   "name": "python",
   "nbconvert_exporter": "python",
   "pygments_lexer": "ipython3",
   "version": "3.11.9"
  },
  "orig_nbformat": 4
 },
 "nbformat": 4,
 "nbformat_minor": 2
}
