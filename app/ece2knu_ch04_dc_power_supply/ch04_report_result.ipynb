{
 "cells": [
  {
   "cell_type": "markdown",
   "metadata": {},
   "source": [
    "# 04장 직류 전원"
   ]
  },
  {
   "cell_type": "markdown",
   "metadata": {},
   "source": [
    "* 이름: 홍길동\n",
    "* 학번: 2025123456\n",
    "* 조: 1"
   ]
  },
  {
   "cell_type": "markdown",
   "metadata": {},
   "source": [
    "## 공통 코드"
   ]
  },
  {
   "cell_type": "code",
   "execution_count": null,
   "metadata": {},
   "outputs": [],
   "source": [
    "import sys\n",
    "from pathlib import Path\n",
    "\n",
    "# common_dir = Path.cwd().parent / \"ece2knu_common\"\n",
    "common_dir = Path.cwd()\n",
    "sys.path.insert(0, str(common_dir))\n",
    "\n",
    "from common import *"
   ]
  },
  {
   "cell_type": "markdown",
   "metadata": {},
   "source": [
    "*******************************************************************************"
   ]
  },
  {
   "cell_type": "markdown",
   "metadata": {},
   "source": [
    "## 4.5 실험 내용"
   ]
  },
  {
   "cell_type": "markdown",
   "metadata": {},
   "source": [
    "### 실험01 제작된 트랜스포머 동작 실험"
   ]
  },
  {
   "cell_type": "markdown",
   "metadata": {},
   "source": [
    "#### 실험01-01 제작된 트랜스포머 동작 확인"
   ]
  },
  {
   "cell_type": "markdown",
   "metadata": {},
   "source": [
    "##### 실험 방법"
   ]
  },
  {
   "cell_type": "markdown",
   "metadata": {},
   "source": [
    "다음의 제작된 트랜스포머의 출력을 오실로스코프로 확인한다."
   ]
  },
  {
   "cell_type": "code",
   "execution_count": null,
   "metadata": {},
   "outputs": [],
   "source": [
    "display_image(\"./images/ch04_05_ep01_01_circuit.png\", width=700)"
   ]
  },
  {
   "cell_type": "markdown",
   "metadata": {},
   "source": [
    "##### 실험 결과 그래프 관찰"
   ]
  },
  {
   "cell_type": "markdown",
   "metadata": {},
   "source": [
    "오실로스코프로 측정한 파형을 관찰한다."
   ]
  },
  {
   "cell_type": "code",
   "execution_count": null,
   "metadata": {},
   "outputs": [],
   "source": [
    "display_image(\"./data/ch04_05_ep01_01_result_plot.png\", width=700)"
   ]
  },
  {
   "cell_type": "markdown",
   "metadata": {},
   "source": [
    "오실로스코프로 측정한 데이터를 저정한다.\n",
    "* 저장할 파일 이름은 아래의 실험 결과 데이터 분석 코드에 있음"
   ]
  },
  {
   "cell_type": "markdown",
   "metadata": {},
   "source": [
    "오실로스코프 측정 기능을 사용해 주파수, 진폭, RMS 값을 측정한다."
   ]
  },
  {
   "cell_type": "markdown",
   "metadata": {},
   "source": [
    "* 오실로스코프의 측정 기능을 사용해 측정한 값"
   ]
  },
  {
   "cell_type": "markdown",
   "metadata": {},
   "source": [
    "|                 |   측정    | 예시값   |\n",
    "|-----------------|-----------|----------|\n",
    "| 주파수 (Hz)     |  ??       | 60       |\n",
    "| 출력의 진폭 (V) |  ??       | 12.4     |\n",
    "| RMS 값 (V)      |  ??       | 8.81     |"
   ]
  },
  {
   "cell_type": "markdown",
   "metadata": {},
   "source": [
    "##### 실험 결과 데이터 분석"
   ]
  },
  {
   "cell_type": "markdown",
   "metadata": {},
   "source": [
    "그래프를 그린다."
   ]
  },
  {
   "cell_type": "code",
   "execution_count": null,
   "metadata": {},
   "outputs": [],
   "source": [
    "# 실험 결과 파일을 읽는다.\n",
    "data = get_oscilloscpoe_result_tektronix('./data/ch04_05_ep01_01_result_data.csv')\n",
    "\n",
    "# 실험 결과에서 시간, 입력 전압, 출력 전압을 가져온다.\n",
    "times = data['TIME']\n",
    "vouts = data['Sample CH1']\n",
    "\n",
    "# 필터를 적용해 잡음을 줄인다.\n",
    "vouts = savgol_filter(vouts, 20, 2)\n",
    "\n",
    "# 시간을 x축, 전압들을 y축으로 하는 그래프를 그린다.\n",
    "plt.xlabel('TIME_s')\n",
    "plt.ylabel('V_V')\n",
    "plt.axhline(0, color='black')\n",
    "plt.axvline(0, color='black')\n",
    "draw_plot(times, vouts, 'V(vout)', 1)\n",
    "plt.show()"
   ]
  },
  {
   "cell_type": "markdown",
   "metadata": {},
   "source": [
    "주파수, 출력의 진폭, RMS 값을 계산한다."
   ]
  },
  {
   "cell_type": "code",
   "execution_count": null,
   "metadata": {},
   "outputs": [],
   "source": [
    "Freq_hz = calculate_square_wave_frequency(times, vouts)\n",
    "print_value(\"Freq_hz\", Freq_hz)\n",
    "V_peak_V = vouts[find_first_peak_index(times, vouts)]\n",
    "print_value(\"V_peak_V\", V_peak_V)\n",
    "V_RMS_V = V_peak_V / math.sqrt(2)\n",
    "print_value(\"V_RMS_V\", V_RMS_V)"
   ]
  },
  {
   "cell_type": "markdown",
   "metadata": {},
   "source": [
    "##### 실험 결과 값 관찰"
   ]
  },
  {
   "cell_type": "markdown",
   "metadata": {},
   "source": [
    "* 오실로스코프로 측정한 데이터에서 계산한 값"
   ]
  },
  {
   "cell_type": "markdown",
   "metadata": {},
   "source": [
    "|                 |   측정    | 예시값   |\n",
    "|-----------------|-----------|----------|\n",
    "| 주파수 (Hz)     |  ??       | 60       |\n",
    "| 출력의 진폭 (V) |  ??       | 12.4     |\n",
    "| RMS 값 (V)      |  ??       | 8.81     |"
   ]
  },
  {
   "cell_type": "markdown",
   "metadata": {},
   "source": [
    "### 실험02 반파정류회로"
   ]
  },
  {
   "cell_type": "markdown",
   "metadata": {},
   "source": [
    "#### 실험02-01 파형발생기의 출력을 입력으로 사용"
   ]
  },
  {
   "cell_type": "markdown",
   "metadata": {},
   "source": [
    "##### 실험 방법"
   ]
  },
  {
   "cell_type": "markdown",
   "metadata": {},
   "source": [
    "다음 회로를 구성한다.\n",
    "\n",
    "* 저항: 1 kOhm\n",
    "* 다이오드: 1N4004\n",
    "* v_i: 파형발생기로 생성한 정현파, 주파수 60 Hz, 진폭: 8 Vpp"
   ]
  },
  {
   "cell_type": "code",
   "execution_count": null,
   "metadata": {},
   "outputs": [],
   "source": [
    "display_image(\"./images/ch04_05_ep02_01_circuit_diagram.png\", width=700)"
   ]
  },
  {
   "cell_type": "markdown",
   "metadata": {},
   "source": [
    "##### 구성한 회로 사진"
   ]
  },
  {
   "cell_type": "code",
   "execution_count": null,
   "metadata": {},
   "outputs": [],
   "source": [
    "display_image(\"./data/ch04_05_ep02_01_circuit_hardware.png\", width=700)"
   ]
  },
  {
   "cell_type": "markdown",
   "metadata": {},
   "source": [
    "##### 실험 결과 그래프 관찰"
   ]
  },
  {
   "cell_type": "markdown",
   "metadata": {},
   "source": [
    "오실로스코프로 측정한 파형을 관찰한다."
   ]
  },
  {
   "cell_type": "code",
   "execution_count": null,
   "metadata": {},
   "outputs": [],
   "source": [
    "display_image(\"./data/ch04_05_ep02_01_result_plot.png\", width=700)"
   ]
  },
  {
   "cell_type": "markdown",
   "metadata": {},
   "source": [
    "오실로스코프를 XY 모드로 전환한 후 측정된 파형을 관찰한다."
   ]
  },
  {
   "cell_type": "code",
   "execution_count": null,
   "metadata": {},
   "outputs": [],
   "source": [
    "display_image(\"./data/ch04_05_ep02_01_result_plot_xy.png\", width=700)"
   ]
  },
  {
   "cell_type": "markdown",
   "metadata": {},
   "source": [
    "#### 실험02-02 제작된 트랜스포머(AC2AC)의 출력을 입력으로 사용 "
   ]
  },
  {
   "cell_type": "markdown",
   "metadata": {},
   "source": [
    "##### 실험 방법"
   ]
  },
  {
   "cell_type": "markdown",
   "metadata": {},
   "source": [
    "직전 실험의 회로를 다음과 같이 수정한다.\n",
    "\n",
    "* v_i: 제작된 트랜스포머 출력"
   ]
  },
  {
   "cell_type": "markdown",
   "metadata": {},
   "source": [
    "##### 실험 결과 그래프 관찰"
   ]
  },
  {
   "cell_type": "markdown",
   "metadata": {},
   "source": [
    "오실로스코프로 측정한 파형을 관찰한다."
   ]
  },
  {
   "cell_type": "code",
   "execution_count": null,
   "metadata": {},
   "outputs": [],
   "source": [
    "display_image(\"./data/ch04_05_ep02_02_result_plot.png\", width=700)"
   ]
  },
  {
   "cell_type": "markdown",
   "metadata": {},
   "source": [
    "오실로스코프를 XY 모드로 전환한 후 측정된 파형을 관찰한다."
   ]
  },
  {
   "cell_type": "code",
   "execution_count": null,
   "metadata": {},
   "outputs": [],
   "source": [
    "display_image(\"./data/ch04_05_ep02_02_result_plot_xy.png\", width=700)"
   ]
  },
  {
   "cell_type": "markdown",
   "metadata": {},
   "source": [
    "### 실험03 전파정류회로"
   ]
  },
  {
   "cell_type": "markdown",
   "metadata": {},
   "source": [
    "#### 실험03-01 파형발생기의 출력을 입력으로 사용"
   ]
  },
  {
   "cell_type": "markdown",
   "metadata": {},
   "source": [
    "##### 실험 방법"
   ]
  },
  {
   "cell_type": "markdown",
   "metadata": {},
   "source": [
    "다음 회로를 구성한다.\n",
    "\n",
    "* 저항: 1 kOhm\n",
    "* 다이오드: 1N4004\n",
    "* v_i: 파형발생기로 생성한 정현파, 주파수 60 Hz, 진폭: 12 Vpp\n",
    "* 출력 파형만 측정한다."
   ]
  },
  {
   "cell_type": "code",
   "execution_count": null,
   "metadata": {},
   "outputs": [],
   "source": [
    "display_image(\"./images/ch04_05_ep03_01_circuit_diagram.png\", width=700)"
   ]
  },
  {
   "cell_type": "markdown",
   "metadata": {},
   "source": [
    "##### 구성한 회로 사진"
   ]
  },
  {
   "cell_type": "code",
   "execution_count": null,
   "metadata": {},
   "outputs": [],
   "source": [
    "display_image(\"./data/ch04_05_ep03_01_circuit_hardware.png\", width=700)"
   ]
  },
  {
   "cell_type": "markdown",
   "metadata": {},
   "source": [
    "##### 실험 결과 그래프 관찰"
   ]
  },
  {
   "cell_type": "markdown",
   "metadata": {},
   "source": [
    "오실로스코프로 측정한 파형을 관찰한다."
   ]
  },
  {
   "cell_type": "code",
   "execution_count": null,
   "metadata": {},
   "outputs": [],
   "source": [
    "display_image(\"./data/ch04_05_ep03_01_result_plot.png\", width=700)"
   ]
  },
  {
   "cell_type": "markdown",
   "metadata": {},
   "source": [
    "#### 실험03-02 제작된 트랜스포머(AC2AC)의 출력을 입력으로 사용 "
   ]
  },
  {
   "cell_type": "markdown",
   "metadata": {},
   "source": [
    "##### 실험 방법"
   ]
  },
  {
   "cell_type": "markdown",
   "metadata": {},
   "source": [
    "직전 실험의 회로를 다음과 같이 수정한다.\n",
    "\n",
    "* v_i: 제작된 트랜스포머 출력"
   ]
  },
  {
   "cell_type": "markdown",
   "metadata": {},
   "source": [
    "##### 실험 결과 그래프 관찰"
   ]
  },
  {
   "cell_type": "markdown",
   "metadata": {},
   "source": [
    "오실로스코프로 측정한 파형을 관찰한다."
   ]
  },
  {
   "cell_type": "code",
   "execution_count": null,
   "metadata": {},
   "outputs": [],
   "source": [
    "display_image(\"./data/ch04_05_ep03_02_result_plot.png\", width=700)"
   ]
  },
  {
   "cell_type": "markdown",
   "metadata": {},
   "source": [
    "### 실험04 평활회로"
   ]
  },
  {
   "cell_type": "markdown",
   "metadata": {},
   "source": [
    "#### 실험04-01 파형발생기의 출력을 입력으로 사용"
   ]
  },
  {
   "cell_type": "markdown",
   "metadata": {},
   "source": [
    "##### 실험 방법"
   ]
  },
  {
   "cell_type": "markdown",
   "metadata": {},
   "source": [
    "다음 회로를 구성한다.\n",
    "\n",
    "* 부하저항 (RL): 5.1 kOhm, 1 kOhm\n",
    "* 커패시터: 10 uF\n",
    "* 다이오드: 1N4004\n",
    "* v_i: 파형발생기로 생성한 정현파, 주파수 60 Hz, 진폭: 12 Vpp\n",
    "* 각 실험은 커패시터가 충분히 방전된 상태에서 시작해야 함 "
   ]
  },
  {
   "cell_type": "code",
   "execution_count": null,
   "metadata": {},
   "outputs": [],
   "source": [
    "display_image(\"./images/ch04_05_ep04_01_circuit_diagram.png\", width=700)"
   ]
  },
  {
   "cell_type": "markdown",
   "metadata": {},
   "source": [
    "##### 구성한 회로 사진"
   ]
  },
  {
   "cell_type": "code",
   "execution_count": null,
   "metadata": {},
   "outputs": [],
   "source": [
    "display_image(\"./data/ch04_05_ep04_01_circuit_hardware.png\", width=700)"
   ]
  },
  {
   "cell_type": "markdown",
   "metadata": {},
   "source": [
    "##### 실험 결과 그래프 관찰"
   ]
  },
  {
   "cell_type": "markdown",
   "metadata": {},
   "source": [
    "오실로스코프로 측정한 파형을 관찰한다."
   ]
  },
  {
   "cell_type": "markdown",
   "metadata": {},
   "source": [
    "부하저항이 5.1 kOhm 인 경우"
   ]
  },
  {
   "cell_type": "code",
   "execution_count": null,
   "metadata": {},
   "outputs": [],
   "source": [
    "display_image(\"./data/ch04_05_ep04_01_result_rl_5_1_k_plot.png\", width=700)"
   ]
  },
  {
   "cell_type": "markdown",
   "metadata": {},
   "source": [
    "오실로스코프로 측정한 데이터를 저정한다.\n",
    "* 저장할 파일 이름은 아래의 실험 결과 데이터 분석 코드에 있음"
   ]
  },
  {
   "cell_type": "markdown",
   "metadata": {},
   "source": [
    "부하저항이 1 kOhm 인 경우"
   ]
  },
  {
   "cell_type": "code",
   "execution_count": null,
   "metadata": {},
   "outputs": [],
   "source": [
    "display_image(\"./data/ch04_05_ep04_01_result_rl_1_k_plot.png\", width=700)"
   ]
  },
  {
   "cell_type": "markdown",
   "metadata": {},
   "source": [
    "오실로스코프로 측정한 데이터를 저정한다.\n",
    "* 저장할 파일 이름은 아래의 실험 결과 데이터 분석 코드에 있음"
   ]
  },
  {
   "cell_type": "markdown",
   "metadata": {},
   "source": [
    "부하저항 변화에 따른 출력의 변화를 그래프로 그린다."
   ]
  },
  {
   "cell_type": "code",
   "execution_count": null,
   "metadata": {},
   "outputs": [],
   "source": [
    "# 실험 결과 파일을 읽는다.\n",
    "data_5_1 = get_oscilloscpoe_result_tektronix('./data/ch04_05_ep04_01_result_rl_5_1_k_data.csv')\n",
    "data_1_0 = get_oscilloscpoe_result_tektronix('./data/ch04_05_ep04_01_result_rl_1_k_data.csv')\n",
    "\n",
    "if data_5_1 != None and data_1_0 != None:\n",
    "    # 실험 결과에서 시간, 입력 전압, 출력 전압을 가져온다.\n",
    "    times = data_5_1['TIME']\n",
    "    vins = data_5_1['Sample CH1']\n",
    "    vouts_5_1 = data_5_1['Sample CH2']\n",
    "    vouts_1_0 = data_1_0['Sample CH2']\n",
    "\n",
    "    # 필터를 적용해 잡음을 줄인다.\n",
    "    vins = savgol_filter(vins, 100, 2)\n",
    "    vouts_5_1 = savgol_filter(vouts_5_1, 10, 2)\n",
    "    vouts_1_0 = savgol_filter(vouts_1_0, 10, 2)\n",
    "\n",
    "    # 시간을 x축, 전압들을 y축으로 하는 그래프를 그린다.\n",
    "    plt.xlabel('TIME_s')\n",
    "    plt.ylabel('V_V')\n",
    "    plt.axhline(0, color='black')\n",
    "    plt.axvline(0, color='black')\n",
    "    draw_plot(times, vins, 'V(IN)', 0)\n",
    "    draw_plot(times, vouts_5_1, 'V(OUT, RL=5.1 kOhm)', 1)\n",
    "    draw_plot(times, vouts_1_0, 'V(OUT, RL=1.0 kOhm)', 2)\n",
    "    plt.show()\n"
   ]
  },
  {
   "cell_type": "markdown",
   "metadata": {},
   "source": [
    "##### 실험 결과 고찰"
   ]
  },
  {
   "cell_type": "markdown",
   "metadata": {},
   "source": [
    "부하가 많이 걸리면 (즉, 부하 저항이 작아지면) 방전시상수가 작아져 빠르게 방전되므로, 변동(ripple) 이 커진다."
   ]
  },
  {
   "cell_type": "markdown",
   "metadata": {},
   "source": [
    "#### 실험04-02 제작된 트랜스포머(AC2AC)의 출력을 입력으로 사용"
   ]
  },
  {
   "cell_type": "markdown",
   "metadata": {},
   "source": [
    "##### 실험 방법"
   ]
  },
  {
   "cell_type": "markdown",
   "metadata": {},
   "source": [
    "직전 실험의 회로를 다음과 같이 수정한다.\n",
    "\n",
    "* v_i: 제작된 트랜스포머 출력\n",
    "* 각 실험은 커패시터가 충분히 방전된 상태에서 시작해야 함 "
   ]
  },
  {
   "cell_type": "markdown",
   "metadata": {},
   "source": [
    "##### 실험 결과 그래프 관찰"
   ]
  },
  {
   "cell_type": "markdown",
   "metadata": {},
   "source": [
    "오실로스코프로 측정한 파형을 관찰한다."
   ]
  },
  {
   "cell_type": "markdown",
   "metadata": {},
   "source": [
    "부하저항이 5.1 kOhm 인 경우"
   ]
  },
  {
   "cell_type": "code",
   "execution_count": null,
   "metadata": {},
   "outputs": [],
   "source": [
    "display_image(\"./data/ch04_05_ep04_02_result_rl_5_1_k_plot.png\", width=700)"
   ]
  },
  {
   "cell_type": "markdown",
   "metadata": {},
   "source": [
    "오실로스코프로 측정한 데이터를 저정한다.\n",
    "* 저장할 파일 이름은 아래의 실험 결과 데이터 분석 코드에 있음"
   ]
  },
  {
   "cell_type": "markdown",
   "metadata": {},
   "source": [
    "부하저항이 1 kOhm 인 경우"
   ]
  },
  {
   "cell_type": "code",
   "execution_count": null,
   "metadata": {},
   "outputs": [],
   "source": [
    "display_image(\"./data/ch04_05_ep04_02_result_rl_1_k_plot.png\", width=700)"
   ]
  },
  {
   "cell_type": "markdown",
   "metadata": {},
   "source": [
    "오실로스코프로 측정한 데이터를 저정한다.\n",
    "* 저장할 파일 이름은 아래의 실험 결과 데이터 분석 코드에 있음"
   ]
  },
  {
   "cell_type": "markdown",
   "metadata": {},
   "source": [
    "부하저항 변화에 따른 출력의 변화를 그래프로 그린다."
   ]
  },
  {
   "cell_type": "code",
   "execution_count": null,
   "metadata": {},
   "outputs": [],
   "source": [
    "# 실험 결과 파일을 읽는다.\n",
    "data_5_1 = get_oscilloscpoe_result_tektronix('./data/ch04_05_ep04_01_result_rl_5_1_k_data.csv')\n",
    "data_1_0 = get_oscilloscpoe_result_tektronix('./data/ch04_05_ep04_01_result_rl_1_k_data.csv')\n",
    "\n",
    "if data_5_1 != None and data_1_0 != None:\n",
    "    # 실험 결과에서 시간, 입력 전압, 출력 전압을 가져온다.\n",
    "    times = data_5_1['TIME']\n",
    "    vins = data_5_1['Sample CH1']\n",
    "    vouts_5_1 = data_5_1['Sample CH2']\n",
    "    vouts_1_0 = data_1_0['Sample CH2']\n",
    "\n",
    "    # 필터를 적용해 잡음을 줄인다.\n",
    "    vins = savgol_filter(vins, 100, 2)\n",
    "    vouts_5_1 = savgol_filter(vouts_5_1, 10, 2)\n",
    "    vouts_1_0 = savgol_filter(vouts_1_0, 10, 2)\n",
    "\n",
    "    # 시간을 x축, 전압들을 y축으로 하는 그래프를 그린다.\n",
    "    plt.xlabel('TIME_s')\n",
    "    plt.ylabel('V_V')\n",
    "    plt.axhline(0, color='black')\n",
    "    plt.axvline(0, color='black')\n",
    "    draw_plot(times, vins, 'V(IN)', 0)\n",
    "    draw_plot(times, vouts_5_1, 'V(OUT, RL=5.1 kOhm)', 1)\n",
    "    draw_plot(times, vouts_1_0, 'V(OUT, RL=1.0 kOhm)', 2)\n",
    "    plt.show()\n"
   ]
  },
  {
   "cell_type": "markdown",
   "metadata": {},
   "source": [
    "### 실험05 정전압회로: LM7805"
   ]
  },
  {
   "cell_type": "markdown",
   "metadata": {},
   "source": [
    "#### 실험05-01 파형발생기의 출력을 입력으로 사용"
   ]
  },
  {
   "cell_type": "markdown",
   "metadata": {},
   "source": [
    "##### 실험 방법"
   ]
  },
  {
   "cell_type": "markdown",
   "metadata": {},
   "source": [
    "다음 회로를 구성한다.\n",
    "\n",
    "* 부하저항 (RL): 무한대(open), 1 kOhm, 3 kOhm\n",
    "* v_i: 파형발생기로 생성한 정현파, 주파수 60 Hz, 진폭: 20 Vpp"
   ]
  },
  {
   "cell_type": "code",
   "execution_count": null,
   "metadata": {},
   "outputs": [],
   "source": [
    "display_image(\"./images/ch04_05_ep05_01_circuit_diagram.png\", width=700)"
   ]
  },
  {
   "cell_type": "markdown",
   "metadata": {},
   "source": [
    "##### 구성한 회로 사진"
   ]
  },
  {
   "cell_type": "code",
   "execution_count": null,
   "metadata": {},
   "outputs": [],
   "source": [
    "display_image(\"./data/ch04_05_ep05_01_circuit_hardware.png\", width=700)"
   ]
  },
  {
   "cell_type": "markdown",
   "metadata": {},
   "source": [
    "##### 실험 결과 그래프 관찰"
   ]
  },
  {
   "cell_type": "markdown",
   "metadata": {},
   "source": [
    "오실로스코프로 측정한 파형을 관찰한다."
   ]
  },
  {
   "cell_type": "markdown",
   "metadata": {},
   "source": [
    "부하저항이 무한대인 경우"
   ]
  },
  {
   "cell_type": "code",
   "execution_count": null,
   "metadata": {},
   "outputs": [],
   "source": [
    "display_image(\"./data/ch04_05_ep05_01_result_rl_inf_plot.png\", width=700)"
   ]
  },
  {
   "cell_type": "markdown",
   "metadata": {},
   "source": [
    "부하저항이 1 kOhm 인 경우"
   ]
  },
  {
   "cell_type": "code",
   "execution_count": null,
   "metadata": {},
   "outputs": [],
   "source": [
    "display_image(\"./data/ch04_05_ep05_01_result_rl_1_k_plot.png\", width=700)"
   ]
  },
  {
   "cell_type": "markdown",
   "metadata": {},
   "source": [
    "부하저항이 3 kOhm 인 경우"
   ]
  },
  {
   "cell_type": "code",
   "execution_count": null,
   "metadata": {},
   "outputs": [],
   "source": [
    "display_image(\"./data/ch04_05_ep05_01_result_rl_3_k_plot.png\", width=700)"
   ]
  },
  {
   "cell_type": "markdown",
   "metadata": {},
   "source": [
    "입력 신호의 진폭을 감소시킨 경우"
   ]
  },
  {
   "cell_type": "code",
   "execution_count": null,
   "metadata": {},
   "outputs": [],
   "source": [
    "display_image(\"./data/ch04_05_ep05_01_result_rl_3_k_low_vin_plot.png\", width=700)"
   ]
  },
  {
   "cell_type": "markdown",
   "metadata": {},
   "source": [
    "#### 실험05-02 제작된 트랜스포머(AC2AC)의 출력을 입력으로 사용"
   ]
  },
  {
   "cell_type": "markdown",
   "metadata": {},
   "source": [
    "##### 실험 방법"
   ]
  },
  {
   "cell_type": "markdown",
   "metadata": {},
   "source": [
    "직전 실험의 회로를 다음과 같이 수정한다.\n",
    "\n",
    "* 부하저항 (RL): 1 kOhm\n",
    "* v_i: 제작된 트랜스포머 출력"
   ]
  },
  {
   "cell_type": "markdown",
   "metadata": {},
   "source": [
    "##### 실험 결과 그래프 관찰"
   ]
  },
  {
   "cell_type": "markdown",
   "metadata": {},
   "source": [
    "오실로스코프로 측정한 파형을 관찰한다."
   ]
  },
  {
   "cell_type": "code",
   "execution_count": null,
   "metadata": {},
   "outputs": [],
   "source": [
    "display_image(\"./data/ch04_05_ep05_02_result_plot.png\", width=700)"
   ]
  },
  {
   "cell_type": "markdown",
   "metadata": {},
   "source": [
    "##### 실험 결과 값 관찰"
   ]
  },
  {
   "cell_type": "markdown",
   "metadata": {},
   "source": [
    "* 오실로스코프의 측정 기능을 사용해 측정한 값"
   ]
  },
  {
   "cell_type": "markdown",
   "metadata": {},
   "source": [
    "|                 |   측정    | 예시값   |\n",
    "|-----------------|-----------|----------|\n",
    "| 출력값 (V)      | ??        | 5        |"
   ]
  },
  {
   "cell_type": "markdown",
   "metadata": {},
   "source": [
    "### 실험06 정전압회로: LM317"
   ]
  },
  {
   "cell_type": "markdown",
   "metadata": {},
   "source": [
    "#### 실험06-01 파형발생기의 출력을 입력으로 사용"
   ]
  },
  {
   "cell_type": "markdown",
   "metadata": {},
   "source": [
    "##### 실험 방법"
   ]
  },
  {
   "cell_type": "markdown",
   "metadata": {},
   "source": [
    "다음 회로를 구성한다.\n",
    "\n",
    "* R_1: 200 Ohm\n",
    "* R_2: 1 kOhm 가변저항\n",
    "* C_1, C_2: 100 uF\n",
    "* v_i: 파형발생기로 생성한 정현파, 주파수 60 Hz, 진폭: 20 Vpp"
   ]
  },
  {
   "cell_type": "code",
   "execution_count": null,
   "metadata": {},
   "outputs": [],
   "source": [
    "display_image(\"./images/ch04_05_ep06_01_circuit_diagram.png\", width=700)"
   ]
  },
  {
   "cell_type": "markdown",
   "metadata": {},
   "source": [
    "##### 구성한 회로 사진"
   ]
  },
  {
   "cell_type": "code",
   "execution_count": null,
   "metadata": {},
   "outputs": [],
   "source": [
    "display_image(\"./data/ch04_05_ep06_01_circuit_hardware.png\", width=700)"
   ]
  },
  {
   "cell_type": "markdown",
   "metadata": {},
   "source": [
    "##### 실험 결과 그래프 관찰"
   ]
  },
  {
   "cell_type": "markdown",
   "metadata": {},
   "source": [
    "오실로스코프로 측정한 파형을 관찰한다."
   ]
  },
  {
   "cell_type": "markdown",
   "metadata": {},
   "source": [
    "R_2 가 최소인 경우"
   ]
  },
  {
   "cell_type": "code",
   "execution_count": null,
   "metadata": {},
   "outputs": [],
   "source": [
    "display_image(\"./data/ch04_05_ep06_01_result_r2_min_plot.png\", width=700)"
   ]
  },
  {
   "cell_type": "markdown",
   "metadata": {},
   "source": [
    "R_2 가 최대인 경우"
   ]
  },
  {
   "cell_type": "code",
   "execution_count": null,
   "metadata": {},
   "outputs": [],
   "source": [
    "display_image(\"./data/ch04_05_ep06_01_result_r2_max_plot.png\", width=700)"
   ]
  },
  {
   "cell_type": "markdown",
   "metadata": {},
   "source": [
    "* 오실로스코프의 측정 기능을 사용해 측정한 값"
   ]
  },
  {
   "cell_type": "markdown",
   "metadata": {},
   "source": [
    "|                 |                 |   측정    | 예시값   |\n",
    "|-----------------|-----------------|-----------|----------|\n",
    "| 출력값 (V)      | R_2 가 최대     | ??        | 1.25     |\n",
    "| 출력값 (V)      | R_2 가 최소     | ??        | 5.86     |\n"
   ]
  },
  {
   "cell_type": "markdown",
   "metadata": {},
   "source": [
    "가변저항을 조절하면서 출력값을 5V 로 만든다."
   ]
  },
  {
   "cell_type": "code",
   "execution_count": null,
   "metadata": {},
   "outputs": [],
   "source": [
    "display_image(\"./data/ch04_05_ep06_01_result_vout_5_plot.png\", width=700)"
   ]
  },
  {
   "cell_type": "markdown",
   "metadata": {},
   "source": [
    "부하에 1 kOhm 저항을 연결한다."
   ]
  },
  {
   "cell_type": "code",
   "execution_count": null,
   "metadata": {},
   "outputs": [],
   "source": [
    "display_image(\"./data/ch04_05_ep06_01_result_rl_1_k_plot.png\", width=700)"
   ]
  },
  {
   "cell_type": "markdown",
   "metadata": {},
   "source": [
    "##### 실험 결과 고찰"
   ]
  },
  {
   "cell_type": "markdown",
   "metadata": {},
   "source": [
    "전반적으로 깨끗하지 못한 직류가 출력된다."
   ]
  },
  {
   "cell_type": "markdown",
   "metadata": {},
   "source": [
    "#### 실험06-02 제작된 트랜스포머(AC2AC)의 출력을 입력으로 사용"
   ]
  },
  {
   "cell_type": "markdown",
   "metadata": {},
   "source": [
    "##### 실험 방법"
   ]
  },
  {
   "cell_type": "markdown",
   "metadata": {},
   "source": [
    "직전 실험의 회로를 다음과 같이 수정한다.\n",
    "\n",
    "* v_i: 제작된 트랜스포머 출력"
   ]
  },
  {
   "cell_type": "markdown",
   "metadata": {},
   "source": [
    "##### 실험 결과 그래프 관찰"
   ]
  },
  {
   "cell_type": "markdown",
   "metadata": {},
   "source": [
    "오실로스코프로 측정한 파형을 관찰한다."
   ]
  },
  {
   "cell_type": "markdown",
   "metadata": {},
   "source": [
    "R_2 가 최소인 경우"
   ]
  },
  {
   "cell_type": "code",
   "execution_count": null,
   "metadata": {},
   "outputs": [],
   "source": [
    "display_image(\"./data/ch04_05_ep06_02_result_r2_min_plot.png\", width=700)"
   ]
  },
  {
   "cell_type": "markdown",
   "metadata": {},
   "source": [
    "R_2 가 최대인 경우"
   ]
  },
  {
   "cell_type": "code",
   "execution_count": null,
   "metadata": {},
   "outputs": [],
   "source": [
    "display_image(\"./data/ch04_05_ep06_02_result_r2_max_plot.png\", width=700)"
   ]
  },
  {
   "cell_type": "markdown",
   "metadata": {},
   "source": [
    "* 오실로스코프의 측정 기능을 사용해 측정한 값"
   ]
  },
  {
   "cell_type": "markdown",
   "metadata": {},
   "source": [
    "|                 |                 |   측정    | 예시값   |\n",
    "|-----------------|-----------------|-----------|----------|\n",
    "| 출력값 (V)      | R_2 가 최대     | ??        | 1.25     |\n",
    "| 출력값 (V)      | R_2 가 최소     | ??        | 7.3      |\n"
   ]
  },
  {
   "cell_type": "markdown",
   "metadata": {},
   "source": [
    "가변저항을 조절하면서 출력값을 5V 로 만든다."
   ]
  },
  {
   "cell_type": "code",
   "execution_count": null,
   "metadata": {},
   "outputs": [],
   "source": [
    "display_image(\"./data/ch04_05_ep06_02_result_vout_5_plot.png\", width=700)"
   ]
  },
  {
   "cell_type": "markdown",
   "metadata": {},
   "source": [
    "부하에 1 kOhm 저항을 연결한다."
   ]
  },
  {
   "cell_type": "code",
   "execution_count": null,
   "metadata": {},
   "outputs": [],
   "source": [
    "display_image(\"./data/ch04_05_ep06_02_result_rl_1_k_plot.png\", width=700)"
   ]
  },
  {
   "cell_type": "markdown",
   "metadata": {},
   "source": [
    "##### 실험 결과 고찰"
   ]
  },
  {
   "cell_type": "markdown",
   "metadata": {},
   "source": [
    "전반적으로 깨끗한 직류가 출력된다.\n",
    "실험06-01 과 직류 품질에 차이가 나는 이유는?"
   ]
  },
  {
   "cell_type": "markdown",
   "metadata": {},
   "source": [
    "??"
   ]
  },
  {
   "cell_type": "markdown",
   "metadata": {},
   "source": [
    "### 실험07 전압표시 모듈"
   ]
  },
  {
   "cell_type": "markdown",
   "metadata": {},
   "source": [
    "#### 실험07-01 직류전압 크기 표시 모듈 실험"
   ]
  },
  {
   "cell_type": "markdown",
   "metadata": {},
   "source": [
    "##### 실험 방법"
   ]
  },
  {
   "cell_type": "markdown",
   "metadata": {},
   "source": [
    "다음 회로를 구성한다."
   ]
  },
  {
   "cell_type": "code",
   "execution_count": null,
   "metadata": {},
   "outputs": [],
   "source": [
    "display_image(\"./images/ch04_05_ep07_01_circuit_diagram.png\", width=700)"
   ]
  },
  {
   "cell_type": "markdown",
   "metadata": {},
   "source": [
    "##### 구성한 회로 사진"
   ]
  },
  {
   "cell_type": "code",
   "execution_count": null,
   "metadata": {},
   "outputs": [],
   "source": [
    "display_image(\"./data/ch04_05_ep07_01_circuit_hardware.png\", width=700)"
   ]
  },
  {
   "cell_type": "markdown",
   "metadata": {},
   "source": [
    "##### 실험 결과"
   ]
  },
  {
   "cell_type": "markdown",
   "metadata": {},
   "source": [
    "전압을 변경하면서 전압이 제대로 표시되는지를 실험한다."
   ]
  },
  {
   "cell_type": "markdown",
   "metadata": {},
   "source": [
    "|                 |   측정    |\n",
    "|-----------------|-----------|\n",
    "| 4               | ??        |\n",
    "| 5               | ??        |\n",
    "| 6               | ??        |\n",
    "| 7               | ??        |\n",
    "| 8               | ??        |\n",
    "| 9               | ??        |\n",
    "| 10              | ??        |"
   ]
  },
  {
   "cell_type": "markdown",
   "metadata": {},
   "source": [
    "측정할 수 있는 최소 전압을 찾는다."
   ]
  },
  {
   "cell_type": "markdown",
   "metadata": {},
   "source": [
    "|                 |   측정    |\n",
    "|-----------------|-----------|\n",
    "| 3.6             | ??        |\n",
    "| 3.7             | ??        |\n",
    "| 3.8             | ??        |\n",
    "| 3.9             | ??        |\n",
    "| 4.0             | ??        |\n",
    "| 4.1             | ??        |"
   ]
  },
  {
   "cell_type": "markdown",
   "metadata": {},
   "source": [
    "\n",
    "|                 |   측정 (V) | 예시값 (V) |\n",
    "|-----------------|------------|------------|\n",
    "| 최소전압        | ??         | 3.9        |"
   ]
  },
  {
   "cell_type": "markdown",
   "metadata": {},
   "source": [
    "### 실험08 18650 배터리"
   ]
  },
  {
   "cell_type": "markdown",
   "metadata": {},
   "source": [
    "#### 실험08-01 18650 배터리 전압 측정"
   ]
  },
  {
   "cell_type": "markdown",
   "metadata": {},
   "source": [
    "##### 실험 방법"
   ]
  },
  {
   "cell_type": "markdown",
   "metadata": {},
   "source": [
    "다음 회로를 구성한다.\n",
    "\n",
    "* 18650 배터리는 배터리 홀더에 넣어 연결한다.\n",
    "* 만약 측정전압이 예시값을 벗어났다면, 조교선생님에게 알린다."
   ]
  },
  {
   "cell_type": "code",
   "execution_count": null,
   "metadata": {},
   "outputs": [],
   "source": [
    "display_image(\"./images/ch04_05_ep08_01_circuit_diagram.png\", width=700)"
   ]
  },
  {
   "cell_type": "markdown",
   "metadata": {},
   "source": [
    "##### 구성한 회로 사진"
   ]
  },
  {
   "cell_type": "code",
   "execution_count": null,
   "metadata": {},
   "outputs": [],
   "source": [
    "display_image(\"./data/ch04_05_ep08_01_circuit_hardware.png\", width=700)"
   ]
  },
  {
   "cell_type": "markdown",
   "metadata": {},
   "source": [
    "##### 실험 결과"
   ]
  },
  {
   "cell_type": "markdown",
   "metadata": {},
   "source": [
    "출력 전압을 확인한다."
   ]
  },
  {
   "cell_type": "markdown",
   "metadata": {},
   "source": [
    "|                 |   측정 (V) | 예시값 (V) |\n",
    "|-----------------|------------|------------|\n",
    "| 측정전압        | ??         | 3 ~ 4.2    |"
   ]
  },
  {
   "cell_type": "markdown",
   "metadata": {},
   "source": [
    "### 실험09 DC2DC: LM2596"
   ]
  },
  {
   "cell_type": "markdown",
   "metadata": {},
   "source": [
    "#### 실험09-01 파형발생기의 출력을 입력으로 사용"
   ]
  },
  {
   "cell_type": "markdown",
   "metadata": {},
   "source": [
    "##### 실험 방법"
   ]
  },
  {
   "cell_type": "markdown",
   "metadata": {},
   "source": [
    "다음 회로를 구성한다.\n",
    "\n",
    "* v_i: 파형발생기로 생성한 정현파, 주파수 60 Hz, 진폭: 20 Vpp"
   ]
  },
  {
   "cell_type": "code",
   "execution_count": null,
   "metadata": {},
   "outputs": [],
   "source": [
    "display_image(\"./images/ch04_05_ep09_01_circuit_diagram.png\", width=700)"
   ]
  },
  {
   "cell_type": "markdown",
   "metadata": {},
   "source": [
    "##### 구성한 회로 사진"
   ]
  },
  {
   "cell_type": "code",
   "execution_count": null,
   "metadata": {},
   "outputs": [],
   "source": [
    "display_image(\"./data/ch04_05_ep09_01_circuit_hardware.png\", width=700)"
   ]
  },
  {
   "cell_type": "markdown",
   "metadata": {},
   "source": [
    "##### 실험 결과"
   ]
  },
  {
   "cell_type": "markdown",
   "metadata": {},
   "source": [
    "LM2596 모듈의 가변저항 노브를 돌려 출력값을 3.5V 로 설정한다.\n",
    "* 시계방향: 출력 커짐\n",
    "* 반시계방향: 출력 작아짐"
   ]
  },
  {
   "cell_type": "markdown",
   "metadata": {},
   "source": [
    "오실로스코프로 측정한 파형을 관찰한다."
   ]
  },
  {
   "cell_type": "code",
   "execution_count": null,
   "metadata": {},
   "outputs": [],
   "source": [
    "display_image(\"./data/ch04_05_ep09_01_result_plot.png\", width=700)"
   ]
  },
  {
   "cell_type": "markdown",
   "metadata": {},
   "source": [
    "출력 전압을 확인한다."
   ]
  },
  {
   "cell_type": "markdown",
   "metadata": {},
   "source": [
    "|                 |   측정 (V) | 예시값 (V) |\n",
    "|-----------------|------------|------------|\n",
    "| 출력값          | ??         | 3.5        |"
   ]
  },
  {
   "cell_type": "markdown",
   "metadata": {},
   "source": [
    "#### 실험09-02 제작된 트랜스포머(AC2AC)의 출력을 입력으로 사용"
   ]
  },
  {
   "cell_type": "markdown",
   "metadata": {},
   "source": [
    "##### 실험 방법"
   ]
  },
  {
   "cell_type": "markdown",
   "metadata": {},
   "source": [
    "직전 실험의 회로를 다음과 같이 수정한다.\n",
    "\n",
    "* v_i: 제작된 트랜스포머 출력"
   ]
  },
  {
   "cell_type": "markdown",
   "metadata": {},
   "source": [
    "##### 실험 결과"
   ]
  },
  {
   "cell_type": "markdown",
   "metadata": {},
   "source": [
    "LM2596 모듈의 가변저항 노브를 돌려 출력값을 3.5V 로 설정한다.\n",
    "* 시계방향: 출력 커짐\n",
    "* 반시계방향: 출력 작아짐"
   ]
  },
  {
   "cell_type": "markdown",
   "metadata": {},
   "source": [
    "오실로스코프로 측정한 파형을 관찰한다."
   ]
  },
  {
   "cell_type": "code",
   "execution_count": null,
   "metadata": {},
   "outputs": [],
   "source": [
    "display_image(\"./data/ch04_05_ep09_02_result_plot.png\", width=700)"
   ]
  },
  {
   "cell_type": "markdown",
   "metadata": {},
   "source": [
    "출력 전압을 확인한다."
   ]
  },
  {
   "cell_type": "markdown",
   "metadata": {},
   "source": [
    "|                 |   측정 (V) | 예시값 (V) |\n",
    "|-----------------|------------|------------|\n",
    "| 출력값          | ??         | 3.5        |"
   ]
  },
  {
   "cell_type": "markdown",
   "metadata": {},
   "source": [
    "### 실험10 DC2DC: XL6009"
   ]
  },
  {
   "cell_type": "markdown",
   "metadata": {},
   "source": [
    "#### 실험10-01 전원공급기의 출력을 입력으로 사용"
   ]
  },
  {
   "cell_type": "markdown",
   "metadata": {},
   "source": [
    "##### 실험 방법"
   ]
  },
  {
   "cell_type": "markdown",
   "metadata": {},
   "source": [
    "다음 회로를 구성한다.\n",
    "\n",
    "* v_i: 전원공급기로 3.7 V 공급"
   ]
  },
  {
   "cell_type": "code",
   "execution_count": null,
   "metadata": {},
   "outputs": [],
   "source": [
    "display_image(\"./images/ch04_05_ep10_01_circuit_diagram.png\", width=700)"
   ]
  },
  {
   "cell_type": "markdown",
   "metadata": {},
   "source": [
    "##### 구성한 회로 사진"
   ]
  },
  {
   "cell_type": "code",
   "execution_count": null,
   "metadata": {},
   "outputs": [],
   "source": [
    "display_image(\"./data/ch04_05_ep10_01_circuit_hardware.png\", width=700)"
   ]
  },
  {
   "cell_type": "markdown",
   "metadata": {},
   "source": [
    "##### 실험 결과"
   ]
  },
  {
   "cell_type": "markdown",
   "metadata": {},
   "source": [
    "XL6009 모듈의 가변저항 노브를 돌려 출력값을 5V 로 설정한다.\n",
    "* 시계방향: 출력 커짐\n",
    "* 반시계방향: 출력 작아짐"
   ]
  },
  {
   "cell_type": "markdown",
   "metadata": {},
   "source": [
    "출력 전압을 확인한다."
   ]
  },
  {
   "cell_type": "markdown",
   "metadata": {},
   "source": [
    "|                 |   측정 (V) | 예시값 (V) |\n",
    "|-----------------|------------|------------|\n",
    "| 출력값          |   ??       | 5          |"
   ]
  },
  {
   "cell_type": "markdown",
   "metadata": {},
   "source": [
    "#### 실험10-02 18650 배터리의 출력을 입력으로 사용"
   ]
  },
  {
   "cell_type": "markdown",
   "metadata": {},
   "source": [
    "직적 싱험의 회로를 다음과 같이 수정한다.\n",
    "\n",
    "* v_i: 18650 배터리로 공급"
   ]
  },
  {
   "cell_type": "markdown",
   "metadata": {},
   "source": [
    "##### 구성한 회로 사진"
   ]
  },
  {
   "cell_type": "code",
   "execution_count": null,
   "metadata": {},
   "outputs": [],
   "source": [
    "display_image(\"./data/ch04_05_ep10_02_circuit_hardware.png\", width=700)"
   ]
  },
  {
   "cell_type": "markdown",
   "metadata": {},
   "source": [
    "##### 실험 결과"
   ]
  },
  {
   "cell_type": "markdown",
   "metadata": {},
   "source": [
    "XL6009 모듈의 가변저항 노브를 돌려 출력값을 5V 로 설정한다.\n",
    "* 시계방향: 출력 커짐\n",
    "* 반시계방향: 출력 작아짐"
   ]
  },
  {
   "cell_type": "markdown",
   "metadata": {},
   "source": [
    "출력 전압을 확인한다."
   ]
  },
  {
   "cell_type": "markdown",
   "metadata": {},
   "source": [
    "|                 |   측정 (V) | 예시값 (V) |\n",
    "|-----------------|------------|------------|\n",
    "| 출력값          |  ??        | 5          |"
   ]
  }
 ],
 "metadata": {
  "kernelspec": {
   "display_name": "venv",
   "language": "python",
   "name": "python3"
  },
  "language_info": {
   "codemirror_mode": {
    "name": "ipython",
    "version": 3
   },
   "file_extension": ".py",
   "mimetype": "text/x-python",
   "name": "python",
   "nbconvert_exporter": "python",
   "pygments_lexer": "ipython3",
   "version": "3.11.9"
  },
  "orig_nbformat": 4
 },
 "nbformat": 4,
 "nbformat_minor": 2
}
