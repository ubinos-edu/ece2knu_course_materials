{
 "cells": [
  {
   "cell_type": "markdown",
   "metadata": {},
   "source": [
    "# 04장 직류전원"
   ]
  },
  {
   "cell_type": "markdown",
   "metadata": {},
   "source": [
    "* 이름: 홍길동\n",
    "* 학번: 2025123456\n",
    "* 조: 1"
   ]
  },
  {
   "cell_type": "markdown",
   "metadata": {},
   "source": [
    "## 공통 코드"
   ]
  },
  {
   "cell_type": "code",
   "execution_count": null,
   "metadata": {},
   "outputs": [],
   "source": [
    "import sys\n",
    "from pathlib import Path\n",
    "\n",
    "# common_dir = Path.cwd().parent / \"ece2knu_common\"\n",
    "common_dir = Path.cwd()\n",
    "sys.path.insert(0, str(common_dir))\n",
    "\n",
    "from common import *"
   ]
  },
  {
   "cell_type": "markdown",
   "metadata": {},
   "source": [
    "*******************************************************************************"
   ]
  },
  {
   "cell_type": "markdown",
   "metadata": {},
   "source": [
    "## 4.3 실험 이론"
   ]
  },
  {
   "cell_type": "markdown",
   "metadata": {},
   "source": [
    "### 4.3.5 평활회로"
   ]
  },
  {
   "cell_type": "markdown",
   "metadata": {},
   "source": [
    "다음 회로도를 KiCad 로 그린다.\n",
    "\n",
    "* 사용 소자\n",
    "    + D: D1N4004\n",
    "    + C: 10 uF (C_Polarized 사용)\n",
    "    + RL: 5.1 K, 2k, 500 Ohm \n",
    "\n",
    "* 소자 reference (이름): KiCad 에서는 모든 소자 Reference 에 번호가 붙어야 하기 때문에, 각 소자의 Reference 는 다음과 같이 입력한다.\n",
    "    + D: D1\n",
    "    + C: C1\n",
    "    + RL: RL1\n",
    "\n",
    "* RL Parameter Sweep 설정\n",
    "    + 소자 값을 다음과 같이 {<변수명>} 으로 입력 \n",
    "        - 예: {Rvar}\n",
    "\n",
    "    + 아래 control code 를 text 로 회로도에 추가"
   ]
  },
  {
   "cell_type": "markdown",
   "metadata": {},
   "source": [
    ".param Rvar=5.1k\n",
    "\n",
    ".control\n",
    "    echo \"x1 time x2 v(/vin) x3 v(/vout)\" > ../../data/ch04_03_05_result_sim.txt\n",
    "\n",
    "    foreach R 5.1k 2k 500\n",
    "        alterparam Rvar = $R\n",
    "        reset\n",
    "        save time v(/vin) v(/vout)\n",
    "\n",
    "        tran 64u 64m\n",
    "\n",
    "        echo \"Step Information:\" >> ../../data/ch04_03_05_result_sim.txt\n",
    "        set appendwrite\n",
    "        wrdata ../../data/ch04_03_05_result_sim.txt time v(/vin) v(/vout)\n",
    "    end\n",
    ".endc"
   ]
  },
  {
   "cell_type": "markdown",
   "metadata": {},
   "source": [
    "* 참고자료\n",
    "    - https://ngspice.sourceforge.io/docs.html"
   ]
  },
  {
   "cell_type": "code",
   "execution_count": null,
   "metadata": {},
   "outputs": [],
   "source": [
    "display_image(\"./images/ch04_03_03_05_circuit.png\", width=700)"
   ]
  },
  {
   "cell_type": "markdown",
   "metadata": {},
   "source": [
    "그린 회로도"
   ]
  },
  {
   "cell_type": "code",
   "execution_count": null,
   "metadata": {},
   "outputs": [],
   "source": [
    "display_image(\"./data/ch04_03_03_05_circuit_cad.png\", width=700)"
   ]
  },
  {
   "cell_type": "markdown",
   "metadata": {},
   "source": [
    "####  회로 시뮬레이션하기"
   ]
  },
  {
   "cell_type": "markdown",
   "metadata": {},
   "source": [
    "다음 설정으로 시뮬레이션한다."
   ]
  },
  {
   "cell_type": "code",
   "execution_count": null,
   "metadata": {},
   "outputs": [],
   "source": [
    "display_image(\"./images/ch04_03_03_05_sim_setting.png\", width=700)"
   ]
  },
  {
   "cell_type": "markdown",
   "metadata": {},
   "source": [
    "#### 시뮬레이션 결과 관찰한기"
   ]
  },
  {
   "cell_type": "code",
   "execution_count": null,
   "metadata": {},
   "outputs": [],
   "source": [
    "display_image(\"./data/ch04_03_05_result_plot.png\", width=700)"
   ]
  },
  {
   "cell_type": "markdown",
   "metadata": {},
   "source": [
    "시뮬레이션한 데이터는 회로도에 입력한 control code 에 의해 자동으로 저장되므로, 직접 저장할 필요가 없다."
   ]
  },
  {
   "cell_type": "markdown",
   "metadata": {},
   "source": [
    "##### 결과 데이터 분석하기"
   ]
  },
  {
   "cell_type": "markdown",
   "metadata": {},
   "source": [
    "그래프를 그린다."
   ]
  },
  {
   "cell_type": "code",
   "execution_count": null,
   "metadata": {},
   "outputs": [],
   "source": [
    "R_L_l = np.array([5100, 2000, 500])\n",
    "\n",
    "# 실험 결과 파일을 읽는다.\n",
    "data = get_simulation_result('data/ch04_03_05_result_sim.txt')\n",
    "\n",
    "times_l = []\n",
    "vins_l = []\n",
    "vouts_l = []\n",
    "\n",
    "# 실험 결과에서 시간, 입력 전압, 출력 전압을 가져온다.\n",
    "for idx in range(len(R_L_l)):\n",
    "    times_l.append(data['(TIME)@%d' % (idx+1)])\n",
    "    vins_l.append(data['(V(/VIN))@%d' % (idx+1)] / 1000.)\n",
    "    vouts_l.append(data['(V(/VOUT))@%d' % (idx+1)] / 1000.)\n",
    "\n",
    "for idx in range(len(R_L_l)):\n",
    "    R_L = R_L_l[idx]\n",
    "    times = times_l[idx]\n",
    "    vins = vins_l[idx]\n",
    "    vouts = vouts_l[idx]\n",
    "    label = 'V(OUT)(R_L=%d)' % R_L\n",
    "\n",
    "    # 필터를 적용해 잡음을 줄인다.\n",
    "    # vins = savgol_filter(vins, 100, 2)\n",
    "    # vouts = savgol_filter(vouts, 100, 2)\n",
    "\n",
    "    # 시간을 x축, 전압들을 y축으로 하는 그래프를 그린다.\n",
    "    plt.xlabel('time')\n",
    "    plt.ylabel('V_V')\n",
    "    plt.axhline(0, color='black')\n",
    "    # plt.axvline(0, color='black')\n",
    "    if idx == 0:\n",
    "        draw_plot(times, vins, 'V(IN)', 0)\n",
    "    draw_plot(times, vouts, label, idx+1)\n",
    "\n",
    "plt.show()"
   ]
  }
 ],
 "metadata": {
  "kernelspec": {
   "display_name": "venv",
   "language": "python",
   "name": "python3"
  },
  "language_info": {
   "codemirror_mode": {
    "name": "ipython",
    "version": 3
   },
   "file_extension": ".py",
   "mimetype": "text/x-python",
   "name": "python",
   "nbconvert_exporter": "python",
   "pygments_lexer": "ipython3",
   "version": "3.11.9"
  },
  "orig_nbformat": 4
 },
 "nbformat": 4,
 "nbformat_minor": 2
}
