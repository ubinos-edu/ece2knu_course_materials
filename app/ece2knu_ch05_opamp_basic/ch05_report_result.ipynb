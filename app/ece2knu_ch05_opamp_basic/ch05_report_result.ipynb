{
 "cells": [
  {
   "cell_type": "markdown",
   "metadata": {},
   "source": [
    "# 05장 연산증폭기의 기본회로"
   ]
  },
  {
   "cell_type": "markdown",
   "metadata": {},
   "source": [
    "* 이름: 홍길동\n",
    "* 학번: 2025123456\n",
    "* 조: 1"
   ]
  },
  {
   "cell_type": "markdown",
   "metadata": {},
   "source": [
    "## 공통 코드"
   ]
  },
  {
   "cell_type": "code",
   "execution_count": null,
   "metadata": {},
   "outputs": [],
   "source": [
    "import sys\n",
    "from pathlib import Path\n",
    "\n",
    "# common_dir = Path.cwd().parent / \"ece2knu_common\"\n",
    "common_dir = Path.cwd()\n",
    "sys.path.insert(0, str(common_dir))\n",
    "\n",
    "from common import *"
   ]
  },
  {
   "cell_type": "markdown",
   "metadata": {},
   "source": [
    "*******************************************************************************"
   ]
  },
  {
   "cell_type": "markdown",
   "metadata": {},
   "source": [
    "## 5.5 실험 내용"
   ]
  },
  {
   "cell_type": "markdown",
   "metadata": {},
   "source": [
    "### 실험01 이득이 –2인 반전증폭기"
   ]
  },
  {
   "cell_type": "markdown",
   "metadata": {},
   "source": [
    "#### 실험01-01 +15V와 –15V를 만들자"
   ]
  },
  {
   "cell_type": "markdown",
   "metadata": {},
   "source": [
    "##### 실험 방법"
   ]
  },
  {
   "cell_type": "code",
   "execution_count": null,
   "metadata": {},
   "outputs": [],
   "source": [
    "display_image(\"./images/ch05_05_ep01_01_circuit.png\", width=300)"
   ]
  },
  {
   "cell_type": "markdown",
   "metadata": {},
   "source": [
    "##### 구성한 회로 사진"
   ]
  },
  {
   "cell_type": "code",
   "execution_count": null,
   "metadata": {},
   "outputs": [],
   "source": [
    "display_image(\"./data/ch05_05_ep01_01_circuit_hardware.png\", width=700)"
   ]
  },
  {
   "cell_type": "markdown",
   "metadata": {},
   "source": [
    "##### 실험 결과 값 확인"
   ]
  },
  {
   "cell_type": "markdown",
   "metadata": {},
   "source": [
    "DMM으로 측정한 결과를 기록한다.\n",
    "\n",
    "* V_CH1_V = ??\n",
    "* V_CH2_V = ??"
   ]
  },
  {
   "cell_type": "markdown",
   "metadata": {},
   "source": [
    "#### 실험01-02~04 반전증폭기 만들기"
   ]
  },
  {
   "cell_type": "markdown",
   "metadata": {},
   "source": [
    "##### 실험 방법\n",
    "\n",
    "* 연산증폭기: 741 OP amp\n",
    "* VCC: 15 V\n",
    "* -VCC: -15 V\n",
    "* Vi: 정현파, 주파수 1 kHz, 크기 1 Vpp"
   ]
  },
  {
   "cell_type": "code",
   "execution_count": null,
   "metadata": {},
   "outputs": [],
   "source": [
    "display_image(\"./images/ch05_05_ep01_02_circuit.png\", width=400)"
   ]
  },
  {
   "cell_type": "markdown",
   "metadata": {},
   "source": [
    "##### 구성한 회로 사진"
   ]
  },
  {
   "cell_type": "code",
   "execution_count": null,
   "metadata": {},
   "outputs": [],
   "source": [
    "display_image(\"./data/ch05_05_ep01_02_circuit_hardware.png\", width=700)"
   ]
  },
  {
   "cell_type": "markdown",
   "metadata": {},
   "source": [
    "##### 실험 결과 그래프 관찰"
   ]
  },
  {
   "cell_type": "markdown",
   "metadata": {},
   "source": [
    "오실로스코프로 측정한 파형을 관찰한다."
   ]
  },
  {
   "cell_type": "code",
   "execution_count": null,
   "metadata": {},
   "outputs": [],
   "source": [
    "display_image(\"./data/ch05_05_ep01_02_result_plot.png\", width=700)"
   ]
  },
  {
   "cell_type": "markdown",
   "metadata": {},
   "source": [
    "[결과] 크기는 2배가 되고, 위상은 반대가 된다."
   ]
  },
  {
   "cell_type": "markdown",
   "metadata": {},
   "source": [
    "오실로스코프를 XY 모드로 전환해 전달특성곡선을 관찰한다."
   ]
  },
  {
   "cell_type": "code",
   "execution_count": null,
   "metadata": {},
   "outputs": [],
   "source": [
    "display_image(\"./data/ch05_05_ep01_02_result_plot_xy.png\", width=700)"
   ]
  },
  {
   "cell_type": "markdown",
   "metadata": {},
   "source": [
    "[결과] 입출력 전달특성곡선은 기울기가 –2인 직선형태가 나온다."
   ]
  },
  {
   "cell_type": "markdown",
   "metadata": {},
   "source": [
    "#### 실험01-05 직류 증폭"
   ]
  },
  {
   "cell_type": "markdown",
   "metadata": {},
   "source": [
    "##### 실험 방법"
   ]
  },
  {
   "cell_type": "markdown",
   "metadata": {},
   "source": [
    "직전 실험의 회로를 다음과 같이 수정한다.\n",
    "\n",
    "* v_i: 직류 1 V"
   ]
  },
  {
   "cell_type": "markdown",
   "metadata": {},
   "source": [
    "##### 실험 결과 그래프 관찰"
   ]
  },
  {
   "cell_type": "code",
   "execution_count": null,
   "metadata": {},
   "outputs": [],
   "source": [
    "display_image(\"./data/ch05_05_ep01_05_result_plot.png\", width=700)"
   ]
  },
  {
   "cell_type": "markdown",
   "metadata": {},
   "source": [
    "[결과] OP amp는 교류뿐만 아니라, 직류성분값도 증폭한다."
   ]
  },
  {
   "cell_type": "markdown",
   "metadata": {},
   "source": [
    "### 실험02 이득이 2인 비반전증폭기"
   ]
  },
  {
   "cell_type": "markdown",
   "metadata": {},
   "source": [
    "#### 실험02-01~02 비반전증폭기 만들기"
   ]
  },
  {
   "cell_type": "markdown",
   "metadata": {},
   "source": [
    "##### 실험 방법\n",
    "\n",
    "* 연산증폭기: 741 OP amp\n",
    "* VCC: 15 V\n",
    "* -VCC: -15 V\n",
    "* Vi: 정현파, 주파수 1 kHz, 크기 1 Vpp\n",
    "\n",
    "[주의사항] 전원공급기의 출력을 비활성화한 상태에서 회로를 구성한다."
   ]
  },
  {
   "cell_type": "code",
   "execution_count": null,
   "metadata": {},
   "outputs": [],
   "source": [
    "display_image(\"./images/ch05_05_ep02_01_circuit.png\", width=400)"
   ]
  },
  {
   "cell_type": "markdown",
   "metadata": {},
   "source": [
    "##### 구성한 회로 사진"
   ]
  },
  {
   "cell_type": "code",
   "execution_count": null,
   "metadata": {},
   "outputs": [],
   "source": [
    "display_image(\"./data/ch05_05_ep02_01_circuit_hardware.png\", width=700)"
   ]
  },
  {
   "cell_type": "markdown",
   "metadata": {},
   "source": [
    "##### 실험 결과 그래프 관찰"
   ]
  },
  {
   "cell_type": "markdown",
   "metadata": {},
   "source": [
    "오실로스코프로 측정한 파형을 관찰한다."
   ]
  },
  {
   "cell_type": "code",
   "execution_count": null,
   "metadata": {},
   "outputs": [],
   "source": [
    "display_image(\"./data/ch05_05_ep02_01_result_plot.png\", width=700)"
   ]
  },
  {
   "cell_type": "markdown",
   "metadata": {},
   "source": [
    "[결과] 크기가 2배이고, 위상은 같다."
   ]
  },
  {
   "cell_type": "markdown",
   "metadata": {},
   "source": [
    "오실로스코프를 XY 모드로 전환해 전달특성곡선을 관찰한다."
   ]
  },
  {
   "cell_type": "code",
   "execution_count": null,
   "metadata": {},
   "outputs": [],
   "source": [
    "display_image(\"./data/ch05_05_ep02_01_result_plot_xy.png\", width=700)"
   ]
  },
  {
   "cell_type": "markdown",
   "metadata": {},
   "source": [
    "[결과] 입출력 전달특성곡선은 기울기가 2인 직선형태가 나온다."
   ]
  },
  {
   "cell_type": "markdown",
   "metadata": {},
   "source": [
    "#### 실험02-03 직류 증폭"
   ]
  },
  {
   "cell_type": "markdown",
   "metadata": {},
   "source": [
    "##### 실험 방법"
   ]
  },
  {
   "cell_type": "markdown",
   "metadata": {},
   "source": [
    "직전 실험의 회로를 다음과 같이 수정한다.\n",
    "\n",
    "* v_i: 직류 1 V"
   ]
  },
  {
   "cell_type": "markdown",
   "metadata": {},
   "source": [
    "##### 실험 결과 그래프 관찰"
   ]
  },
  {
   "cell_type": "code",
   "execution_count": null,
   "metadata": {},
   "outputs": [],
   "source": [
    "display_image(\"./data/ch05_05_ep02_03_result_plot.png\", width=700)"
   ]
  },
  {
   "cell_type": "markdown",
   "metadata": {},
   "source": [
    "[결과] OP amp는 교류뿐만 아니라, 직류성분값도 증폭한다."
   ]
  },
  {
   "cell_type": "markdown",
   "metadata": {},
   "source": [
    "### 실험03 Voltage Follower회로"
   ]
  },
  {
   "cell_type": "markdown",
   "metadata": {},
   "source": [
    "#### 실험03-01 Voltage Follower 만들기"
   ]
  },
  {
   "cell_type": "markdown",
   "metadata": {},
   "source": [
    "##### 실험 방법\n",
    "\n",
    "* 연산증폭기: 741 OP amp\n",
    "* VCC: 15 V\n",
    "* -VCC: -15 V\n",
    "* Vi: 정현파, 주파수 1 kHz, 크기 1 Vpp"
   ]
  },
  {
   "cell_type": "code",
   "execution_count": null,
   "metadata": {},
   "outputs": [],
   "source": [
    "display_image(\"./images/ch05_05_ep03_01_circuit.png\", width=400)"
   ]
  },
  {
   "cell_type": "markdown",
   "metadata": {},
   "source": [
    "##### 구성한 회로 사진"
   ]
  },
  {
   "cell_type": "code",
   "execution_count": null,
   "metadata": {},
   "outputs": [],
   "source": [
    "display_image(\"./data/ch05_05_ep03_01_circuit_hardware.png\", width=700)"
   ]
  },
  {
   "cell_type": "markdown",
   "metadata": {},
   "source": [
    "##### 실험 결과 그래프 관찰"
   ]
  },
  {
   "cell_type": "markdown",
   "metadata": {},
   "source": [
    "오실로스코프로 측정한 파형을 관찰한다."
   ]
  },
  {
   "cell_type": "code",
   "execution_count": null,
   "metadata": {},
   "outputs": [],
   "source": [
    "display_image(\"./data/ch05_05_ep03_01_result_plot.png\", width=700)"
   ]
  },
  {
   "cell_type": "markdown",
   "metadata": {},
   "source": [
    "[결과] 크기가 1배이고, 위상은 같다"
   ]
  },
  {
   "cell_type": "markdown",
   "metadata": {},
   "source": [
    "오실로스코프를 XY 모드로 전환해 전달특성곡선을 관찰한다."
   ]
  },
  {
   "cell_type": "code",
   "execution_count": null,
   "metadata": {},
   "outputs": [],
   "source": [
    "display_image(\"./data/ch05_05_ep03_01_result_plot_xy.png\", width=700)"
   ]
  },
  {
   "cell_type": "markdown",
   "metadata": {},
   "source": [
    "[결과] 입출력 전달특성곡선은 기울기가 1인 직선형태가 나온다."
   ]
  },
  {
   "cell_type": "markdown",
   "metadata": {},
   "source": [
    "### 실험04  반전가산기회로"
   ]
  },
  {
   "cell_type": "markdown",
   "metadata": {},
   "source": [
    "#### 실험04-01~02 반전가산기회로 만들기"
   ]
  },
  {
   "cell_type": "markdown",
   "metadata": {},
   "source": [
    "##### 실험 방법\n",
    "\n",
    "* 연산증폭기: 741 OP amp\n",
    "* VCC: 15 V\n",
    "* -VCC: -15 V\n",
    "* V1: 정현파, 주파수 1 kHz, 크기 2 Vpp\n",
    "* V2: 구형파, 주파수 1 kHz, 크기 2 Vpp\n",
    "\n",
    "[주의사항] 전원공급기의 출력을 비활성화한 상태에서 회로를 구성한다."
   ]
  },
  {
   "cell_type": "code",
   "execution_count": null,
   "metadata": {},
   "outputs": [],
   "source": [
    "display_image(\"./images/ch05_05_ep04_01_circuit.png\", width=400)"
   ]
  },
  {
   "cell_type": "markdown",
   "metadata": {},
   "source": [
    "##### 구성한 회로 사진"
   ]
  },
  {
   "cell_type": "code",
   "execution_count": null,
   "metadata": {},
   "outputs": [],
   "source": [
    "display_image(\"./data/ch05_05_ep04_01_circuit_hardware.png\", width=700)"
   ]
  },
  {
   "cell_type": "markdown",
   "metadata": {},
   "source": [
    "##### 실험 결과 그래프 관찰"
   ]
  },
  {
   "cell_type": "markdown",
   "metadata": {},
   "source": [
    "오실로스코프로 측정한 파형을 관찰한다."
   ]
  },
  {
   "cell_type": "code",
   "execution_count": null,
   "metadata": {},
   "outputs": [],
   "source": [
    "display_image(\"./data/ch05_05_ep04_01_result_plot.png\", width=700)"
   ]
  },
  {
   "cell_type": "markdown",
   "metadata": {},
   "source": [
    "[결과] v_o = -2 * (v_1 + v_2)이 나타난다."
   ]
  },
  {
   "cell_type": "markdown",
   "metadata": {},
   "source": [
    "### 실험05  비반전가산기회로"
   ]
  },
  {
   "cell_type": "markdown",
   "metadata": {},
   "source": [
    "#### 실험05-01~02 비반전가산기회로 만들기"
   ]
  },
  {
   "cell_type": "markdown",
   "metadata": {},
   "source": [
    "##### 실험 방법\n",
    "\n",
    "* 연산증폭기: 741 OP amp\n",
    "* VCC: 15 V\n",
    "* -VCC: -15 V\n",
    "* V1: 정현파, 주파수 1 kHz, 크기 2 Vpp\n",
    "* V2: 구형파, 주파수 1 kHz, 크기 2 Vpp\n",
    "\n",
    "[주의사항] 전원공급기의 출력을 비활성화한 상태에서 회로를 구성한다."
   ]
  },
  {
   "cell_type": "code",
   "execution_count": null,
   "metadata": {},
   "outputs": [],
   "source": [
    "display_image(\"./images/ch05_05_ep05_01_circuit.png\", width=400)"
   ]
  },
  {
   "cell_type": "markdown",
   "metadata": {},
   "source": [
    "##### 구성한 회로 사진"
   ]
  },
  {
   "cell_type": "code",
   "execution_count": null,
   "metadata": {},
   "outputs": [],
   "source": [
    "display_image(\"./data/ch05_05_ep05_01_circuit_hardware.png\", width=700)"
   ]
  },
  {
   "cell_type": "markdown",
   "metadata": {},
   "source": [
    "##### 실험 결과 그래프 관찰"
   ]
  },
  {
   "cell_type": "markdown",
   "metadata": {},
   "source": [
    "오실로스코프로 측정한 파형을 관찰한다."
   ]
  },
  {
   "cell_type": "code",
   "execution_count": null,
   "metadata": {},
   "outputs": [],
   "source": [
    "display_image(\"./data/ch05_05_ep05_02_result_plot.png\", width=700)"
   ]
  },
  {
   "cell_type": "markdown",
   "metadata": {},
   "source": [
    "[결과] v_o = v_1 + v_2이 나타난다."
   ]
  },
  {
   "cell_type": "markdown",
   "metadata": {},
   "source": [
    "#### 실험05-03 비반전가산기 실험2"
   ]
  },
  {
   "cell_type": "markdown",
   "metadata": {},
   "source": [
    "##### 실험 방법"
   ]
  },
  {
   "cell_type": "markdown",
   "metadata": {},
   "source": [
    "직전 실험의 회로를 다음과 같이 수정한다.\n",
    "\n",
    "* V1: 정현파, 주파수 1 kHz, 크기 3 Vpp\n",
    "* V2: 구형파, 주파수 5 kHz, 크기 1 Vpp"
   ]
  },
  {
   "cell_type": "markdown",
   "metadata": {},
   "source": [
    "##### 실험 결과 그래프 관찰"
   ]
  },
  {
   "cell_type": "code",
   "execution_count": null,
   "metadata": {},
   "outputs": [],
   "source": [
    "display_image(\"./data/ch05_05_ep05_03_result_plot.png\", width=700)"
   ]
  },
  {
   "cell_type": "markdown",
   "metadata": {},
   "source": [
    "### 실험06 Difference 증폭기"
   ]
  },
  {
   "cell_type": "markdown",
   "metadata": {},
   "source": [
    "#### 실험06-01 Difference 증폭기 만들기"
   ]
  },
  {
   "cell_type": "markdown",
   "metadata": {},
   "source": [
    "##### 실험 방법\n",
    "\n",
    "* 연산증폭기: 741 OP amp\n",
    "* VCC: 15 V\n",
    "* -VCC: -15 V"
   ]
  },
  {
   "cell_type": "code",
   "execution_count": null,
   "metadata": {},
   "outputs": [],
   "source": [
    "display_image(\"./images/ch05_05_ep06_01_circuit.png\", width=400)"
   ]
  },
  {
   "cell_type": "markdown",
   "metadata": {},
   "source": [
    "##### 구성한 회로 사진"
   ]
  },
  {
   "cell_type": "code",
   "execution_count": null,
   "metadata": {},
   "outputs": [],
   "source": [
    "display_image(\"./data/ch05_05_ep06_01_circuit_hardware.png\", width=700)"
   ]
  },
  {
   "cell_type": "markdown",
   "metadata": {},
   "source": [
    "#### 실험06-02 반전증폭기 실험"
   ]
  },
  {
   "cell_type": "markdown",
   "metadata": {},
   "source": [
    "##### 실험 방법\n",
    "\n",
    "* V1: 정현파, 주파수 1 kHz, 크기 2 Vpp\n",
    "* V2: 접지"
   ]
  },
  {
   "cell_type": "markdown",
   "metadata": {},
   "source": [
    "##### 실험 결과 그래프 관찰"
   ]
  },
  {
   "cell_type": "markdown",
   "metadata": {},
   "source": [
    "오실로스코프로 측정한 파형을 관찰한다."
   ]
  },
  {
   "cell_type": "code",
   "execution_count": null,
   "metadata": {},
   "outputs": [],
   "source": [
    "display_image(\"./data/ch05_05_ep06_02_result_plot.png\", width=700)"
   ]
  },
  {
   "cell_type": "markdown",
   "metadata": {},
   "source": [
    "[결과] v_o = - 2 v_1 이 나타난다. 크기는 2배가 되고, 위상은 반대가 된다."
   ]
  },
  {
   "cell_type": "markdown",
   "metadata": {},
   "source": [
    "#### 실험06-03 비반전증폭기 실험"
   ]
  },
  {
   "cell_type": "markdown",
   "metadata": {},
   "source": [
    "##### 실험 방법\n",
    "\n",
    "* V1: 접지\n",
    "* V2: 정현파, 주파수 1 kHz, 크기 2 Vpp"
   ]
  },
  {
   "cell_type": "markdown",
   "metadata": {},
   "source": [
    "##### 실험 결과 그래프 관찰"
   ]
  },
  {
   "cell_type": "markdown",
   "metadata": {},
   "source": [
    "오실로스코프로 측정한 파형을 관찰한다."
   ]
  },
  {
   "cell_type": "code",
   "execution_count": null,
   "metadata": {},
   "outputs": [],
   "source": [
    "display_image(\"./data/ch05_05_ep06_03_result_plot.png\", width=700)"
   ]
  },
  {
   "cell_type": "markdown",
   "metadata": {},
   "source": [
    "[결과] v_o = 2 v_2 이 나타난다. 크기는 2배가 되고, 위상은 같다."
   ]
  },
  {
   "cell_type": "markdown",
   "metadata": {},
   "source": [
    "#### 실험06-04 Difference 증폭기"
   ]
  },
  {
   "cell_type": "markdown",
   "metadata": {},
   "source": [
    "##### 실험 방법\n",
    "\n",
    "* V1: 삼각파(Triangle), 주파수 1 kHz, 크기 2 Vpp\n",
    "* V2: 구형파(Square), 주파수 1 kHz, 크기 2 Vpp (위상동기: Parameter-Phase-Sync Internal)"
   ]
  },
  {
   "cell_type": "markdown",
   "metadata": {},
   "source": [
    "##### 실험 결과 그래프 관찰"
   ]
  },
  {
   "cell_type": "code",
   "execution_count": null,
   "metadata": {},
   "outputs": [],
   "source": [
    "display_image(\"./data/ch05_05_ep06_04_result_plot.png\", width=700)"
   ]
  },
  {
   "cell_type": "markdown",
   "metadata": {},
   "source": [
    "[결과] v_o = 2 * (v_2 - v_1)이 나타난다."
   ]
  },
  {
   "cell_type": "markdown",
   "metadata": {},
   "source": [
    "### 실험07 출력의 제한"
   ]
  },
  {
   "cell_type": "markdown",
   "metadata": {},
   "source": [
    "#### 실험07-01 이득이 11인 비반전증폭기 만들기"
   ]
  },
  {
   "cell_type": "markdown",
   "metadata": {},
   "source": [
    "##### 실험 방법\n",
    "\n",
    "* 연산증폭기: 741 OP amp\n",
    "* VCC: 15 V\n",
    "* -VCC: -15 V\n",
    "\n",
    "[주의사항] 전원공급기의 출력을 비활성화한 상태에서 회로를 구성한다."
   ]
  },
  {
   "cell_type": "code",
   "execution_count": null,
   "metadata": {},
   "outputs": [],
   "source": [
    "display_image(\"./images/ch05_05_ep07_01_circuit.png\", width=400)"
   ]
  },
  {
   "cell_type": "markdown",
   "metadata": {},
   "source": [
    "##### 구성한 회로 사진"
   ]
  },
  {
   "cell_type": "code",
   "execution_count": null,
   "metadata": {},
   "outputs": [],
   "source": [
    "display_image(\"./data/ch05_05_ep07_01_circuit_hardware.png\", width=700)"
   ]
  },
  {
   "cell_type": "markdown",
   "metadata": {},
   "source": [
    "#### 실험07-02 출력전압값의 제한에 대한 실험"
   ]
  },
  {
   "cell_type": "markdown",
   "metadata": {},
   "source": [
    "##### 실험 방법\n",
    "\n",
    "* Vi: 정현파, 주파수 1 kHz, 크기 4 Vpp"
   ]
  },
  {
   "cell_type": "markdown",
   "metadata": {},
   "source": [
    "##### 실험 결과 그래프 관찰"
   ]
  },
  {
   "cell_type": "markdown",
   "metadata": {},
   "source": [
    "오실로스코프로 측정한 파형을 관찰한다."
   ]
  },
  {
   "cell_type": "code",
   "execution_count": null,
   "metadata": {},
   "outputs": [],
   "source": [
    "display_image(\"./data/ch05_05_ep07_02_result_plot.png\", width=700)"
   ]
  },
  {
   "cell_type": "markdown",
   "metadata": {},
   "source": [
    "커서를 이용하여 최대전압을 측정하시오."
   ]
  },
  {
   "cell_type": "markdown",
   "metadata": {},
   "source": [
    "|                 |   측정 (V) | 예시값 (V) |\n",
    "|-----------------|------------|------------|\n",
    "| 양의 최대전압   | ??         | 14.4       |\n",
    "| 음의 최대전압   | ??         | -12.4      |"
   ]
  },
  {
   "cell_type": "markdown",
   "metadata": {},
   "source": [
    "오실로스코프를 XY 모드로 전환해 전달특성곡선을 관찰한다."
   ]
  },
  {
   "cell_type": "code",
   "execution_count": null,
   "metadata": {},
   "outputs": [],
   "source": [
    "display_image(\"./data/ch05_05_ep07_02_result_plot_xy.png\", width=700)"
   ]
  },
  {
   "cell_type": "markdown",
   "metadata": {},
   "source": [
    "#### 실험07-03 출력전압값의 왜곡에 대한 실험"
   ]
  },
  {
   "cell_type": "markdown",
   "metadata": {},
   "source": [
    "##### 실험 방법"
   ]
  },
  {
   "cell_type": "markdown",
   "metadata": {},
   "source": [
    "직전 실험의 회로를 다음과 같이 수정한다.\n",
    "\n",
    "* Vi: 정현파, 주파수 1 kHz, 크기 2 Vpp"
   ]
  },
  {
   "cell_type": "markdown",
   "metadata": {},
   "source": [
    "##### 실험 결과 그래프 관찰"
   ]
  },
  {
   "cell_type": "code",
   "execution_count": null,
   "metadata": {},
   "outputs": [],
   "source": [
    "display_image(\"./data/ch05_05_ep07_03_01_result_plot.png\", width=700)"
   ]
  },
  {
   "cell_type": "markdown",
   "metadata": {},
   "source": [
    "##### 실험 방법"
   ]
  },
  {
   "cell_type": "markdown",
   "metadata": {},
   "source": [
    "직전 실험의 회로를 다음과 같이 수정한다.\n",
    "\n",
    "* 출력에 부하저항 100 Ohm을 연결한다."
   ]
  },
  {
   "cell_type": "code",
   "execution_count": null,
   "metadata": {},
   "outputs": [],
   "source": [
    "display_image(\"./images/ch05_05_ep07_03_circuit.png\", width=400)"
   ]
  },
  {
   "cell_type": "markdown",
   "metadata": {},
   "source": [
    "##### 실험 결과 그래프 관찰"
   ]
  },
  {
   "cell_type": "code",
   "execution_count": null,
   "metadata": {},
   "outputs": [],
   "source": [
    "display_image(\"./data/ch05_05_ep07_03_02_result_plot.png\", width=700)"
   ]
  },
  {
   "cell_type": "markdown",
   "metadata": {},
   "source": [
    "[결과] 출력에 왜곡이 발생하였다."
   ]
  },
  {
   "cell_type": "markdown",
   "metadata": {},
   "source": [
    "[퀴즈] 출력에 왜곡이 발생하였다. 원인은 무엇인가?"
   ]
  },
  {
   "cell_type": "markdown",
   "metadata": {},
   "source": [
    "??"
   ]
  },
  {
   "cell_type": "markdown",
   "metadata": {},
   "source": [
    "##### 실험 방법"
   ]
  },
  {
   "cell_type": "markdown",
   "metadata": {},
   "source": [
    "직전 실험의 회로를 다음과 같이 수정한다.\n",
    "\n",
    "* Vi: 정현파, 주파수 1 kHz, 크기 30 mVpp"
   ]
  },
  {
   "cell_type": "markdown",
   "metadata": {},
   "source": [
    "##### 실험 결과 그래프 관찰"
   ]
  },
  {
   "cell_type": "code",
   "execution_count": null,
   "metadata": {},
   "outputs": [],
   "source": [
    "display_image(\"./data/ch05_05_ep07_03_03_result_plot.png\", width=700)"
   ]
  },
  {
   "cell_type": "markdown",
   "metadata": {},
   "source": [
    "[결과] 출력에 왜곡이 발생하지 않았다."
   ]
  },
  {
   "cell_type": "markdown",
   "metadata": {},
   "source": [
    "[퀴즈] 출력에 왜곡이 발생하지 않았다. 원인은 무엇인가?"
   ]
  },
  {
   "cell_type": "markdown",
   "metadata": {},
   "source": [
    "??"
   ]
  },
  {
   "cell_type": "markdown",
   "metadata": {},
   "source": [
    "### 실험08 출력의 변화율"
   ]
  },
  {
   "cell_type": "markdown",
   "metadata": {},
   "source": [
    "#### 실험08-01 이득이 1인 Voltage Follower 만들기"
   ]
  },
  {
   "cell_type": "markdown",
   "metadata": {},
   "source": [
    "##### 실험 방법"
   ]
  },
  {
   "cell_type": "markdown",
   "metadata": {},
   "source": [
    "* 연산증폭기: 741 OP amp\n",
    "* VCC: 15 V\n",
    "* -VCC: -15 V\n",
    "\n",
    "[주의사항] 전원공급기의 출력을 비활성화한 상태에서 회로를 구성한다."
   ]
  },
  {
   "cell_type": "code",
   "execution_count": null,
   "metadata": {},
   "outputs": [],
   "source": [
    "display_image(\"./images/ch05_05_ep03_01_circuit.png\", width=400)"
   ]
  },
  {
   "cell_type": "markdown",
   "metadata": {},
   "source": [
    "#### 실험08-02 슬루레이트의 측정"
   ]
  },
  {
   "cell_type": "markdown",
   "metadata": {},
   "source": [
    "##### 실험 방법"
   ]
  },
  {
   "cell_type": "markdown",
   "metadata": {},
   "source": [
    "직전 실험의 회로를 다음과 같이 수정한다.\n",
    "\n",
    "* Vi: 정현파, 주파수 1 kHz, 크기 2 Vpp"
   ]
  },
  {
   "cell_type": "markdown",
   "metadata": {},
   "source": [
    "##### 실험 결과 그래프 관찰"
   ]
  },
  {
   "cell_type": "code",
   "execution_count": null,
   "metadata": {},
   "outputs": [],
   "source": [
    "display_image(\"./data/ch05_05_ep08_02_01_result_plot.png\", width=700)"
   ]
  },
  {
   "cell_type": "markdown",
   "metadata": {},
   "source": [
    "[결과] 크기가 1배이고, 위상은 같다."
   ]
  },
  {
   "cell_type": "markdown",
   "metadata": {},
   "source": [
    "##### 실험 방법"
   ]
  },
  {
   "cell_type": "markdown",
   "metadata": {},
   "source": [
    "직전 실험의 회로를 다음과 같이 수정한다.\n",
    "\n",
    "* Vi: 구형파, 주파수 1 kHz, 크기 2 Vpp"
   ]
  },
  {
   "cell_type": "markdown",
   "metadata": {},
   "source": [
    "##### 실험 결과 그래프 관찰"
   ]
  },
  {
   "cell_type": "code",
   "execution_count": null,
   "metadata": {},
   "outputs": [],
   "source": [
    "display_image(\"./data/ch05_05_ep08_02_02_result_plot.png\", width=700)"
   ]
  },
  {
   "cell_type": "markdown",
   "metadata": {},
   "source": [
    "[결과] 크기가 1배이다."
   ]
  },
  {
   "cell_type": "markdown",
   "metadata": {},
   "source": [
    "##### 실험 방법"
   ]
  },
  {
   "cell_type": "markdown",
   "metadata": {},
   "source": [
    "파형의 상승하는 부분을 관찰하기 위해, 수평스케일 계수값을 낮춘다"
   ]
  },
  {
   "cell_type": "markdown",
   "metadata": {},
   "source": [
    "##### 실험 결과 그래프 관찰"
   ]
  },
  {
   "cell_type": "code",
   "execution_count": null,
   "metadata": {},
   "outputs": [],
   "source": [
    "display_image(\"./data/ch05_05_ep08_02_03_result_plot.png\", width=700)"
   ]
  },
  {
   "cell_type": "markdown",
   "metadata": {},
   "source": [
    "##### 실험 방법"
   ]
  },
  {
   "cell_type": "markdown",
   "metadata": {},
   "source": [
    "트리거 기울기를 하강으로 맞춘다 (Trigger Menu > 기울기 > 하강)"
   ]
  },
  {
   "cell_type": "markdown",
   "metadata": {},
   "source": [
    "##### 실험 결과 그래프 관찰"
   ]
  },
  {
   "cell_type": "code",
   "execution_count": null,
   "metadata": {},
   "outputs": [],
   "source": [
    "display_image(\"./data/ch05_05_ep08_02_04_result_plot.png\", width=700)"
   ]
  },
  {
   "cell_type": "markdown",
   "metadata": {},
   "source": [
    "##### 실험 방법"
   ]
  },
  {
   "cell_type": "markdown",
   "metadata": {},
   "source": [
    "비연동식 커서를 이용해 d_v_o 와 d_t 를 구한다."
   ]
  },
  {
   "cell_type": "code",
   "execution_count": null,
   "metadata": {},
   "outputs": [],
   "source": [
    "display_image(\"./data/ch05_05_ep08_02_05_result_plot.png\", width=700)"
   ]
  },
  {
   "cell_type": "markdown",
   "metadata": {},
   "source": [
    "##### 실험 결과값 관찰"
   ]
  },
  {
   "cell_type": "markdown",
   "metadata": {},
   "source": [
    "측정한 d_v_o 와 d_t 로 슬루레이트(SR)을 계산한다. "
   ]
  },
  {
   "cell_type": "code",
   "execution_count": null,
   "metadata": {},
   "outputs": [],
   "source": [
    "d_v_o = ??\n",
    "d_t = ??\n",
    "\n",
    "SR_V_per_us = d_v_o / d_t\n",
    "print_value(\"SR_V_per_us\", SR_V_per_us)"
   ]
  },
  {
   "cell_type": "markdown",
   "metadata": {},
   "source": [
    "##### 실험 결과 값 확인"
   ]
  },
  {
   "cell_type": "markdown",
   "metadata": {},
   "source": [
    "|                 |   측정    | 예시값   |\n",
    "|-----------------|-----------|----------|\n",
    "| SR (V/us)       | ??        | 0.49     |"
   ]
  },
  {
   "cell_type": "markdown",
   "metadata": {},
   "source": [
    "#### 실험08-03 전전력 대역폭"
   ]
  },
  {
   "cell_type": "markdown",
   "metadata": {},
   "source": [
    "##### 실험 방법"
   ]
  },
  {
   "cell_type": "markdown",
   "metadata": {},
   "source": [
    "이득이 11인 비반전증폭기 만들기\n",
    "\n",
    "* 연산증폭기: 741 OP amp\n",
    "* VCC: 15 V\n",
    "* -VCC: -15 V"
   ]
  },
  {
   "cell_type": "code",
   "execution_count": null,
   "metadata": {},
   "outputs": [],
   "source": [
    "display_image(\"./images/ch05_05_ep07_01_circuit.png\", width=400)"
   ]
  },
  {
   "cell_type": "markdown",
   "metadata": {},
   "source": [
    "##### 구성한 회로 사진"
   ]
  },
  {
   "cell_type": "code",
   "execution_count": null,
   "metadata": {},
   "outputs": [],
   "source": [
    "display_image(\"./data/ch05_05_ep07_01_circuit_hardware.png\", width=700)"
   ]
  },
  {
   "cell_type": "markdown",
   "metadata": {},
   "source": [
    "전전력 대역폭을 계산하기"
   ]
  },
  {
   "cell_type": "code",
   "execution_count": null,
   "metadata": {},
   "outputs": [],
   "source": [
    "V_o_max = 12\n",
    "\n",
    "f_M_kHz = SR_V_per_us / (2 * np.pi * V_o_max) * 1000\n",
    "print_value(\"f_M_kHz\", f_M_kHz)"
   ]
  },
  {
   "cell_type": "markdown",
   "metadata": {},
   "source": [
    "전전력 대역폭을 계산결과 확인하기"
   ]
  },
  {
   "cell_type": "markdown",
   "metadata": {},
   "source": [
    "|                      | 측정       | 예시값     |\n",
    "|----------------------|------------|------------|\n",
    "| 전전력 대역폭 (kHz)  | ??         | 6.63       |"
   ]
  },
  {
   "cell_type": "markdown",
   "metadata": {},
   "source": [
    "입력 v_i 에 정현파를 인가하기\n",
    "\n",
    "* Vi: 정형파, 주파수 6.6 kHz, 크기 2 Vpp"
   ]
  },
  {
   "cell_type": "code",
   "execution_count": null,
   "metadata": {},
   "outputs": [],
   "source": [
    "display_image(\"./data/ch05_05_ep08_03_01_result_plot.png\", width=700)"
   ]
  },
  {
   "cell_type": "markdown",
   "metadata": {},
   "source": [
    "입력 v_i 에 주파수 증가시키기\n",
    "\n",
    "* Vi: 정형파, 주파수 12.6 kHz, 크기 2 Vpp"
   ]
  },
  {
   "cell_type": "code",
   "execution_count": null,
   "metadata": {},
   "outputs": [],
   "source": [
    "display_image(\"./data/ch05_05_ep08_03_02_result_plot.png\", width=700)"
   ]
  },
  {
   "cell_type": "markdown",
   "metadata": {},
   "source": [
    "[결과] 왜곡이 일어난다."
   ]
  },
  {
   "cell_type": "markdown",
   "metadata": {},
   "source": [
    "주파수가 f_M 보다 5배 큰 경우 (f = 5 * f_M = 33.17 kHz)에 왜곡이 일어나지 않는 최대 진폭을 계산하기"
   ]
  },
  {
   "cell_type": "code",
   "execution_count": null,
   "metadata": {},
   "outputs": [],
   "source": [
    "V_o_max_5_V = V_o_max / 5\n",
    "print_value(\"V_o_max_5_V\", V_o_max_5_V)"
   ]
  },
  {
   "cell_type": "markdown",
   "metadata": {},
   "source": [
    "|                 |   측정 (V) | 예시값 (V) |\n",
    "|-----------------|------------|------------|\n",
    "| 최대진폭        | ??         | 2.4        |"
   ]
  },
  {
   "cell_type": "markdown",
   "metadata": {},
   "source": [
    "입력 v_i 을 다음과 같이 설정\n",
    "\n",
    "* Vi: 정형파, 주파수 33 kHz, 크기 500 mVpp"
   ]
  },
  {
   "cell_type": "markdown",
   "metadata": {},
   "source": [
    "오실로스코프로 측정한 파형을 관찰한다."
   ]
  },
  {
   "cell_type": "code",
   "execution_count": null,
   "metadata": {},
   "outputs": [],
   "source": [
    "display_image(\"./data/ch05_05_ep08_03_03_result_plot.png\", width=700)"
   ]
  },
  {
   "cell_type": "markdown",
   "metadata": {},
   "source": [
    "입력 v_i 의 주파수 증가 시키기\n",
    "\n",
    "* Vi: 주파수 53 kHz"
   ]
  },
  {
   "cell_type": "code",
   "execution_count": null,
   "metadata": {},
   "outputs": [],
   "source": [
    "display_image(\"./data/ch05_05_ep08_03_04_result_plot.png\", width=700)"
   ]
  },
  {
   "cell_type": "markdown",
   "metadata": {},
   "source": [
    "입력 v_i 의 주파수 증가 시키기\n",
    "\n",
    "* Vi: 주파수 73 kHz"
   ]
  },
  {
   "cell_type": "code",
   "execution_count": null,
   "metadata": {},
   "outputs": [],
   "source": [
    "display_image(\"./data/ch05_05_ep08_03_05_result_plot.png\", width=700)"
   ]
  },
  {
   "cell_type": "markdown",
   "metadata": {},
   "source": [
    "[결과] 왜곡이 일어난다."
   ]
  },
  {
   "cell_type": "markdown",
   "metadata": {},
   "source": [
    "입력 v_i 를 다시 다음과 같이 설정한다\n",
    "\n",
    "* Vi: 주파수 33 kHz, 진폭 1 Vpp"
   ]
  },
  {
   "cell_type": "code",
   "execution_count": null,
   "metadata": {},
   "outputs": [],
   "source": [
    "display_image(\"./data/ch05_05_ep08_03_06_result_plot.png\", width=700)"
   ]
  },
  {
   "cell_type": "markdown",
   "metadata": {},
   "source": [
    "입력 v_i 의 진폭을 증가시킨다.\n",
    "\n",
    "* Vi: 진폭 2 Vpp"
   ]
  },
  {
   "cell_type": "code",
   "execution_count": null,
   "metadata": {},
   "outputs": [],
   "source": [
    "display_image(\"./data/ch05_05_ep08_03_07_result_plot.png\", width=700)"
   ]
  },
  {
   "cell_type": "markdown",
   "metadata": {},
   "source": [
    "[결과] 왜곡이 일어난다."
   ]
  },
  {
   "cell_type": "markdown",
   "metadata": {},
   "source": [
    "### 실험09 주파수 응답"
   ]
  },
  {
   "cell_type": "markdown",
   "metadata": {},
   "source": [
    "#### 실험09-01 이득이 11인 비반전증폭기 만들기"
   ]
  },
  {
   "cell_type": "markdown",
   "metadata": {},
   "source": [
    "##### 실험 방법"
   ]
  },
  {
   "cell_type": "markdown",
   "metadata": {},
   "source": [
    "* 연산증폭기: 741 OP amp\n",
    "* VCC: 15 V\n",
    "* -VCC: -15 V"
   ]
  },
  {
   "cell_type": "code",
   "execution_count": null,
   "metadata": {},
   "outputs": [],
   "source": [
    "display_image(\"./images/ch05_05_ep07_01_circuit.png\", width=400)"
   ]
  },
  {
   "cell_type": "markdown",
   "metadata": {},
   "source": [
    "##### 구성한 회로 사진"
   ]
  },
  {
   "cell_type": "code",
   "execution_count": null,
   "metadata": {},
   "outputs": [],
   "source": [
    "display_image(\"./data/ch05_05_ep07_01_circuit_hardware.png\", width=700)"
   ]
  },
  {
   "cell_type": "markdown",
   "metadata": {},
   "source": [
    "#### 실험09-02 주파수 응답"
   ]
  },
  {
   "cell_type": "markdown",
   "metadata": {},
   "source": [
    "##### 실험 방법"
   ]
  },
  {
   "cell_type": "markdown",
   "metadata": {},
   "source": [
    "입력에 100 mVpp 인가\n",
    "주파수를 증가시키면서 전압이득의 크기를 측정"
   ]
  },
  {
   "cell_type": "markdown",
   "metadata": {},
   "source": [
    "| 주파수 (Hz)    | 전압이득 측정값  | 전압이득 예시값 |\n",
    "|----------------|------------------|-----------------|\n",
    "| 100            | ??               | 10.8            |\n",
    "| 1k             | ??               | 10.8            |\n",
    "| 10k            | ??               | 10.8            |\n",
    "| 20k            | ??               | 10.4            |\n",
    "| 40k            | ??               |  9.2            |\n",
    "| 60k            | ??               |  8.0            |\n",
    "| 100k           | ??               |  6.0            |\n",
    "| 200k           | ??               |  3.4            |\n",
    "| 400k           | ??               |  1.8            |\n",
    "| 600k           | ??               |  1.1            |\n",
    "| 1M             | ??               |  0.6            |"
   ]
  },
  {
   "cell_type": "markdown",
   "metadata": {},
   "source": [
    "[퀴즈]\n",
    "1) 왜 입력전압을 작게 만들었는가? (크게 하면 측정이 편하지 싶은데)\n",
    "2) 파형의 왜곡이 일어나는 주파수를 이론적으로 계산할 수 있는가?"
   ]
  },
  {
   "cell_type": "markdown",
   "metadata": {},
   "source": [
    "??"
   ]
  },
  {
   "cell_type": "markdown",
   "metadata": {},
   "source": [
    "### 실험10 부하효과"
   ]
  },
  {
   "cell_type": "markdown",
   "metadata": {},
   "source": [
    "#### 실험10-01 전압분배회로의 구성"
   ]
  },
  {
   "cell_type": "markdown",
   "metadata": {},
   "source": [
    "##### 실험 방법"
   ]
  },
  {
   "cell_type": "code",
   "execution_count": null,
   "metadata": {},
   "outputs": [],
   "source": [
    "display_image(\"./images/ch05_05_ep10_01_circuit.png\", width=400)"
   ]
  },
  {
   "cell_type": "markdown",
   "metadata": {},
   "source": [
    "##### 구성한 회로 사진"
   ]
  },
  {
   "cell_type": "code",
   "execution_count": null,
   "metadata": {},
   "outputs": [],
   "source": [
    "display_image(\"./data/ch05_05_ep10_01_circuit_hardware.png\", width=700)"
   ]
  },
  {
   "cell_type": "markdown",
   "metadata": {},
   "source": [
    "##### 실험 방법"
   ]
  },
  {
   "cell_type": "markdown",
   "metadata": {},
   "source": [
    "입력에 정현파, 2 Vpp, 1 kHz 인가"
   ]
  },
  {
   "cell_type": "markdown",
   "metadata": {},
   "source": [
    "##### 실험 결과 그래프 관찰"
   ]
  },
  {
   "cell_type": "code",
   "execution_count": null,
   "metadata": {},
   "outputs": [],
   "source": [
    "display_image(\"./data/ch05_05_ep10_01_result_plot.png\", width=700)"
   ]
  },
  {
   "cell_type": "markdown",
   "metadata": {},
   "source": [
    "[결과] 크기가 1/2배이고, 위상은 같다."
   ]
  },
  {
   "cell_type": "markdown",
   "metadata": {},
   "source": [
    "##### 실험 결과 값 확인"
   ]
  },
  {
   "cell_type": "markdown",
   "metadata": {},
   "source": [
    "|                   | 측정       | 예시값     |\n",
    "|-------------------|------------|------------|\n",
    "| 출력의 크기 (mV)  | ??         | 980        |"
   ]
  },
  {
   "cell_type": "markdown",
   "metadata": {},
   "source": [
    "#### 실험10-02  이득이 -12인 반전증폭기 구성"
   ]
  },
  {
   "cell_type": "markdown",
   "metadata": {},
   "source": [
    "##### 실험 방법"
   ]
  },
  {
   "cell_type": "markdown",
   "metadata": {},
   "source": [
    "* 연산증폭기: 741 OP amp\n",
    "* VCC: 15 V\n",
    "* -VCC: -15 V"
   ]
  },
  {
   "cell_type": "code",
   "execution_count": null,
   "metadata": {},
   "outputs": [],
   "source": [
    "display_image(\"./images/ch05_05_ep10_02_circuit.png\", width=400)"
   ]
  },
  {
   "cell_type": "markdown",
   "metadata": {},
   "source": [
    "##### 구성한 회로 사진"
   ]
  },
  {
   "cell_type": "code",
   "execution_count": null,
   "metadata": {},
   "outputs": [],
   "source": [
    "display_image(\"./data/ch05_05_ep10_02_circuit_hardware.png\", width=700)"
   ]
  },
  {
   "cell_type": "markdown",
   "metadata": {},
   "source": [
    "##### 실험 결과 그래프 관찰"
   ]
  },
  {
   "cell_type": "markdown",
   "metadata": {},
   "source": [
    "오실로스코프로 측정한 파형을 관찰한다."
   ]
  },
  {
   "cell_type": "code",
   "execution_count": null,
   "metadata": {},
   "outputs": [],
   "source": [
    "display_image(\"./data/ch05_05_ep10_02_result_plot.png\", width=700)"
   ]
  },
  {
   "cell_type": "markdown",
   "metadata": {},
   "source": [
    "[결과] 크기가 12배이고, 위상은 180도 차이가 난다."
   ]
  },
  {
   "cell_type": "markdown",
   "metadata": {},
   "source": [
    "##### 실험 결과 값 확인"
   ]
  },
  {
   "cell_type": "markdown",
   "metadata": {},
   "source": [
    "|                   | 측정       | 예시값     |\n",
    "|-------------------|------------|------------|\n",
    "| 출력의 크기 (V)   | ??         | 11.2       |"
   ]
  },
  {
   "cell_type": "markdown",
   "metadata": {},
   "source": [
    "#### 실험10-03 부하효과 실험"
   ]
  },
  {
   "cell_type": "markdown",
   "metadata": {},
   "source": [
    "##### 실험 방법"
   ]
  },
  {
   "cell_type": "markdown",
   "metadata": {},
   "source": [
    "* 연산증폭기: 741 OP amp\n",
    "* VCC: 15 V\n",
    "* -VCC: -15 V"
   ]
  },
  {
   "cell_type": "code",
   "execution_count": null,
   "metadata": {},
   "outputs": [],
   "source": [
    "display_image(\"./images/ch05_05_ep10_03_circuit.png\", width=400)"
   ]
  },
  {
   "cell_type": "markdown",
   "metadata": {},
   "source": [
    "##### 구성한 회로 사진"
   ]
  },
  {
   "cell_type": "code",
   "execution_count": null,
   "metadata": {},
   "outputs": [],
   "source": [
    "display_image(\"./data/ch05_05_ep10_03_circuit_hardware.png\", width=700)"
   ]
  },
  {
   "cell_type": "markdown",
   "metadata": {},
   "source": [
    "##### 실험 방법"
   ]
  },
  {
   "cell_type": "markdown",
   "metadata": {},
   "source": [
    "입력에 정현파, 2 Vpp, 1 kHz 인가"
   ]
  },
  {
   "cell_type": "markdown",
   "metadata": {},
   "source": [
    "##### 실험 결과 그래프 관찰"
   ]
  },
  {
   "cell_type": "code",
   "execution_count": null,
   "metadata": {},
   "outputs": [],
   "source": [
    "display_image(\"./data/ch05_05_ep10_03_result_plot.png\", width=700)"
   ]
  },
  {
   "cell_type": "markdown",
   "metadata": {},
   "source": [
    "##### 실험 결과 값 확인"
   ]
  },
  {
   "cell_type": "markdown",
   "metadata": {},
   "source": [
    "|                   | 측정       | 예시값     |\n",
    "|-------------------|------------|------------|\n",
    "| 출력의 크기 (V)   | ??         | 1.96       |"
   ]
  },
  {
   "cell_type": "markdown",
   "metadata": {},
   "source": [
    "#### 실험10-04 이득이 -12인 반전증폭기 구성"
   ]
  },
  {
   "cell_type": "markdown",
   "metadata": {},
   "source": [
    "##### 실험 방법"
   ]
  },
  {
   "cell_type": "markdown",
   "metadata": {},
   "source": [
    "* 연산증폭기: 741 OP amp\n",
    "* VCC: 15 V\n",
    "* -VCC: -15 V"
   ]
  },
  {
   "cell_type": "code",
   "execution_count": null,
   "metadata": {},
   "outputs": [],
   "source": [
    "display_image(\"./images/ch05_05_ep10_04_circuit.png\", width=400)"
   ]
  },
  {
   "cell_type": "markdown",
   "metadata": {},
   "source": [
    "##### 구성한 회로 사진"
   ]
  },
  {
   "cell_type": "code",
   "execution_count": null,
   "metadata": {},
   "outputs": [],
   "source": [
    "display_image(\"./data/ch05_05_ep10_04_circuit_hardware.png\", width=700)"
   ]
  },
  {
   "cell_type": "markdown",
   "metadata": {},
   "source": [
    "##### 실험 방법"
   ]
  },
  {
   "cell_type": "markdown",
   "metadata": {},
   "source": [
    "입력에 정현파, 1 Vpp, 1 kHz 인가"
   ]
  },
  {
   "cell_type": "markdown",
   "metadata": {},
   "source": [
    "##### 실험 결과 그래프 관찰"
   ]
  },
  {
   "cell_type": "markdown",
   "metadata": {},
   "source": [
    "오실로스코프로 측정한 파형을 관찰한다."
   ]
  },
  {
   "cell_type": "code",
   "execution_count": null,
   "metadata": {},
   "outputs": [],
   "source": [
    "display_image(\"./data/ch05_05_ep10_04_result_plot.png\", width=700)"
   ]
  },
  {
   "cell_type": "markdown",
   "metadata": {},
   "source": [
    "[결과] 크기가 12배이고, 위상은 180도 차이가 난다."
   ]
  },
  {
   "cell_type": "markdown",
   "metadata": {},
   "source": [
    "##### 실험 결과 값 확인"
   ]
  },
  {
   "cell_type": "markdown",
   "metadata": {},
   "source": [
    "|                   | 측정       | 예시값     |\n",
    "|-------------------|------------|------------|\n",
    "| 출력의 크기 (V)   | ??         | 12         |"
   ]
  },
  {
   "cell_type": "markdown",
   "metadata": {},
   "source": [
    "#### 실험10-05 부하효과 실험"
   ]
  },
  {
   "cell_type": "markdown",
   "metadata": {},
   "source": [
    "##### 실험 방법"
   ]
  },
  {
   "cell_type": "markdown",
   "metadata": {},
   "source": [
    "* 연산증폭기: 741 OP amp\n",
    "* VCC: 15 V\n",
    "* -VCC: -15 V"
   ]
  },
  {
   "cell_type": "code",
   "execution_count": null,
   "metadata": {},
   "outputs": [],
   "source": [
    "display_image(\"./images/ch05_05_ep10_05_circuit.png\", width=400)"
   ]
  },
  {
   "cell_type": "markdown",
   "metadata": {},
   "source": [
    "##### 구성한 회로 사진"
   ]
  },
  {
   "cell_type": "code",
   "execution_count": null,
   "metadata": {},
   "outputs": [],
   "source": [
    "display_image(\"./data/ch05_05_ep10_05_circuit_hardware.png\", width=700)"
   ]
  },
  {
   "cell_type": "markdown",
   "metadata": {},
   "source": [
    "##### 실험 방법"
   ]
  },
  {
   "cell_type": "markdown",
   "metadata": {},
   "source": [
    "입력에 정현파, 2 Vpp, 1 kHz 인가"
   ]
  },
  {
   "cell_type": "markdown",
   "metadata": {},
   "source": [
    "##### 실험 결과 그래프 관찰"
   ]
  },
  {
   "cell_type": "code",
   "execution_count": null,
   "metadata": {},
   "outputs": [],
   "source": [
    "display_image(\"./data/ch05_05_ep10_05_result_plot.png\", width=700)"
   ]
  },
  {
   "cell_type": "markdown",
   "metadata": {},
   "source": [
    "##### 실험 결과 값 확인"
   ]
  },
  {
   "cell_type": "markdown",
   "metadata": {},
   "source": [
    "|                   | 측정       | 예시값     |\n",
    "|-------------------|------------|------------|\n",
    "| 출력의 크기 (V)   | ??         | 11.8       |"
   ]
  },
  {
   "cell_type": "markdown",
   "metadata": {},
   "source": [
    "[결론] 부하효과가 감소한다."
   ]
  }
 ],
 "metadata": {
  "kernelspec": {
   "display_name": "venv",
   "language": "python",
   "name": "python3"
  },
  "language_info": {
   "codemirror_mode": {
    "name": "ipython",
    "version": 3
   },
   "file_extension": ".py",
   "mimetype": "text/x-python",
   "name": "python",
   "nbconvert_exporter": "python",
   "pygments_lexer": "ipython3",
   "version": "3.11.9"
  },
  "orig_nbformat": 4
 },
 "nbformat": 4,
 "nbformat_minor": 2
}
