{
 "cells": [
  {
   "cell_type": "markdown",
   "metadata": {},
   "source": [
    "# 11장 모터 제어"
   ]
  },
  {
   "cell_type": "markdown",
   "metadata": {},
   "source": [
    "* 이름: 홍길동\n",
    "* 학번: 2024123456\n",
    "* 조: 1"
   ]
  },
  {
   "cell_type": "markdown",
   "metadata": {},
   "source": [
    "## 공통 코드"
   ]
  },
  {
   "cell_type": "code",
   "execution_count": null,
   "metadata": {},
   "outputs": [],
   "source": [
    "import os,sys,inspect\n",
    "\n",
    "currentdir = os.path.dirname(os.path.abspath(inspect.getfile(inspect.currentframe())))\n",
    "parentdir = os.path.dirname(currentdir)\n",
    "sys.path.insert(0,parentdir)\n",
    "\n",
    "from common import *\n"
   ]
  },
  {
   "cell_type": "markdown",
   "metadata": {},
   "source": [
    "*******************************************************************************\n",
    "## 실험02 모터 돌리기\n"
   ]
  },
  {
   "cell_type": "markdown",
   "metadata": {},
   "source": [
    "### 실험02-01 전원공급기로 모터를 돌려본다.\n"
   ]
  },
  {
   "cell_type": "markdown",
   "metadata": {},
   "source": [
    "#### 실험 방법\n",
    "\n",
    "* 전원공급기를 이용하여 전압 5V를 인가한다.\n",
    "    + 정방향으로 돌려본다.\n",
    "    + 역방향으로 돌려본다.\n"
   ]
  },
  {
   "cell_type": "code",
   "execution_count": null,
   "metadata": {},
   "outputs": [],
   "source": [
    "display_image(\"./images/ch11_ep01_01_circuit.png\", width=600)\n"
   ]
  },
  {
   "cell_type": "markdown",
   "metadata": {},
   "source": [
    "#### 실험 결과\n"
   ]
  },
  {
   "cell_type": "markdown",
   "metadata": {},
   "source": [
    "* 고찰\n",
    "    + 인가한 전원 극성에 따라 ?? 으로 잘 돌아간다."
   ]
  },
  {
   "cell_type": "markdown",
   "metadata": {},
   "source": [
    "*******************************************************************************\n",
    "## 실험03 전류량 측정\n"
   ]
  },
  {
   "cell_type": "markdown",
   "metadata": {},
   "source": [
    "### 실험03-01 무부하 전류량을 측정한다.\n"
   ]
  },
  {
   "cell_type": "markdown",
   "metadata": {},
   "source": [
    "#### 실험 방법\n",
    "\n",
    "* 무부하로 3, 4, 5, 6, 7, 8, 9 V를 인가해 전류량을 확인 (전원공급기 출력 전류량)\n"
   ]
  },
  {
   "cell_type": "markdown",
   "metadata": {},
   "source": [
    "#### 실험 결과"
   ]
  },
  {
   "cell_type": "markdown",
   "metadata": {},
   "source": [
    "전류 단위: mA\n",
    "\n",
    "| 구동전압 | 전류 측정값 | 전류 예시값 |\n",
    "|---------|-----------|-----------|\n",
    "| 3V      | ?? 62     | 120       |\n",
    "| 4V      | ?? 72     | 125       |\n",
    "| 5V      | ?? 79     | 132       |\n",
    "| 6V      | ?? 89     | 140       |\n",
    "| 7V      | ?? 95     | 140       |\n",
    "| 8V      | ?? 99     | 140       |\n",
    "| 9V      | ?? 105    | 140       |"
   ]
  },
  {
   "cell_type": "markdown",
   "metadata": {},
   "source": [
    "### 실험03-02 최대 부하 전류량을 측정한다."
   ]
  },
  {
   "cell_type": "markdown",
   "metadata": {},
   "source": [
    "#### 실험 방법\n",
    "\n",
    "* 모터를 움직이지 않게 꽉 잡는다. (기어를 거치지 않은 모터 축 부분을 잡으면 쉽게 고정시킬 수 있음)\n",
    "* 3V를 인가해 전류량을 확인 (전원공급기 출력 전류량으로 확인)\n"
   ]
  },
  {
   "cell_type": "markdown",
   "metadata": {},
   "source": [
    "#### 실험 결과"
   ]
  },
  {
   "cell_type": "markdown",
   "metadata": {},
   "source": [
    "전류 단위: mA\n",
    "\n",
    "| 구동전압 | 전류 측정값 | 전류 예시값 |\n",
    "|---------|-----------|-----------|\n",
    "| 3V      | ??        | 300       |\n"
   ]
  },
  {
   "cell_type": "markdown",
   "metadata": {},
   "source": [
    "*******************************************************************************\n",
    "## 실험04 조도센서를 이용한 모터의 ON/OFF 제어\n"
   ]
  },
  {
   "cell_type": "markdown",
   "metadata": {},
   "source": [
    "### 실험04-01 조도센서를 이용해 모터를 ON/OFF 해본다."
   ]
  },
  {
   "cell_type": "markdown",
   "metadata": {},
   "source": [
    "#### 실험 방법\n",
    "\n",
    "* 다이오드: 1N4004\n"
   ]
  },
  {
   "cell_type": "code",
   "execution_count": null,
   "metadata": {},
   "outputs": [],
   "source": [
    "display_image(\"./images/ch11_ep04_01_circuit.png\", width=300)\n"
   ]
  },
  {
   "cell_type": "markdown",
   "metadata": {},
   "source": [
    "#### 실험 결과"
   ]
  },
  {
   "cell_type": "markdown",
   "metadata": {},
   "source": [
    "##### 제작한 회로"
   ]
  },
  {
   "cell_type": "code",
   "execution_count": null,
   "metadata": {},
   "outputs": [],
   "source": [
    "display_image(\"./data/ch11_ep04_01_result_circuit.jpg\", width=1000)\n"
   ]
  },
  {
   "cell_type": "markdown",
   "metadata": {},
   "source": [
    "* 고찰\n",
    "    + 어두워지면 모터가 ??하고, 밝아지면 ??다."
   ]
  },
  {
   "cell_type": "markdown",
   "metadata": {},
   "source": [
    "*******************************************************************************\n",
    "## 실험05 PWM을 이용한 모터 속도 제어\n"
   ]
  },
  {
   "cell_type": "markdown",
   "metadata": {},
   "source": [
    "### 실험05-01 PWM을 이용해 모터 제어해본다."
   ]
  },
  {
   "cell_type": "markdown",
   "metadata": {},
   "source": [
    "#### 실험 방법\n",
    "\n",
    "* 다이오드: 1N4004\n",
    "* 파형발생기 채널1 설정\n",
    "    + Waveform 버튼\n",
    "        - Pulse\n",
    "    + Units 버튼\n",
    "        - Period\n",
    "        - High/Low\n",
    "        - Duty Cycle\n",
    "    + Parameters 버튼\n",
    "        - Period: 1초\n",
    "        - High level: 5 V\n",
    "        - Low level: 0 V\n",
    "        - Duty cycle: 50 %\n",
    "        - Lead Edge: 10 ns\n",
    "        - Trail Edge: 10 ns\n",
    "* 파형발생기 주기(period)를 1s, 2ms로 설정해 각각의 결과를 관찰한다.\n"
   ]
  },
  {
   "cell_type": "code",
   "execution_count": null,
   "metadata": {},
   "outputs": [],
   "source": [
    "display_image(\"./images/ch11_ep05_01_circuit.png\", width=300)\n"
   ]
  },
  {
   "cell_type": "markdown",
   "metadata": {},
   "source": [
    "#### 실험 결과"
   ]
  },
  {
   "cell_type": "markdown",
   "metadata": {},
   "source": [
    "##### 제작한 회로"
   ]
  },
  {
   "cell_type": "code",
   "execution_count": null,
   "metadata": {},
   "outputs": [],
   "source": [
    "display_image(\"./data/ch11_ep05_01_result_circuit.jpg\", width=1000)\n"
   ]
  },
  {
   "cell_type": "markdown",
   "metadata": {},
   "source": [
    "* 주기가 1s 일 때:\n",
    "    + ??를 주기로 모터가 ??를 반복한다.\n",
    "\n",
    "* 주기가 2ms 일 때:\n",
    "    + ??한 속도로 회전하는 것처럼 보인다. "
   ]
  },
  {
   "cell_type": "markdown",
   "metadata": {},
   "source": [
    "### 실험05-02 PWM의 duty cycle을 변경해 모터 속도를 변경해본다.\n"
   ]
  },
  {
   "cell_type": "markdown",
   "metadata": {},
   "source": [
    "#### 실험 방법\n",
    "\n",
    "* 파형발생기 duty cycle을 0, 10, 30, 50, 70, 90%로 변경한 후 각각의 결과를 관찰한다.\n"
   ]
  },
  {
   "cell_type": "markdown",
   "metadata": {},
   "source": [
    "#### 실험 결과"
   ]
  },
  {
   "cell_type": "markdown",
   "metadata": {},
   "source": [
    "전류단위: mA\n",
    "\n",
    "| 경우 | Duty cycle | 회전 속도   | 전류 측정 값 | 전류 예시값 |\n",
    "|-----|------------|------------|------------|-----------|\n",
    "| 1   | 0 %        | 0   (멈춤)  | ??         | 0        |\n",
    "| 2   | 10 %       | ??         | ??         | 40        |\n",
    "| 3   | 30 %       | ??         | ??         | 100       |\n",
    "| 4   | 50 %       | ??         | ??         | 120       |\n",
    "| 5   | 70 %       | ??         | ??         | 135       |\n",
    "| 6   | 90 %       | 100 (빠름)  | ??         | 145       |\n"
   ]
  },
  {
   "cell_type": "markdown",
   "metadata": {},
   "source": [
    "*******************************************************************************\n",
    "## 실험06 L298N 보드를 이용한 모터의 회전 방향 제어\n"
   ]
  },
  {
   "cell_type": "markdown",
   "metadata": {},
   "source": [
    "## 실험06-01 L298N 보드를 이용해 모터의 회전 방향을 제어해본다."
   ]
  },
  {
   "cell_type": "markdown",
   "metadata": {},
   "source": [
    "#### 실험 방법\n"
   ]
  },
  {
   "cell_type": "code",
   "execution_count": null,
   "metadata": {},
   "outputs": [],
   "source": [
    "display_image(\"./images/ch11_ep06_01_circuit.png\", width=600)\n"
   ]
  },
  {
   "cell_type": "markdown",
   "metadata": {},
   "source": [
    "#### 실험 결과"
   ]
  },
  {
   "cell_type": "markdown",
   "metadata": {},
   "source": [
    "##### 제작한 회로"
   ]
  },
  {
   "cell_type": "code",
   "execution_count": null,
   "metadata": {},
   "outputs": [],
   "source": [
    "display_image(\"./data/ch11_ep06_01_result_circuit.jpg\", width=1000)\n"
   ]
  },
  {
   "cell_type": "markdown",
   "metadata": {},
   "source": [
    "* 고찰\n",
    "    + 스위치를 ??면 모터가 회전한다.\n",
    "    + 누르는 스위치에 따라 회전 ??이 달라진다."
   ]
  },
  {
   "cell_type": "markdown",
   "metadata": {},
   "source": [
    "*******************************************************************************\n",
    "## 실험07 L298N 보드를 이용한 모터의 회전 방향 및 속도 제어\n"
   ]
  },
  {
   "cell_type": "markdown",
   "metadata": {},
   "source": [
    "## 실험07-01 L298N 보드를 이용해 모터의 회전 방향과 속도를 제어해본다."
   ]
  },
  {
   "cell_type": "markdown",
   "metadata": {},
   "source": [
    "#### 실험 방법\n"
   ]
  },
  {
   "cell_type": "code",
   "execution_count": null,
   "metadata": {},
   "outputs": [],
   "source": [
    "display_image(\"./images/ch11_ep07_01_circuit.png\", width=600)\n"
   ]
  },
  {
   "cell_type": "markdown",
   "metadata": {},
   "source": [
    "#### 실험 결과"
   ]
  },
  {
   "cell_type": "markdown",
   "metadata": {},
   "source": [
    "##### 제작한 회로"
   ]
  },
  {
   "cell_type": "code",
   "execution_count": null,
   "metadata": {},
   "outputs": [],
   "source": [
    "display_image(\"./data/ch11_ep07_01_result_circuit.jpg\", width=1000)\n"
   ]
  },
  {
   "cell_type": "markdown",
   "metadata": {},
   "source": [
    "* 고찰\n",
    "    + 스위치를 ??면 모터가 회전한다.\n",
    "    + 누르는 스위치에 따라 회전 ??이 달라진다.\n",
    "    + PWM의 ??을 조절하면 회전 ??가 변한다."
   ]
  }
 ],
 "metadata": {
  "kernelspec": {
   "display_name": "reinforcement-learning-an-introduction_env",
   "language": "python",
   "name": "python3"
  },
  "language_info": {
   "codemirror_mode": {
    "name": "ipython",
    "version": 3
   },
   "file_extension": ".py",
   "mimetype": "text/x-python",
   "name": "python",
   "nbconvert_exporter": "python",
   "pygments_lexer": "ipython3",
   "version": "3.10.12"
  },
  "orig_nbformat": 4
 },
 "nbformat": 4,
 "nbformat_minor": 2
}
