{
 "cells": [
  {
   "cell_type": "markdown",
   "metadata": {},
   "source": [
    "# 03장 다이오드의 응용회로"
   ]
  },
  {
   "cell_type": "markdown",
   "metadata": {},
   "source": [
    "* 이름: 홍길동\n",
    "* 학번: 2025123456\n",
    "* 조: 1"
   ]
  },
  {
   "cell_type": "markdown",
   "metadata": {},
   "source": [
    "## 공통 코드"
   ]
  },
  {
   "cell_type": "code",
   "execution_count": null,
   "metadata": {},
   "outputs": [],
   "source": [
    "import sys\n",
    "from pathlib import Path\n",
    "\n",
    "# common_dir = Path.cwd().parent / \"ece2knu_common\"\n",
    "common_dir = Path.cwd()\n",
    "sys.path.insert(0, str(common_dir))\n",
    "\n",
    "from common import *"
   ]
  },
  {
   "cell_type": "markdown",
   "metadata": {},
   "source": [
    "*******************************************************************************"
   ]
  },
  {
   "cell_type": "markdown",
   "metadata": {},
   "source": [
    "## 3.5 실험 내용"
   ]
  },
  {
   "cell_type": "markdown",
   "metadata": {},
   "source": [
    "### 실험01 양 리미터 회로"
   ]
  },
  {
   "cell_type": "markdown",
   "metadata": {},
   "source": [
    "#### 실험01-01 양 리미터 회로: V_B = 1.3 V"
   ]
  },
  {
   "cell_type": "markdown",
   "metadata": {},
   "source": [
    "##### 실험 방법"
   ]
  },
  {
   "cell_type": "markdown",
   "metadata": {},
   "source": [
    "다음 회로를 구성한다.\n",
    "\n",
    "* 저항: 1 kOhm\n",
    "* 다이오드: 1N4148\n",
    "* V_B: 1.3 V\n",
    "* v_i: 정현파, 주파수 1 kHz, 진폭: 8 Vpp"
   ]
  },
  {
   "cell_type": "code",
   "execution_count": null,
   "metadata": {},
   "outputs": [],
   "source": [
    "display_image(\"./images/ch03_05_ep01_01_circuit_diagram.png\", width=700)"
   ]
  },
  {
   "cell_type": "markdown",
   "metadata": {},
   "source": [
    "##### 구성한 회로 사진"
   ]
  },
  {
   "cell_type": "code",
   "execution_count": null,
   "metadata": {},
   "outputs": [],
   "source": [
    "display_image(\"./data/ch03_05_ep01_01_circuit_hardware.png\", width=700)"
   ]
  },
  {
   "cell_type": "markdown",
   "metadata": {},
   "source": [
    "##### 실험 결과 그래프 관찰"
   ]
  },
  {
   "cell_type": "markdown",
   "metadata": {},
   "source": [
    "오실로스코프로 측정한 파형을 관찰한다."
   ]
  },
  {
   "cell_type": "code",
   "execution_count": null,
   "metadata": {},
   "outputs": [],
   "source": [
    "display_image(\"./data/ch03_05_ep01_01_result_plot.png\", width=700)"
   ]
  },
  {
   "cell_type": "markdown",
   "metadata": {},
   "source": [
    "오실로스코프로 측정한 데이터를 저정한다.\n",
    "* 저장할 파일 이름은 아래의 실험 결과 데이터 분석 코드에 있음"
   ]
  },
  {
   "cell_type": "markdown",
   "metadata": {},
   "source": [
    "오실로스코프 커서로 양의 임계값을 측정한다."
   ]
  },
  {
   "cell_type": "code",
   "execution_count": null,
   "metadata": {},
   "outputs": [],
   "source": [
    "display_image(\"./data/ch03_05_ep01_01_result_plot_cursor.png\", width=700)"
   ]
  },
  {
   "cell_type": "markdown",
   "metadata": {},
   "source": [
    "오실로스코프를 XY 모드로 전환한 후 측정된 파형을 관찰한다."
   ]
  },
  {
   "cell_type": "code",
   "execution_count": null,
   "metadata": {},
   "outputs": [],
   "source": [
    "display_image(\"./data/ch03_05_ep01_01_result_plot_xy.png\", width=700)"
   ]
  },
  {
   "cell_type": "markdown",
   "metadata": {},
   "source": [
    "##### 실험 결과 데이터 분석"
   ]
  },
  {
   "cell_type": "markdown",
   "metadata": {},
   "source": [
    "그래프를 그린다."
   ]
  },
  {
   "cell_type": "code",
   "execution_count": null,
   "metadata": {},
   "outputs": [],
   "source": [
    "# 실험 결과 파일을 읽는다.\n",
    "data = get_oscilloscpoe_result_tektronix('./data/ch03_05_ep01_01_result_data.csv')\n",
    "\n",
    "# 실험 결과에서 시간, 입력 전압, 출력 전압을 가져온다.\n",
    "times = data['TIME']\n",
    "vins = data['Sample CH1']\n",
    "vouts = data['Sample CH2']\n",
    "\n",
    "# 필터를 적용해 잡음을 줄인다.\n",
    "vins = savgol_filter(vins, 20, 2)\n",
    "vouts = savgol_filter(vouts, 20, 2)\n",
    "\n",
    "# 시간을 x축, 전압들을 y축으로 하는 그래프를 그린다.\n",
    "plt.xlabel('TIME_s')\n",
    "plt.ylabel('V_V')\n",
    "plt.axhline(0, color='black')\n",
    "plt.axvline(0, color='black')\n",
    "draw_plot(times, vins, 'V(vin)', 0)\n",
    "draw_plot(times, vouts, 'V(vout)', 1)\n",
    "plt.show()\n",
    "\n",
    "# V_in 를 x축, V_out 를 y축으로 하는 그래프를 그린다.\n",
    "plt.xlabel('V(vin)')\n",
    "plt.ylabel('V(vout)')\n",
    "plt.axhline(0, color='black')\n",
    "plt.axvline(0, color='black')\n",
    "draw_plot(vins, vouts, \"XY\", 0)\n",
    "plt.show()"
   ]
  },
  {
   "cell_type": "markdown",
   "metadata": {},
   "source": [
    "양의 임계값을 계산한다."
   ]
  },
  {
   "cell_type": "code",
   "execution_count": null,
   "metadata": {},
   "outputs": [],
   "source": [
    "V_OUT_limit_positive_V = vouts.max()\n",
    "print_value(\"V_OUT_limit_positive_V\", V_OUT_limit_positive_V)"
   ]
  },
  {
   "cell_type": "markdown",
   "metadata": {},
   "source": [
    "##### 실험 결과 값 관찰"
   ]
  },
  {
   "cell_type": "markdown",
   "metadata": {},
   "source": [
    "|                 |   측정    | 예시값   |\n",
    "|-----------------|-----------|----------|\n",
    "| 양의 임계값 (V) | ??        | 2        |"
   ]
  },
  {
   "cell_type": "markdown",
   "metadata": {},
   "source": [
    "#### 실험01-02 양 리미터 회로: V_B = 0 V"
   ]
  },
  {
   "cell_type": "markdown",
   "metadata": {},
   "source": [
    "##### 실험 방법"
   ]
  },
  {
   "cell_type": "markdown",
   "metadata": {},
   "source": [
    "실험01-01 회로를 다음과 같이 수정한다.\n",
    "\n",
    "* V_B: 0.0 V"
   ]
  },
  {
   "cell_type": "markdown",
   "metadata": {},
   "source": [
    "##### 실험 결과 그래프 관찰"
   ]
  },
  {
   "cell_type": "markdown",
   "metadata": {},
   "source": [
    "오실로스코프로 측정한 파형을 관찰한다."
   ]
  },
  {
   "cell_type": "code",
   "execution_count": null,
   "metadata": {},
   "outputs": [],
   "source": [
    "display_image(\"./data/ch03_05_ep01_02_result_plot.png\", width=700)"
   ]
  },
  {
   "cell_type": "markdown",
   "metadata": {},
   "source": [
    "오실로스코프로 측정한 데이터를 저정한다.\n",
    "* 저장할 파일 이름은 아래의 실험 결과 데이터 분석 코드에 있음"
   ]
  },
  {
   "cell_type": "markdown",
   "metadata": {},
   "source": [
    "오실로스코프를 XY 모드로 전환한 후 측정된 파형을 관찰한다."
   ]
  },
  {
   "cell_type": "code",
   "execution_count": null,
   "metadata": {},
   "outputs": [],
   "source": [
    "display_image(\"./data/ch03_05_ep01_02_result_plot_xy.png\", width=700)"
   ]
  },
  {
   "cell_type": "markdown",
   "metadata": {},
   "source": [
    "##### 실험 결과 데이터 분석"
   ]
  },
  {
   "cell_type": "markdown",
   "metadata": {},
   "source": [
    "그래프를 그린다."
   ]
  },
  {
   "cell_type": "code",
   "execution_count": null,
   "metadata": {},
   "outputs": [],
   "source": [
    "# 실험 결과 파일을 읽는다.\n",
    "data = get_oscilloscpoe_result_tektronix('./data/ch03_05_ep01_02_result_data.csv')\n",
    "\n",
    "# 실험 결과에서 시간, 입력 전압, 출력 전압을 가져온다.\n",
    "times = data['TIME']\n",
    "vins = data['Sample CH1']\n",
    "vouts = data['Sample CH2']\n",
    "\n",
    "# 필터를 적용해 잡음을 줄인다.\n",
    "vins = savgol_filter(vins, 20, 2)\n",
    "vouts = savgol_filter(vouts, 20, 2)\n",
    "\n",
    "# 시간을 x축, 전압들을 y축으로 하는 그래프를 그린다.\n",
    "plt.xlabel('TIME_s')\n",
    "plt.ylabel('V_V')\n",
    "plt.axhline(0, color='black')\n",
    "plt.axvline(0, color='black')\n",
    "draw_plot(times, vins, 'V(vin)', 0)\n",
    "draw_plot(times, vouts, 'V(vout)', 1)\n",
    "plt.show()\n",
    "\n",
    "# V_in 를 x축, V_out 를 y축으로 하는 그래프를 그린다.\n",
    "plt.xlabel('V(vin)')\n",
    "plt.ylabel('V(vout)')\n",
    "plt.axhline(0, color='black')\n",
    "plt.axvline(0, color='black')\n",
    "draw_plot(vins, vouts, \"XY\", 0)\n",
    "plt.show()"
   ]
  },
  {
   "cell_type": "markdown",
   "metadata": {},
   "source": [
    "양의 임계값을 계산한다."
   ]
  },
  {
   "cell_type": "code",
   "execution_count": null,
   "metadata": {},
   "outputs": [],
   "source": [
    "V_OUT_limit_positive_V = vouts.max()\n",
    "print_value(\"V_OUT_limit_positive_V\", V_OUT_limit_positive_V)"
   ]
  },
  {
   "cell_type": "markdown",
   "metadata": {},
   "source": [
    "##### 실험 결과 값 관찰"
   ]
  },
  {
   "cell_type": "markdown",
   "metadata": {},
   "source": [
    "|                 |   측정    | 예시값   |\n",
    "|-----------------|-----------|----------|\n",
    "| 양의 임계값 (V) | ??        | 0.68     |"
   ]
  },
  {
   "cell_type": "markdown",
   "metadata": {},
   "source": [
    "#### 실험01-03 양 리미터 회로: V_B = -2 V"
   ]
  },
  {
   "cell_type": "markdown",
   "metadata": {},
   "source": [
    "##### 실험 방법"
   ]
  },
  {
   "cell_type": "markdown",
   "metadata": {},
   "source": [
    "실험01-01 회로를 다음과 같이 수정한다.\n",
    "\n",
    "* V_B: -2 V"
   ]
  },
  {
   "cell_type": "markdown",
   "metadata": {},
   "source": [
    "##### 실험 결과 그래프 관찰"
   ]
  },
  {
   "cell_type": "markdown",
   "metadata": {},
   "source": [
    "오실로스코프로 측정한 파형을 관찰한다."
   ]
  },
  {
   "cell_type": "code",
   "execution_count": null,
   "metadata": {},
   "outputs": [],
   "source": [
    "display_image(\"./data/ch03_05_ep01_03_result_plot.png\", width=700)"
   ]
  },
  {
   "cell_type": "markdown",
   "metadata": {},
   "source": [
    "오실로스코프로 측정한 데이터를 저정한다.\n",
    "* 저장할 파일 이름은 아래의 실험 결과 데이터 분석 코드에 있음"
   ]
  },
  {
   "cell_type": "markdown",
   "metadata": {},
   "source": [
    "오실로스코프를 XY 모드로 전환한 후 측정된 파형을 관찰한다."
   ]
  },
  {
   "cell_type": "code",
   "execution_count": null,
   "metadata": {},
   "outputs": [],
   "source": [
    "display_image(\"./data/ch03_05_ep01_03_result_plot_xy.png\", width=700)"
   ]
  },
  {
   "cell_type": "markdown",
   "metadata": {},
   "source": [
    "##### 실험 결과 데이터 분석"
   ]
  },
  {
   "cell_type": "markdown",
   "metadata": {},
   "source": [
    "그래프를 그린다."
   ]
  },
  {
   "cell_type": "code",
   "execution_count": null,
   "metadata": {},
   "outputs": [],
   "source": [
    "# 실험 결과 파일을 읽는다.\n",
    "data = get_oscilloscpoe_result_tektronix('./data/ch03_05_ep01_03_result_data.csv')\n",
    "\n",
    "# 실험 결과에서 시간, 입력 전압, 출력 전압을 가져온다.\n",
    "times = data['TIME']\n",
    "vins = data['Sample CH1']\n",
    "vouts = data['Sample CH2']\n",
    "\n",
    "# 필터를 적용해 잡음을 줄인다.\n",
    "vins = savgol_filter(vins, 20, 2)\n",
    "vouts = savgol_filter(vouts, 20, 2)\n",
    "\n",
    "# 시간을 x축, 전압들을 y축으로 하는 그래프를 그린다.\n",
    "plt.xlabel('TIME_s')\n",
    "plt.ylabel('V_V')\n",
    "plt.axhline(0, color='black')\n",
    "plt.axvline(0, color='black')\n",
    "draw_plot(times, vins, 'V(vin)', 0)\n",
    "draw_plot(times, vouts, 'V(vout)', 1)\n",
    "plt.show()\n",
    "\n",
    "# V_in 를 x축, V_out 를 y축으로 하는 그래프를 그린다.\n",
    "plt.xlabel('V(vin)')\n",
    "plt.ylabel('V(vout)')\n",
    "plt.axhline(0, color='black')\n",
    "plt.axvline(0, color='black')\n",
    "draw_plot(vins, vouts, \"XY\", 0)\n",
    "plt.show()"
   ]
  },
  {
   "cell_type": "markdown",
   "metadata": {},
   "source": [
    "양의 임계값을 계산한다."
   ]
  },
  {
   "cell_type": "code",
   "execution_count": null,
   "metadata": {},
   "outputs": [],
   "source": [
    "V_OUT_limit_positive_V = vouts.max()\n",
    "print_value(\"V_OUT_limit_positive_V\", V_OUT_limit_positive_V)"
   ]
  },
  {
   "cell_type": "markdown",
   "metadata": {},
   "source": [
    "##### 실험 결과 값 관찰"
   ]
  },
  {
   "cell_type": "markdown",
   "metadata": {},
   "source": [
    "|                 |   측정    | 예시값   |\n",
    "|-----------------|-----------|----------|\n",
    "| 양의 임계값 (V) | ??        | -1.28    |"
   ]
  },
  {
   "cell_type": "markdown",
   "metadata": {},
   "source": [
    "### 실험02 음 리미터 회로"
   ]
  },
  {
   "cell_type": "markdown",
   "metadata": {},
   "source": [
    "#### 실험02-01 음 리미터 회로: V_B = 1.3 V"
   ]
  },
  {
   "cell_type": "markdown",
   "metadata": {},
   "source": [
    "##### 실험 방법"
   ]
  },
  {
   "cell_type": "markdown",
   "metadata": {},
   "source": [
    "다음 회로를 구성한다.\n",
    "\n",
    "* 저항: 1 kOhm\n",
    "* 다이오드: 1N4148\n",
    "* V_B: 1.3 V\n",
    "* v_i: 정현파, 주파수 1 kHz, 진폭: 8 Vpp"
   ]
  },
  {
   "cell_type": "code",
   "execution_count": null,
   "metadata": {},
   "outputs": [],
   "source": [
    "display_image(\"./images/ch03_05_ep02_01_circuit_diagram.png\", width=700)"
   ]
  },
  {
   "cell_type": "markdown",
   "metadata": {},
   "source": [
    "##### 구성한 회로 사진"
   ]
  },
  {
   "cell_type": "code",
   "execution_count": null,
   "metadata": {},
   "outputs": [],
   "source": [
    "display_image(\"./data/ch03_05_ep02_01_circuit_hardware.png\", width=700)"
   ]
  },
  {
   "cell_type": "markdown",
   "metadata": {},
   "source": [
    "##### 실험 결과 그래프 관찰"
   ]
  },
  {
   "cell_type": "markdown",
   "metadata": {},
   "source": [
    "오실로스코프로 측정한 파형을 관찰한다."
   ]
  },
  {
   "cell_type": "code",
   "execution_count": null,
   "metadata": {},
   "outputs": [],
   "source": [
    "display_image(\"./data/ch03_05_ep02_01_result_plot.png\", width=700)"
   ]
  },
  {
   "cell_type": "markdown",
   "metadata": {},
   "source": [
    "오실로스코프로 측정한 데이터를 저정한다.\n",
    "* 저장할 파일 이름은 아래의 실험 결과 데이터 분석 코드에 있음"
   ]
  },
  {
   "cell_type": "markdown",
   "metadata": {},
   "source": [
    "오실로스코프를 XY 모드로 전환한 후 측정된 파형을 관찰한다."
   ]
  },
  {
   "cell_type": "code",
   "execution_count": null,
   "metadata": {},
   "outputs": [],
   "source": [
    "display_image(\"./data/ch03_05_ep02_01_result_plot_xy.png\", width=700)"
   ]
  },
  {
   "cell_type": "markdown",
   "metadata": {},
   "source": [
    "##### 실험 결과 데이터 분석"
   ]
  },
  {
   "cell_type": "markdown",
   "metadata": {},
   "source": [
    "그래프를 그린다."
   ]
  },
  {
   "cell_type": "code",
   "execution_count": null,
   "metadata": {},
   "outputs": [],
   "source": [
    "# 실험 결과 파일을 읽는다.\n",
    "data = get_oscilloscpoe_result_tektronix('./data/ch03_05_ep02_01_result_data.csv')\n",
    "\n",
    "# 실험 결과에서 시간, 입력 전압, 출력 전압을 가져온다.\n",
    "times = data['TIME']\n",
    "vins = data['Sample CH1']\n",
    "vouts = data['Sample CH2']\n",
    "\n",
    "# 필터를 적용해 잡음을 줄인다.\n",
    "vins = savgol_filter(vins, 20, 2)\n",
    "vouts = savgol_filter(vouts, 20, 2)\n",
    "\n",
    "# 시간을 x축, 전압들을 y축으로 하는 그래프를 그린다.\n",
    "plt.xlabel('TIME_s')\n",
    "plt.ylabel('V_V')\n",
    "plt.axhline(0, color='black')\n",
    "plt.axvline(0, color='black')\n",
    "draw_plot(times, vins, 'V(vin)', 0)\n",
    "draw_plot(times, vouts, 'V(vout)', 1)\n",
    "plt.show()\n",
    "\n",
    "# V_in 를 x축, V_out 를 y축으로 하는 그래프를 그린다.\n",
    "plt.xlabel('V(vin)')\n",
    "plt.ylabel('V(vout)')\n",
    "plt.axhline(0, color='black')\n",
    "plt.axvline(0, color='black')\n",
    "draw_plot(vins, vouts, \"XY\", 0)\n",
    "plt.show()"
   ]
  },
  {
   "cell_type": "markdown",
   "metadata": {},
   "source": [
    "음의 임계값을 계산한다."
   ]
  },
  {
   "cell_type": "code",
   "execution_count": null,
   "metadata": {},
   "outputs": [],
   "source": [
    "V_OUT_limit_negative_V = vouts.min()\n",
    "print_value(\"V_OUT_limit_negative_V\", V_OUT_limit_negative_V)"
   ]
  },
  {
   "cell_type": "markdown",
   "metadata": {},
   "source": [
    "##### 실험 결과 값 관찰"
   ]
  },
  {
   "cell_type": "markdown",
   "metadata": {},
   "source": [
    "|                 |   측정    | 예시값   |\n",
    "|-----------------|-----------|----------|\n",
    "| 음의 임계값 (V) | ??        | -1.88    |"
   ]
  },
  {
   "cell_type": "markdown",
   "metadata": {},
   "source": [
    "### 실험03 제너다이오드를 이용한 단방향 리미터 회로"
   ]
  },
  {
   "cell_type": "markdown",
   "metadata": {},
   "source": [
    "#### 실험03-01 제너다이오드를 이용한 단방향(음) 리미터 회로"
   ]
  },
  {
   "cell_type": "markdown",
   "metadata": {},
   "source": [
    "##### 실험 방법"
   ]
  },
  {
   "cell_type": "markdown",
   "metadata": {},
   "source": [
    "다음 회로를 구성한다.\n",
    "\n",
    "* 저항: 1 kOhm\n",
    "* 다이오드: 1N5234\n",
    "* v_i: 정현파, 주파수 1 kHz, 진폭: 20 Vpp"
   ]
  },
  {
   "cell_type": "code",
   "execution_count": null,
   "metadata": {},
   "outputs": [],
   "source": [
    "display_image(\"./images/ch03_05_ep3_01_circuit_diagram.png\", width=700)"
   ]
  },
  {
   "cell_type": "markdown",
   "metadata": {},
   "source": [
    "##### 구성한 회로 사진"
   ]
  },
  {
   "cell_type": "code",
   "execution_count": null,
   "metadata": {},
   "outputs": [],
   "source": [
    "display_image(\"./data/ch03_05_ep03_01_circuit_hardware.png\", width=700)"
   ]
  },
  {
   "cell_type": "markdown",
   "metadata": {},
   "source": [
    "##### 실험 결과 그래프 관찰"
   ]
  },
  {
   "cell_type": "markdown",
   "metadata": {},
   "source": [
    "오실로스코프로 측정한 파형을 관찰한다."
   ]
  },
  {
   "cell_type": "code",
   "execution_count": null,
   "metadata": {},
   "outputs": [],
   "source": [
    "display_image(\"./data/ch03_05_ep03_01_result_plot.png\", width=700)"
   ]
  },
  {
   "cell_type": "markdown",
   "metadata": {},
   "source": [
    "오실로스코프로 측정한 데이터를 저정한다.\n",
    "* 저장할 파일 이름은 아래의 실험 결과 데이터 분석 코드에 있음"
   ]
  },
  {
   "cell_type": "markdown",
   "metadata": {},
   "source": [
    "오실로스코프를 XY 모드로 전환한 후 측정된 파형을 관찰한다."
   ]
  },
  {
   "cell_type": "code",
   "execution_count": null,
   "metadata": {},
   "outputs": [],
   "source": [
    "display_image(\"./data/ch03_05_ep03_01_result_plot_xy.png\", width=700)"
   ]
  },
  {
   "cell_type": "markdown",
   "metadata": {},
   "source": [
    "##### 실험 결과 데이터 분석"
   ]
  },
  {
   "cell_type": "markdown",
   "metadata": {},
   "source": [
    "그래프를 그린다."
   ]
  },
  {
   "cell_type": "code",
   "execution_count": null,
   "metadata": {},
   "outputs": [],
   "source": [
    "# 실험 결과 파일을 읽는다.\n",
    "data = get_oscilloscpoe_result_tektronix('./data/ch03_05_ep03_01_result_data.csv')\n",
    "\n",
    "# 실험 결과에서 시간, 입력 전압, 출력 전압을 가져온다.\n",
    "times = data['TIME']\n",
    "vins = data['Sample CH1']\n",
    "vouts = data['Sample CH2']\n",
    "\n",
    "# 필터를 적용해 잡음을 줄인다.\n",
    "vins = savgol_filter(vins, 20, 2)\n",
    "vouts = savgol_filter(vouts, 20, 2)\n",
    "\n",
    "# 시간을 x축, 전압들을 y축으로 하는 그래프를 그린다.\n",
    "plt.xlabel('TIME_s')\n",
    "plt.ylabel('V_V')\n",
    "plt.axhline(0, color='black')\n",
    "plt.axvline(0, color='black')\n",
    "draw_plot(times, vins, 'V(vin)', 0)\n",
    "draw_plot(times, vouts, 'V(vout)', 1)\n",
    "plt.show()\n",
    "\n",
    "# V_in 를 x축, V_out 를 y축으로 하는 그래프를 그린다.\n",
    "plt.xlabel('V(vin)')\n",
    "plt.ylabel('V(vout)')\n",
    "plt.axhline(0, color='black')\n",
    "plt.axvline(0, color='black')\n",
    "draw_plot(vins, vouts, \"XY\", 0)\n",
    "plt.show()"
   ]
  },
  {
   "cell_type": "markdown",
   "metadata": {},
   "source": [
    "음의 임계값을 계산한다."
   ]
  },
  {
   "cell_type": "code",
   "execution_count": null,
   "metadata": {},
   "outputs": [],
   "source": [
    "V_OUT_limit_negative_V = vouts.min()\n",
    "print_value(\"V_OUT_limit_negative_V\", V_OUT_limit_negative_V)"
   ]
  },
  {
   "cell_type": "markdown",
   "metadata": {},
   "source": [
    "##### 실험 결과 값 관찰"
   ]
  },
  {
   "cell_type": "markdown",
   "metadata": {},
   "source": [
    "|                 |   측정    | 예시값   |\n",
    "|-----------------|-----------|----------|\n",
    "| 음의 임계값 (V) | ??        | -6.1     |"
   ]
  },
  {
   "cell_type": "markdown",
   "metadata": {},
   "source": [
    "#### 실험03-02 제너다이오드를 이용한 단방향(양) 리미터 회로"
   ]
  },
  {
   "cell_type": "markdown",
   "metadata": {},
   "source": [
    "##### 실험 방법"
   ]
  },
  {
   "cell_type": "markdown",
   "metadata": {},
   "source": [
    "다음 회로를 구성한다.\n",
    "\n",
    "* 저항: 1 kOhm\n",
    "* 다이오드: 1N5234\n",
    "* V_B: 1.3 V\n",
    "* v_i: 정현파, 주파수 1 kHz, 진폭: 20 Vpp"
   ]
  },
  {
   "cell_type": "code",
   "execution_count": null,
   "metadata": {},
   "outputs": [],
   "source": [
    "display_image(\"./images/ch03_05_ep3_02_circuit_diagram.png\", width=700)"
   ]
  },
  {
   "cell_type": "markdown",
   "metadata": {},
   "source": [
    "##### 구성한 회로 사진"
   ]
  },
  {
   "cell_type": "code",
   "execution_count": null,
   "metadata": {},
   "outputs": [],
   "source": [
    "display_image(\"./data/ch03_05_ep03_02_circuit_hardware.png\", width=700)"
   ]
  },
  {
   "cell_type": "markdown",
   "metadata": {},
   "source": [
    "##### 실험 결과 그래프 관찰"
   ]
  },
  {
   "cell_type": "markdown",
   "metadata": {},
   "source": [
    "오실로스코프로 측정한 파형을 관찰한다."
   ]
  },
  {
   "cell_type": "code",
   "execution_count": null,
   "metadata": {},
   "outputs": [],
   "source": [
    "display_image(\"./data/ch03_05_ep03_02_result_plot.png\", width=700)"
   ]
  },
  {
   "cell_type": "markdown",
   "metadata": {},
   "source": [
    "오실로스코프로 측정한 데이터를 저정한다.\n",
    "* 저장할 파일 이름은 아래의 실험 결과 데이터 분석 코드에 있음"
   ]
  },
  {
   "cell_type": "markdown",
   "metadata": {},
   "source": [
    "오실로스코프를 XY 모드로 전환한 후 측정된 파형을 관찰한다."
   ]
  },
  {
   "cell_type": "code",
   "execution_count": null,
   "metadata": {},
   "outputs": [],
   "source": [
    "display_image(\"./data/ch03_05_ep03_02_result_plot_xy.png\", width=700)"
   ]
  },
  {
   "cell_type": "markdown",
   "metadata": {},
   "source": [
    "##### 실험 결과 데이터 분석"
   ]
  },
  {
   "cell_type": "markdown",
   "metadata": {},
   "source": [
    "그래프를 그린다."
   ]
  },
  {
   "cell_type": "code",
   "execution_count": null,
   "metadata": {},
   "outputs": [],
   "source": [
    "# 실험 결과 파일을 읽는다.\n",
    "data = get_oscilloscpoe_result_tektronix('./data/ch03_05_ep03_02_result_data.csv')\n",
    "\n",
    "# 실험 결과에서 시간, 입력 전압, 출력 전압을 가져온다.\n",
    "times = data['TIME']\n",
    "vins = data['Sample CH1']\n",
    "vouts = data['Sample CH2']\n",
    "\n",
    "# 필터를 적용해 잡음을 줄인다.\n",
    "vins = savgol_filter(vins, 20, 2)\n",
    "vouts = savgol_filter(vouts, 20, 2)\n",
    "\n",
    "# 시간을 x축, 전압들을 y축으로 하는 그래프를 그린다.\n",
    "plt.xlabel('TIME_s')\n",
    "plt.ylabel('V_V')\n",
    "plt.axhline(0, color='black')\n",
    "plt.axvline(0, color='black')\n",
    "draw_plot(times, vins, 'V(vin)', 0)\n",
    "draw_plot(times, vouts, 'V(vout)', 1)\n",
    "plt.show()\n",
    "\n",
    "# V_in 를 x축, V_out 를 y축으로 하는 그래프를 그린다.\n",
    "plt.xlabel('V(vin)')\n",
    "plt.ylabel('V(vout)')\n",
    "plt.axhline(0, color='black')\n",
    "plt.axvline(0, color='black')\n",
    "draw_plot(vins, vouts, \"XY\", 0)\n",
    "plt.show()"
   ]
  },
  {
   "cell_type": "markdown",
   "metadata": {},
   "source": [
    "양의 임계값을 계산한다."
   ]
  },
  {
   "cell_type": "code",
   "execution_count": null,
   "metadata": {},
   "outputs": [],
   "source": [
    "V_OUT_limit_positive_V = vouts.max()\n",
    "print_value(\"V_OUT_limit_positive_V\", V_OUT_limit_positive_V)"
   ]
  },
  {
   "cell_type": "markdown",
   "metadata": {},
   "source": [
    "##### 실험 결과 값 관찰"
   ]
  },
  {
   "cell_type": "markdown",
   "metadata": {},
   "source": [
    "|                 |   측정    | 예시값   |\n",
    "|-----------------|-----------|----------|\n",
    "| 양의 임계값 (V) | ??        | 6.2      |"
   ]
  },
  {
   "cell_type": "markdown",
   "metadata": {},
   "source": [
    "#### 실험03-03 제너다이오드의 교체"
   ]
  },
  {
   "cell_type": "markdown",
   "metadata": {},
   "source": [
    "##### 실험 방법"
   ]
  },
  {
   "cell_type": "markdown",
   "metadata": {},
   "source": [
    "실험03-02 회로를 다음과 같이 수정한다.\n",
    "\n",
    "* 제너다이오드: 1N4736"
   ]
  },
  {
   "cell_type": "markdown",
   "metadata": {},
   "source": [
    "##### 실험 결과 그래프 관찰"
   ]
  },
  {
   "cell_type": "markdown",
   "metadata": {},
   "source": [
    "오실로스코프로 측정한 파형을 관찰한다."
   ]
  },
  {
   "cell_type": "code",
   "execution_count": null,
   "metadata": {},
   "outputs": [],
   "source": [
    "display_image(\"./data/ch03_05_ep03_03_result_plot.png\", width=700)"
   ]
  },
  {
   "cell_type": "markdown",
   "metadata": {},
   "source": [
    "오실로스코프로 측정한 데이터를 저정한다.\n",
    "* 저장할 파일 이름은 아래의 실험 결과 데이터 분석 코드에 있음"
   ]
  },
  {
   "cell_type": "markdown",
   "metadata": {},
   "source": [
    "오실로스코프를 XY 모드로 전환한 후 측정된 파형을 관찰한다."
   ]
  },
  {
   "cell_type": "code",
   "execution_count": null,
   "metadata": {},
   "outputs": [],
   "source": [
    "display_image(\"./data/ch03_05_ep03_03_result_plot_xy.png\", width=700)"
   ]
  },
  {
   "cell_type": "markdown",
   "metadata": {},
   "source": [
    "##### 실험 결과 데이터 분석"
   ]
  },
  {
   "cell_type": "markdown",
   "metadata": {},
   "source": [
    "그래프를 그린다."
   ]
  },
  {
   "cell_type": "code",
   "execution_count": null,
   "metadata": {},
   "outputs": [],
   "source": [
    "# 실험 결과 파일을 읽는다.\n",
    "data = get_oscilloscpoe_result_tektronix('./data/ch03_05_ep03_03_result_data.csv')\n",
    "\n",
    "# 실험 결과에서 시간, 입력 전압, 출력 전압을 가져온다.\n",
    "times = data['TIME']\n",
    "vins = data['Sample CH1']\n",
    "vouts = data['Sample CH2']\n",
    "\n",
    "# 필터를 적용해 잡음을 줄인다.\n",
    "vins = savgol_filter(vins, 20, 2)\n",
    "vouts = savgol_filter(vouts, 20, 2)\n",
    "\n",
    "# 시간을 x축, 전압들을 y축으로 하는 그래프를 그린다.\n",
    "plt.xlabel('TIME_s')\n",
    "plt.ylabel('V_V')\n",
    "plt.axhline(0, color='black')\n",
    "plt.axvline(0, color='black')\n",
    "draw_plot(times, vins, 'V(vin)', 0)\n",
    "draw_plot(times, vouts, 'V(vout)', 1)\n",
    "plt.show()\n",
    "\n",
    "# V_in 를 x축, V_out 를 y축으로 하는 그래프를 그린다.\n",
    "plt.xlabel('V(vin)')\n",
    "plt.ylabel('V(vout)')\n",
    "plt.axhline(0, color='black')\n",
    "plt.axvline(0, color='black')\n",
    "draw_plot(vins, vouts, \"XY\", 0)\n",
    "plt.show()"
   ]
  },
  {
   "cell_type": "markdown",
   "metadata": {},
   "source": [
    "양의 임계값을 계산한다."
   ]
  },
  {
   "cell_type": "code",
   "execution_count": null,
   "metadata": {},
   "outputs": [],
   "source": [
    "V_OUT_limit_positive_V = vouts.max()\n",
    "print_value(\"V_OUT_limit_positive_V\", V_OUT_limit_positive_V)"
   ]
  },
  {
   "cell_type": "markdown",
   "metadata": {},
   "source": [
    "##### 실험 결과 값 관찰"
   ]
  },
  {
   "cell_type": "markdown",
   "metadata": {},
   "source": [
    "|                 |   측정    | 예시값   |\n",
    "|-----------------|-----------|----------|\n",
    "| 양의 임계값 (V) |  ??       | 6.9      |"
   ]
  },
  {
   "cell_type": "markdown",
   "metadata": {},
   "source": [
    "### 실험04 제너다이오드를 이용한 양방향 리미터 회로"
   ]
  },
  {
   "cell_type": "markdown",
   "metadata": {},
   "source": [
    "#### 실험04-01 제너다이오드를 이용한 양방향 리미터 회로"
   ]
  },
  {
   "cell_type": "markdown",
   "metadata": {},
   "source": [
    "##### 실험 방법"
   ]
  },
  {
   "cell_type": "markdown",
   "metadata": {},
   "source": [
    "다음 회로를 구성한다.\n",
    "\n",
    "* 저항: 1 kOhm\n",
    "* 다이오드: 1N5234\n",
    "* v_i: 정현파, 주파수 1 kHz, 진폭: 20 Vpp"
   ]
  },
  {
   "cell_type": "code",
   "execution_count": null,
   "metadata": {},
   "outputs": [],
   "source": [
    "display_image(\"./images/ch03_05_ep4_01_circuit_diagram.png\", width=700)"
   ]
  },
  {
   "cell_type": "markdown",
   "metadata": {},
   "source": [
    "##### 구성한 회로 사진"
   ]
  },
  {
   "cell_type": "code",
   "execution_count": null,
   "metadata": {},
   "outputs": [],
   "source": [
    "display_image(\"./data/ch03_05_ep04_01_circuit_hardware.png\", width=700)"
   ]
  },
  {
   "cell_type": "markdown",
   "metadata": {},
   "source": [
    "##### 실험 결과 그래프 관찰"
   ]
  },
  {
   "cell_type": "markdown",
   "metadata": {},
   "source": [
    "오실로스코프로 측정한 파형을 관찰한다."
   ]
  },
  {
   "cell_type": "code",
   "execution_count": null,
   "metadata": {},
   "outputs": [],
   "source": [
    "display_image(\"./data/ch03_05_ep04_01_result_plot.png\", width=700)"
   ]
  },
  {
   "cell_type": "markdown",
   "metadata": {},
   "source": [
    "오실로스코프로 측정한 데이터를 저정한다.\n",
    "* 저장할 파일 이름은 아래의 실험 결과 데이터 분석 코드에 있음"
   ]
  },
  {
   "cell_type": "markdown",
   "metadata": {},
   "source": [
    "오실로스코프를 XY 모드로 전환한 후 측정된 파형을 관찰한다."
   ]
  },
  {
   "cell_type": "code",
   "execution_count": null,
   "metadata": {},
   "outputs": [],
   "source": [
    "display_image(\"./data/ch03_05_ep04_01_result_plot_xy.png\", width=700)"
   ]
  },
  {
   "cell_type": "markdown",
   "metadata": {},
   "source": [
    "##### 실험 결과 데이터 분석"
   ]
  },
  {
   "cell_type": "markdown",
   "metadata": {},
   "source": [
    "그래프를 그린다."
   ]
  },
  {
   "cell_type": "code",
   "execution_count": null,
   "metadata": {},
   "outputs": [],
   "source": [
    "# 실험 결과 파일을 읽는다.\n",
    "data = get_oscilloscpoe_result_tektronix('./data/ch03_05_ep04_01_result_data.csv')\n",
    "\n",
    "# 실험 결과에서 시간, 입력 전압, 출력 전압을 가져온다.\n",
    "times = data['TIME']\n",
    "vins = data['Sample CH1']\n",
    "vouts = data['Sample CH2']\n",
    "\n",
    "# 필터를 적용해 잡음을 줄인다.\n",
    "vins = savgol_filter(vins, 20, 2)\n",
    "vouts = savgol_filter(vouts, 20, 2)\n",
    "\n",
    "# 시간을 x축, 전압들을 y축으로 하는 그래프를 그린다.\n",
    "plt.xlabel('TIME_s')\n",
    "plt.ylabel('V_V')\n",
    "plt.axhline(0, color='black')\n",
    "plt.axvline(0, color='black')\n",
    "draw_plot(times, vins, 'V(vin)', 0)\n",
    "draw_plot(times, vouts, 'V(vout)', 1)\n",
    "plt.show()\n",
    "\n",
    "# V_in 를 x축, V_out 를 y축으로 하는 그래프를 그린다.\n",
    "plt.xlabel('V(vin)')\n",
    "plt.ylabel('V(vout)')\n",
    "plt.axhline(0, color='black')\n",
    "plt.axvline(0, color='black')\n",
    "draw_plot(vins, vouts, \"XY\", 0)\n",
    "plt.show()"
   ]
  },
  {
   "cell_type": "markdown",
   "metadata": {},
   "source": [
    "양, 음의 임계값을 계산한다."
   ]
  },
  {
   "cell_type": "code",
   "execution_count": null,
   "metadata": {},
   "outputs": [],
   "source": [
    "V_OUT_limit_positive_V = vouts.max()\n",
    "print_value(\"V_OUT_limit_positive_V\", V_OUT_limit_positive_V)\n",
    "V_OUT_limit_negative_V = vouts.min()\n",
    "print_value(\"V_OUT_limit_negative_V\", V_OUT_limit_negative_V)"
   ]
  },
  {
   "cell_type": "markdown",
   "metadata": {},
   "source": [
    "##### 실험 결과 값 관찰"
   ]
  },
  {
   "cell_type": "markdown",
   "metadata": {},
   "source": [
    "|                 |   측정    | 예시값   |\n",
    "|-----------------|-----------|----------|\n",
    "| 양의 임계값 (V) | ??        | 7        |\n",
    "| 음의 임계값 (V) | ??        | -7       |"
   ]
  },
  {
   "cell_type": "markdown",
   "metadata": {},
   "source": [
    "### 실험05 클램프 회로"
   ]
  },
  {
   "cell_type": "markdown",
   "metadata": {},
   "source": [
    "#### 실험05-01 음 클램프 회로"
   ]
  },
  {
   "cell_type": "markdown",
   "metadata": {},
   "source": [
    "##### 실험 방법"
   ]
  },
  {
   "cell_type": "markdown",
   "metadata": {},
   "source": [
    "다음 회로를 구성한다.\n",
    "\n",
    "* 커패시터: 10 uF\n",
    "* 다이오드: 1N4148\n",
    "* v_i: 정현파, 주파수 1 kHz, 진폭: 8 Vpp"
   ]
  },
  {
   "cell_type": "code",
   "execution_count": null,
   "metadata": {},
   "outputs": [],
   "source": [
    "display_image(\"./images/ch03_05_ep5_01_circuit_diagram.png\", width=700)"
   ]
  },
  {
   "cell_type": "markdown",
   "metadata": {},
   "source": [
    "##### 구성한 회로 사진"
   ]
  },
  {
   "cell_type": "code",
   "execution_count": null,
   "metadata": {},
   "outputs": [],
   "source": [
    "display_image(\"./data/ch03_05_ep5_01_circuit_hardware.png\", width=700)"
   ]
  },
  {
   "cell_type": "markdown",
   "metadata": {},
   "source": [
    "##### 실험 결과 그래프 관찰"
   ]
  },
  {
   "cell_type": "markdown",
   "metadata": {},
   "source": [
    "오실로스코프로 측정한 파형을 관찰한다."
   ]
  },
  {
   "cell_type": "code",
   "execution_count": null,
   "metadata": {},
   "outputs": [],
   "source": [
    "display_image(\"./data/ch03_05_ep05_01_result_plot.png\", width=700)"
   ]
  },
  {
   "cell_type": "markdown",
   "metadata": {},
   "source": [
    "오실로스코프로 측정한 데이터를 가져온다."
   ]
  },
  {
   "cell_type": "code",
   "execution_count": null,
   "metadata": {},
   "outputs": [],
   "source": [
    "# 실험 결과 파일을 읽는다.\n",
    "data = get_oscilloscpoe_result_tektronix('./data/ch03_05_ep05_01_result_data.csv')"
   ]
  },
  {
   "cell_type": "markdown",
   "metadata": {},
   "source": [
    "##### 실험 결과 데이터 분석"
   ]
  },
  {
   "cell_type": "markdown",
   "metadata": {},
   "source": [
    "그래프를 그린다."
   ]
  },
  {
   "cell_type": "code",
   "execution_count": null,
   "metadata": {},
   "outputs": [],
   "source": [
    "# 실험 결과에서 시간, 입력 전압, 출력 전압을 가져온다.\n",
    "times = data['TIME']\n",
    "vins = data['Sample CH1']\n",
    "vouts = data['Sample CH2']\n",
    "\n",
    "# 필터를 적용해 잡음을 줄인다.\n",
    "vins = savgol_filter(vins, 100, 2)\n",
    "vouts = savgol_filter(vouts, 100, 2)\n",
    "\n",
    "# 시간을 x축, 전압들을 y축으로 하는 그래프를 그린다.\n",
    "plt.xlabel('TIME_s')\n",
    "plt.ylabel('V_V')\n",
    "plt.axhline(0, color='black')\n",
    "plt.axvline(0, color='black')\n",
    "draw_plot(times, vins, 'V(vin)', 0)\n",
    "draw_plot(times, vouts, 'V(vout)', 1)\n",
    "plt.show()"
   ]
  },
  {
   "cell_type": "markdown",
   "metadata": {},
   "source": [
    "파형 이동량을 계산한다."
   ]
  },
  {
   "cell_type": "code",
   "execution_count": null,
   "metadata": {},
   "outputs": [],
   "source": [
    "V_OUT_move_V = vouts.max() - vins.max()\n",
    "print_value(\"V_OUT_move_V\", V_OUT_move_V)"
   ]
  },
  {
   "cell_type": "markdown",
   "metadata": {},
   "source": [
    "##### 실험 결과 값 관찰"
   ]
  },
  {
   "cell_type": "markdown",
   "metadata": {},
   "source": [
    "|                 |  측정     | 예시값     |\n",
    "|-----------------|-----------|------------|\n",
    "| 파형 이동량 (V) | ??        | -3.48      |"
   ]
  },
  {
   "cell_type": "markdown",
   "metadata": {},
   "source": [
    "#### 실험05-02 양 클램프 회로"
   ]
  },
  {
   "cell_type": "markdown",
   "metadata": {},
   "source": [
    "##### 실험 방법"
   ]
  },
  {
   "cell_type": "markdown",
   "metadata": {},
   "source": [
    "다음 회로를 구성한다.\n",
    "\n",
    "* 커패시터: 10 uF\n",
    "* 다이오드: 1N4148\n",
    "* v_i: 정현파, 주파수 1 kHz, 진폭: 8 Vpp"
   ]
  },
  {
   "cell_type": "code",
   "execution_count": null,
   "metadata": {},
   "outputs": [],
   "source": [
    "display_image(\"./images/ch03_05_ep5_02_circuit_diagram.png\", width=700)"
   ]
  },
  {
   "cell_type": "markdown",
   "metadata": {},
   "source": [
    "##### 구성한 회로 사진"
   ]
  },
  {
   "cell_type": "code",
   "execution_count": null,
   "metadata": {},
   "outputs": [],
   "source": [
    "display_image(\"./data/ch03_05_ep5_02_circuit_hardware.png\", width=700)"
   ]
  },
  {
   "cell_type": "markdown",
   "metadata": {},
   "source": [
    "##### 실험 결과 그래프 관찰"
   ]
  },
  {
   "cell_type": "markdown",
   "metadata": {},
   "source": [
    "오실로스코프로 측정한 파형을 관찰한다."
   ]
  },
  {
   "cell_type": "code",
   "execution_count": null,
   "metadata": {},
   "outputs": [],
   "source": [
    "display_image(\"./data/ch03_05_ep05_02_result_plot.png\", width=700)"
   ]
  },
  {
   "cell_type": "markdown",
   "metadata": {},
   "source": [
    "오실로스코프로 측정한 데이터를 가져온다."
   ]
  },
  {
   "cell_type": "code",
   "execution_count": null,
   "metadata": {},
   "outputs": [],
   "source": [
    "# 실험 결과 파일을 읽는다.\n",
    "data = get_oscilloscpoe_result_tektronix('./data/ch03_05_ep05_02_result_data.csv')"
   ]
  },
  {
   "cell_type": "markdown",
   "metadata": {},
   "source": [
    "##### 실험 결과 데이터 분석"
   ]
  },
  {
   "cell_type": "markdown",
   "metadata": {},
   "source": [
    "그래프를 그린다."
   ]
  },
  {
   "cell_type": "code",
   "execution_count": null,
   "metadata": {},
   "outputs": [],
   "source": [
    "# 실험 결과에서 시간, 입력 전압, 출력 전압을 가져온다.\n",
    "times = data['TIME']\n",
    "vins = data['Sample CH1']\n",
    "vouts = data['Sample CH2']\n",
    "\n",
    "# 필터를 적용해 잡음을 줄인다.\n",
    "vins = savgol_filter(vins, 100, 2)\n",
    "vouts = savgol_filter(vouts, 100, 2)\n",
    "\n",
    "# 시간을 x축, 전압들을 y축으로 하는 그래프를 그린다.\n",
    "plt.xlabel('TIME_s')\n",
    "plt.ylabel('V_V')\n",
    "plt.axhline(0, color='black')\n",
    "plt.axvline(0, color='black')\n",
    "draw_plot(times, vins, 'V(vin)', 0)\n",
    "draw_plot(times, vouts, 'V(vout)', 1)\n",
    "plt.show()"
   ]
  },
  {
   "cell_type": "markdown",
   "metadata": {},
   "source": [
    "파형 이동량을 계산한다."
   ]
  },
  {
   "cell_type": "code",
   "execution_count": null,
   "metadata": {},
   "outputs": [],
   "source": [
    "V_OUT_move_V = vouts.max() - vins.max()\n",
    "print_value(\"V_OUT_move_V\", V_OUT_move_V)"
   ]
  },
  {
   "cell_type": "markdown",
   "metadata": {},
   "source": [
    "##### 실험 결과 값 관찰"
   ]
  },
  {
   "cell_type": "markdown",
   "metadata": {},
   "source": [
    "|                 |   측정    | 예시값   |\n",
    "|-----------------|-----------|----------|\n",
    "| 파형 이동량  (V)| ??        | 3.6      |"
   ]
  },
  {
   "cell_type": "markdown",
   "metadata": {},
   "source": [
    "#### 실험05-03 양 클램프 회로 : 직류성분값의 조절"
   ]
  },
  {
   "cell_type": "markdown",
   "metadata": {},
   "source": [
    "##### 실험 방법"
   ]
  },
  {
   "cell_type": "markdown",
   "metadata": {},
   "source": [
    "실험05-02 회로를 다음과 같이 수정한다.\n",
    "\n",
    "* 실험05-02 의 결과보다 -2 V 만큼 더 이동하도록 회로를 구성"
   ]
  },
  {
   "cell_type": "code",
   "execution_count": null,
   "metadata": {},
   "outputs": [],
   "source": [
    "display_image(\"./images/ch03_05_ep5_03_circuit_diagram.png\", width=700)"
   ]
  },
  {
   "cell_type": "markdown",
   "metadata": {},
   "source": [
    "##### 구성한 회로 사진"
   ]
  },
  {
   "cell_type": "code",
   "execution_count": null,
   "metadata": {},
   "outputs": [],
   "source": [
    "display_image(\"./data/ch03_05_ep5_03_circuit_hardware.png\", width=700)"
   ]
  },
  {
   "cell_type": "markdown",
   "metadata": {},
   "source": [
    "##### 실험 결과 그래프 관찰"
   ]
  },
  {
   "cell_type": "markdown",
   "metadata": {},
   "source": [
    "오실로스코프로 측정한 파형을 관찰한다."
   ]
  },
  {
   "cell_type": "code",
   "execution_count": null,
   "metadata": {},
   "outputs": [],
   "source": [
    "display_image(\"./data/ch03_05_ep05_03_result_plot.png\", width=700)"
   ]
  },
  {
   "cell_type": "markdown",
   "metadata": {},
   "source": [
    "오실로스코프로 측정한 데이터를 가져온다."
   ]
  },
  {
   "cell_type": "code",
   "execution_count": null,
   "metadata": {},
   "outputs": [],
   "source": [
    "# 실험 결과 파일을 읽는다.\n",
    "data = get_oscilloscpoe_result_tektronix('./data/ch03_05_ep05_03_result_data.csv')"
   ]
  },
  {
   "cell_type": "markdown",
   "metadata": {},
   "source": [
    "##### 실험 결과 데이터 분석"
   ]
  },
  {
   "cell_type": "markdown",
   "metadata": {},
   "source": [
    "그래프를 그린다."
   ]
  },
  {
   "cell_type": "code",
   "execution_count": null,
   "metadata": {},
   "outputs": [],
   "source": [
    "# 실험 결과에서 시간, 입력 전압, 출력 전압을 가져온다.\n",
    "times = data['TIME']\n",
    "vins = data['Sample CH1']\n",
    "vouts = data['Sample CH2']\n",
    "\n",
    "# 필터를 적용해 잡음을 줄인다.\n",
    "vins = savgol_filter(vins, 100, 2)\n",
    "vouts = savgol_filter(vouts, 100, 2)\n",
    "\n",
    "# 시간을 x축, 전압들을 y축으로 하는 그래프를 그린다.\n",
    "plt.xlabel('TIME_s')\n",
    "plt.ylabel('V_V')\n",
    "plt.axhline(0, color='black')\n",
    "plt.axvline(0, color='black')\n",
    "draw_plot(times, vins, 'V(vin)', 0)\n",
    "draw_plot(times, vouts, 'V(vout)', 1)\n",
    "plt.show()"
   ]
  },
  {
   "cell_type": "markdown",
   "metadata": {},
   "source": [
    "파형 이동량을 계산한다."
   ]
  },
  {
   "cell_type": "code",
   "execution_count": null,
   "metadata": {},
   "outputs": [],
   "source": [
    "V_OUT_move_V = vouts.max() - vins.max()\n",
    "print_value(\"V_OUT_move_V\", V_OUT_move_V)"
   ]
  },
  {
   "cell_type": "markdown",
   "metadata": {},
   "source": [
    "|                 |   측정    | 예시값   |\n",
    "|-----------------|-----------|----------|\n",
    "| 파형 이동량  (V)| ??        | 1.68     |"
   ]
  },
  {
   "cell_type": "markdown",
   "metadata": {},
   "source": [
    "### 실험06 전압배가 회로"
   ]
  },
  {
   "cell_type": "markdown",
   "metadata": {},
   "source": [
    "#### 실험06-01 양 전압배가 회로"
   ]
  },
  {
   "cell_type": "markdown",
   "metadata": {},
   "source": [
    "##### 실험 방법"
   ]
  },
  {
   "cell_type": "markdown",
   "metadata": {},
   "source": [
    "다음 회로를 구성한다.\n",
    "\n",
    "* 커패시터: 10 uF\n",
    "* 다이오드: 1N4148\n",
    "* v_i: 정현파, 주파수 1 kHz, 진폭: 8 Vpp"
   ]
  },
  {
   "cell_type": "code",
   "execution_count": null,
   "metadata": {},
   "outputs": [],
   "source": [
    "display_image(\"./images/ch03_05_ep6_01_circuit_diagram.png\", width=700)"
   ]
  },
  {
   "cell_type": "markdown",
   "metadata": {},
   "source": [
    "##### 구성한 회로 사진"
   ]
  },
  {
   "cell_type": "code",
   "execution_count": null,
   "metadata": {},
   "outputs": [],
   "source": [
    "display_image(\"./data/ch03_05_ep6_01_circuit_hardware.png\", width=700)"
   ]
  },
  {
   "cell_type": "markdown",
   "metadata": {},
   "source": [
    "##### 실험 결과 그래프 관찰"
   ]
  },
  {
   "cell_type": "markdown",
   "metadata": {},
   "source": [
    "오실로스코프로 측정한 파형을 관찰한다."
   ]
  },
  {
   "cell_type": "code",
   "execution_count": null,
   "metadata": {},
   "outputs": [],
   "source": [
    "display_image(\"./data/ch03_05_ep06_01_result_plot.png\", width=700)"
   ]
  },
  {
   "cell_type": "markdown",
   "metadata": {},
   "source": [
    "오실로스코프로 측정한 데이터를 가져온다."
   ]
  },
  {
   "cell_type": "code",
   "execution_count": null,
   "metadata": {},
   "outputs": [],
   "source": [
    "# 실험 결과 파일을 읽는다.\n",
    "data = get_oscilloscpoe_result_tektronix('./data/ch03_05_ep06_01_result_data.csv')"
   ]
  },
  {
   "cell_type": "markdown",
   "metadata": {},
   "source": [
    "##### 실험 결과 데이터 분석"
   ]
  },
  {
   "cell_type": "markdown",
   "metadata": {},
   "source": [
    "그래프를 그린다."
   ]
  },
  {
   "cell_type": "code",
   "execution_count": null,
   "metadata": {},
   "outputs": [],
   "source": [
    "# 실험 결과에서 시간, 입력 전압, 출력 전압을 가져온다.\n",
    "times = data['TIME']\n",
    "vins = data['Sample CH1']\n",
    "vouts = data['Sample CH2']\n",
    "\n",
    "# 필터를 적용해 잡음을 줄인다.\n",
    "vins = savgol_filter(vins, 100, 2)\n",
    "vouts = savgol_filter(vouts, 100, 2)\n",
    "\n",
    "# 시간을 x축, 전압들을 y축으로 하는 그래프를 그린다.\n",
    "plt.xlabel('TIME_s')\n",
    "plt.ylabel('V_V')\n",
    "plt.axhline(0, color='black')\n",
    "plt.axvline(0, color='black')\n",
    "draw_plot(times, vins, 'V(vin)', 0)\n",
    "draw_plot(times, vouts, 'V(vout)', 1)\n",
    "plt.show()"
   ]
  },
  {
   "cell_type": "markdown",
   "metadata": {},
   "source": [
    "직류값을 계산한다."
   ]
  },
  {
   "cell_type": "code",
   "execution_count": null,
   "metadata": {},
   "outputs": [],
   "source": [
    "V_OUT_DC_V = vouts.mean()\n",
    "print_value(\"V_OUT_DC_V\", V_OUT_DC_V)"
   ]
  },
  {
   "cell_type": "markdown",
   "metadata": {},
   "source": [
    "|             |   측정    | 예시값   |\n",
    "|-------------|-----------|----------|\n",
    "| 직류값  (V) |           | 7.2      |"
   ]
  },
  {
   "cell_type": "markdown",
   "metadata": {},
   "source": [
    "#### 실험06-02 음 전압배가 회로"
   ]
  },
  {
   "cell_type": "markdown",
   "metadata": {},
   "source": [
    "##### 실험 방법"
   ]
  },
  {
   "cell_type": "markdown",
   "metadata": {},
   "source": [
    "다음 회로를 구성한다.\n",
    "\n",
    "* 커패시터: 10 uF\n",
    "* 다이오드: 1N4148\n",
    "* v_i: 정현파, 주파수 1 kHz, 진폭: 8 Vpp"
   ]
  },
  {
   "cell_type": "code",
   "execution_count": null,
   "metadata": {},
   "outputs": [],
   "source": [
    "display_image(\"./images/ch03_05_ep6_02_circuit_diagram.png\", width=700)"
   ]
  },
  {
   "cell_type": "markdown",
   "metadata": {},
   "source": [
    "##### 구성한 회로 사진"
   ]
  },
  {
   "cell_type": "code",
   "execution_count": null,
   "metadata": {},
   "outputs": [],
   "source": [
    "display_image(\"./data/ch03_05_ep6_02_circuit_hardware.png\", width=700)"
   ]
  },
  {
   "cell_type": "markdown",
   "metadata": {},
   "source": [
    "##### 실험 결과 그래프 관찰"
   ]
  },
  {
   "cell_type": "markdown",
   "metadata": {},
   "source": [
    "오실로스코프로 측정한 파형을 관찰한다."
   ]
  },
  {
   "cell_type": "code",
   "execution_count": null,
   "metadata": {},
   "outputs": [],
   "source": [
    "display_image(\"./data/ch03_05_ep06_02_result_plot.png\", width=700)"
   ]
  },
  {
   "cell_type": "markdown",
   "metadata": {},
   "source": [
    "오실로스코프로 측정한 데이터를 가져온다."
   ]
  },
  {
   "cell_type": "code",
   "execution_count": null,
   "metadata": {},
   "outputs": [],
   "source": [
    "# 실험 결과 파일을 읽는다.\n",
    "data = get_oscilloscpoe_result_tektronix('./data/ch03_05_ep06_02_result_data.csv')"
   ]
  },
  {
   "cell_type": "markdown",
   "metadata": {},
   "source": [
    "##### 실험 결과 데이터 분석"
   ]
  },
  {
   "cell_type": "markdown",
   "metadata": {},
   "source": [
    "그래프를 그린다."
   ]
  },
  {
   "cell_type": "code",
   "execution_count": null,
   "metadata": {},
   "outputs": [],
   "source": [
    "# 실험 결과에서 시간, 입력 전압, 출력 전압을 가져온다.\n",
    "times = data['TIME']\n",
    "vins = data['Sample CH1']\n",
    "vouts = data['Sample CH2']\n",
    "\n",
    "# 필터를 적용해 잡음을 줄인다.\n",
    "vins = savgol_filter(vins, 100, 2)\n",
    "vouts = savgol_filter(vouts, 100, 2)\n",
    "\n",
    "# 시간을 x축, 전압들을 y축으로 하는 그래프를 그린다.\n",
    "plt.xlabel('TIME_s')\n",
    "plt.ylabel('V_V')\n",
    "plt.axhline(0, color='black')\n",
    "plt.axvline(0, color='black')\n",
    "draw_plot(times, vins, 'V(vin)', 0)\n",
    "draw_plot(times, vouts, 'V(vout)', 1)\n",
    "plt.show()"
   ]
  },
  {
   "cell_type": "markdown",
   "metadata": {},
   "source": [
    "직류값을 계산한다."
   ]
  },
  {
   "cell_type": "code",
   "execution_count": null,
   "metadata": {},
   "outputs": [],
   "source": [
    "V_OUT_DC_V = vouts.mean()\n",
    "print_value(\"V_OUT_DC_V\", V_OUT_DC_V)"
   ]
  },
  {
   "cell_type": "markdown",
   "metadata": {},
   "source": [
    "|                 |   측정    | 예시값   |\n",
    "|-----------------|-----------|----------|\n",
    "| 직류값  (V)     |           | -6.84    |"
   ]
  },
  {
   "cell_type": "markdown",
   "metadata": {},
   "source": [
    "### 실험07 제너다이오드의 특성조사"
   ]
  },
  {
   "cell_type": "markdown",
   "metadata": {},
   "source": [
    "##### 실험 방법"
   ]
  },
  {
   "cell_type": "markdown",
   "metadata": {},
   "source": [
    "다음 회로를 구성한다.\n",
    "\n",
    "* R1: 100 Ohm\n",
    "* R2: 10 Ohm\n",
    "* 다이오드: 1N5234\n",
    "* v_i: 정현파, 주파수 100 Hz, 진폭: 20 Vpp"
   ]
  },
  {
   "cell_type": "code",
   "execution_count": null,
   "metadata": {},
   "outputs": [],
   "source": [
    "display_image(\"./images/ch03_05_ep7_01_circuit_diagram.png\", width=700)"
   ]
  },
  {
   "cell_type": "markdown",
   "metadata": {},
   "source": [
    "##### 구성한 회로 사진"
   ]
  },
  {
   "cell_type": "code",
   "execution_count": null,
   "metadata": {},
   "outputs": [],
   "source": [
    "display_image(\"./data/ch03_05_ep7_01_circuit_hardware.png\", width=700)"
   ]
  },
  {
   "cell_type": "markdown",
   "metadata": {},
   "source": [
    "##### 실험 결과 그래프 관찰"
   ]
  },
  {
   "cell_type": "markdown",
   "metadata": {},
   "source": [
    "오실로스코프로 측정한 파형을 관찰한다."
   ]
  },
  {
   "cell_type": "code",
   "execution_count": null,
   "metadata": {},
   "outputs": [],
   "source": [
    "display_image(\"./data/ch03_05_ep07_01_result_plot.png\", width=700)"
   ]
  },
  {
   "cell_type": "markdown",
   "metadata": {},
   "source": [
    "오실로스코프로 측정한 데이터를 가져온다."
   ]
  },
  {
   "cell_type": "code",
   "execution_count": null,
   "metadata": {},
   "outputs": [],
   "source": [
    "# 실험 결과 파일을 읽는다.\n",
    "data = get_oscilloscpoe_result_tektronix('./data/ch03_05_ep07_01_result_data.csv')"
   ]
  },
  {
   "cell_type": "markdown",
   "metadata": {},
   "source": [
    "오실로스코프를 XY 모드로 전환한 후 측정된 파형을 관찰한다.\n",
    "* CH2 는 반전시킨다"
   ]
  },
  {
   "cell_type": "code",
   "execution_count": null,
   "metadata": {},
   "outputs": [],
   "source": [
    "display_image(\"./data/ch03_05_ep07_01_result_plot_xy.png\", width=700)"
   ]
  },
  {
   "cell_type": "markdown",
   "metadata": {},
   "source": [
    "##### 실험 결과 데이터 분석"
   ]
  },
  {
   "cell_type": "markdown",
   "metadata": {},
   "source": [
    "그래프를 그린다."
   ]
  },
  {
   "cell_type": "code",
   "execution_count": null,
   "metadata": {},
   "outputs": [],
   "source": [
    "# 실험 결과에서 시간, 입력 전압, 출력 전압을 가져온다.\n",
    "times = data['TIME']\n",
    "vins = data['Sample CH1']\n",
    "vouts = data['Sample CH2']\n",
    "\n",
    "# 실험 결과에서 시간, 입력 전압, 출력 전압을 가져온다.\n",
    "times = data['TIME']\n",
    "vds = data['Sample CH1']\n",
    "vrshs = data['Sample CH2']\n",
    "\n",
    "# 필터를 적용해 잡음을 줄인다.\n",
    "vds = savgol_filter(vds, 20, 2)\n",
    "vrshs = savgol_filter(vrshs, 20, 2)\n",
    "\n",
    "# y 축 반전시키기\n",
    "vrshs = -vrshs\n",
    "\n",
    "# 시간을 x축, 전압들을 y축으로 하는 그래프를 그린다.\n",
    "plt.xlabel('TIME_s')\n",
    "plt.ylabel('V_V')\n",
    "plt.axhline(0, color='black')\n",
    "plt.axvline(0, color='black')\n",
    "draw_plot(times, vds, 'V(D)', 0)\n",
    "draw_plot(times, vrshs, 'V(Rsh)', 1)\n",
    "plt.show()\n",
    "\n",
    "# V_D 를 x축, V_Rsh 를 y축으로 하는 그래프를 그린다.\n",
    "plt.xlabel('V_D_V')\n",
    "plt.ylabel('V_Rsh_V')\n",
    "plt.axhline(0, color='black')\n",
    "plt.axvline(0, color='black')\n",
    "draw_plot(vds, vrshs, \"XY\", 0)\n",
    "plt.axvline(vds.min(), color='green')\n",
    "plt.show()"
   ]
  },
  {
   "cell_type": "markdown",
   "metadata": {},
   "source": [
    "항복전압을 구한다."
   ]
  },
  {
   "cell_type": "code",
   "execution_count": null,
   "metadata": {},
   "outputs": [],
   "source": [
    "V_breakdown_V = np.absolute(vds.min())\n",
    "print_value(\"V_breakdown_V\", V_breakdown_V)"
   ]
  },
  {
   "cell_type": "markdown",
   "metadata": {},
   "source": [
    "##### 실험 결과 값 관찰"
   ]
  },
  {
   "cell_type": "markdown",
   "metadata": {},
   "source": [
    "|              | 시뮬레이션 | 예시값   |\n",
    "|--------------|------------|----------|\n",
    "| 항복전압  (V)| ??         | 6        |"
   ]
  }
 ],
 "metadata": {
  "kernelspec": {
   "display_name": "venv",
   "language": "python",
   "name": "python3"
  },
  "language_info": {
   "codemirror_mode": {
    "name": "ipython",
    "version": 3
   },
   "file_extension": ".py",
   "mimetype": "text/x-python",
   "name": "python",
   "nbconvert_exporter": "python",
   "pygments_lexer": "ipython3",
   "version": "3.11.9"
  },
  "orig_nbformat": 4
 },
 "nbformat": 4,
 "nbformat_minor": 2
}
