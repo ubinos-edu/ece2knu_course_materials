{
 "cells": [
  {
   "cell_type": "markdown",
   "metadata": {},
   "source": [
    "# 03장 다이오드의 응용회로"
   ]
  },
  {
   "cell_type": "markdown",
   "metadata": {},
   "source": [
    "## 공통 코드"
   ]
  },
  {
   "cell_type": "code",
   "execution_count": null,
   "metadata": {},
   "outputs": [],
   "source": [
    "import sys\n",
    "from pathlib import Path\n",
    "\n",
    "# common_dir = Path.cwd().parent / \"ece2knu_common\"\n",
    "common_dir = Path.cwd()\n",
    "sys.path.insert(0, str(common_dir))\n",
    "\n",
    "from common import *"
   ]
  },
  {
   "cell_type": "markdown",
   "metadata": {},
   "source": [
    "*******************************************************************************"
   ]
  },
  {
   "cell_type": "markdown",
   "metadata": {},
   "source": [
    "## 3.3 실험 이론"
   ]
  },
  {
   "cell_type": "markdown",
   "metadata": {},
   "source": [
    "### 3.3.3  리미터회로의 해석"
   ]
  },
  {
   "cell_type": "markdown",
   "metadata": {},
   "source": [
    "#### 양방향 리미터 회로 회로도 그리기"
   ]
  },
  {
   "cell_type": "markdown",
   "metadata": {},
   "source": [
    "다음 회로도를 그린다."
   ]
  },
  {
   "cell_type": "code",
   "execution_count": null,
   "metadata": {},
   "outputs": [],
   "source": [
    "display_image(\"./images/ch03_03_03_03_circuit.png\", width=700)"
   ]
  },
  {
   "cell_type": "markdown",
   "metadata": {},
   "source": [
    "그린 회로도"
   ]
  },
  {
   "cell_type": "code",
   "execution_count": null,
   "metadata": {},
   "outputs": [],
   "source": [
    "display_image(\"./data/ch03_03_03_03_result_circuit.png\", width=700)"
   ]
  },
  {
   "cell_type": "markdown",
   "metadata": {},
   "source": [
    "#### 양방향 리미터 회로 시뮬레이션하기"
   ]
  },
  {
   "cell_type": "markdown",
   "metadata": {},
   "source": [
    "다음 설정으로 시뮬레이션한다."
   ]
  },
  {
   "cell_type": "code",
   "execution_count": null,
   "metadata": {},
   "outputs": [],
   "source": [
    "display_image(\"./images/ch03_03_03_03_sim_setting.png\", width=700)"
   ]
  },
  {
   "cell_type": "markdown",
   "metadata": {},
   "source": [
    "#### 양방향 리미터 회로 결과 관찰한기"
   ]
  },
  {
   "cell_type": "markdown",
   "metadata": {},
   "source": [
    "##### 결과 그래프 관찰하기"
   ]
  },
  {
   "cell_type": "code",
   "execution_count": null,
   "metadata": {},
   "outputs": [],
   "source": [
    "display_image(\"./data/ch03_03_03_03_result.png\", width=700)"
   ]
  },
  {
   "cell_type": "markdown",
   "metadata": {},
   "source": [
    "##### 결과 데이터 분석하기"
   ]
  },
  {
   "cell_type": "code",
   "execution_count": null,
   "metadata": {},
   "outputs": [],
   "source": [
    "# 실험 결과 파일을 읽는다.\n",
    "data = get_simulation_result_kicad('./data/ch03_03_03_03_result.csv')\n",
    "\n",
    "# 실험 결과에서 시간, 입력 전압, 출력 전압을 가져온다.\n",
    "times = data['time']\n",
    "vins = data['V(/vin)']\n",
    "vouts = data['V(/vout)']\n",
    "\n",
    "# 필터를 적용해 잡음을 줄인다.\n",
    "# vins = savgol_filter(vins, 100, 2)\n",
    "# vouts = savgol_filter(vouts, 100, 2)\n",
    "\n",
    "# 시간을 x축, 전압들을 y축으로 하는 그래프를 그린다.\n",
    "plt.xlabel('time')\n",
    "plt.ylabel('V_V')\n",
    "plt.axhline(0, color='black')\n",
    "# plt.axvline(0, color='black')\n",
    "draw_plot(times, vins, 'V(IN)', 0)\n",
    "draw_plot(times, vouts, 'V(OUT)', 1)\n",
    "plt.show()\n",
    "\n",
    "\n",
    "# vin을 x축, vout을 y축으로 하는 그래프를 그린다.\n",
    "plt.xlabel('V(IN)')\n",
    "plt.ylabel('V(OUT)')\n",
    "plt.axhline(0, color='black')\n",
    "# plt.axvline(0, color='black')\n",
    "draw_plot(vins, vouts, 'V(OUT)', 1)\n",
    "plt.show()\n"
   ]
  }
 ],
 "metadata": {
  "kernelspec": {
   "display_name": "venv",
   "language": "python",
   "name": "python3"
  },
  "language_info": {
   "codemirror_mode": {
    "name": "ipython",
    "version": 3
   },
   "file_extension": ".py",
   "mimetype": "text/x-python",
   "name": "python",
   "nbconvert_exporter": "python",
   "pygments_lexer": "ipython3",
   "version": "3.11.9"
  },
  "orig_nbformat": 4
 },
 "nbformat": 4,
 "nbformat_minor": 2
}
